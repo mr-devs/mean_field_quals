{
 "cells": [
  {
   "cell_type": "markdown",
   "metadata": {},
   "source": [
    "### Tinkering around with initial testing. Mostly, I am trying to answer question (b)."
   ]
  },
  {
   "cell_type": "code",
   "execution_count": 105,
   "metadata": {},
   "outputs": [],
   "source": [
    "\n",
    "\n",
    "def S_o_change(beta_o, S_o_curr, I_curr_o, I_curr_m):\n",
    "    return -beta_o*S_o_curr * (I_curr_o + I_curr_m)\n",
    "\n",
    "def S_m_change(beta_m, S_m_curr, I_curr_o, I_curr_m):\n",
    "    return -beta_m*S_m_curr * (I_curr_o + I_curr_m)\n",
    "\n",
    "def R_o_change(k, I_curr_o):\n",
    "    return k * I_curr_o\n",
    "\n",
    "def R_m_change(k, I_curr_m):\n",
    "    return k * I_curr_m\n",
    "\n",
    "def I_o_change(beta_o, S_o_curr, I_curr_o, I_curr_m, k):\n",
    "    return (beta_o*S_o_curr * (I_curr_o + I_curr_m)) - (k * I_curr_o)\n",
    "\n",
    "def I_m_change(beta_m, S_m_curr, I_curr_o, I_curr_m, k):\n",
    "    return (beta_m*S_m_curr * (I_curr_o + I_curr_m)) - (k * I_curr_m)\n",
    "\n"
   ]
  },
  {
   "cell_type": "code",
   "execution_count": 10,
   "metadata": {},
   "outputs": [],
   "source": [
    "import pandas as pd\n",
    "import numpy as np\n",
    "import altair as alt"
   ]
  },
  {
   "cell_type": "code",
   "execution_count": 3,
   "metadata": {},
   "outputs": [
    {
     "data": {
      "text/plain": [
       "0.04"
      ]
     },
     "execution_count": 3,
     "metadata": {},
     "output_type": "execute_result"
    }
   ],
   "source": [
    ".02 * 2"
   ]
  },
  {
   "cell_type": "code",
   "execution_count": 22,
   "metadata": {},
   "outputs": [],
   "source": [
    "S_o = x\n",
    "S_m = 1 - x - eps\n",
    "I_m = eps\n",
    "I_o = 0"
   ]
  },
  {
   "cell_type": "code",
   "execution_count": 23,
   "metadata": {},
   "outputs": [
    {
     "data": {
      "text/plain": [
       "-0.00016000000000000004"
      ]
     },
     "execution_count": 23,
     "metadata": {},
     "output_type": "execute_result"
    }
   ],
   "source": [
    "S_o_change(B_o, S_o, I_o, I_m)"
   ]
  },
  {
   "cell_type": "code",
   "execution_count": 24,
   "metadata": {},
   "outputs": [
    {
     "data": {
      "text/plain": [
       "0.79984"
      ]
     },
     "execution_count": 24,
     "metadata": {},
     "output_type": "execute_result"
    }
   ],
   "source": [
    "S_o + S_o_change(B_o, S_o, I_o, I_m)"
   ]
  },
  {
   "cell_type": "code",
   "execution_count": 18,
   "metadata": {},
   "outputs": [
    {
     "data": {
      "text/plain": [
       "0.8"
      ]
     },
     "execution_count": 18,
     "metadata": {},
     "output_type": "execute_result"
    }
   ],
   "source": [
    "S_o"
   ]
  },
  {
   "cell_type": "code",
   "execution_count": 20,
   "metadata": {},
   "outputs": [
    {
     "data": {
      "text/plain": [
       "0.2"
      ]
     },
     "execution_count": 20,
     "metadata": {},
     "output_type": "execute_result"
    }
   ],
   "source": [
    "B_o"
   ]
  },
  {
   "cell_type": "code",
   "execution_count": 21,
   "metadata": {},
   "outputs": [
    {
     "data": {
      "text/plain": [
       "0.4"
      ]
     },
     "execution_count": 21,
     "metadata": {},
     "output_type": "execute_result"
    }
   ],
   "source": [
    "B_m"
   ]
  },
  {
   "cell_type": "code",
   "execution_count": 26,
   "metadata": {},
   "outputs": [
    {
     "data": {
      "text/plain": [
       "array([0.8    , 0.79984])"
      ]
     },
     "execution_count": 26,
     "metadata": {},
     "output_type": "execute_result"
    }
   ],
   "source": [
    "S_o[:2]"
   ]
  },
  {
   "cell_type": "code",
   "execution_count": null,
   "metadata": {},
   "outputs": [],
   "source": []
  },
  {
   "cell_type": "code",
   "execution_count": null,
   "metadata": {},
   "outputs": [],
   "source": []
  },
  {
   "cell_type": "code",
   "execution_count": null,
   "metadata": {},
   "outputs": [],
   "source": []
  },
  {
   "cell_type": "code",
   "execution_count": null,
   "metadata": {},
   "outputs": [],
   "source": [
    "S_o_change(beta_o=beta_o, S_o)"
   ]
  },
  {
   "cell_type": "code",
   "execution_count": 105,
   "metadata": {},
   "outputs": [],
   "source": [
    "\n",
    "\n",
    "def S_o_change(beta_o, S_o_curr, I_curr_o, I_curr_m):\n",
    "    return -beta_o*S_o_curr * (I_curr_o + I_curr_m)\n",
    "\n",
    "def S_m_change(beta_m, S_m_curr, I_curr_o, I_curr_m):\n",
    "    return -beta_m*S_m_curr * (I_curr_o + I_curr_m)\n",
    "\n",
    "def R_o_change(k, I_curr_o):\n",
    "    return k * I_curr_o\n",
    "\n",
    "def R_m_change(k, I_curr_m):\n",
    "    return k * I_curr_m\n",
    "\n",
    "def I_o_change(beta_o, S_o_curr, I_curr_o, I_curr_m, k):\n",
    "    return (beta_o*S_o_curr * (I_curr_o + I_curr_m)) - (k * I_curr_o)\n",
    "\n",
    "def I_m_change(beta_m, S_m_curr, I_curr_o, I_curr_m, k):\n",
    "    return (beta_m*S_m_curr * (I_curr_o + I_curr_m)) - (k * I_curr_m)\n",
    "\n"
   ]
  },
  {
   "cell_type": "code",
   "execution_count": 167,
   "metadata": {},
   "outputs": [],
   "source": [
    "def deriv(beta_o, beta_m, sus_o, sus_m, inf_o, inf_m, k):\n",
    "    # Ordinary folks first\n",
    "    ds_o = -beta_o * sus_o * (inf_o + inf_m)\n",
    "    di_o = (beta_o * sus_o * (inf_o + inf_m)) - k*inf_o\n",
    "    dr_o = k*inf_o\n",
    "    \n",
    "    # Misinfo folks next\n",
    "    ds_m = -beta_m * sus_m * (inf_o + inf_m)\n",
    "    di_m = (beta_m * sus_m * (inf_o + inf_m)) - k*inf_m\n",
    "    dr_m = k*inf_m\n",
    "    \n",
    "    return ds_o, di_o, dr_o, ds_m, di_m, dr_m"
   ]
  },
  {
   "cell_type": "code",
   "execution_count": 185,
   "metadata": {},
   "outputs": [],
   "source": [
    "all_Is = []"
   ]
  },
  {
   "cell_type": "code",
   "execution_count": 217,
   "metadata": {},
   "outputs": [],
   "source": [
    "def run_simulation(frac_ord, prop_infec, num_days, beta_ord, recovery_days):\n",
    "    \"\"\"\n",
    "    Run an SIR simulation for the indicated number of days based on the\n",
    "    provided parameters.\n",
    "    \n",
    "    NOTE: beta_misinformed always considered to be 2x that of beta_oridiary\n",
    "        but has a ceiling value of 1.\n",
    "    \n",
    "    Parameters:\n",
    "    -----------\n",
    "    - frac_ord (float) : the proportion of the population made up of \"ordinary\"\n",
    "        individuals. frac_misinformed is 1 - frac_ord\n",
    "    - prop_infec (float) : the proportion of the population that is initialized\n",
    "        as infected. This is a subgroup of the misinformed individuals\n",
    "    - num_days (int) : the number of days to run the simulation for\n",
    "    - beta_ord (float) : the probability of disease transmission for the ordinary\n",
    "        individuals. Beta_misinfo = 2*beta_ord\n",
    "    - recovery_days (int) : the number of days it takes for individuals to recover\n",
    "    \"\"\"\n",
    "    \n",
    "    eps = prop_infec\n",
    "    x = frac_ord\n",
    "\n",
    "    step_size = 1 # step size\n",
    "    all_steps = np.arange(0, num_days, step_size)\n",
    "\n",
    "    ### Set initial values ###\n",
    "    S_o = np.zeros(len(all_steps))\n",
    "    S_m = np.zeros(len(all_steps))\n",
    "    I_o = np.zeros(len(all_steps))\n",
    "    I_m = np.zeros(len(all_steps))\n",
    "    R_o = np.zeros(len(all_steps))\n",
    "    R_m = np.zeros(len(all_steps))\n",
    "\n",
    "    # These have unique values for the first time step\n",
    "    S_o[0] = x\n",
    "    S_m[0] = 1 - x - eps\n",
    "    I_m[0] = eps\n",
    "    \n",
    "    # Set recovery rate\n",
    "    k = 1/recovery_days\n",
    "\n",
    "    # Setting beta values\n",
    "    B_o = beta_ord\n",
    "    B_m = B_o*2\n",
    "    B_m = 1 if B_m >= 1 else B_m\n",
    "    \n",
    "    # Get r0 values\n",
    "    ord_r0 = B_o/k\n",
    "    mis_r0 = B_m/k\n",
    "    weighted_avg_r0 = np.average([ord_r0, mis_r0], weights = [x, 1-x])\n",
    "    \n",
    "    r0s = (ord_r0, mis_r0, weighted_avg_r0)\n",
    "\n",
    "    for t in range(0, len(all_steps)-1):\n",
    "\n",
    "        # Calculate the change of each value\n",
    "        d_s_o, d_i_o, d_r_o, d_s_m, d_i_m, d_r_m = deriv(\n",
    "            beta_o=B_o,\n",
    "            beta_m=B_m,\n",
    "            sus_o=S_o[t],\n",
    "            sus_m=S_m[t],\n",
    "            inf_o=I_o[t],\n",
    "            inf_m=I_m[t],\n",
    "            k=k\n",
    "        )\n",
    "\n",
    "        # Ensure that the total change is zero because individuals should\n",
    "        # simply be shifting between compartments\n",
    "        total_change = d_s_o + d_s_m + d_i_o + d_i_m + d_r_o + d_r_m\n",
    "        assert np.allclose(total_change, 0), f\"{total_change}\"\n",
    "\n",
    "        # Set the next value as the current plus it's change\n",
    "        S_o[t+1] = S_o[t] + d_s_o\n",
    "        S_m[t+1] = S_m[t] + d_s_m\n",
    "        I_o[t+1] = I_o[t] + d_i_o\n",
    "        I_m[t+1] = I_m[t] + d_i_m\n",
    "        R_o[t+1] = R_o[t] + d_r_o\n",
    "        R_m[t+1] = R_m[t] + d_r_m\n",
    "    \n",
    "    return S_o, S_m, I_o, I_m, R_o, R_m, r0s"
   ]
  },
  {
   "cell_type": "markdown",
   "metadata": {},
   "source": [
    "### Varying $\\beta$ values"
   ]
  },
  {
   "cell_type": "code",
   "execution_count": 316,
   "metadata": {},
   "outputs": [],
   "source": [
    "beta_values = np.arange(.01, 1.01, .01)\n",
    "\n",
    "totals = []\n",
    "r0s_ = []\n",
    "\n",
    "for beta in beta_values:\n",
    "    S_o, S_m, I_o, I_m, R_o, R_m, r0s = run_simulation(\n",
    "        frac_ord= .5,\n",
    "        prop_infec=.001,\n",
    "        num_days=100,\n",
    "        beta_ord=beta,\n",
    "        recovery_days=5\n",
    "    )\n",
    "    total_ord_inf = max(R_o)\n",
    "    total_mis_inf = max(R_m)\n",
    "    \n",
    "    r0s_.append(list(r0s)+[beta])\n",
    "    \n",
    "    totals.append((total_ord_inf, total_mis_inf, beta))"
   ]
  },
  {
   "cell_type": "code",
   "execution_count": 318,
   "metadata": {},
   "outputs": [
    {
     "data": {
      "text/html": [
       "<div>\n",
       "<style scoped>\n",
       "    .dataframe tbody tr th:only-of-type {\n",
       "        vertical-align: middle;\n",
       "    }\n",
       "\n",
       "    .dataframe tbody tr th {\n",
       "        vertical-align: top;\n",
       "    }\n",
       "\n",
       "    .dataframe thead th {\n",
       "        text-align: right;\n",
       "    }\n",
       "</style>\n",
       "<table border=\"1\" class=\"dataframe\">\n",
       "  <thead>\n",
       "    <tr style=\"text-align: right;\">\n",
       "      <th></th>\n",
       "      <th>ord_r0</th>\n",
       "      <th>mis_r0</th>\n",
       "      <th>weighted_avg_r0</th>\n",
       "      <th>beta</th>\n",
       "    </tr>\n",
       "  </thead>\n",
       "  <tbody>\n",
       "    <tr>\n",
       "      <th>0</th>\n",
       "      <td>0.05</td>\n",
       "      <td>0.1</td>\n",
       "      <td>0.075</td>\n",
       "      <td>0.01</td>\n",
       "    </tr>\n",
       "    <tr>\n",
       "      <th>1</th>\n",
       "      <td>0.10</td>\n",
       "      <td>0.2</td>\n",
       "      <td>0.150</td>\n",
       "      <td>0.02</td>\n",
       "    </tr>\n",
       "    <tr>\n",
       "      <th>2</th>\n",
       "      <td>0.15</td>\n",
       "      <td>0.3</td>\n",
       "      <td>0.225</td>\n",
       "      <td>0.03</td>\n",
       "    </tr>\n",
       "    <tr>\n",
       "      <th>3</th>\n",
       "      <td>0.20</td>\n",
       "      <td>0.4</td>\n",
       "      <td>0.300</td>\n",
       "      <td>0.04</td>\n",
       "    </tr>\n",
       "    <tr>\n",
       "      <th>4</th>\n",
       "      <td>0.25</td>\n",
       "      <td>0.5</td>\n",
       "      <td>0.375</td>\n",
       "      <td>0.05</td>\n",
       "    </tr>\n",
       "    <tr>\n",
       "      <th>...</th>\n",
       "      <td>...</td>\n",
       "      <td>...</td>\n",
       "      <td>...</td>\n",
       "      <td>...</td>\n",
       "    </tr>\n",
       "    <tr>\n",
       "      <th>95</th>\n",
       "      <td>4.80</td>\n",
       "      <td>5.0</td>\n",
       "      <td>4.900</td>\n",
       "      <td>0.96</td>\n",
       "    </tr>\n",
       "    <tr>\n",
       "      <th>96</th>\n",
       "      <td>4.85</td>\n",
       "      <td>5.0</td>\n",
       "      <td>4.925</td>\n",
       "      <td>0.97</td>\n",
       "    </tr>\n",
       "    <tr>\n",
       "      <th>97</th>\n",
       "      <td>4.90</td>\n",
       "      <td>5.0</td>\n",
       "      <td>4.950</td>\n",
       "      <td>0.98</td>\n",
       "    </tr>\n",
       "    <tr>\n",
       "      <th>98</th>\n",
       "      <td>4.95</td>\n",
       "      <td>5.0</td>\n",
       "      <td>4.975</td>\n",
       "      <td>0.99</td>\n",
       "    </tr>\n",
       "    <tr>\n",
       "      <th>99</th>\n",
       "      <td>5.00</td>\n",
       "      <td>5.0</td>\n",
       "      <td>5.000</td>\n",
       "      <td>1.00</td>\n",
       "    </tr>\n",
       "  </tbody>\n",
       "</table>\n",
       "<p>100 rows × 4 columns</p>\n",
       "</div>"
      ],
      "text/plain": [
       "    ord_r0  mis_r0  weighted_avg_r0  beta\n",
       "0     0.05     0.1            0.075  0.01\n",
       "1     0.10     0.2            0.150  0.02\n",
       "2     0.15     0.3            0.225  0.03\n",
       "3     0.20     0.4            0.300  0.04\n",
       "4     0.25     0.5            0.375  0.05\n",
       "..     ...     ...              ...   ...\n",
       "95    4.80     5.0            4.900  0.96\n",
       "96    4.85     5.0            4.925  0.97\n",
       "97    4.90     5.0            4.950  0.98\n",
       "98    4.95     5.0            4.975  0.99\n",
       "99    5.00     5.0            5.000  1.00\n",
       "\n",
       "[100 rows x 4 columns]"
      ]
     },
     "execution_count": 318,
     "metadata": {},
     "output_type": "execute_result"
    }
   ],
   "source": [
    "r_naughts = pd.DataFrame(r0s_, columns = ['ord_r0', 'mis_r0', 'weighted_avg_r0', 'beta'])\n",
    "r_naughts"
   ]
  },
  {
   "cell_type": "code",
   "execution_count": 349,
   "metadata": {},
   "outputs": [
    {
     "data": {
      "text/plain": [
       "0.14"
      ]
     },
     "execution_count": 349,
     "metadata": {},
     "output_type": "execute_result"
    }
   ],
   "source": [
    "r_naughts[r_naughts['weighted_avg_r0'] > 1]['beta'].min()"
   ]
  },
  {
   "cell_type": "code",
   "execution_count": 339,
   "metadata": {},
   "outputs": [
    {
     "data": {
      "text/plain": [
       "array(['ord_r0', 'mis_r0', 'weighted_avg_r0'], dtype=object)"
      ]
     },
     "execution_count": 339,
     "metadata": {},
     "output_type": "execute_result"
    }
   ],
   "source": [
    "melted = r_naughts.melt(id_vars='beta')\n",
    "melted.variable.unique()\n",
    "\n",
    "mapper = {\n",
    "    'ord_r0' : 'ordinary',\n",
    "    'mis_r0' : 'misinformed',\n",
    "    'weighted_avg_r0' : 'all'\n",
    "}\n",
    "\n",
    "melted.variable = melted.variable.map(mapper)"
   ]
  },
  {
   "cell_type": "code",
   "execution_count": 330,
   "metadata": {},
   "outputs": [
    {
     "data": {
      "text/html": [
       "<div>\n",
       "<style scoped>\n",
       "    .dataframe tbody tr th:only-of-type {\n",
       "        vertical-align: middle;\n",
       "    }\n",
       "\n",
       "    .dataframe tbody tr th {\n",
       "        vertical-align: top;\n",
       "    }\n",
       "\n",
       "    .dataframe thead th {\n",
       "        text-align: right;\n",
       "    }\n",
       "</style>\n",
       "<table border=\"1\" class=\"dataframe\">\n",
       "  <thead>\n",
       "    <tr style=\"text-align: right;\">\n",
       "      <th></th>\n",
       "      <th>total_ord_inf</th>\n",
       "      <th>total_mis_inf</th>\n",
       "      <th>beta</th>\n",
       "      <th>total</th>\n",
       "    </tr>\n",
       "  </thead>\n",
       "  <tbody>\n",
       "    <tr>\n",
       "      <th>0</th>\n",
       "      <td>0.000027</td>\n",
       "      <td>0.001054</td>\n",
       "      <td>0.01</td>\n",
       "      <td>0.001081</td>\n",
       "    </tr>\n",
       "    <tr>\n",
       "      <th>1</th>\n",
       "      <td>0.000059</td>\n",
       "      <td>0.001117</td>\n",
       "      <td>0.02</td>\n",
       "      <td>0.001176</td>\n",
       "    </tr>\n",
       "    <tr>\n",
       "      <th>2</th>\n",
       "      <td>0.000097</td>\n",
       "      <td>0.001193</td>\n",
       "      <td>0.03</td>\n",
       "      <td>0.001290</td>\n",
       "    </tr>\n",
       "    <tr>\n",
       "      <th>3</th>\n",
       "      <td>0.000143</td>\n",
       "      <td>0.001285</td>\n",
       "      <td>0.04</td>\n",
       "      <td>0.001428</td>\n",
       "    </tr>\n",
       "    <tr>\n",
       "      <th>4</th>\n",
       "      <td>0.000200</td>\n",
       "      <td>0.001399</td>\n",
       "      <td>0.05</td>\n",
       "      <td>0.001598</td>\n",
       "    </tr>\n",
       "    <tr>\n",
       "      <th>...</th>\n",
       "      <td>...</td>\n",
       "      <td>...</td>\n",
       "      <td>...</td>\n",
       "      <td>...</td>\n",
       "    </tr>\n",
       "    <tr>\n",
       "      <th>95</th>\n",
       "      <td>0.498561</td>\n",
       "      <td>0.498949</td>\n",
       "      <td>0.96</td>\n",
       "      <td>0.997509</td>\n",
       "    </tr>\n",
       "    <tr>\n",
       "      <th>96</th>\n",
       "      <td>0.498676</td>\n",
       "      <td>0.498956</td>\n",
       "      <td>0.97</td>\n",
       "      <td>0.997632</td>\n",
       "    </tr>\n",
       "    <tr>\n",
       "      <th>97</th>\n",
       "      <td>0.498783</td>\n",
       "      <td>0.498963</td>\n",
       "      <td>0.98</td>\n",
       "      <td>0.997746</td>\n",
       "    </tr>\n",
       "    <tr>\n",
       "      <th>98</th>\n",
       "      <td>0.498882</td>\n",
       "      <td>0.498970</td>\n",
       "      <td>0.99</td>\n",
       "      <td>0.997852</td>\n",
       "    </tr>\n",
       "    <tr>\n",
       "      <th>99</th>\n",
       "      <td>0.498974</td>\n",
       "      <td>0.498976</td>\n",
       "      <td>1.00</td>\n",
       "      <td>0.997951</td>\n",
       "    </tr>\n",
       "  </tbody>\n",
       "</table>\n",
       "<p>100 rows × 4 columns</p>\n",
       "</div>"
      ],
      "text/plain": [
       "    total_ord_inf  total_mis_inf  beta     total\n",
       "0        0.000027       0.001054  0.01  0.001081\n",
       "1        0.000059       0.001117  0.02  0.001176\n",
       "2        0.000097       0.001193  0.03  0.001290\n",
       "3        0.000143       0.001285  0.04  0.001428\n",
       "4        0.000200       0.001399  0.05  0.001598\n",
       "..            ...            ...   ...       ...\n",
       "95       0.498561       0.498949  0.96  0.997509\n",
       "96       0.498676       0.498956  0.97  0.997632\n",
       "97       0.498783       0.498963  0.98  0.997746\n",
       "98       0.498882       0.498970  0.99  0.997852\n",
       "99       0.498974       0.498976  1.00  0.997951\n",
       "\n",
       "[100 rows x 4 columns]"
      ]
     },
     "execution_count": 330,
     "metadata": {},
     "output_type": "execute_result"
    }
   ],
   "source": [
    "totals_frame = pd.DataFrame(totals, columns = ['total_ord_inf', 'total_mis_inf', 'beta'])\n",
    "\n",
    "totals_frame['total'] = totals_frame['total_ord_inf'] + totals_frame['total_mis_inf']\n",
    "\n",
    "totals_frame"
   ]
  },
  {
   "cell_type": "code",
   "execution_count": 336,
   "metadata": {
    "scrolled": true
   },
   "outputs": [
    {
     "data": {
      "text/html": [
       "<div>\n",
       "<style scoped>\n",
       "    .dataframe tbody tr th:only-of-type {\n",
       "        vertical-align: middle;\n",
       "    }\n",
       "\n",
       "    .dataframe tbody tr th {\n",
       "        vertical-align: top;\n",
       "    }\n",
       "\n",
       "    .dataframe thead th {\n",
       "        text-align: right;\n",
       "    }\n",
       "</style>\n",
       "<table border=\"1\" class=\"dataframe\">\n",
       "  <thead>\n",
       "    <tr style=\"text-align: right;\">\n",
       "      <th></th>\n",
       "      <th>beta</th>\n",
       "      <th>variable</th>\n",
       "      <th>value</th>\n",
       "    </tr>\n",
       "  </thead>\n",
       "  <tbody>\n",
       "    <tr>\n",
       "      <th>0</th>\n",
       "      <td>0.01</td>\n",
       "      <td>total_ord_inf</td>\n",
       "      <td>0.000027</td>\n",
       "    </tr>\n",
       "    <tr>\n",
       "      <th>1</th>\n",
       "      <td>0.02</td>\n",
       "      <td>total_ord_inf</td>\n",
       "      <td>0.000059</td>\n",
       "    </tr>\n",
       "    <tr>\n",
       "      <th>2</th>\n",
       "      <td>0.03</td>\n",
       "      <td>total_ord_inf</td>\n",
       "      <td>0.000097</td>\n",
       "    </tr>\n",
       "    <tr>\n",
       "      <th>3</th>\n",
       "      <td>0.04</td>\n",
       "      <td>total_ord_inf</td>\n",
       "      <td>0.000143</td>\n",
       "    </tr>\n",
       "    <tr>\n",
       "      <th>4</th>\n",
       "      <td>0.05</td>\n",
       "      <td>total_ord_inf</td>\n",
       "      <td>0.000200</td>\n",
       "    </tr>\n",
       "    <tr>\n",
       "      <th>...</th>\n",
       "      <td>...</td>\n",
       "      <td>...</td>\n",
       "      <td>...</td>\n",
       "    </tr>\n",
       "    <tr>\n",
       "      <th>295</th>\n",
       "      <td>0.96</td>\n",
       "      <td>total</td>\n",
       "      <td>0.997509</td>\n",
       "    </tr>\n",
       "    <tr>\n",
       "      <th>296</th>\n",
       "      <td>0.97</td>\n",
       "      <td>total</td>\n",
       "      <td>0.997632</td>\n",
       "    </tr>\n",
       "    <tr>\n",
       "      <th>297</th>\n",
       "      <td>0.98</td>\n",
       "      <td>total</td>\n",
       "      <td>0.997746</td>\n",
       "    </tr>\n",
       "    <tr>\n",
       "      <th>298</th>\n",
       "      <td>0.99</td>\n",
       "      <td>total</td>\n",
       "      <td>0.997852</td>\n",
       "    </tr>\n",
       "    <tr>\n",
       "      <th>299</th>\n",
       "      <td>1.00</td>\n",
       "      <td>total</td>\n",
       "      <td>0.997951</td>\n",
       "    </tr>\n",
       "  </tbody>\n",
       "</table>\n",
       "<p>300 rows × 3 columns</p>\n",
       "</div>"
      ],
      "text/plain": [
       "     beta       variable     value\n",
       "0    0.01  total_ord_inf  0.000027\n",
       "1    0.02  total_ord_inf  0.000059\n",
       "2    0.03  total_ord_inf  0.000097\n",
       "3    0.04  total_ord_inf  0.000143\n",
       "4    0.05  total_ord_inf  0.000200\n",
       "..    ...            ...       ...\n",
       "295  0.96          total  0.997509\n",
       "296  0.97          total  0.997632\n",
       "297  0.98          total  0.997746\n",
       "298  0.99          total  0.997852\n",
       "299  1.00          total  0.997951\n",
       "\n",
       "[300 rows x 3 columns]"
      ]
     },
     "execution_count": 336,
     "metadata": {},
     "output_type": "execute_result"
    }
   ],
   "source": [
    "melted_totals = totals_frame.melt(id_vars = 'beta')\n",
    "melted_totals"
   ]
  },
  {
   "cell_type": "code",
   "execution_count": 337,
   "metadata": {},
   "outputs": [],
   "source": [
    "mapper = {\n",
    "    \"total_ord_inf\" : \"ordinary\",\n",
    "    \"total_mis_inf\" : \"misinformed\",\n",
    "    \"total\" : \"all\",\n",
    "}\n",
    "\n",
    "melted_totals.variable = melted_totals.variable.map(mapper)\n",
    "\n",
    "melted_totals.beta = np.round(melted_totals.beta, 2)"
   ]
  },
  {
   "cell_type": "code",
   "execution_count": 379,
   "metadata": {},
   "outputs": [
    {
     "data": {
      "text/html": [
       "\n",
       "<div id=\"altair-viz-6d013bc6665b4f988ae3718efd038d85\"></div>\n",
       "<script type=\"text/javascript\">\n",
       "  (function(spec, embedOpt){\n",
       "    let outputDiv = document.currentScript.previousElementSibling;\n",
       "    if (outputDiv.id !== \"altair-viz-6d013bc6665b4f988ae3718efd038d85\") {\n",
       "      outputDiv = document.getElementById(\"altair-viz-6d013bc6665b4f988ae3718efd038d85\");\n",
       "    }\n",
       "    const paths = {\n",
       "      \"vega\": \"https://cdn.jsdelivr.net/npm//vega@5?noext\",\n",
       "      \"vega-lib\": \"https://cdn.jsdelivr.net/npm//vega-lib?noext\",\n",
       "      \"vega-lite\": \"https://cdn.jsdelivr.net/npm//vega-lite@4.8.1?noext\",\n",
       "      \"vega-embed\": \"https://cdn.jsdelivr.net/npm//vega-embed@6?noext\",\n",
       "    };\n",
       "\n",
       "    function loadScript(lib) {\n",
       "      return new Promise(function(resolve, reject) {\n",
       "        var s = document.createElement('script');\n",
       "        s.src = paths[lib];\n",
       "        s.async = true;\n",
       "        s.onload = () => resolve(paths[lib]);\n",
       "        s.onerror = () => reject(`Error loading script: ${paths[lib]}`);\n",
       "        document.getElementsByTagName(\"head\")[0].appendChild(s);\n",
       "      });\n",
       "    }\n",
       "\n",
       "    function showError(err) {\n",
       "      outputDiv.innerHTML = `<div class=\"error\" style=\"color:red;\">${err}</div>`;\n",
       "      throw err;\n",
       "    }\n",
       "\n",
       "    function displayChart(vegaEmbed) {\n",
       "      vegaEmbed(outputDiv, spec, embedOpt)\n",
       "        .catch(err => showError(`Javascript Error: ${err.message}<br>This usually means there's a typo in your chart specification. See the javascript console for the full traceback.`));\n",
       "    }\n",
       "\n",
       "    if(typeof define === \"function\" && define.amd) {\n",
       "      requirejs.config({paths});\n",
       "      require([\"vega-embed\"], displayChart, err => showError(`Error loading script: ${err.message}`));\n",
       "    } else if (typeof vegaEmbed === \"function\") {\n",
       "      displayChart(vegaEmbed);\n",
       "    } else {\n",
       "      loadScript(\"vega\")\n",
       "        .then(() => loadScript(\"vega-lite\"))\n",
       "        .then(() => loadScript(\"vega-embed\"))\n",
       "        .catch(showError)\n",
       "        .then(() => displayChart(vegaEmbed));\n",
       "    }\n",
       "  })({\"config\": {\"view\": {\"continuousWidth\": 400, \"continuousHeight\": 300}}, \"layer\": [{\"data\": {\"name\": \"data-183fe0db47bf5c092d7906db0a481f70\"}, \"mark\": {\"type\": \"point\", \"color\": \"black\", \"size\": 50}, \"encoding\": {\"shape\": {\"type\": \"nominal\", \"field\": \"variable\"}, \"x\": {\"type\": \"quantitative\", \"field\": \"beta\", \"title\": null}, \"y\": {\"type\": \"quantitative\", \"field\": \"value\", \"title\": \"R0\"}}, \"height\": 200, \"width\": 600}, {\"data\": {\"name\": \"data-b2523e30cbde1ccb60ddbbcad4209db0\"}, \"mark\": {\"type\": \"rule\", \"color\": \"red\"}, \"encoding\": {\"x\": {\"type\": \"quantitative\", \"field\": \"x\"}, \"y\": {\"type\": \"quantitative\", \"field\": \"y1\"}, \"y2\": {\"field\": \"y2\"}}}, {\"data\": {\"name\": \"data-b2523e30cbde1ccb60ddbbcad4209db0\"}, \"mark\": {\"type\": \"text\", \"dx\": -25, \"dy\": -10, \"fontSize\": 15}, \"encoding\": {\"text\": {\"type\": \"nominal\", \"field\": \"text\"}, \"x\": {\"type\": \"quantitative\", \"field\": \"x\"}, \"y\": {\"type\": \"quantitative\", \"field\": \"y2\"}}}], \"$schema\": \"https://vega.github.io/schema/vega-lite/v4.8.1.json\", \"datasets\": {\"data-183fe0db47bf5c092d7906db0a481f70\": [{\"beta\": 0.01, \"variable\": \"ordinary\", \"value\": 0.049999999999999996}, {\"beta\": 0.02, \"variable\": \"ordinary\", \"value\": 0.09999999999999999}, {\"beta\": 0.03, \"variable\": \"ordinary\", \"value\": 0.15}, {\"beta\": 0.04, \"variable\": \"ordinary\", \"value\": 0.19999999999999998}, {\"beta\": 0.05, \"variable\": \"ordinary\", \"value\": 0.25}, {\"beta\": 0.060000000000000005, \"variable\": \"ordinary\", \"value\": 0.3}, {\"beta\": 0.06999999999999999, \"variable\": \"ordinary\", \"value\": 0.3499999999999999}, {\"beta\": 0.08, \"variable\": \"ordinary\", \"value\": 0.39999999999999997}, {\"beta\": 0.09, \"variable\": \"ordinary\", \"value\": 0.44999999999999996}, {\"beta\": 0.09999999999999999, \"variable\": \"ordinary\", \"value\": 0.49999999999999994}, {\"beta\": 0.11, \"variable\": \"ordinary\", \"value\": 0.5499999999999999}, {\"beta\": 0.12, \"variable\": \"ordinary\", \"value\": 0.6}, {\"beta\": 0.13, \"variable\": \"ordinary\", \"value\": 0.65}, {\"beta\": 0.14, \"variable\": \"ordinary\", \"value\": 0.7000000000000001}, {\"beta\": 0.15000000000000002, \"variable\": \"ordinary\", \"value\": 0.7500000000000001}, {\"beta\": 0.16, \"variable\": \"ordinary\", \"value\": 0.7999999999999999}, {\"beta\": 0.17, \"variable\": \"ordinary\", \"value\": 0.85}, {\"beta\": 0.18000000000000002, \"variable\": \"ordinary\", \"value\": 0.9}, {\"beta\": 0.19, \"variable\": \"ordinary\", \"value\": 0.95}, {\"beta\": 0.2, \"variable\": \"ordinary\", \"value\": 1.0}, {\"beta\": 0.21000000000000002, \"variable\": \"ordinary\", \"value\": 1.05}, {\"beta\": 0.22, \"variable\": \"ordinary\", \"value\": 1.0999999999999999}, {\"beta\": 0.23, \"variable\": \"ordinary\", \"value\": 1.15}, {\"beta\": 0.24000000000000002, \"variable\": \"ordinary\", \"value\": 1.2}, {\"beta\": 0.25, \"variable\": \"ordinary\", \"value\": 1.25}, {\"beta\": 0.26, \"variable\": \"ordinary\", \"value\": 1.3}, {\"beta\": 0.27, \"variable\": \"ordinary\", \"value\": 1.35}, {\"beta\": 0.28, \"variable\": \"ordinary\", \"value\": 1.4000000000000001}, {\"beta\": 0.29000000000000004, \"variable\": \"ordinary\", \"value\": 1.4500000000000002}, {\"beta\": 0.3, \"variable\": \"ordinary\", \"value\": 1.4999999999999998}, {\"beta\": 0.31, \"variable\": \"ordinary\", \"value\": 1.5499999999999998}, {\"beta\": 0.32, \"variable\": \"ordinary\", \"value\": 1.5999999999999999}, {\"beta\": 0.33, \"variable\": \"ordinary\", \"value\": 1.65}, {\"beta\": 0.34, \"variable\": \"ordinary\", \"value\": 1.7}, {\"beta\": 0.35000000000000003, \"variable\": \"ordinary\", \"value\": 1.75}, {\"beta\": 0.36000000000000004, \"variable\": \"ordinary\", \"value\": 1.8}, {\"beta\": 0.37, \"variable\": \"ordinary\", \"value\": 1.8499999999999999}, {\"beta\": 0.38, \"variable\": \"ordinary\", \"value\": 1.9}, {\"beta\": 0.39, \"variable\": \"ordinary\", \"value\": 1.95}, {\"beta\": 0.4, \"variable\": \"ordinary\", \"value\": 2.0}, {\"beta\": 0.41000000000000003, \"variable\": \"ordinary\", \"value\": 2.05}, {\"beta\": 0.42000000000000004, \"variable\": \"ordinary\", \"value\": 2.1}, {\"beta\": 0.43, \"variable\": \"ordinary\", \"value\": 2.15}, {\"beta\": 0.44, \"variable\": \"ordinary\", \"value\": 2.1999999999999997}, {\"beta\": 0.45, \"variable\": \"ordinary\", \"value\": 2.25}, {\"beta\": 0.46, \"variable\": \"ordinary\", \"value\": 2.3}, {\"beta\": 0.47000000000000003, \"variable\": \"ordinary\", \"value\": 2.35}, {\"beta\": 0.48000000000000004, \"variable\": \"ordinary\", \"value\": 2.4}, {\"beta\": 0.49, \"variable\": \"ordinary\", \"value\": 2.4499999999999997}, {\"beta\": 0.5, \"variable\": \"ordinary\", \"value\": 2.5}, {\"beta\": 0.51, \"variable\": \"ordinary\", \"value\": 2.55}, {\"beta\": 0.52, \"variable\": \"ordinary\", \"value\": 2.6}, {\"beta\": 0.53, \"variable\": \"ordinary\", \"value\": 2.65}, {\"beta\": 0.54, \"variable\": \"ordinary\", \"value\": 2.7}, {\"beta\": 0.55, \"variable\": \"ordinary\", \"value\": 2.75}, {\"beta\": 0.56, \"variable\": \"ordinary\", \"value\": 2.8000000000000003}, {\"beta\": 0.5700000000000001, \"variable\": \"ordinary\", \"value\": 2.85}, {\"beta\": 0.5800000000000001, \"variable\": \"ordinary\", \"value\": 2.9000000000000004}, {\"beta\": 0.59, \"variable\": \"ordinary\", \"value\": 2.9499999999999997}, {\"beta\": 0.6, \"variable\": \"ordinary\", \"value\": 2.9999999999999996}, {\"beta\": 0.61, \"variable\": \"ordinary\", \"value\": 3.05}, {\"beta\": 0.62, \"variable\": \"ordinary\", \"value\": 3.0999999999999996}, {\"beta\": 0.63, \"variable\": \"ordinary\", \"value\": 3.15}, {\"beta\": 0.64, \"variable\": \"ordinary\", \"value\": 3.1999999999999997}, {\"beta\": 0.65, \"variable\": \"ordinary\", \"value\": 3.25}, {\"beta\": 0.66, \"variable\": \"ordinary\", \"value\": 3.3}, {\"beta\": 0.67, \"variable\": \"ordinary\", \"value\": 3.35}, {\"beta\": 0.68, \"variable\": \"ordinary\", \"value\": 3.4}, {\"beta\": 0.6900000000000001, \"variable\": \"ordinary\", \"value\": 3.45}, {\"beta\": 0.7000000000000001, \"variable\": \"ordinary\", \"value\": 3.5}, {\"beta\": 0.7100000000000001, \"variable\": \"ordinary\", \"value\": 3.5500000000000003}, {\"beta\": 0.72, \"variable\": \"ordinary\", \"value\": 3.5999999999999996}, {\"beta\": 0.73, \"variable\": \"ordinary\", \"value\": 3.65}, {\"beta\": 0.74, \"variable\": \"ordinary\", \"value\": 3.6999999999999997}, {\"beta\": 0.75, \"variable\": \"ordinary\", \"value\": 3.75}, {\"beta\": 0.76, \"variable\": \"ordinary\", \"value\": 3.8}, {\"beta\": 0.77, \"variable\": \"ordinary\", \"value\": 3.85}, {\"beta\": 0.78, \"variable\": \"ordinary\", \"value\": 3.9}, {\"beta\": 0.79, \"variable\": \"ordinary\", \"value\": 3.95}, {\"beta\": 0.8, \"variable\": \"ordinary\", \"value\": 4.0}, {\"beta\": 0.81, \"variable\": \"ordinary\", \"value\": 4.05}, {\"beta\": 0.8200000000000001, \"variable\": \"ordinary\", \"value\": 4.1}, {\"beta\": 0.8300000000000001, \"variable\": \"ordinary\", \"value\": 4.15}, {\"beta\": 0.8400000000000001, \"variable\": \"ordinary\", \"value\": 4.2}, {\"beta\": 0.85, \"variable\": \"ordinary\", \"value\": 4.25}, {\"beta\": 0.86, \"variable\": \"ordinary\", \"value\": 4.3}, {\"beta\": 0.87, \"variable\": \"ordinary\", \"value\": 4.35}, {\"beta\": 0.88, \"variable\": \"ordinary\", \"value\": 4.3999999999999995}, {\"beta\": 0.89, \"variable\": \"ordinary\", \"value\": 4.45}, {\"beta\": 0.9, \"variable\": \"ordinary\", \"value\": 4.5}, {\"beta\": 0.91, \"variable\": \"ordinary\", \"value\": 4.55}, {\"beta\": 0.92, \"variable\": \"ordinary\", \"value\": 4.6}, {\"beta\": 0.93, \"variable\": \"ordinary\", \"value\": 4.65}, {\"beta\": 0.9400000000000001, \"variable\": \"ordinary\", \"value\": 4.7}, {\"beta\": 0.9500000000000001, \"variable\": \"ordinary\", \"value\": 4.75}, {\"beta\": 0.9600000000000001, \"variable\": \"ordinary\", \"value\": 4.8}, {\"beta\": 0.97, \"variable\": \"ordinary\", \"value\": 4.85}, {\"beta\": 0.98, \"variable\": \"ordinary\", \"value\": 4.8999999999999995}, {\"beta\": 0.99, \"variable\": \"ordinary\", \"value\": 4.949999999999999}, {\"beta\": 1.0, \"variable\": \"ordinary\", \"value\": 5.0}, {\"beta\": 0.01, \"variable\": \"misinformed\", \"value\": 0.09999999999999999}, {\"beta\": 0.02, \"variable\": \"misinformed\", \"value\": 0.19999999999999998}, {\"beta\": 0.03, \"variable\": \"misinformed\", \"value\": 0.3}, {\"beta\": 0.04, \"variable\": \"misinformed\", \"value\": 0.39999999999999997}, {\"beta\": 0.05, \"variable\": \"misinformed\", \"value\": 0.5}, {\"beta\": 0.060000000000000005, \"variable\": \"misinformed\", \"value\": 0.6}, {\"beta\": 0.06999999999999999, \"variable\": \"misinformed\", \"value\": 0.6999999999999998}, {\"beta\": 0.08, \"variable\": \"misinformed\", \"value\": 0.7999999999999999}, {\"beta\": 0.09, \"variable\": \"misinformed\", \"value\": 0.8999999999999999}, {\"beta\": 0.09999999999999999, \"variable\": \"misinformed\", \"value\": 0.9999999999999999}, {\"beta\": 0.11, \"variable\": \"misinformed\", \"value\": 1.0999999999999999}, {\"beta\": 0.12, \"variable\": \"misinformed\", \"value\": 1.2}, {\"beta\": 0.13, \"variable\": \"misinformed\", \"value\": 1.3}, {\"beta\": 0.14, \"variable\": \"misinformed\", \"value\": 1.4000000000000001}, {\"beta\": 0.15000000000000002, \"variable\": \"misinformed\", \"value\": 1.5000000000000002}, {\"beta\": 0.16, \"variable\": \"misinformed\", \"value\": 1.5999999999999999}, {\"beta\": 0.17, \"variable\": \"misinformed\", \"value\": 1.7}, {\"beta\": 0.18000000000000002, \"variable\": \"misinformed\", \"value\": 1.8}, {\"beta\": 0.19, \"variable\": \"misinformed\", \"value\": 1.9}, {\"beta\": 0.2, \"variable\": \"misinformed\", \"value\": 2.0}, {\"beta\": 0.21000000000000002, \"variable\": \"misinformed\", \"value\": 2.1}, {\"beta\": 0.22, \"variable\": \"misinformed\", \"value\": 2.1999999999999997}, {\"beta\": 0.23, \"variable\": \"misinformed\", \"value\": 2.3}, {\"beta\": 0.24000000000000002, \"variable\": \"misinformed\", \"value\": 2.4}, {\"beta\": 0.25, \"variable\": \"misinformed\", \"value\": 2.5}, {\"beta\": 0.26, \"variable\": \"misinformed\", \"value\": 2.6}, {\"beta\": 0.27, \"variable\": \"misinformed\", \"value\": 2.7}, {\"beta\": 0.28, \"variable\": \"misinformed\", \"value\": 2.8000000000000003}, {\"beta\": 0.29000000000000004, \"variable\": \"misinformed\", \"value\": 2.9000000000000004}, {\"beta\": 0.3, \"variable\": \"misinformed\", \"value\": 2.9999999999999996}, {\"beta\": 0.31, \"variable\": \"misinformed\", \"value\": 3.0999999999999996}, {\"beta\": 0.32, \"variable\": \"misinformed\", \"value\": 3.1999999999999997}, {\"beta\": 0.33, \"variable\": \"misinformed\", \"value\": 3.3}, {\"beta\": 0.34, \"variable\": \"misinformed\", \"value\": 3.4}, {\"beta\": 0.35000000000000003, \"variable\": \"misinformed\", \"value\": 3.5}, {\"beta\": 0.36000000000000004, \"variable\": \"misinformed\", \"value\": 3.6}, {\"beta\": 0.37, \"variable\": \"misinformed\", \"value\": 3.6999999999999997}, {\"beta\": 0.38, \"variable\": \"misinformed\", \"value\": 3.8}, {\"beta\": 0.39, \"variable\": \"misinformed\", \"value\": 3.9}, {\"beta\": 0.4, \"variable\": \"misinformed\", \"value\": 4.0}, {\"beta\": 0.41000000000000003, \"variable\": \"misinformed\", \"value\": 4.1}, {\"beta\": 0.42000000000000004, \"variable\": \"misinformed\", \"value\": 4.2}, {\"beta\": 0.43, \"variable\": \"misinformed\", \"value\": 4.3}, {\"beta\": 0.44, \"variable\": \"misinformed\", \"value\": 4.3999999999999995}, {\"beta\": 0.45, \"variable\": \"misinformed\", \"value\": 4.5}, {\"beta\": 0.46, \"variable\": \"misinformed\", \"value\": 4.6}, {\"beta\": 0.47000000000000003, \"variable\": \"misinformed\", \"value\": 4.7}, {\"beta\": 0.48000000000000004, \"variable\": \"misinformed\", \"value\": 4.8}, {\"beta\": 0.49, \"variable\": \"misinformed\", \"value\": 4.8999999999999995}, {\"beta\": 0.5, \"variable\": \"misinformed\", \"value\": 5.0}, {\"beta\": 0.51, \"variable\": \"misinformed\", \"value\": 5.0}, {\"beta\": 0.52, \"variable\": \"misinformed\", \"value\": 5.0}, {\"beta\": 0.53, \"variable\": \"misinformed\", \"value\": 5.0}, {\"beta\": 0.54, \"variable\": \"misinformed\", \"value\": 5.0}, {\"beta\": 0.55, \"variable\": \"misinformed\", \"value\": 5.0}, {\"beta\": 0.56, \"variable\": \"misinformed\", \"value\": 5.0}, {\"beta\": 0.5700000000000001, \"variable\": \"misinformed\", \"value\": 5.0}, {\"beta\": 0.5800000000000001, \"variable\": \"misinformed\", \"value\": 5.0}, {\"beta\": 0.59, \"variable\": \"misinformed\", \"value\": 5.0}, {\"beta\": 0.6, \"variable\": \"misinformed\", \"value\": 5.0}, {\"beta\": 0.61, \"variable\": \"misinformed\", \"value\": 5.0}, {\"beta\": 0.62, \"variable\": \"misinformed\", \"value\": 5.0}, {\"beta\": 0.63, \"variable\": \"misinformed\", \"value\": 5.0}, {\"beta\": 0.64, \"variable\": \"misinformed\", \"value\": 5.0}, {\"beta\": 0.65, \"variable\": \"misinformed\", \"value\": 5.0}, {\"beta\": 0.66, \"variable\": \"misinformed\", \"value\": 5.0}, {\"beta\": 0.67, \"variable\": \"misinformed\", \"value\": 5.0}, {\"beta\": 0.68, \"variable\": \"misinformed\", \"value\": 5.0}, {\"beta\": 0.6900000000000001, \"variable\": \"misinformed\", \"value\": 5.0}, {\"beta\": 0.7000000000000001, \"variable\": \"misinformed\", \"value\": 5.0}, {\"beta\": 0.7100000000000001, \"variable\": \"misinformed\", \"value\": 5.0}, {\"beta\": 0.72, \"variable\": \"misinformed\", \"value\": 5.0}, {\"beta\": 0.73, \"variable\": \"misinformed\", \"value\": 5.0}, {\"beta\": 0.74, \"variable\": \"misinformed\", \"value\": 5.0}, {\"beta\": 0.75, \"variable\": \"misinformed\", \"value\": 5.0}, {\"beta\": 0.76, \"variable\": \"misinformed\", \"value\": 5.0}, {\"beta\": 0.77, \"variable\": \"misinformed\", \"value\": 5.0}, {\"beta\": 0.78, \"variable\": \"misinformed\", \"value\": 5.0}, {\"beta\": 0.79, \"variable\": \"misinformed\", \"value\": 5.0}, {\"beta\": 0.8, \"variable\": \"misinformed\", \"value\": 5.0}, {\"beta\": 0.81, \"variable\": \"misinformed\", \"value\": 5.0}, {\"beta\": 0.8200000000000001, \"variable\": \"misinformed\", \"value\": 5.0}, {\"beta\": 0.8300000000000001, \"variable\": \"misinformed\", \"value\": 5.0}, {\"beta\": 0.8400000000000001, \"variable\": \"misinformed\", \"value\": 5.0}, {\"beta\": 0.85, \"variable\": \"misinformed\", \"value\": 5.0}, {\"beta\": 0.86, \"variable\": \"misinformed\", \"value\": 5.0}, {\"beta\": 0.87, \"variable\": \"misinformed\", \"value\": 5.0}, {\"beta\": 0.88, \"variable\": \"misinformed\", \"value\": 5.0}, {\"beta\": 0.89, \"variable\": \"misinformed\", \"value\": 5.0}, {\"beta\": 0.9, \"variable\": \"misinformed\", \"value\": 5.0}, {\"beta\": 0.91, \"variable\": \"misinformed\", \"value\": 5.0}, {\"beta\": 0.92, \"variable\": \"misinformed\", \"value\": 5.0}, {\"beta\": 0.93, \"variable\": \"misinformed\", \"value\": 5.0}, {\"beta\": 0.9400000000000001, \"variable\": \"misinformed\", \"value\": 5.0}, {\"beta\": 0.9500000000000001, \"variable\": \"misinformed\", \"value\": 5.0}, {\"beta\": 0.9600000000000001, \"variable\": \"misinformed\", \"value\": 5.0}, {\"beta\": 0.97, \"variable\": \"misinformed\", \"value\": 5.0}, {\"beta\": 0.98, \"variable\": \"misinformed\", \"value\": 5.0}, {\"beta\": 0.99, \"variable\": \"misinformed\", \"value\": 5.0}, {\"beta\": 1.0, \"variable\": \"misinformed\", \"value\": 5.0}, {\"beta\": 0.01, \"variable\": \"all\", \"value\": 0.075}, {\"beta\": 0.02, \"variable\": \"all\", \"value\": 0.15}, {\"beta\": 0.03, \"variable\": \"all\", \"value\": 0.22499999999999998}, {\"beta\": 0.04, \"variable\": \"all\", \"value\": 0.3}, {\"beta\": 0.05, \"variable\": \"all\", \"value\": 0.375}, {\"beta\": 0.060000000000000005, \"variable\": \"all\", \"value\": 0.44999999999999996}, {\"beta\": 0.06999999999999999, \"variable\": \"all\", \"value\": 0.5249999999999999}, {\"beta\": 0.08, \"variable\": \"all\", \"value\": 0.6}, {\"beta\": 0.09, \"variable\": \"all\", \"value\": 0.6749999999999999}, {\"beta\": 0.09999999999999999, \"variable\": \"all\", \"value\": 0.7499999999999999}, {\"beta\": 0.11, \"variable\": \"all\", \"value\": 0.825}, {\"beta\": 0.12, \"variable\": \"all\", \"value\": 0.8999999999999999}, {\"beta\": 0.13, \"variable\": \"all\", \"value\": 0.9750000000000001}, {\"beta\": 0.14, \"variable\": \"all\", \"value\": 1.05}, {\"beta\": 0.15000000000000002, \"variable\": \"all\", \"value\": 1.1250000000000002}, {\"beta\": 0.16, \"variable\": \"all\", \"value\": 1.2}, {\"beta\": 0.17, \"variable\": \"all\", \"value\": 1.275}, {\"beta\": 0.18000000000000002, \"variable\": \"all\", \"value\": 1.35}, {\"beta\": 0.19, \"variable\": \"all\", \"value\": 1.4249999999999998}, {\"beta\": 0.2, \"variable\": \"all\", \"value\": 1.5}, {\"beta\": 0.21000000000000002, \"variable\": \"all\", \"value\": 1.5750000000000002}, {\"beta\": 0.22, \"variable\": \"all\", \"value\": 1.65}, {\"beta\": 0.23, \"variable\": \"all\", \"value\": 1.7249999999999999}, {\"beta\": 0.24000000000000002, \"variable\": \"all\", \"value\": 1.7999999999999998}, {\"beta\": 0.25, \"variable\": \"all\", \"value\": 1.875}, {\"beta\": 0.26, \"variable\": \"all\", \"value\": 1.9500000000000002}, {\"beta\": 0.27, \"variable\": \"all\", \"value\": 2.0250000000000004}, {\"beta\": 0.28, \"variable\": \"all\", \"value\": 2.1}, {\"beta\": 0.29000000000000004, \"variable\": \"all\", \"value\": 2.1750000000000003}, {\"beta\": 0.3, \"variable\": \"all\", \"value\": 2.2499999999999996}, {\"beta\": 0.31, \"variable\": \"all\", \"value\": 2.3249999999999997}, {\"beta\": 0.32, \"variable\": \"all\", \"value\": 2.4}, {\"beta\": 0.33, \"variable\": \"all\", \"value\": 2.4749999999999996}, {\"beta\": 0.34, \"variable\": \"all\", \"value\": 2.55}, {\"beta\": 0.35000000000000003, \"variable\": \"all\", \"value\": 2.625}, {\"beta\": 0.36000000000000004, \"variable\": \"all\", \"value\": 2.7}, {\"beta\": 0.37, \"variable\": \"all\", \"value\": 2.775}, {\"beta\": 0.38, \"variable\": \"all\", \"value\": 2.8499999999999996}, {\"beta\": 0.39, \"variable\": \"all\", \"value\": 2.925}, {\"beta\": 0.4, \"variable\": \"all\", \"value\": 3.0}, {\"beta\": 0.41000000000000003, \"variable\": \"all\", \"value\": 3.0749999999999997}, {\"beta\": 0.42000000000000004, \"variable\": \"all\", \"value\": 3.1500000000000004}, {\"beta\": 0.43, \"variable\": \"all\", \"value\": 3.2249999999999996}, {\"beta\": 0.44, \"variable\": \"all\", \"value\": 3.3}, {\"beta\": 0.45, \"variable\": \"all\", \"value\": 3.375}, {\"beta\": 0.46, \"variable\": \"all\", \"value\": 3.4499999999999997}, {\"beta\": 0.47000000000000003, \"variable\": \"all\", \"value\": 3.5250000000000004}, {\"beta\": 0.48000000000000004, \"variable\": \"all\", \"value\": 3.5999999999999996}, {\"beta\": 0.49, \"variable\": \"all\", \"value\": 3.675}, {\"beta\": 0.5, \"variable\": \"all\", \"value\": 3.75}, {\"beta\": 0.51, \"variable\": \"all\", \"value\": 3.775}, {\"beta\": 0.52, \"variable\": \"all\", \"value\": 3.8}, {\"beta\": 0.53, \"variable\": \"all\", \"value\": 3.825}, {\"beta\": 0.54, \"variable\": \"all\", \"value\": 3.85}, {\"beta\": 0.55, \"variable\": \"all\", \"value\": 3.875}, {\"beta\": 0.56, \"variable\": \"all\", \"value\": 3.9000000000000004}, {\"beta\": 0.5700000000000001, \"variable\": \"all\", \"value\": 3.925}, {\"beta\": 0.5800000000000001, \"variable\": \"all\", \"value\": 3.95}, {\"beta\": 0.59, \"variable\": \"all\", \"value\": 3.9749999999999996}, {\"beta\": 0.6, \"variable\": \"all\", \"value\": 4.0}, {\"beta\": 0.61, \"variable\": \"all\", \"value\": 4.025}, {\"beta\": 0.62, \"variable\": \"all\", \"value\": 4.05}, {\"beta\": 0.63, \"variable\": \"all\", \"value\": 4.075}, {\"beta\": 0.64, \"variable\": \"all\", \"value\": 4.1}, {\"beta\": 0.65, \"variable\": \"all\", \"value\": 4.125}, {\"beta\": 0.66, \"variable\": \"all\", \"value\": 4.15}, {\"beta\": 0.67, \"variable\": \"all\", \"value\": 4.175}, {\"beta\": 0.68, \"variable\": \"all\", \"value\": 4.2}, {\"beta\": 0.6900000000000001, \"variable\": \"all\", \"value\": 4.225}, {\"beta\": 0.7000000000000001, \"variable\": \"all\", \"value\": 4.25}, {\"beta\": 0.7100000000000001, \"variable\": \"all\", \"value\": 4.275}, {\"beta\": 0.72, \"variable\": \"all\", \"value\": 4.3}, {\"beta\": 0.73, \"variable\": \"all\", \"value\": 4.325}, {\"beta\": 0.74, \"variable\": \"all\", \"value\": 4.35}, {\"beta\": 0.75, \"variable\": \"all\", \"value\": 4.375}, {\"beta\": 0.76, \"variable\": \"all\", \"value\": 4.4}, {\"beta\": 0.77, \"variable\": \"all\", \"value\": 4.425}, {\"beta\": 0.78, \"variable\": \"all\", \"value\": 4.45}, {\"beta\": 0.79, \"variable\": \"all\", \"value\": 4.475}, {\"beta\": 0.8, \"variable\": \"all\", \"value\": 4.5}, {\"beta\": 0.81, \"variable\": \"all\", \"value\": 4.525}, {\"beta\": 0.8200000000000001, \"variable\": \"all\", \"value\": 4.55}, {\"beta\": 0.8300000000000001, \"variable\": \"all\", \"value\": 4.575}, {\"beta\": 0.8400000000000001, \"variable\": \"all\", \"value\": 4.6}, {\"beta\": 0.85, \"variable\": \"all\", \"value\": 4.625}, {\"beta\": 0.86, \"variable\": \"all\", \"value\": 4.65}, {\"beta\": 0.87, \"variable\": \"all\", \"value\": 4.675}, {\"beta\": 0.88, \"variable\": \"all\", \"value\": 4.699999999999999}, {\"beta\": 0.89, \"variable\": \"all\", \"value\": 4.725}, {\"beta\": 0.9, \"variable\": \"all\", \"value\": 4.75}, {\"beta\": 0.91, \"variable\": \"all\", \"value\": 4.775}, {\"beta\": 0.92, \"variable\": \"all\", \"value\": 4.8}, {\"beta\": 0.93, \"variable\": \"all\", \"value\": 4.825}, {\"beta\": 0.9400000000000001, \"variable\": \"all\", \"value\": 4.85}, {\"beta\": 0.9500000000000001, \"variable\": \"all\", \"value\": 4.875}, {\"beta\": 0.9600000000000001, \"variable\": \"all\", \"value\": 4.9}, {\"beta\": 0.97, \"variable\": \"all\", \"value\": 4.925}, {\"beta\": 0.98, \"variable\": \"all\", \"value\": 4.949999999999999}, {\"beta\": 0.99, \"variable\": \"all\", \"value\": 4.975}, {\"beta\": 1.0, \"variable\": \"all\", \"value\": 5.0}], \"data-b2523e30cbde1ccb60ddbbcad4209db0\": [{\"x\": 0.14, \"y1\": 0, \"y2\": 2.5, \"text\": \"R0 > 1 (0.14)\"}]}}, {\"mode\": \"vega-lite\"});\n",
       "</script>"
      ],
      "text/plain": [
       "alt.LayerChart(...)"
      ]
     },
     "execution_count": 379,
     "metadata": {},
     "output_type": "execute_result"
    }
   ],
   "source": [
    "rule_text_df = pd.DataFrame({\n",
    "    'x' : [r_naughts[r_naughts['weighted_avg_r0'] > 1]['beta'].min()],\n",
    "    'y1' : [0],\n",
    "    'y2' : [2.5],\n",
    "    'text' : [f\"R0 > 1 ({r_naughts[r_naughts['weighted_avg_r0'] > 1]['beta'].min()})\"]\n",
    "})\n",
    "\n",
    "r0_fig = alt.Chart(melted).mark_point(color='black', size = 50).encode(\n",
    "    x = alt.X('beta:Q', title=None),\n",
    "    y = alt.Y(\"value:Q\", title = \"R0\"),\n",
    "    shape = alt.Y(\"variable:N\")\n",
    ").properties(width=600, height=200) + alt.Chart(rule_text_df).mark_rule(color = 'red').encode(\n",
    "    x = 'x:Q',\n",
    "    y = 'y1:Q',\n",
    "    y2 = 'y2:Q'\n",
    ") + alt.Chart(rule_text_df).mark_text(\n",
    "    dx=-25,\n",
    "    dy=-10,\n",
    "    fontSize=15\n",
    ").encode(\n",
    "    x = 'x:Q',\n",
    "    y = 'y2:Q',\n",
    "    text = 'text'\n",
    ")\n",
    "\n",
    "r0_fig"
   ]
  },
  {
   "cell_type": "code",
   "execution_count": 393,
   "metadata": {
    "scrolled": true
   },
   "outputs": [
    {
     "data": {
      "text/html": [
       "\n",
       "<div id=\"altair-viz-685cacbca9744515be1f31b341688b52\"></div>\n",
       "<script type=\"text/javascript\">\n",
       "  (function(spec, embedOpt){\n",
       "    let outputDiv = document.currentScript.previousElementSibling;\n",
       "    if (outputDiv.id !== \"altair-viz-685cacbca9744515be1f31b341688b52\") {\n",
       "      outputDiv = document.getElementById(\"altair-viz-685cacbca9744515be1f31b341688b52\");\n",
       "    }\n",
       "    const paths = {\n",
       "      \"vega\": \"https://cdn.jsdelivr.net/npm//vega@5?noext\",\n",
       "      \"vega-lib\": \"https://cdn.jsdelivr.net/npm//vega-lib?noext\",\n",
       "      \"vega-lite\": \"https://cdn.jsdelivr.net/npm//vega-lite@4.8.1?noext\",\n",
       "      \"vega-embed\": \"https://cdn.jsdelivr.net/npm//vega-embed@6?noext\",\n",
       "    };\n",
       "\n",
       "    function loadScript(lib) {\n",
       "      return new Promise(function(resolve, reject) {\n",
       "        var s = document.createElement('script');\n",
       "        s.src = paths[lib];\n",
       "        s.async = true;\n",
       "        s.onload = () => resolve(paths[lib]);\n",
       "        s.onerror = () => reject(`Error loading script: ${paths[lib]}`);\n",
       "        document.getElementsByTagName(\"head\")[0].appendChild(s);\n",
       "      });\n",
       "    }\n",
       "\n",
       "    function showError(err) {\n",
       "      outputDiv.innerHTML = `<div class=\"error\" style=\"color:red;\">${err}</div>`;\n",
       "      throw err;\n",
       "    }\n",
       "\n",
       "    function displayChart(vegaEmbed) {\n",
       "      vegaEmbed(outputDiv, spec, embedOpt)\n",
       "        .catch(err => showError(`Javascript Error: ${err.message}<br>This usually means there's a typo in your chart specification. See the javascript console for the full traceback.`));\n",
       "    }\n",
       "\n",
       "    if(typeof define === \"function\" && define.amd) {\n",
       "      requirejs.config({paths});\n",
       "      require([\"vega-embed\"], displayChart, err => showError(`Error loading script: ${err.message}`));\n",
       "    } else if (typeof vegaEmbed === \"function\") {\n",
       "      displayChart(vegaEmbed);\n",
       "    } else {\n",
       "      loadScript(\"vega\")\n",
       "        .then(() => loadScript(\"vega-lite\"))\n",
       "        .then(() => loadScript(\"vega-embed\"))\n",
       "        .catch(showError)\n",
       "        .then(() => displayChart(vegaEmbed));\n",
       "    }\n",
       "  })({\"config\": {\"view\": {\"continuousWidth\": 400, \"continuousHeight\": 300}, \"axis\": {\"labelAngle\": 0, \"labelFontSize\": 14, \"titleFontSize\": 15}, \"legend\": {\"labelFontSize\": 14, \"titleFontSize\": 15}}, \"vconcat\": [{\"layer\": [{\"data\": {\"name\": \"data-183fe0db47bf5c092d7906db0a481f70\"}, \"mark\": {\"type\": \"point\", \"color\": \"black\", \"size\": 50}, \"encoding\": {\"shape\": {\"type\": \"nominal\", \"field\": \"variable\"}, \"x\": {\"type\": \"quantitative\", \"field\": \"beta\", \"title\": null}, \"y\": {\"type\": \"quantitative\", \"field\": \"value\", \"title\": \"R0\"}}, \"height\": 200, \"width\": 600}, {\"data\": {\"name\": \"data-b2523e30cbde1ccb60ddbbcad4209db0\"}, \"mark\": {\"type\": \"rule\", \"color\": \"red\"}, \"encoding\": {\"x\": {\"type\": \"quantitative\", \"field\": \"x\"}, \"y\": {\"type\": \"quantitative\", \"field\": \"y1\"}, \"y2\": {\"field\": \"y2\"}}}, {\"data\": {\"name\": \"data-b2523e30cbde1ccb60ddbbcad4209db0\"}, \"mark\": {\"type\": \"text\", \"dx\": -25, \"dy\": -10, \"fontSize\": 15}, \"encoding\": {\"text\": {\"type\": \"nominal\", \"field\": \"text\"}, \"x\": {\"type\": \"quantitative\", \"field\": \"x\"}, \"y\": {\"type\": \"quantitative\", \"field\": \"y2\"}}}]}, {\"data\": {\"name\": \"data-9b385876279b720d344867f0cd6895c3\"}, \"mark\": {\"type\": \"point\", \"color\": \"black\", \"size\": 50}, \"encoding\": {\"shape\": {\"type\": \"nominal\", \"field\": \"variable\", \"title\": \"population\"}, \"x\": {\"type\": \"quantitative\", \"axis\": {\"title\": [\"beta_o\", \"(beta_m = 2*beta_o)\"]}, \"field\": \"beta\"}, \"y\": {\"type\": \"quantitative\", \"field\": \"value\", \"title\": \"Total proportion infected\"}}, \"width\": 600}], \"$schema\": \"https://vega.github.io/schema/vega-lite/v4.8.1.json\", \"datasets\": {\"data-183fe0db47bf5c092d7906db0a481f70\": [{\"beta\": 0.01, \"variable\": \"ordinary\", \"value\": 0.049999999999999996}, {\"beta\": 0.02, \"variable\": \"ordinary\", \"value\": 0.09999999999999999}, {\"beta\": 0.03, \"variable\": \"ordinary\", \"value\": 0.15}, {\"beta\": 0.04, \"variable\": \"ordinary\", \"value\": 0.19999999999999998}, {\"beta\": 0.05, \"variable\": \"ordinary\", \"value\": 0.25}, {\"beta\": 0.060000000000000005, \"variable\": \"ordinary\", \"value\": 0.3}, {\"beta\": 0.06999999999999999, \"variable\": \"ordinary\", \"value\": 0.3499999999999999}, {\"beta\": 0.08, \"variable\": \"ordinary\", \"value\": 0.39999999999999997}, {\"beta\": 0.09, \"variable\": \"ordinary\", \"value\": 0.44999999999999996}, {\"beta\": 0.09999999999999999, \"variable\": \"ordinary\", \"value\": 0.49999999999999994}, {\"beta\": 0.11, \"variable\": \"ordinary\", \"value\": 0.5499999999999999}, {\"beta\": 0.12, \"variable\": \"ordinary\", \"value\": 0.6}, {\"beta\": 0.13, \"variable\": \"ordinary\", \"value\": 0.65}, {\"beta\": 0.14, \"variable\": \"ordinary\", \"value\": 0.7000000000000001}, {\"beta\": 0.15000000000000002, \"variable\": \"ordinary\", \"value\": 0.7500000000000001}, {\"beta\": 0.16, \"variable\": \"ordinary\", \"value\": 0.7999999999999999}, {\"beta\": 0.17, \"variable\": \"ordinary\", \"value\": 0.85}, {\"beta\": 0.18000000000000002, \"variable\": \"ordinary\", \"value\": 0.9}, {\"beta\": 0.19, \"variable\": \"ordinary\", \"value\": 0.95}, {\"beta\": 0.2, \"variable\": \"ordinary\", \"value\": 1.0}, {\"beta\": 0.21000000000000002, \"variable\": \"ordinary\", \"value\": 1.05}, {\"beta\": 0.22, \"variable\": \"ordinary\", \"value\": 1.0999999999999999}, {\"beta\": 0.23, \"variable\": \"ordinary\", \"value\": 1.15}, {\"beta\": 0.24000000000000002, \"variable\": \"ordinary\", \"value\": 1.2}, {\"beta\": 0.25, \"variable\": \"ordinary\", \"value\": 1.25}, {\"beta\": 0.26, \"variable\": \"ordinary\", \"value\": 1.3}, {\"beta\": 0.27, \"variable\": \"ordinary\", \"value\": 1.35}, {\"beta\": 0.28, \"variable\": \"ordinary\", \"value\": 1.4000000000000001}, {\"beta\": 0.29000000000000004, \"variable\": \"ordinary\", \"value\": 1.4500000000000002}, {\"beta\": 0.3, \"variable\": \"ordinary\", \"value\": 1.4999999999999998}, {\"beta\": 0.31, \"variable\": \"ordinary\", \"value\": 1.5499999999999998}, {\"beta\": 0.32, \"variable\": \"ordinary\", \"value\": 1.5999999999999999}, {\"beta\": 0.33, \"variable\": \"ordinary\", \"value\": 1.65}, {\"beta\": 0.34, \"variable\": \"ordinary\", \"value\": 1.7}, {\"beta\": 0.35000000000000003, \"variable\": \"ordinary\", \"value\": 1.75}, {\"beta\": 0.36000000000000004, \"variable\": \"ordinary\", \"value\": 1.8}, {\"beta\": 0.37, \"variable\": \"ordinary\", \"value\": 1.8499999999999999}, {\"beta\": 0.38, \"variable\": \"ordinary\", \"value\": 1.9}, {\"beta\": 0.39, \"variable\": \"ordinary\", \"value\": 1.95}, {\"beta\": 0.4, \"variable\": \"ordinary\", \"value\": 2.0}, {\"beta\": 0.41000000000000003, \"variable\": \"ordinary\", \"value\": 2.05}, {\"beta\": 0.42000000000000004, \"variable\": \"ordinary\", \"value\": 2.1}, {\"beta\": 0.43, \"variable\": \"ordinary\", \"value\": 2.15}, {\"beta\": 0.44, \"variable\": \"ordinary\", \"value\": 2.1999999999999997}, {\"beta\": 0.45, \"variable\": \"ordinary\", \"value\": 2.25}, {\"beta\": 0.46, \"variable\": \"ordinary\", \"value\": 2.3}, {\"beta\": 0.47000000000000003, \"variable\": \"ordinary\", \"value\": 2.35}, {\"beta\": 0.48000000000000004, \"variable\": \"ordinary\", \"value\": 2.4}, {\"beta\": 0.49, \"variable\": \"ordinary\", \"value\": 2.4499999999999997}, {\"beta\": 0.5, \"variable\": \"ordinary\", \"value\": 2.5}, {\"beta\": 0.51, \"variable\": \"ordinary\", \"value\": 2.55}, {\"beta\": 0.52, \"variable\": \"ordinary\", \"value\": 2.6}, {\"beta\": 0.53, \"variable\": \"ordinary\", \"value\": 2.65}, {\"beta\": 0.54, \"variable\": \"ordinary\", \"value\": 2.7}, {\"beta\": 0.55, \"variable\": \"ordinary\", \"value\": 2.75}, {\"beta\": 0.56, \"variable\": \"ordinary\", \"value\": 2.8000000000000003}, {\"beta\": 0.5700000000000001, \"variable\": \"ordinary\", \"value\": 2.85}, {\"beta\": 0.5800000000000001, \"variable\": \"ordinary\", \"value\": 2.9000000000000004}, {\"beta\": 0.59, \"variable\": \"ordinary\", \"value\": 2.9499999999999997}, {\"beta\": 0.6, \"variable\": \"ordinary\", \"value\": 2.9999999999999996}, {\"beta\": 0.61, \"variable\": \"ordinary\", \"value\": 3.05}, {\"beta\": 0.62, \"variable\": \"ordinary\", \"value\": 3.0999999999999996}, {\"beta\": 0.63, \"variable\": \"ordinary\", \"value\": 3.15}, {\"beta\": 0.64, \"variable\": \"ordinary\", \"value\": 3.1999999999999997}, {\"beta\": 0.65, \"variable\": \"ordinary\", \"value\": 3.25}, {\"beta\": 0.66, \"variable\": \"ordinary\", \"value\": 3.3}, {\"beta\": 0.67, \"variable\": \"ordinary\", \"value\": 3.35}, {\"beta\": 0.68, \"variable\": \"ordinary\", \"value\": 3.4}, {\"beta\": 0.6900000000000001, \"variable\": \"ordinary\", \"value\": 3.45}, {\"beta\": 0.7000000000000001, \"variable\": \"ordinary\", \"value\": 3.5}, {\"beta\": 0.7100000000000001, \"variable\": \"ordinary\", \"value\": 3.5500000000000003}, {\"beta\": 0.72, \"variable\": \"ordinary\", \"value\": 3.5999999999999996}, {\"beta\": 0.73, \"variable\": \"ordinary\", \"value\": 3.65}, {\"beta\": 0.74, \"variable\": \"ordinary\", \"value\": 3.6999999999999997}, {\"beta\": 0.75, \"variable\": \"ordinary\", \"value\": 3.75}, {\"beta\": 0.76, \"variable\": \"ordinary\", \"value\": 3.8}, {\"beta\": 0.77, \"variable\": \"ordinary\", \"value\": 3.85}, {\"beta\": 0.78, \"variable\": \"ordinary\", \"value\": 3.9}, {\"beta\": 0.79, \"variable\": \"ordinary\", \"value\": 3.95}, {\"beta\": 0.8, \"variable\": \"ordinary\", \"value\": 4.0}, {\"beta\": 0.81, \"variable\": \"ordinary\", \"value\": 4.05}, {\"beta\": 0.8200000000000001, \"variable\": \"ordinary\", \"value\": 4.1}, {\"beta\": 0.8300000000000001, \"variable\": \"ordinary\", \"value\": 4.15}, {\"beta\": 0.8400000000000001, \"variable\": \"ordinary\", \"value\": 4.2}, {\"beta\": 0.85, \"variable\": \"ordinary\", \"value\": 4.25}, {\"beta\": 0.86, \"variable\": \"ordinary\", \"value\": 4.3}, {\"beta\": 0.87, \"variable\": \"ordinary\", \"value\": 4.35}, {\"beta\": 0.88, \"variable\": \"ordinary\", \"value\": 4.3999999999999995}, {\"beta\": 0.89, \"variable\": \"ordinary\", \"value\": 4.45}, {\"beta\": 0.9, \"variable\": \"ordinary\", \"value\": 4.5}, {\"beta\": 0.91, \"variable\": \"ordinary\", \"value\": 4.55}, {\"beta\": 0.92, \"variable\": \"ordinary\", \"value\": 4.6}, {\"beta\": 0.93, \"variable\": \"ordinary\", \"value\": 4.65}, {\"beta\": 0.9400000000000001, \"variable\": \"ordinary\", \"value\": 4.7}, {\"beta\": 0.9500000000000001, \"variable\": \"ordinary\", \"value\": 4.75}, {\"beta\": 0.9600000000000001, \"variable\": \"ordinary\", \"value\": 4.8}, {\"beta\": 0.97, \"variable\": \"ordinary\", \"value\": 4.85}, {\"beta\": 0.98, \"variable\": \"ordinary\", \"value\": 4.8999999999999995}, {\"beta\": 0.99, \"variable\": \"ordinary\", \"value\": 4.949999999999999}, {\"beta\": 1.0, \"variable\": \"ordinary\", \"value\": 5.0}, {\"beta\": 0.01, \"variable\": \"misinformed\", \"value\": 0.09999999999999999}, {\"beta\": 0.02, \"variable\": \"misinformed\", \"value\": 0.19999999999999998}, {\"beta\": 0.03, \"variable\": \"misinformed\", \"value\": 0.3}, {\"beta\": 0.04, \"variable\": \"misinformed\", \"value\": 0.39999999999999997}, {\"beta\": 0.05, \"variable\": \"misinformed\", \"value\": 0.5}, {\"beta\": 0.060000000000000005, \"variable\": \"misinformed\", \"value\": 0.6}, {\"beta\": 0.06999999999999999, \"variable\": \"misinformed\", \"value\": 0.6999999999999998}, {\"beta\": 0.08, \"variable\": \"misinformed\", \"value\": 0.7999999999999999}, {\"beta\": 0.09, \"variable\": \"misinformed\", \"value\": 0.8999999999999999}, {\"beta\": 0.09999999999999999, \"variable\": \"misinformed\", \"value\": 0.9999999999999999}, {\"beta\": 0.11, \"variable\": \"misinformed\", \"value\": 1.0999999999999999}, {\"beta\": 0.12, \"variable\": \"misinformed\", \"value\": 1.2}, {\"beta\": 0.13, \"variable\": \"misinformed\", \"value\": 1.3}, {\"beta\": 0.14, \"variable\": \"misinformed\", \"value\": 1.4000000000000001}, {\"beta\": 0.15000000000000002, \"variable\": \"misinformed\", \"value\": 1.5000000000000002}, {\"beta\": 0.16, \"variable\": \"misinformed\", \"value\": 1.5999999999999999}, {\"beta\": 0.17, \"variable\": \"misinformed\", \"value\": 1.7}, {\"beta\": 0.18000000000000002, \"variable\": \"misinformed\", \"value\": 1.8}, {\"beta\": 0.19, \"variable\": \"misinformed\", \"value\": 1.9}, {\"beta\": 0.2, \"variable\": \"misinformed\", \"value\": 2.0}, {\"beta\": 0.21000000000000002, \"variable\": \"misinformed\", \"value\": 2.1}, {\"beta\": 0.22, \"variable\": \"misinformed\", \"value\": 2.1999999999999997}, {\"beta\": 0.23, \"variable\": \"misinformed\", \"value\": 2.3}, {\"beta\": 0.24000000000000002, \"variable\": \"misinformed\", \"value\": 2.4}, {\"beta\": 0.25, \"variable\": \"misinformed\", \"value\": 2.5}, {\"beta\": 0.26, \"variable\": \"misinformed\", \"value\": 2.6}, {\"beta\": 0.27, \"variable\": \"misinformed\", \"value\": 2.7}, {\"beta\": 0.28, \"variable\": \"misinformed\", \"value\": 2.8000000000000003}, {\"beta\": 0.29000000000000004, \"variable\": \"misinformed\", \"value\": 2.9000000000000004}, {\"beta\": 0.3, \"variable\": \"misinformed\", \"value\": 2.9999999999999996}, {\"beta\": 0.31, \"variable\": \"misinformed\", \"value\": 3.0999999999999996}, {\"beta\": 0.32, \"variable\": \"misinformed\", \"value\": 3.1999999999999997}, {\"beta\": 0.33, \"variable\": \"misinformed\", \"value\": 3.3}, {\"beta\": 0.34, \"variable\": \"misinformed\", \"value\": 3.4}, {\"beta\": 0.35000000000000003, \"variable\": \"misinformed\", \"value\": 3.5}, {\"beta\": 0.36000000000000004, \"variable\": \"misinformed\", \"value\": 3.6}, {\"beta\": 0.37, \"variable\": \"misinformed\", \"value\": 3.6999999999999997}, {\"beta\": 0.38, \"variable\": \"misinformed\", \"value\": 3.8}, {\"beta\": 0.39, \"variable\": \"misinformed\", \"value\": 3.9}, {\"beta\": 0.4, \"variable\": \"misinformed\", \"value\": 4.0}, {\"beta\": 0.41000000000000003, \"variable\": \"misinformed\", \"value\": 4.1}, {\"beta\": 0.42000000000000004, \"variable\": \"misinformed\", \"value\": 4.2}, {\"beta\": 0.43, \"variable\": \"misinformed\", \"value\": 4.3}, {\"beta\": 0.44, \"variable\": \"misinformed\", \"value\": 4.3999999999999995}, {\"beta\": 0.45, \"variable\": \"misinformed\", \"value\": 4.5}, {\"beta\": 0.46, \"variable\": \"misinformed\", \"value\": 4.6}, {\"beta\": 0.47000000000000003, \"variable\": \"misinformed\", \"value\": 4.7}, {\"beta\": 0.48000000000000004, \"variable\": \"misinformed\", \"value\": 4.8}, {\"beta\": 0.49, \"variable\": \"misinformed\", \"value\": 4.8999999999999995}, {\"beta\": 0.5, \"variable\": \"misinformed\", \"value\": 5.0}, {\"beta\": 0.51, \"variable\": \"misinformed\", \"value\": 5.0}, {\"beta\": 0.52, \"variable\": \"misinformed\", \"value\": 5.0}, {\"beta\": 0.53, \"variable\": \"misinformed\", \"value\": 5.0}, {\"beta\": 0.54, \"variable\": \"misinformed\", \"value\": 5.0}, {\"beta\": 0.55, \"variable\": \"misinformed\", \"value\": 5.0}, {\"beta\": 0.56, \"variable\": \"misinformed\", \"value\": 5.0}, {\"beta\": 0.5700000000000001, \"variable\": \"misinformed\", \"value\": 5.0}, {\"beta\": 0.5800000000000001, \"variable\": \"misinformed\", \"value\": 5.0}, {\"beta\": 0.59, \"variable\": \"misinformed\", \"value\": 5.0}, {\"beta\": 0.6, \"variable\": \"misinformed\", \"value\": 5.0}, {\"beta\": 0.61, \"variable\": \"misinformed\", \"value\": 5.0}, {\"beta\": 0.62, \"variable\": \"misinformed\", \"value\": 5.0}, {\"beta\": 0.63, \"variable\": \"misinformed\", \"value\": 5.0}, {\"beta\": 0.64, \"variable\": \"misinformed\", \"value\": 5.0}, {\"beta\": 0.65, \"variable\": \"misinformed\", \"value\": 5.0}, {\"beta\": 0.66, \"variable\": \"misinformed\", \"value\": 5.0}, {\"beta\": 0.67, \"variable\": \"misinformed\", \"value\": 5.0}, {\"beta\": 0.68, \"variable\": \"misinformed\", \"value\": 5.0}, {\"beta\": 0.6900000000000001, \"variable\": \"misinformed\", \"value\": 5.0}, {\"beta\": 0.7000000000000001, \"variable\": \"misinformed\", \"value\": 5.0}, {\"beta\": 0.7100000000000001, \"variable\": \"misinformed\", \"value\": 5.0}, {\"beta\": 0.72, \"variable\": \"misinformed\", \"value\": 5.0}, {\"beta\": 0.73, \"variable\": \"misinformed\", \"value\": 5.0}, {\"beta\": 0.74, \"variable\": \"misinformed\", \"value\": 5.0}, {\"beta\": 0.75, \"variable\": \"misinformed\", \"value\": 5.0}, {\"beta\": 0.76, \"variable\": \"misinformed\", \"value\": 5.0}, {\"beta\": 0.77, \"variable\": \"misinformed\", \"value\": 5.0}, {\"beta\": 0.78, \"variable\": \"misinformed\", \"value\": 5.0}, {\"beta\": 0.79, \"variable\": \"misinformed\", \"value\": 5.0}, {\"beta\": 0.8, \"variable\": \"misinformed\", \"value\": 5.0}, {\"beta\": 0.81, \"variable\": \"misinformed\", \"value\": 5.0}, {\"beta\": 0.8200000000000001, \"variable\": \"misinformed\", \"value\": 5.0}, {\"beta\": 0.8300000000000001, \"variable\": \"misinformed\", \"value\": 5.0}, {\"beta\": 0.8400000000000001, \"variable\": \"misinformed\", \"value\": 5.0}, {\"beta\": 0.85, \"variable\": \"misinformed\", \"value\": 5.0}, {\"beta\": 0.86, \"variable\": \"misinformed\", \"value\": 5.0}, {\"beta\": 0.87, \"variable\": \"misinformed\", \"value\": 5.0}, {\"beta\": 0.88, \"variable\": \"misinformed\", \"value\": 5.0}, {\"beta\": 0.89, \"variable\": \"misinformed\", \"value\": 5.0}, {\"beta\": 0.9, \"variable\": \"misinformed\", \"value\": 5.0}, {\"beta\": 0.91, \"variable\": \"misinformed\", \"value\": 5.0}, {\"beta\": 0.92, \"variable\": \"misinformed\", \"value\": 5.0}, {\"beta\": 0.93, \"variable\": \"misinformed\", \"value\": 5.0}, {\"beta\": 0.9400000000000001, \"variable\": \"misinformed\", \"value\": 5.0}, {\"beta\": 0.9500000000000001, \"variable\": \"misinformed\", \"value\": 5.0}, {\"beta\": 0.9600000000000001, \"variable\": \"misinformed\", \"value\": 5.0}, {\"beta\": 0.97, \"variable\": \"misinformed\", \"value\": 5.0}, {\"beta\": 0.98, \"variable\": \"misinformed\", \"value\": 5.0}, {\"beta\": 0.99, \"variable\": \"misinformed\", \"value\": 5.0}, {\"beta\": 1.0, \"variable\": \"misinformed\", \"value\": 5.0}, {\"beta\": 0.01, \"variable\": \"all\", \"value\": 0.075}, {\"beta\": 0.02, \"variable\": \"all\", \"value\": 0.15}, {\"beta\": 0.03, \"variable\": \"all\", \"value\": 0.22499999999999998}, {\"beta\": 0.04, \"variable\": \"all\", \"value\": 0.3}, {\"beta\": 0.05, \"variable\": \"all\", \"value\": 0.375}, {\"beta\": 0.060000000000000005, \"variable\": \"all\", \"value\": 0.44999999999999996}, {\"beta\": 0.06999999999999999, \"variable\": \"all\", \"value\": 0.5249999999999999}, {\"beta\": 0.08, \"variable\": \"all\", \"value\": 0.6}, {\"beta\": 0.09, \"variable\": \"all\", \"value\": 0.6749999999999999}, {\"beta\": 0.09999999999999999, \"variable\": \"all\", \"value\": 0.7499999999999999}, {\"beta\": 0.11, \"variable\": \"all\", \"value\": 0.825}, {\"beta\": 0.12, \"variable\": \"all\", \"value\": 0.8999999999999999}, {\"beta\": 0.13, \"variable\": \"all\", \"value\": 0.9750000000000001}, {\"beta\": 0.14, \"variable\": \"all\", \"value\": 1.05}, {\"beta\": 0.15000000000000002, \"variable\": \"all\", \"value\": 1.1250000000000002}, {\"beta\": 0.16, \"variable\": \"all\", \"value\": 1.2}, {\"beta\": 0.17, \"variable\": \"all\", \"value\": 1.275}, {\"beta\": 0.18000000000000002, \"variable\": \"all\", \"value\": 1.35}, {\"beta\": 0.19, \"variable\": \"all\", \"value\": 1.4249999999999998}, {\"beta\": 0.2, \"variable\": \"all\", \"value\": 1.5}, {\"beta\": 0.21000000000000002, \"variable\": \"all\", \"value\": 1.5750000000000002}, {\"beta\": 0.22, \"variable\": \"all\", \"value\": 1.65}, {\"beta\": 0.23, \"variable\": \"all\", \"value\": 1.7249999999999999}, {\"beta\": 0.24000000000000002, \"variable\": \"all\", \"value\": 1.7999999999999998}, {\"beta\": 0.25, \"variable\": \"all\", \"value\": 1.875}, {\"beta\": 0.26, \"variable\": \"all\", \"value\": 1.9500000000000002}, {\"beta\": 0.27, \"variable\": \"all\", \"value\": 2.0250000000000004}, {\"beta\": 0.28, \"variable\": \"all\", \"value\": 2.1}, {\"beta\": 0.29000000000000004, \"variable\": \"all\", \"value\": 2.1750000000000003}, {\"beta\": 0.3, \"variable\": \"all\", \"value\": 2.2499999999999996}, {\"beta\": 0.31, \"variable\": \"all\", \"value\": 2.3249999999999997}, {\"beta\": 0.32, \"variable\": \"all\", \"value\": 2.4}, {\"beta\": 0.33, \"variable\": \"all\", \"value\": 2.4749999999999996}, {\"beta\": 0.34, \"variable\": \"all\", \"value\": 2.55}, {\"beta\": 0.35000000000000003, \"variable\": \"all\", \"value\": 2.625}, {\"beta\": 0.36000000000000004, \"variable\": \"all\", \"value\": 2.7}, {\"beta\": 0.37, \"variable\": \"all\", \"value\": 2.775}, {\"beta\": 0.38, \"variable\": \"all\", \"value\": 2.8499999999999996}, {\"beta\": 0.39, \"variable\": \"all\", \"value\": 2.925}, {\"beta\": 0.4, \"variable\": \"all\", \"value\": 3.0}, {\"beta\": 0.41000000000000003, \"variable\": \"all\", \"value\": 3.0749999999999997}, {\"beta\": 0.42000000000000004, \"variable\": \"all\", \"value\": 3.1500000000000004}, {\"beta\": 0.43, \"variable\": \"all\", \"value\": 3.2249999999999996}, {\"beta\": 0.44, \"variable\": \"all\", \"value\": 3.3}, {\"beta\": 0.45, \"variable\": \"all\", \"value\": 3.375}, {\"beta\": 0.46, \"variable\": \"all\", \"value\": 3.4499999999999997}, {\"beta\": 0.47000000000000003, \"variable\": \"all\", \"value\": 3.5250000000000004}, {\"beta\": 0.48000000000000004, \"variable\": \"all\", \"value\": 3.5999999999999996}, {\"beta\": 0.49, \"variable\": \"all\", \"value\": 3.675}, {\"beta\": 0.5, \"variable\": \"all\", \"value\": 3.75}, {\"beta\": 0.51, \"variable\": \"all\", \"value\": 3.775}, {\"beta\": 0.52, \"variable\": \"all\", \"value\": 3.8}, {\"beta\": 0.53, \"variable\": \"all\", \"value\": 3.825}, {\"beta\": 0.54, \"variable\": \"all\", \"value\": 3.85}, {\"beta\": 0.55, \"variable\": \"all\", \"value\": 3.875}, {\"beta\": 0.56, \"variable\": \"all\", \"value\": 3.9000000000000004}, {\"beta\": 0.5700000000000001, \"variable\": \"all\", \"value\": 3.925}, {\"beta\": 0.5800000000000001, \"variable\": \"all\", \"value\": 3.95}, {\"beta\": 0.59, \"variable\": \"all\", \"value\": 3.9749999999999996}, {\"beta\": 0.6, \"variable\": \"all\", \"value\": 4.0}, {\"beta\": 0.61, \"variable\": \"all\", \"value\": 4.025}, {\"beta\": 0.62, \"variable\": \"all\", \"value\": 4.05}, {\"beta\": 0.63, \"variable\": \"all\", \"value\": 4.075}, {\"beta\": 0.64, \"variable\": \"all\", \"value\": 4.1}, {\"beta\": 0.65, \"variable\": \"all\", \"value\": 4.125}, {\"beta\": 0.66, \"variable\": \"all\", \"value\": 4.15}, {\"beta\": 0.67, \"variable\": \"all\", \"value\": 4.175}, {\"beta\": 0.68, \"variable\": \"all\", \"value\": 4.2}, {\"beta\": 0.6900000000000001, \"variable\": \"all\", \"value\": 4.225}, {\"beta\": 0.7000000000000001, \"variable\": \"all\", \"value\": 4.25}, {\"beta\": 0.7100000000000001, \"variable\": \"all\", \"value\": 4.275}, {\"beta\": 0.72, \"variable\": \"all\", \"value\": 4.3}, {\"beta\": 0.73, \"variable\": \"all\", \"value\": 4.325}, {\"beta\": 0.74, \"variable\": \"all\", \"value\": 4.35}, {\"beta\": 0.75, \"variable\": \"all\", \"value\": 4.375}, {\"beta\": 0.76, \"variable\": \"all\", \"value\": 4.4}, {\"beta\": 0.77, \"variable\": \"all\", \"value\": 4.425}, {\"beta\": 0.78, \"variable\": \"all\", \"value\": 4.45}, {\"beta\": 0.79, \"variable\": \"all\", \"value\": 4.475}, {\"beta\": 0.8, \"variable\": \"all\", \"value\": 4.5}, {\"beta\": 0.81, \"variable\": \"all\", \"value\": 4.525}, {\"beta\": 0.8200000000000001, \"variable\": \"all\", \"value\": 4.55}, {\"beta\": 0.8300000000000001, \"variable\": \"all\", \"value\": 4.575}, {\"beta\": 0.8400000000000001, \"variable\": \"all\", \"value\": 4.6}, {\"beta\": 0.85, \"variable\": \"all\", \"value\": 4.625}, {\"beta\": 0.86, \"variable\": \"all\", \"value\": 4.65}, {\"beta\": 0.87, \"variable\": \"all\", \"value\": 4.675}, {\"beta\": 0.88, \"variable\": \"all\", \"value\": 4.699999999999999}, {\"beta\": 0.89, \"variable\": \"all\", \"value\": 4.725}, {\"beta\": 0.9, \"variable\": \"all\", \"value\": 4.75}, {\"beta\": 0.91, \"variable\": \"all\", \"value\": 4.775}, {\"beta\": 0.92, \"variable\": \"all\", \"value\": 4.8}, {\"beta\": 0.93, \"variable\": \"all\", \"value\": 4.825}, {\"beta\": 0.9400000000000001, \"variable\": \"all\", \"value\": 4.85}, {\"beta\": 0.9500000000000001, \"variable\": \"all\", \"value\": 4.875}, {\"beta\": 0.9600000000000001, \"variable\": \"all\", \"value\": 4.9}, {\"beta\": 0.97, \"variable\": \"all\", \"value\": 4.925}, {\"beta\": 0.98, \"variable\": \"all\", \"value\": 4.949999999999999}, {\"beta\": 0.99, \"variable\": \"all\", \"value\": 4.975}, {\"beta\": 1.0, \"variable\": \"all\", \"value\": 5.0}], \"data-b2523e30cbde1ccb60ddbbcad4209db0\": [{\"x\": 0.14, \"y1\": 0, \"y2\": 2.5, \"text\": \"R0 > 1 (0.14)\"}], \"data-9b385876279b720d344867f0cd6895c3\": [{\"beta\": 0.01, \"variable\": \"ordinary\", \"value\": 2.7023360695177175e-05}, {\"beta\": 0.02, \"variable\": \"ordinary\", \"value\": 5.880563018450954e-05}, {\"beta\": 0.03, \"variable\": \"ordinary\", \"value\": 9.672401392549412e-05}, {\"beta\": 0.04, \"variable\": \"ordinary\", \"value\": 0.00014274312828069965}, {\"beta\": 0.05, \"variable\": \"ordinary\", \"value\": 0.000199764763351163}, {\"beta\": 0.06, \"variable\": \"ordinary\", \"value\": 0.0002722594980388342}, {\"beta\": 0.07, \"variable\": \"ordinary\", \"value\": 0.00036748000164107237}, {\"beta\": 0.08, \"variable\": \"ordinary\", \"value\": 0.0004979629399440434}, {\"beta\": 0.09, \"variable\": \"ordinary\", \"value\": 0.0006871034864717986}, {\"beta\": 0.1, \"variable\": \"ordinary\", \"value\": 0.0009825830309077492}, {\"beta\": 0.11, \"variable\": \"ordinary\", \"value\": 0.0014910207516283089}, {\"beta\": 0.12, \"variable\": \"ordinary\", \"value\": 0.002471684181012619}, {\"beta\": 0.13, \"variable\": \"ordinary\", \"value\": 0.004591014723624091}, {\"beta\": 0.14, \"variable\": \"ordinary\", \"value\": 0.009557364572827643}, {\"beta\": 0.15, \"variable\": \"ordinary\", \"value\": 0.021250823623976785}, {\"beta\": 0.16, \"variable\": \"ordinary\", \"value\": 0.045640420268850464}, {\"beta\": 0.17, \"variable\": \"ordinary\", \"value\": 0.0845701359144293}, {\"beta\": 0.18, \"variable\": \"ordinary\", \"value\": 0.1290844211092495}, {\"beta\": 0.19, \"variable\": \"ordinary\", \"value\": 0.16866589085407493}, {\"beta\": 0.2, \"variable\": \"ordinary\", \"value\": 0.20046847451569477}, {\"beta\": 0.21, \"variable\": \"ordinary\", \"value\": 0.22610507139244584}, {\"beta\": 0.22, \"variable\": \"ordinary\", \"value\": 0.2475852571291089}, {\"beta\": 0.23, \"variable\": \"ordinary\", \"value\": 0.2662526806233949}, {\"beta\": 0.24, \"variable\": \"ordinary\", \"value\": 0.2828890537895692}, {\"beta\": 0.25, \"variable\": \"ordinary\", \"value\": 0.29794765529661027}, {\"beta\": 0.26, \"variable\": \"ordinary\", \"value\": 0.311706995937596}, {\"beta\": 0.27, \"variable\": \"ordinary\", \"value\": 0.32435309044722926}, {\"beta\": 0.28, \"variable\": \"ordinary\", \"value\": 0.33602102534758227}, {\"beta\": 0.29, \"variable\": \"ordinary\", \"value\": 0.34681590555848646}, {\"beta\": 0.3, \"variable\": \"ordinary\", \"value\": 0.3568237022259784}, {\"beta\": 0.31, \"variable\": \"ordinary\", \"value\": 0.36611714849008836}, {\"beta\": 0.32, \"variable\": \"ordinary\", \"value\": 0.3747591549806229}, {\"beta\": 0.33, \"variable\": \"ordinary\", \"value\": 0.3828049379275461}, {\"beta\": 0.34, \"variable\": \"ordinary\", \"value\": 0.3903034462131059}, {\"beta\": 0.35, \"variable\": \"ordinary\", \"value\": 0.39729838380152055}, {\"beta\": 0.36, \"variable\": \"ordinary\", \"value\": 0.40382898305708537}, {\"beta\": 0.37, \"variable\": \"ordinary\", \"value\": 0.4099306142994182}, {\"beta\": 0.38, \"variable\": \"ordinary\", \"value\": 0.41563528095334035}, {\"beta\": 0.39, \"variable\": \"ordinary\", \"value\": 0.42097203051494764}, {\"beta\": 0.4, \"variable\": \"ordinary\", \"value\": 0.42596730094775764}, {\"beta\": 0.41, \"variable\": \"ordinary\", \"value\": 0.4306452159597653}, {\"beta\": 0.42, \"variable\": \"ordinary\", \"value\": 0.43502783884543245}, {\"beta\": 0.43, \"variable\": \"ordinary\", \"value\": 0.43913539215222563}, {\"beta\": 0.44, \"variable\": \"ordinary\", \"value\": 0.4429864487914307}, {\"beta\": 0.45, \"variable\": \"ordinary\", \"value\": 0.44659809905274045}, {\"beta\": 0.46, \"variable\": \"ordinary\", \"value\": 0.4499860971289912}, {\"beta\": 0.47, \"variable\": \"ordinary\", \"value\": 0.4531649901099295}, {\"beta\": 0.48, \"variable\": \"ordinary\", \"value\": 0.4561482318998573}, {\"beta\": 0.49, \"variable\": \"ordinary\", \"value\": 0.4589482841137842}, {\"beta\": 0.5, \"variable\": \"ordinary\", \"value\": 0.4615767056839463}, {\"beta\": 0.51, \"variable\": \"ordinary\", \"value\": 0.4639510111248832}, {\"beta\": 0.52, \"variable\": \"ordinary\", \"value\": 0.46618581371724094}, {\"beta\": 0.53, \"variable\": \"ordinary\", \"value\": 0.4682890026655253}, {\"beta\": 0.54, \"variable\": \"ordinary\", \"value\": 0.47026804287312}, {\"beta\": 0.55, \"variable\": \"ordinary\", \"value\": 0.4721299938404228}, {\"beta\": 0.56, \"variable\": \"ordinary\", \"value\": 0.4738815285455586}, {\"beta\": 0.57, \"variable\": \"ordinary\", \"value\": 0.47552895211421486}, {\"beta\": 0.58, \"variable\": \"ordinary\", \"value\": 0.4770782201290168}, {\"beta\": 0.59, \"variable\": \"ordinary\", \"value\": 0.47853495646508326}, {\"beta\": 0.6, \"variable\": \"ordinary\", \"value\": 0.4799044705681146}, {\"beta\": 0.61, \"variable\": \"ordinary\", \"value\": 0.48119177411562297}, {\"beta\": 0.62, \"variable\": \"ordinary\", \"value\": 0.48240159702158036}, {\"beta\": 0.63, \"variable\": \"ordinary\", \"value\": 0.4835384027606152}, {\"beta\": 0.64, \"variable\": \"ordinary\", \"value\": 0.48460640300053537}, {\"beta\": 0.65, \"variable\": \"ordinary\", \"value\": 0.4856095715419931}, {\"beta\": 0.66, \"variable\": \"ordinary\", \"value\": 0.4865516575719234}, {\"beta\": 0.67, \"variable\": \"ordinary\", \"value\": 0.487436198243456}, {\"beta\": 0.68, \"variable\": \"ordinary\", \"value\": 0.4882665305995429}, {\"beta\": 0.69, \"variable\": \"ordinary\", \"value\": 0.48904580286092136}, {\"beta\": 0.7, \"variable\": \"ordinary\", \"value\": 0.48977698510142526}, {\"beta\": 0.71, \"variable\": \"ordinary\", \"value\": 0.49046287933524313}, {\"beta\": 0.72, \"variable\": \"ordinary\", \"value\": 0.4911061290416875}, {\"beta\": 0.73, \"variable\": \"ordinary\", \"value\": 0.4917092281535273}, {\"beta\": 0.74, \"variable\": \"ordinary\", \"value\": 0.4922745295349591}, {\"beta\": 0.75, \"variable\": \"ordinary\", \"value\": 0.4928042529751032}, {\"beta\": 0.76, \"variable\": \"ordinary\", \"value\": 0.4933004927223949}, {\"beta\": 0.77, \"variable\": \"ordinary\", \"value\": 0.4937652245846219}, {\"beta\": 0.78, \"variable\": \"ordinary\", \"value\": 0.4942003126185524}, {\"beta\": 0.79, \"variable\": \"ordinary\", \"value\": 0.4946075154322375}, {\"beta\": 0.8, \"variable\": \"ordinary\", \"value\": 0.4949884921221075}, {\"beta\": 0.81, \"variable\": \"ordinary\", \"value\": 0.4953448078660097}, {\"beta\": 0.82, \"variable\": \"ordinary\", \"value\": 0.4956779391922885}, {\"beta\": 0.83, \"variable\": \"ordinary\", \"value\": 0.49598927894401124}, {\"beta\": 0.84, \"variable\": \"ordinary\", \"value\": 0.49628014095639267}, {\"beta\": 0.85, \"variable\": \"ordinary\", \"value\": 0.4965517644644795}, {\"beta\": 0.86, \"variable\": \"ordinary\", \"value\": 0.4968053182571893}, {\"beta\": 0.87, \"variable\": \"ordinary\", \"value\": 0.4970419045928552}, {\"beta\": 0.88, \"variable\": \"ordinary\", \"value\": 0.49726256289056425}, {\"beta\": 0.89, \"variable\": \"ordinary\", \"value\": 0.49746827321075376}, {\"beta\": 0.9, \"variable\": \"ordinary\", \"value\": 0.4976599595377479}, {\"beta\": 0.91, \"variable\": \"ordinary\", \"value\": 0.4978384928762212}, {\"beta\": 0.92, \"variable\": \"ordinary\", \"value\": 0.4980046941728648}, {\"beta\": 0.93, \"variable\": \"ordinary\", \"value\": 0.4981593370739103}, {\"beta\": 0.94, \"variable\": \"ordinary\", \"value\": 0.4983031505285063}, {\"beta\": 0.95, \"variable\": \"ordinary\", \"value\": 0.49843682124733785}, {\"beta\": 0.96, \"variable\": \"ordinary\", \"value\": 0.49856099602525183}, {\"beta\": 0.97, \"variable\": \"ordinary\", \"value\": 0.49867628393604785}, {\"beta\": 0.98, \"variable\": \"ordinary\", \"value\": 0.49878325840699006}, {\"beta\": 0.99, \"variable\": \"ordinary\", \"value\": 0.49888245918002194}, {\"beta\": 1.0, \"variable\": \"ordinary\", \"value\": 0.4989743941661379}, {\"beta\": 0.01, \"variable\": \"misinformed\", \"value\": 0.0010539373186727924}, {\"beta\": 0.02, \"variable\": \"misinformed\", \"value\": 0.0011173697765414759}, {\"beta\": 0.03, \"variable\": \"misinformed\", \"value\": 0.0011930440271765257}, {\"beta\": 0.04, \"variable\": \"misinformed\", \"value\": 0.0012848776767895873}, {\"beta\": 0.05, \"variable\": \"misinformed\", \"value\": 0.0013986561293474196}, {\"beta\": 0.06, \"variable\": \"misinformed\", \"value\": 0.001543290625243301}, {\"beta\": 0.07, \"variable\": \"misinformed\", \"value\": 0.0017332340081976526}, {\"beta\": 0.08, \"variable\": \"misinformed\", \"value\": 0.001993459783330186}, {\"beta\": 0.09, \"variable\": \"misinformed\", \"value\": 0.002370548144499108}, {\"beta\": 0.1, \"variable\": \"misinformed\", \"value\": 0.002959359270810845}, {\"beta\": 0.11, \"variable\": \"misinformed\", \"value\": 0.003971725822808654}, {\"beta\": 0.12, \"variable\": \"misinformed\", \"value\": 0.005921454223574286}, {\"beta\": 0.13, \"variable\": \"misinformed\", \"value\": 0.010122004580818314}, {\"beta\": 0.14, \"variable\": \"misinformed\", \"value\": 0.019895497336367796}, {\"beta\": 0.15, \"variable\": \"misinformed\", \"value\": 0.042520108698258216}, {\"beta\": 0.16, \"variable\": \"misinformed\", \"value\": 0.08795970006595655}, {\"beta\": 0.17, \"variable\": \"misinformed\", \"value\": 0.15560859365869065}, {\"beta\": 0.18, \"variable\": \"misinformed\", \"value\": 0.2256466264787275}, {\"beta\": 0.19, \"variable\": \"misinformed\", \"value\": 0.2813683070900887}, {\"beta\": 0.2, \"variable\": \"misinformed\", \"value\": 0.3216475154836949}, {\"beta\": 0.21, \"variable\": \"misinformed\", \"value\": 0.3511967383284451}, {\"beta\": 0.22, \"variable\": \"misinformed\", \"value\": 0.3739491541820067}, {\"beta\": 0.23, \"variable\": \"misinformed\", \"value\": 0.3922360613753427}, {\"beta\": 0.24, \"variable\": \"misinformed\", \"value\": 0.4073650939359861}, {\"beta\": 0.25, \"variable\": \"misinformed\", \"value\": 0.4201053183815461}, {\"beta\": 0.26, \"variable\": \"misinformed\", \"value\": 0.4309491861021959}, {\"beta\": 0.27, \"variable\": \"misinformed\", \"value\": 0.4402402974914847}, {\"beta\": 0.28, \"variable\": \"misinformed\", \"value\": 0.44823538508811406}, {\"beta\": 0.29, \"variable\": \"misinformed\", \"value\": 0.4551356581407975}, {\"beta\": 0.3, \"variable\": \"misinformed\", \"value\": 0.4611038028526409}, {\"beta\": 0.31, \"variable\": \"misinformed\", \"value\": 0.46627401839271393}, {\"beta\": 0.32, \"variable\": \"misinformed\", \"value\": 0.47075846853962156}, {\"beta\": 0.33, \"variable\": \"misinformed\", \"value\": 0.4746517475258718}, {\"beta\": 0.34, \"variable\": \"misinformed\", \"value\": 0.4780341538995052}, {\"beta\": 0.35, \"variable\": \"misinformed\", \"value\": 0.4809741919035995}, {\"beta\": 0.36, \"variable\": \"misinformed\", \"value\": 0.4835305384168721}, {\"beta\": 0.37, \"variable\": \"misinformed\", \"value\": 0.4857536207993922}, {\"beta\": 0.38, \"variable\": \"misinformed\", \"value\": 0.4876869006289132}, {\"beta\": 0.39, \"variable\": \"misinformed\", \"value\": 0.4893679290741169}, {\"beta\": 0.4, \"variable\": \"misinformed\", \"value\": 0.4908292215156591}, {\"beta\": 0.41, \"variable\": \"misinformed\", \"value\": 0.4920989870815667}, {\"beta\": 0.42, \"variable\": \"misinformed\", \"value\": 0.493201740489012}, {\"beta\": 0.43, \"variable\": \"misinformed\", \"value\": 0.494158817617636}, {\"beta\": 0.44, \"variable\": \"misinformed\", \"value\": 0.4949888118029699}, {\"beta\": 0.45, \"variable\": \"misinformed\", \"value\": 0.49570794446285266}, {\"beta\": 0.46, \"variable\": \"misinformed\", \"value\": 0.4963303810564769}, {\"beta\": 0.47, \"variable\": \"misinformed\", \"value\": 0.4968685013256764}, {\"beta\": 0.48, \"variable\": \"misinformed\", \"value\": 0.49733313114321587}, {\"beta\": 0.49, \"variable\": \"misinformed\", \"value\": 0.49773374199409226}, {\"beta\": 0.5, \"variable\": \"misinformed\", \"value\": 0.4980786230706306}, {\"beta\": 0.51, \"variable\": \"misinformed\", \"value\": 0.49812483549611597}, {\"beta\": 0.52, \"variable\": \"misinformed\", \"value\": 0.4981683225677103}, {\"beta\": 0.53, \"variable\": \"misinformed\", \"value\": 0.49820929725430013}, {\"beta\": 0.54, \"variable\": \"misinformed\", \"value\": 0.49824795271124056}, {\"beta\": 0.55, \"variable\": \"misinformed\", \"value\": 0.498284464379373}, {\"beta\": 0.56, \"variable\": \"misinformed\", \"value\": 0.4983189918388578}, {\"beta\": 0.57, \"variable\": \"misinformed\", \"value\": 0.4983516804485366}, {\"beta\": 0.58, \"variable\": \"misinformed\", \"value\": 0.4983826627975183}, {\"beta\": 0.59, \"variable\": \"misinformed\", \"value\": 0.49841205999219}, {\"beta\": 0.6, \"variable\": \"misinformed\", \"value\": 0.49843998279884044}, {\"beta\": 0.61, \"variable\": \"misinformed\", \"value\": 0.49846653265945917}, {\"beta\": 0.62, \"variable\": \"misinformed\", \"value\": 0.4984918025960117}, {\"beta\": 0.63, \"variable\": \"misinformed\", \"value\": 0.4985158780165261}, {\"beta\": 0.64, \"variable\": \"misinformed\", \"value\": 0.4985388374346353}, {\"beta\": 0.65, \"variable\": \"misinformed\", \"value\": 0.4985607531127306}, {\"beta\": 0.66, \"variable\": \"misinformed\", \"value\": 0.498581691637634}, {\"beta\": 0.67, \"variable\": \"misinformed\", \"value\": 0.49860171443655277}, {\"beta\": 0.68, \"variable\": \"misinformed\", \"value\": 0.49862087824015233}, {\"beta\": 0.69, \"variable\": \"misinformed\", \"value\": 0.49863923549871286}, {\"beta\": 0.7, \"variable\": \"misinformed\", \"value\": 0.49865683475661765}, {\"beta\": 0.71, \"variable\": \"misinformed\", \"value\": 0.49867372098977625}, {\"beta\": 0.72, \"variable\": \"misinformed\", \"value\": 0.4986899359100216}, {\"beta\": 0.73, \"variable\": \"misinformed\", \"value\": 0.4987055182400475}, {\"beta\": 0.74, \"variable\": \"misinformed\", \"value\": 0.4987205039620179}, {\"beta\": 0.75, \"variable\": \"misinformed\", \"value\": 0.49873492654263757}, {\"beta\": 0.76, \"variable\": \"misinformed\", \"value\": 0.4987488171371497}, {\"beta\": 0.77, \"variable\": \"misinformed\", \"value\": 0.4987622047744693}, {\"beta\": 0.78, \"variable\": \"misinformed\", \"value\": 0.4987751165254224}, {\"beta\": 0.79, \"variable\": \"misinformed\", \"value\": 0.4987875776558609}, {\"beta\": 0.8, \"variable\": \"misinformed\", \"value\": 0.4987996117662118}, {\"beta\": 0.81, \"variable\": \"misinformed\", \"value\": 0.49881124091886997}, {\"beta\": 0.82, \"variable\": \"misinformed\", \"value\": 0.4988224857546372}, {\"beta\": 0.83, \"variable\": \"misinformed\", \"value\": 0.4988333655992787}, {\"beta\": 0.84, \"variable\": \"misinformed\", \"value\": 0.4988438985610993}, {\"beta\": 0.85, \"variable\": \"misinformed\", \"value\": 0.49885410162032967}, {\"beta\": 0.86, \"variable\": \"misinformed\", \"value\": 0.49886399071099446}, {\"beta\": 0.87, \"variable\": \"misinformed\", \"value\": 0.49887358079586164}, {\"beta\": 0.88, \"variable\": \"misinformed\", \"value\": 0.49888288593503727}, {\"beta\": 0.89, \"variable\": \"misinformed\", \"value\": 0.49889191934873}, {\"beta\": 0.9, \"variable\": \"misinformed\", \"value\": 0.49890069347471905}, {\"beta\": 0.91, \"variable\": \"misinformed\", \"value\": 0.4989092200210694}, {\"beta\": 0.92, \"variable\": \"misinformed\", \"value\": 0.49891751001463513}, {\"beta\": 0.93, \"variable\": \"misinformed\", \"value\": 0.4989255738458885}, {\"beta\": 0.94, \"variable\": \"misinformed\", \"value\": 0.4989334213105881}, {\"beta\": 0.95, \"variable\": \"misinformed\", \"value\": 0.4989410616487265}, {\"beta\": 0.96, \"variable\": \"misinformed\", \"value\": 0.4989485035811308}, {\"beta\": 0.97, \"variable\": \"misinformed\", \"value\": 0.49895575534397246}, {\"beta\": 0.98, \"variable\": \"misinformed\", \"value\": 0.49896282472133774}, {\"beta\": 0.99, \"variable\": \"misinformed\", \"value\": 0.4989697190758886}, {\"beta\": 1.0, \"variable\": \"misinformed\", \"value\": 0.4989764453775507}, {\"beta\": 0.01, \"variable\": \"all\", \"value\": 0.0010809606793679696}, {\"beta\": 0.02, \"variable\": \"all\", \"value\": 0.0011761754067259854}, {\"beta\": 0.03, \"variable\": \"all\", \"value\": 0.0012897680411020197}, {\"beta\": 0.04, \"variable\": \"all\", \"value\": 0.001427620805070287}, {\"beta\": 0.05, \"variable\": \"all\", \"value\": 0.0015984208926985825}, {\"beta\": 0.06, \"variable\": \"all\", \"value\": 0.0018155501232821353}, {\"beta\": 0.07, \"variable\": \"all\", \"value\": 0.002100714009838725}, {\"beta\": 0.08, \"variable\": \"all\", \"value\": 0.0024914227232742292}, {\"beta\": 0.09, \"variable\": \"all\", \"value\": 0.003057651630970907}, {\"beta\": 0.1, \"variable\": \"all\", \"value\": 0.003941942301718594}, {\"beta\": 0.11, \"variable\": \"all\", \"value\": 0.005462746574436963}, {\"beta\": 0.12, \"variable\": \"all\", \"value\": 0.008393138404586905}, {\"beta\": 0.13, \"variable\": \"all\", \"value\": 0.014713019304442406}, {\"beta\": 0.14, \"variable\": \"all\", \"value\": 0.029452861909195438}, {\"beta\": 0.15, \"variable\": \"all\", \"value\": 0.063770932322235}, {\"beta\": 0.16, \"variable\": \"all\", \"value\": 0.133600120334807}, {\"beta\": 0.17, \"variable\": \"all\", \"value\": 0.24017872957311995}, {\"beta\": 0.18, \"variable\": \"all\", \"value\": 0.354731047587977}, {\"beta\": 0.19, \"variable\": \"all\", \"value\": 0.45003419794416366}, {\"beta\": 0.2, \"variable\": \"all\", \"value\": 0.5221159899993897}, {\"beta\": 0.21, \"variable\": \"all\", \"value\": 0.577301809720891}, {\"beta\": 0.22, \"variable\": \"all\", \"value\": 0.6215344113111156}, {\"beta\": 0.23, \"variable\": \"all\", \"value\": 0.6584887419987376}, {\"beta\": 0.24, \"variable\": \"all\", \"value\": 0.6902541477255553}, {\"beta\": 0.25, \"variable\": \"all\", \"value\": 0.7180529736781563}, {\"beta\": 0.26, \"variable\": \"all\", \"value\": 0.7426561820397919}, {\"beta\": 0.27, \"variable\": \"all\", \"value\": 0.7645933879387139}, {\"beta\": 0.28, \"variable\": \"all\", \"value\": 0.7842564104356964}, {\"beta\": 0.29, \"variable\": \"all\", \"value\": 0.801951563699284}, {\"beta\": 0.3, \"variable\": \"all\", \"value\": 0.8179275050786193}, {\"beta\": 0.31, \"variable\": \"all\", \"value\": 0.8323911668828023}, {\"beta\": 0.32, \"variable\": \"all\", \"value\": 0.8455176235202444}, {\"beta\": 0.33, \"variable\": \"all\", \"value\": 0.8574566854534179}, {\"beta\": 0.34, \"variable\": \"all\", \"value\": 0.8683376001126111}, {\"beta\": 0.35, \"variable\": \"all\", \"value\": 0.8782725757051201}, {\"beta\": 0.36, \"variable\": \"all\", \"value\": 0.8873595214739575}, {\"beta\": 0.37, \"variable\": \"all\", \"value\": 0.8956842350988103}, {\"beta\": 0.38, \"variable\": \"all\", \"value\": 0.9033221815822535}, {\"beta\": 0.39, \"variable\": \"all\", \"value\": 0.9103399595890646}, {\"beta\": 0.4, \"variable\": \"all\", \"value\": 0.9167965224634167}, {\"beta\": 0.41, \"variable\": \"all\", \"value\": 0.922744203041332}, {\"beta\": 0.42, \"variable\": \"all\", \"value\": 0.9282295793344444}, {\"beta\": 0.43, \"variable\": \"all\", \"value\": 0.9332942097698617}, {\"beta\": 0.44, \"variable\": \"all\", \"value\": 0.9379752605944005}, {\"beta\": 0.45, \"variable\": \"all\", \"value\": 0.9423060435155931}, {\"beta\": 0.46, \"variable\": \"all\", \"value\": 0.946316478185468}, {\"beta\": 0.47, \"variable\": \"all\", \"value\": 0.9500334914356059}, {\"beta\": 0.48, \"variable\": \"all\", \"value\": 0.9534813630430732}, {\"beta\": 0.49, \"variable\": \"all\", \"value\": 0.9566820261078764}, {\"beta\": 0.5, \"variable\": \"all\", \"value\": 0.9596553287545769}, {\"beta\": 0.51, \"variable\": \"all\", \"value\": 0.9620758466209991}, {\"beta\": 0.52, \"variable\": \"all\", \"value\": 0.9643541362849513}, {\"beta\": 0.53, \"variable\": \"all\", \"value\": 0.9664982999198255}, {\"beta\": 0.54, \"variable\": \"all\", \"value\": 0.9685159955843605}, {\"beta\": 0.55, \"variable\": \"all\", \"value\": 0.9704144582197958}, {\"beta\": 0.56, \"variable\": \"all\", \"value\": 0.9722005203844164}, {\"beta\": 0.57, \"variable\": \"all\", \"value\": 0.9738806325627515}, {\"beta\": 0.58, \"variable\": \"all\", \"value\": 0.9754608829265351}, {\"beta\": 0.59, \"variable\": \"all\", \"value\": 0.9769470164572733}, {\"beta\": 0.6, \"variable\": \"all\", \"value\": 0.978344453366955}, {\"beta\": 0.61, \"variable\": \"all\", \"value\": 0.9796583067750821}, {\"beta\": 0.62, \"variable\": \"all\", \"value\": 0.9808933996175921}, {\"beta\": 0.63, \"variable\": \"all\", \"value\": 0.9820542807771413}, {\"beta\": 0.64, \"variable\": \"all\", \"value\": 0.9831452404351706}, {\"beta\": 0.65, \"variable\": \"all\", \"value\": 0.9841703246547238}, {\"beta\": 0.66, \"variable\": \"all\", \"value\": 0.9851333492095574}, {\"beta\": 0.67, \"variable\": \"all\", \"value\": 0.9860379126800087}, {\"beta\": 0.68, \"variable\": \"all\", \"value\": 0.9868874088396953}, {\"beta\": 0.69, \"variable\": \"all\", \"value\": 0.9876850383596343}, {\"beta\": 0.7, \"variable\": \"all\", \"value\": 0.9884338198580429}, {\"beta\": 0.71, \"variable\": \"all\", \"value\": 0.9891366003250194}, {\"beta\": 0.72, \"variable\": \"all\", \"value\": 0.989796064951709}, {\"beta\": 0.73, \"variable\": \"all\", \"value\": 0.9904147463935749}, {\"beta\": 0.74, \"variable\": \"all\", \"value\": 0.990995033496977}, {\"beta\": 0.75, \"variable\": \"all\", \"value\": 0.9915391795177408}, {\"beta\": 0.76, \"variable\": \"all\", \"value\": 0.9920493098595446}, {\"beta\": 0.77, \"variable\": \"all\", \"value\": 0.9925274293590912}, {\"beta\": 0.78, \"variable\": \"all\", \"value\": 0.9929754291439747}, {\"beta\": 0.79, \"variable\": \"all\", \"value\": 0.9933950930880984}, {\"beta\": 0.8, \"variable\": \"all\", \"value\": 0.9937881038883193}, {\"beta\": 0.81, \"variable\": \"all\", \"value\": 0.9941560487848797}, {\"beta\": 0.82, \"variable\": \"all\", \"value\": 0.9945004249469257}, {\"beta\": 0.83, \"variable\": \"all\", \"value\": 0.99482264454329}, {\"beta\": 0.84, \"variable\": \"all\", \"value\": 0.995124039517492}, {\"beta\": 0.85, \"variable\": \"all\", \"value\": 0.9954058660848092}, {\"beta\": 0.86, \"variable\": \"all\", \"value\": 0.9956693089681838}, {\"beta\": 0.87, \"variable\": \"all\", \"value\": 0.9959154853887169}, {\"beta\": 0.88, \"variable\": \"all\", \"value\": 0.9961454488256015}, {\"beta\": 0.89, \"variable\": \"all\", \"value\": 0.9963601925594838}, {\"beta\": 0.9, \"variable\": \"all\", \"value\": 0.9965606530124669}, {\"beta\": 0.91, \"variable\": \"all\", \"value\": 0.9967477128972906}, {\"beta\": 0.92, \"variable\": \"all\", \"value\": 0.9969222041874999}, {\"beta\": 0.93, \"variable\": \"all\", \"value\": 0.9970849109197988}, {\"beta\": 0.94, \"variable\": \"all\", \"value\": 0.9972365718390944}, {\"beta\": 0.95, \"variable\": \"all\", \"value\": 0.9973778828960643}, {\"beta\": 0.96, \"variable\": \"all\", \"value\": 0.9975094996063827}, {\"beta\": 0.97, \"variable\": \"all\", \"value\": 0.9976320392800203}, {\"beta\": 0.98, \"variable\": \"all\", \"value\": 0.9977460831283278}, {\"beta\": 0.99, \"variable\": \"all\", \"value\": 0.9978521782559105}, {\"beta\": 1.0, \"variable\": \"all\", \"value\": 0.9979508395436887}]}}, {\"mode\": \"vega-lite\"});\n",
       "</script>"
      ],
      "text/plain": [
       "alt.VConcatChart(...)"
      ]
     },
     "execution_count": 393,
     "metadata": {},
     "output_type": "execute_result"
    }
   ],
   "source": [
    "beta_fig = alt.Chart(melted_totals).mark_point(color='black', size=50).encode(\n",
    "    x = alt.X(\n",
    "        \"beta:Q\",\n",
    "        axis = alt.Axis(\n",
    "            title = ['beta_o', '(beta_m = 2*beta_o)'],\n",
    "        ),\n",
    "#         scale = alt.Scale(range=(0,1))\n",
    "    ),\n",
    "    y = alt.Y(\"value:Q\", title='Total proportion infected'),\n",
    "    shape = alt.Shape(\"variable:N\", title='population')\n",
    ").properties(width=600)\n",
    "\n",
    "\n",
    "both = alt.vconcat(r0_fig, beta_fig)\n",
    "\n",
    "both.configure_axis(\n",
    "    titleFontSize=15,\n",
    "    labelFontSize=14,\n",
    "    labelAngle=0\n",
    ").configure_legend(\n",
    "    titleFontSize=15,\n",
    "    labelFontSize=14,\n",
    ")"
   ]
  },
  {
   "cell_type": "code",
   "execution_count": null,
   "metadata": {},
   "outputs": [],
   "source": []
  },
  {
   "cell_type": "code",
   "execution_count": 223,
   "metadata": {},
   "outputs": [
    {
     "data": {
      "text/plain": [
       "0.4799044705681146"
      ]
     },
     "execution_count": 223,
     "metadata": {},
     "output_type": "execute_result"
    }
   ],
   "source": [
    "max(R_o)"
   ]
  },
  {
   "cell_type": "code",
   "execution_count": 224,
   "metadata": {},
   "outputs": [
    {
     "data": {
      "text/plain": [
       "0.49843998279884044"
      ]
     },
     "execution_count": 224,
     "metadata": {},
     "output_type": "execute_result"
    }
   ],
   "source": [
    "max(R_m)"
   ]
  },
  {
   "cell_type": "code",
   "execution_count": 230,
   "metadata": {},
   "outputs": [],
   "source": [
    "def get_peak_day(infected_array):\n",
    "    return np.where(np.array(infected_array) == max(infected_array))[0][0]"
   ]
  },
  {
   "cell_type": "code",
   "execution_count": 232,
   "metadata": {},
   "outputs": [],
   "source": [
    "peak_day_ord = get_peak_day(I_o)\n",
    "peak_val_ord = max(I_o)\n",
    "\n",
    "peak_day_mis = get_peak_day(I_m)\n",
    "peak_val_mis = max(I_m)"
   ]
  },
  {
   "cell_type": "code",
   "execution_count": 233,
   "metadata": {},
   "outputs": [
    {
     "data": {
      "text/plain": [
       "<matplotlib.collections.PathCollection at 0x7f87da019790>"
      ]
     },
     "execution_count": 233,
     "metadata": {},
     "output_type": "execute_result"
    },
    {
     "data": {
      "image/png": "[encoded data removed]",
      "text/plain": [
       "<Figure size 432x288 with 1 Axes>"
      ]
     },
     "metadata": {
      "needs_background": "light"
     },
     "output_type": "display_data"
    }
   ],
   "source": [
    "plt.scatter(peak_day_ord, peak_val_ord)"
   ]
  },
  {
   "cell_type": "code",
   "execution_count": 231,
   "metadata": {},
   "outputs": [
    {
     "data": {
      "text/plain": [
       "17"
      ]
     },
     "execution_count": 231,
     "metadata": {},
     "output_type": "execute_result"
    }
   ],
   "source": [
    "get_peak_day(I_o)"
   ]
  },
  {
   "cell_type": "code",
   "execution_count": 225,
   "metadata": {},
   "outputs": [
    {
     "data": {
      "text/plain": [
       "(array([17]),)"
      ]
     },
     "execution_count": 225,
     "metadata": {},
     "output_type": "execute_result"
    }
   ],
   "source": [
    "np.where(np.array(I_o) == max(I_o))"
   ]
  },
  {
   "cell_type": "code",
   "execution_count": 219,
   "metadata": {},
   "outputs": [
    {
     "data": {
      "text/plain": [
       "<matplotlib.legend.Legend at 0x7f87d9fabb90>"
      ]
     },
     "execution_count": 219,
     "metadata": {},
     "output_type": "execute_result"
    },
    {
     "data": {
      "image/png": "[encoded data removed]",
      "text/plain": [
       "<Figure size 864x864 with 1 Axes>"
      ]
     },
     "metadata": {
      "needs_background": "light"
     },
     "output_type": "display_data"
    }
   ],
   "source": [
    "plt.figure(figsize=(12,12))\n",
    "\n",
    "plt.plot(range(1,len(S_o)+1), S_o, label=f'Susceptible ordinary')\n",
    "\n",
    "plt.legend()"
   ]
  },
  {
   "cell_type": "code",
   "execution_count": 203,
   "metadata": {},
   "outputs": [
    {
     "name": "stdout",
     "output_type": "stream",
     "text": [
      "num time steps = 100\n",
      "beta_o 0.3\n",
      "beta_m 0.6\n",
      "avg beta 0.44999999999999996\n",
      "k 0.2\n",
      "R_0 2.2499999999999996\n",
      "~~~\n",
      "1.9999999999999996\n",
      "1.4999999999999998\n",
      "2.9999999999999996\n"
     ]
    }
   ],
   "source": [
    "eps = 0.001 # Fraction of initially 'misinformed'\n",
    "x = .5       # Fraction of 'ordinary'\n",
    "\n",
    "step_size = 1 # step size\n",
    "all_steps = np.arange(0,100,step_size)\n",
    "print(f\"num time steps = {len(all_steps)}\")\n",
    "\n",
    "### Set initial values ###\n",
    "S_o = np.zeros(len(all_steps))\n",
    "S_m = np.zeros(len(all_steps))\n",
    "I_o = np.zeros(len(all_steps))\n",
    "I_m = np.zeros(len(all_steps))\n",
    "R_o = np.zeros(len(all_steps))\n",
    "R_m = np.zeros(len(all_steps))\n",
    "\n",
    "# These have unique values for the first time step\n",
    "S_o[0] = x\n",
    "S_m[0] = 1 - x - eps\n",
    "I_m[0] = eps\n",
    "\n",
    "recovery_days = 5\n",
    "k = 1/recovery_days\n",
    "\n",
    "# Setting beta values\n",
    "B_o = .3\n",
    "B_m = B_o*2\n",
    "B_m = 1 if B_m > 1 else B_m\n",
    "print(\"beta_o\", B_o)\n",
    "print(\"beta_m\", B_m)\n",
    "avg_beta = (B_o+B_m)/2\n",
    "print('avg beta', avg_beta)\n",
    "print('k',k)\n",
    "print('R_0',avg_beta/k)\n",
    "print(\"~~~\")\n",
    "\n",
    "print( (((B_o/k)*x) + ((B_m/k)*1-x)/2) )\n",
    "print(B_o/k)\n",
    "print(B_m/k)\n",
    "\n",
    "\n",
    "for t in range(0, len(all_steps)-1):\n",
    "    \n",
    "    # Calculate the change of each value\n",
    "    d_s_o, d_i_o, d_r_o, d_s_m, d_i_m, d_r_m = deriv(\n",
    "        beta_o=B_o,\n",
    "        beta_m=B_m,\n",
    "        sus_o=S_o[t],\n",
    "        sus_m=S_m[t],\n",
    "        inf_o=I_o[t],\n",
    "        inf_m=I_m[t],\n",
    "        k=k\n",
    "    )\n",
    "    \n",
    "    # Ensure that the total change is zero because individuals should\n",
    "    # simply be shifting between compartments\n",
    "    total_change = d_s_o + d_s_m + d_i_o + d_i_m + d_r_o + d_r_m\n",
    "    assert np.allclose(total_change, 0), f\"{total_change}\"\n",
    "    \n",
    "    # Set the next value as the current plus it's change\n",
    "    S_o[t+1] = S_o[t] + d_s_o\n",
    "    S_m[t+1] = S_m[t] + d_s_m\n",
    "    I_o[t+1] = I_o[t] + d_i_o\n",
    "    I_m[t+1] = I_m[t] + d_i_m\n",
    "    R_o[t+1] = R_o[t] + d_r_o\n",
    "    R_m[t+1] = R_m[t] + d_r_m\n",
    "    \n",
    "\n",
    "    \n",
    "all_results = np.stack([\n",
    "    S_o, S_m, I_o, I_m, R_o, R_m\n",
    "]).T\n",
    "\n",
    "df = pd.DataFrame(\n",
    "    all_results,\n",
    "    columns = [\n",
    "        'susceptible_ord',\n",
    "        'susceptible_misinfo',\n",
    "        'infected_ord',\n",
    "        'infected_misinfo',\n",
    "        'recovered_ord',\n",
    "        'recovered_misinfo',\n",
    "    ]\n",
    ")\n",
    "\n",
    "df['steps'] = np.arange(1, len(all_steps)+1, 1)\n",
    "\n",
    "# df = df[['steps','infected_ord','infected_misinfo']]\n",
    "\n",
    "# df['all_infected'] = df['infected_ord'] + df['infected_misinfo']\n",
    "\n",
    "alt.Chart(df.melt(id_vars='steps')).mark_line().encode(\n",
    "    x = alt.X(\n",
    "        'steps:Q',\n",
    "        title = [\"Days\", f\"(estimated with stepsize = {step_size})\"]\n",
    "    ),\n",
    "    y = alt.Y(\n",
    "        'value:Q',\n",
    "        title = \"Proportion of poulation\"\n",
    "    ),\n",
    "    color = alt.Color(\n",
    "        'variable:N'\n",
    "    )\n",
    ").properties(width=700, height=300)\n",
    "\n",
    "all_Is.append((I_o, B_o))"
   ]
  },
  {
   "cell_type": "code",
   "execution_count": 205,
   "metadata": {},
   "outputs": [],
   "source": [
    "ord_r0 = B_o/k\n",
    "mis_r0 = B_m/k"
   ]
  },
  {
   "cell_type": "code",
   "execution_count": 214,
   "metadata": {},
   "outputs": [
    {
     "data": {
      "text/plain": [
       "1.9499999999999997"
      ]
     },
     "execution_count": 214,
     "metadata": {},
     "output_type": "execute_result"
    }
   ],
   "source": [
    "x = .7\n",
    "\n",
    "np.average([ord_r0, mis_r0], weights = [x, 1-x])"
   ]
  },
  {
   "cell_type": "code",
   "execution_count": 201,
   "metadata": {},
   "outputs": [
    {
     "data": {
      "text/plain": [
       "1"
      ]
     },
     "execution_count": 201,
     "metadata": {},
     "output_type": "execute_result"
    }
   ],
   "source": [
    "x"
   ]
  },
  {
   "cell_type": "code",
   "execution_count": 207,
   "metadata": {},
   "outputs": [
    {
     "data": {
      "text/plain": [
       "1.4999999999999998"
      ]
     },
     "execution_count": 207,
     "metadata": {},
     "output_type": "execute_result"
    }
   ],
   "source": [
    "ord_r0"
   ]
  },
  {
   "cell_type": "code",
   "execution_count": 208,
   "metadata": {},
   "outputs": [
    {
     "data": {
      "text/plain": [
       "2.9999999999999996"
      ]
     },
     "execution_count": 208,
     "metadata": {},
     "output_type": "execute_result"
    }
   ],
   "source": [
    "mis_r0"
   ]
  },
  {
   "cell_type": "code",
   "execution_count": 215,
   "metadata": {},
   "outputs": [
    {
     "data": {
      "text/plain": [
       "1.9499999999999997"
      ]
     },
     "execution_count": 215,
     "metadata": {},
     "output_type": "execute_result"
    }
   ],
   "source": [
    "((ord_r0*x) + (mis_r0*(1-x))) /1"
   ]
  },
  {
   "cell_type": "code",
   "execution_count": 216,
   "metadata": {},
   "outputs": [
    {
     "data": {
      "text/plain": [
       "2.2499999999999996"
      ]
     },
     "execution_count": 216,
     "metadata": {},
     "output_type": "execute_result"
    }
   ],
   "source": [
    "np.mean([ord_r0, mis_r0])"
   ]
  },
  {
   "cell_type": "code",
   "execution_count": 192,
   "metadata": {},
   "outputs": [
    {
     "data": {
      "text/plain": [
       "<matplotlib.legend.Legend at 0x7f87d9d82bd0>"
      ]
     },
     "execution_count": 192,
     "metadata": {},
     "output_type": "execute_result"
    },
    {
     "data": {
      "image/png": "[encoded data removed]",
      "text/plain": [
       "<Figure size 432x288 with 1 Axes>"
      ]
     },
     "metadata": {
      "needs_background": "light"
     },
     "output_type": "display_data"
    }
   ],
   "source": [
    "for data, beta in all_Is:\n",
    "    plt.plot(all_steps, data, label=f'{beta}')\n",
    "\n",
    "plt.legend()"
   ]
  },
  {
   "cell_type": "code",
   "execution_count": 176,
   "metadata": {},
   "outputs": [
    {
     "data": {
      "text/plain": [
       "4.585751575286377"
      ]
     },
     "execution_count": 176,
     "metadata": {},
     "output_type": "execute_result"
    }
   ],
   "source": [
    "max(np.cumsum(I_o)) + max(np.cumsum(I_m))"
   ]
  },
  {
   "cell_type": "code",
   "execution_count": 193,
   "metadata": {},
   "outputs": [
    {
     "data": {
      "text/plain": [
       "0.906883991349595"
      ]
     },
     "execution_count": 193,
     "metadata": {},
     "output_type": "execute_result"
    }
   ],
   "source": [
    "max(R_o) + max(R_m)"
   ]
  },
  {
   "cell_type": "code",
   "execution_count": 181,
   "metadata": {},
   "outputs": [
    {
     "data": {
      "text/plain": [
       "2.130496696386928"
      ]
     },
     "execution_count": 181,
     "metadata": {},
     "output_type": "execute_result"
    }
   ],
   "source": [
    "I_o"
   ]
  },
  {
   "cell_type": "code",
   "execution_count": 113,
   "metadata": {},
   "outputs": [
    {
     "data": {
      "text/plain": [
       "6.365563716763522e-07"
      ]
     },
     "execution_count": 113,
     "metadata": {},
     "output_type": "execute_result"
    }
   ],
   "source": [
    "I_o[-1] + I_m[-1]"
   ]
  },
  {
   "cell_type": "code",
   "execution_count": null,
   "metadata": {},
   "outputs": [],
   "source": []
  },
  {
   "cell_type": "code",
   "execution_count": 68,
   "metadata": {},
   "outputs": [
    {
     "data": {
      "text/plain": [
       "array([ 5.00000000e+02,  4.75000000e+02, -1.32763000e+03,  3.49642920e+05,\n",
       "        3.33993761e+10])"
      ]
     },
     "execution_count": 68,
     "metadata": {},
     "output_type": "execute_result"
    }
   ],
   "source": [
    "np.round(S_o[:5], 2)"
   ]
  },
  {
   "cell_type": "code",
   "execution_count": null,
   "metadata": {},
   "outputs": [],
   "source": []
  },
  {
   "cell_type": "code",
   "execution_count": 64,
   "metadata": {},
   "outputs": [],
   "source": [
    "S_o = pop_size * x\n",
    "S_m = pop_size * (1 - x - eps)\n",
    "I_m = pop_size * eps\n",
    "I_o = 0\n"
   ]
  },
  {
   "cell_type": "code",
   "execution_count": 65,
   "metadata": {},
   "outputs": [
    {
     "data": {
      "text/plain": [
       "-25.0"
      ]
     },
     "execution_count": 65,
     "metadata": {},
     "output_type": "execute_result"
    }
   ],
   "source": [
    "S_o_change(B_o, S_o, I_o, I_m)"
   ]
  },
  {
   "cell_type": "code",
   "execution_count": null,
   "metadata": {},
   "outputs": [],
   "source": [
    "\n"
   ]
  },
  {
   "cell_type": "code",
   "execution_count": 159,
   "metadata": {},
   "outputs": [],
   "source": [
    "def deriv(beta, sus, inf, gamma, N):\n",
    "    ds = (-beta * sus * inf)/ N\n",
    "    di = ((beta * sus * inf)/N) - gamma*inf\n",
    "    dr = gamma*inf\n",
    "    return ds, di, dr"
   ]
  },
  {
   "cell_type": "code",
   "execution_count": 160,
   "metadata": {},
   "outputs": [],
   "source": [
    "# Total population, N.\n",
    "N = 1000\n",
    "# Initial number of infected and recovered individuals, I0 and R0.\n",
    "I0, R0 = 1, 0\n",
    "# Everyone else, S0, is susceptible to infection initially.\n",
    "S0 = N - I0 - R0\n",
    "# Contact rate, beta, and mean recovery rate, gamma, (in 1/days).\n",
    "beta, gamma = 0.2, 1./10 \n",
    "\n",
    "step_size = .01 # step size\n",
    "all_steps = np.arange(0,100,step_size)\n",
    "\n",
    "I = [I0] + list(np.zeros(len(all_steps)-1))\n",
    "R = [R0] + list(np.zeros(len(all_steps)-1))\n",
    "S = [S0] + list(np.zeros(len(all_steps)-1))\n"
   ]
  },
  {
   "cell_type": "code",
   "execution_count": 161,
   "metadata": {},
   "outputs": [
    {
     "data": {
      "text/plain": [
       "0.01"
      ]
     },
     "execution_count": 161,
     "metadata": {},
     "output_type": "execute_result"
    }
   ],
   "source": [
    "step_size"
   ]
  },
  {
   "cell_type": "code",
   "execution_count": null,
   "metadata": {},
   "outputs": [],
   "source": []
  },
  {
   "cell_type": "code",
   "execution_count": 162,
   "metadata": {},
   "outputs": [
    {
     "data": {
      "text/plain": [
       "10000"
      ]
     },
     "execution_count": 162,
     "metadata": {},
     "output_type": "execute_result"
    }
   ],
   "source": [
    "len(all_steps)"
   ]
  },
  {
   "cell_type": "code",
   "execution_count": 93,
   "metadata": {},
   "outputs": [
    {
     "data": {
      "text/plain": [
       "100"
      ]
     },
     "execution_count": 93,
     "metadata": {},
     "output_type": "execute_result"
    }
   ],
   "source": [
    "len(I)"
   ]
  },
  {
   "cell_type": "code",
   "execution_count": 163,
   "metadata": {},
   "outputs": [],
   "source": [
    "\n",
    "\n",
    "for step in range(len(all_steps)-1):\n",
    "    \n",
    "    ds, di, dr = deriv(beta, S[step], I[step], gamma, N)\n",
    "    \n",
    "    S[step+1] = S[step] + ds*step_size\n",
    "    I[step+1] = I[step] + di*step_size\n",
    "    R[step+1] = R[step] + dr*step_size\n",
    "    "
   ]
  },
  {
   "cell_type": "code",
   "execution_count": 164,
   "metadata": {
    "scrolled": true
   },
   "outputs": [
    {
     "data": {
      "text/plain": [
       "[999,\n",
       " 998.998002,\n",
       " 998.996002009996,\n",
       " 998.9940000280179,\n",
       " 998.9919960520938,\n",
       " 998.9899900802498,\n",
       " 998.9879821105098,\n",
       " 998.9859721408965,\n",
       " 998.9839601694298,\n",
       " 998.9819461941282,\n",
       " 998.9799302130082,\n",
       " 998.9779122240842,\n",
       " 998.9758922253687,\n",
       " 998.9738702148725,\n",
       " 998.971846190604,\n",
       " 998.9698201505701,\n",
       " 998.9677920927754,\n",
       " 998.9657620152229,\n",
       " 998.9637299159134,\n",
       " 998.9616957928457,\n",
       " 998.9596596440168,\n",
       " 998.9576214674217,\n",
       " 998.9555812610535,\n",
       " 998.9535390229031,\n",
       " 998.9514947509598,\n",
       " 998.9494484432106,\n",
       " 998.9474000976408,\n",
       " 998.9453497122335,\n",
       " 998.94329728497,\n",
       " 998.9412428138295,\n",
       " 998.9391862967893,\n",
       " 998.9371277318248,\n",
       " 998.9350671169093,\n",
       " 998.9330044500141,\n",
       " 998.9309397291086,\n",
       " 998.9288729521601,\n",
       " 998.9268041171341,\n",
       " 998.924733221994,\n",
       " 998.9226602647011,\n",
       " 998.920585243215,\n",
       " 998.9185081554931,\n",
       " 998.9164289994908,\n",
       " 998.9143477731616,\n",
       " 998.912264474457,\n",
       " 998.9101791013262,\n",
       " 998.9080916517169,\n",
       " 998.9060021235744,\n",
       " 998.9039105148421,\n",
       " 998.9018168234616,\n",
       " 998.8997210473722,\n",
       " 998.8976231845112,\n",
       " 998.8955232328141,\n",
       " 998.8934211902142,\n",
       " 998.891317054643,\n",
       " 998.8892108240296,\n",
       " 998.8871024963016,\n",
       " 998.8849920693841,\n",
       " 998.8828795412003,\n",
       " 998.8807649096715,\n",
       " 998.8786481727169,\n",
       " 998.8765293282537,\n",
       " 998.874408374197,\n",
       " 998.8722853084598,\n",
       " 998.8701601289533,\n",
       " 998.8680328335865,\n",
       " 998.8659034202665,\n",
       " 998.863771886898,\n",
       " 998.8616382313841,\n",
       " 998.8595024516254,\n",
       " 998.8573645455209,\n",
       " 998.8552245109672,\n",
       " 998.8530823458591,\n",
       " 998.8509380480892,\n",
       " 998.8487916155482,\n",
       " 998.8466430461244,\n",
       " 998.8444923377044,\n",
       " 998.8423394881726,\n",
       " 998.8401844954112,\n",
       " 998.8380273573006,\n",
       " 998.8358680717189,\n",
       " 998.8337066365423,\n",
       " 998.8315430496448,\n",
       " 998.8293773088984,\n",
       " 998.827209412173,\n",
       " 998.8250393573364,\n",
       " 998.8228671422545,\n",
       " 998.8206927647908,\n",
       " 998.8185162228069,\n",
       " 998.8163375141623,\n",
       " 998.8141566367144,\n",
       " 998.8119735883186,\n",
       " 998.8097883668279,\n",
       " 998.8076009700935,\n",
       " 998.8054113959646,\n",
       " 998.803219642288,\n",
       " 998.8010257069085,\n",
       " 998.7988295876688,\n",
       " 998.7966312824096,\n",
       " 998.7944307889695,\n",
       " 998.7922281051848,\n",
       " 998.7900232288898,\n",
       " 998.7878161579167,\n",
       " 998.7856068900956,\n",
       " 998.7833954232543,\n",
       " 998.7811817552189,\n",
       " 998.7789658838128,\n",
       " 998.7767478068579,\n",
       " 998.7745275221735,\n",
       " 998.7723050275769,\n",
       " 998.7700803208834,\n",
       " 998.7678533999061,\n",
       " 998.765624262456,\n",
       " 998.7633929063418,\n",
       " 998.7611593293702,\n",
       " 998.7589235293458,\n",
       " 998.7566855040709,\n",
       " 998.7544452513459,\n",
       " 998.7522027689689,\n",
       " 998.7499580547358,\n",
       " 998.7477111064403,\n",
       " 998.7454619218743,\n",
       " 998.7432104988271,\n",
       " 998.7409568350863,\n",
       " 998.738700928437,\n",
       " 998.7364427766622,\n",
       " 998.7341823775429,\n",
       " 998.7319197288576,\n",
       " 998.7296548283831,\n",
       " 998.7273876738936,\n",
       " 998.7251182631614,\n",
       " 998.7228465939567,\n",
       " 998.7205726640472,\n",
       " 998.7182964711985,\n",
       " 998.7160180131743,\n",
       " 998.713737287736,\n",
       " 998.7114542926425,\n",
       " 998.7091690256511,\n",
       " 998.7068814845164,\n",
       " 998.7045916669912,\n",
       " 998.7022995708256,\n",
       " 998.7000051937681,\n",
       " 998.6977085335647,\n",
       " 998.695409587959,\n",
       " 998.6931083546929,\n",
       " 998.6908048315057,\n",
       " 998.6884990161348,\n",
       " 998.686190906315,\n",
       " 998.6838804997793,\n",
       " 998.6815677942583,\n",
       " 998.6792527874803,\n",
       " 998.6769354771716,\n",
       " 998.674615861056,\n",
       " 998.6722939368556,\n",
       " 998.6699697022897,\n",
       " 998.6676431550757,\n",
       " 998.6653142929287,\n",
       " 998.6629831135615,\n",
       " 998.6606496146848,\n",
       " 998.658313794007,\n",
       " 998.6559756492343,\n",
       " 998.6536351780707,\n",
       " 998.6512923782178,\n",
       " 998.6489472473753,\n",
       " 998.6465997832403,\n",
       " 998.6442499835077,\n",
       " 998.6418978458705,\n",
       " 998.639543368019,\n",
       " 998.6371865476415,\n",
       " 998.6348273824241,\n",
       " 998.6324658700505,\n",
       " 998.6301020082022,\n",
       " 998.6277357945585,\n",
       " 998.6253672267962,\n",
       " 998.6229963025903,\n",
       " 998.620623019613,\n",
       " 998.6182473755347,\n",
       " 998.6158693680233,\n",
       " 998.6134889947443,\n",
       " 998.6111062533613,\n",
       " 998.6087211415353,\n",
       " 998.6063336569251,\n",
       " 998.6039437971874,\n",
       " 998.6015515599764,\n",
       " 998.5991569429441,\n",
       " 998.5967599437402,\n",
       " 998.5943605600121,\n",
       " 998.591958789405,\n",
       " 998.5895546295617,\n",
       " 998.5871480781228,\n",
       " 998.5847391327266,\n",
       " 998.5823277910089,\n",
       " 998.5799140506034,\n",
       " 998.5774979091416,\n",
       " 998.5750793642525,\n",
       " 998.5726584135627,\n",
       " 998.5702350546968,\n",
       " 998.5678092852769,\n",
       " 998.5653811029227,\n",
       " 998.5629505052519,\n",
       " 998.5605174898797,\n",
       " 998.5580820544187,\n",
       " 998.5556441964796,\n",
       " 998.5532039136707,\n",
       " 998.5507612035977,\n",
       " 998.5483160638644,\n",
       " 998.5458684920718,\n",
       " 998.543418485819,\n",
       " 998.5409660427024,\n",
       " 998.5385111603163,\n",
       " 998.5360538362526,\n",
       " 998.5335940681008,\n",
       " 998.5311318534482,\n",
       " 998.5286671898796,\n",
       " 998.5262000749775,\n",
       " 998.5237305063222,\n",
       " 998.5212584814914,\n",
       " 998.5187839980605,\n",
       " 998.5163070536026,\n",
       " 998.5138276456886,\n",
       " 998.5113457718868,\n",
       " 998.5088614297631,\n",
       " 998.5063746168813,\n",
       " 998.5038853308026,\n",
       " 998.501393569086,\n",
       " 998.498899329288,\n",
       " 998.4964026089626,\n",
       " 998.4939034056619,\n",
       " 998.491401716935,\n",
       " 998.4888975403292,\n",
       " 998.4863908733889,\n",
       " 998.4838817136566,\n",
       " 998.481370058672,\n",
       " 998.4788559059728,\n",
       " 998.4763392530938,\n",
       " 998.4738200975678,\n",
       " 998.4712984369252,\n",
       " 998.4687742686937,\n",
       " 998.4662475903989,\n",
       " 998.463718399564,\n",
       " 998.4611866937095,\n",
       " 998.4586524703537,\n",
       " 998.4561157270127,\n",
       " 998.4535764611998,\n",
       " 998.4510346704259,\n",
       " 998.4484903521998,\n",
       " 998.4459435040277,\n",
       " 998.4433941234133,\n",
       " 998.440842207858,\n",
       " 998.4382877548608,\n",
       " 998.4357307619181,\n",
       " 998.433171226524,\n",
       " 998.4306091461701,\n",
       " 998.4280445183457,\n",
       " 998.4254773405374,\n",
       " 998.4229076102297,\n",
       " 998.4203353249044,\n",
       " 998.4177604820409,\n",
       " 998.4151830791162,\n",
       " 998.412603113605,\n",
       " 998.4100205829792,\n",
       " 998.4074354847086,\n",
       " 998.4048478162601,\n",
       " 998.4022575750988,\n",
       " 998.3996647586868,\n",
       " 998.3970693644837,\n",
       " 998.3944713899471,\n",
       " 998.3918708325316,\n",
       " 998.3892676896899,\n",
       " 998.3866619588716,\n",
       " 998.3840536375244,\n",
       " 998.3814427230932,\n",
       " 998.3788292130205,\n",
       " 998.3762131047463,\n",
       " 998.3735943957081,\n",
       " 998.3709730833409,\n",
       " 998.3683491650773,\n",
       " 998.3657226383474,\n",
       " 998.3630935005788,\n",
       " 998.3604617491964,\n",
       " 998.3578273816229,\n",
       " 998.3551903952783,\n",
       " 998.3525507875803,\n",
       " 998.3499085559438,\n",
       " 998.3472636977814,\n",
       " 998.3446162105032,\n",
       " 998.3419660915167,\n",
       " 998.3393133382269,\n",
       " 998.3366579480364,\n",
       " 998.3339999183451,\n",
       " 998.3313392465504,\n",
       " 998.3286759300474,\n",
       " 998.3260099662284,\n",
       " 998.3233413524833,\n",
       " 998.3206700861996,\n",
       " 998.3179961647619,\n",
       " 998.3153195855525,\n",
       " 998.3126403459513,\n",
       " 998.3099584433354,\n",
       " 998.3072738750795,\n",
       " 998.3045866385557,\n",
       " 998.3018967311336,\n",
       " 998.2992041501802,\n",
       " 998.29650889306,\n",
       " 998.2938109571348,\n",
       " 998.2911103397641,\n",
       " 998.2884070383046,\n",
       " 998.2857010501107,\n",
       " 998.2829923725338,\n",
       " 998.2802810029233,\n",
       " 998.2775669386255,\n",
       " 998.2748501769844,\n",
       " 998.2721307153414,\n",
       " 998.2694085510354,\n",
       " 998.2666836814026,\n",
       " 998.2639561037766,\n",
       " 998.2612258154886,\n",
       " 998.258492813867,\n",
       " 998.2557570962375,\n",
       " 998.2530186599238,\n",
       " 998.2502775022463,\n",
       " 998.2475336205232,\n",
       " 998.2447870120701,\n",
       " 998.2420376741999,\n",
       " 998.2392856042228,\n",
       " 998.2365307994465,\n",
       " 998.2337732571763,\n",
       " 998.2310129747145,\n",
       " 998.2282499493612,\n",
       " 998.2254841784134,\n",
       " 998.2227156591658,\n",
       " 998.2199443889106,\n",
       " 998.217170364937,\n",
       " 998.214393584532,\n",
       " 998.2116140449796,\n",
       " 998.2088317435613,\n",
       " 998.2060466775561,\n",
       " 998.20325884424,\n",
       " 998.200468240887,\n",
       " 998.1976748647678,\n",
       " 998.1948787131508,\n",
       " 998.1920797833018,\n",
       " 998.1892780724837,\n",
       " 998.186473577957,\n",
       " 998.1836662969795,\n",
       " 998.1808562268061,\n",
       " 998.1780433646893,\n",
       " 998.1752277078789,\n",
       " 998.172409253622,\n",
       " 998.1695879991631,\n",
       " 998.166763941744,\n",
       " 998.1639370786036,\n",
       " 998.1611074069785,\n",
       " 998.1582749241026,\n",
       " 998.1554396272066,\n",
       " 998.1526015135192,\n",
       " 998.1497605802662,\n",
       " 998.1469168246704,\n",
       " 998.1440702439522,\n",
       " 998.1412208353295,\n",
       " 998.138368596017,\n",
       " 998.1355135232271,\n",
       " 998.1326556141695,\n",
       " 998.1297948660509,\n",
       " 998.1269312760755,\n",
       " 998.1240648414449,\n",
       " 998.1211955593577,\n",
       " 998.1183234270101,\n",
       " 998.1154484415954,\n",
       " 998.1125706003043,\n",
       " 998.1096899003246,\n",
       " 998.1068063388416,\n",
       " 998.1039199130377,\n",
       " 998.1010306200927,\n",
       " 998.0981384571837,\n",
       " 998.0952434214848,\n",
       " 998.0923455101678,\n",
       " 998.0894447204013,\n",
       " 998.0865410493516,\n",
       " 998.0836344941819,\n",
       " 998.0807250520528,\n",
       " 998.0778127201223,\n",
       " 998.0748974955455,\n",
       " 998.0719793754747,\n",
       " 998.0690583570596,\n",
       " 998.066134437447,\n",
       " 998.063207613781,\n",
       " 998.0602778832028,\n",
       " 998.0573452428513,\n",
       " 998.054409689862,\n",
       " 998.0514712213682,\n",
       " 998.0485298345,\n",
       " 998.0455855263849,\n",
       " 998.0426382941478,\n",
       " 998.0396881349105,\n",
       " 998.0367350457923,\n",
       " 998.0337790239095,\n",
       " 998.0308200663756,\n",
       " 998.0278581703014,\n",
       " 998.0248933327953,\n",
       " 998.0219255509621,\n",
       " 998.0189548219045,\n",
       " 998.0159811427219,\n",
       " 998.0130045105113,\n",
       " 998.0100249223667,\n",
       " 998.0070423753792,\n",
       " 998.0040568666374,\n",
       " 998.0010683932268,\n",
       " 997.9980769522301,\n",
       " 997.9950825407274,\n",
       " 997.9920851557957,\n",
       " 997.9890847945095,\n",
       " 997.9860814539402,\n",
       " 997.9830751311565,\n",
       " 997.9800658232242,\n",
       " 997.9770535272064,\n",
       " 997.9740382401632,\n",
       " 997.9710199591519,\n",
       " 997.9679986812271,\n",
       " 997.9649744034404,\n",
       " 997.9619471228405,\n",
       " 997.9589168364735,\n",
       " 997.9558835413824,\n",
       " 997.9528472346076,\n",
       " 997.9498079131863,\n",
       " 997.9467655741532,\n",
       " 997.9437202145399,\n",
       " 997.9406718313752,\n",
       " 997.9376204216851,\n",
       " 997.9345659824926,\n",
       " 997.9315085108179,\n",
       " 997.9284480036783,\n",
       " 997.9253844580884,\n",
       " 997.9223178710596,\n",
       " 997.9192482396006,\n",
       " 997.9161755607173,\n",
       " 997.9130998314125,\n",
       " 997.9100210486863,\n",
       " 997.9069392095357,\n",
       " 997.9038543109551,\n",
       " 997.9007663499358,\n",
       " 997.897675323466,\n",
       " 997.8945812285315,\n",
       " 997.8914840621147,\n",
       " 997.8883838211955,\n",
       " 997.8852805027506,\n",
       " 997.8821741037538,\n",
       " 997.8790646211761,\n",
       " 997.8759520519856,\n",
       " 997.8728363931473,\n",
       " 997.8697176416235,\n",
       " 997.8665957943734,\n",
       " 997.8634708483535,\n",
       " 997.8603428005168,\n",
       " 997.8572116478141,\n",
       " 997.8540773871928,\n",
       " 997.8509400155974,\n",
       " 997.8477995299697,\n",
       " 997.8446559272484,\n",
       " 997.841509204369,\n",
       " 997.8383593582644,\n",
       " 997.8352063858644,\n",
       " 997.8320502840959,\n",
       " 997.8288910498827,\n",
       " 997.8257286801459,\n",
       " 997.8225631718034,\n",
       " 997.8193945217702,\n",
       " 997.8162227269582,\n",
       " 997.8130477842767,\n",
       " 997.8098696906316,\n",
       " 997.806688442926,\n",
       " 997.8035040380599,\n",
       " 997.8003164729307,\n",
       " 997.7971257444324,\n",
       " 997.793931849456,\n",
       " 997.79073478489,\n",
       " 997.7875345476192,\n",
       " 997.7843311345259,\n",
       " 997.7811245424892,\n",
       " 997.7779147683854,\n",
       " 997.7747018090874,\n",
       " 997.7714856614656,\n",
       " 997.7682663223868,\n",
       " 997.7650437887153,\n",
       " 997.7618180573121,\n",
       " 997.7585891250353,\n",
       " 997.7553569887399,\n",
       " 997.7521216452778,\n",
       " 997.7488830914981,\n",
       " 997.7456413242467,\n",
       " 997.7423963403664,\n",
       " 997.7391481366973,\n",
       " 997.735896710076,\n",
       " 997.7326420573363,\n",
       " 997.7293841753091,\n",
       " 997.7261230608218,\n",
       " 997.7228587106993,\n",
       " 997.719591121763,\n",
       " 997.7163202908314,\n",
       " 997.7130462147201,\n",
       " 997.7097688902413,\n",
       " 997.7064883142044,\n",
       " 997.7032044834157,\n",
       " 997.6999173946782,\n",
       " 997.6966270447922,\n",
       " 997.6933334305546,\n",
       " 997.6900365487594,\n",
       " 997.6867363961974,\n",
       " 997.6834329696563,\n",
       " 997.680126265921,\n",
       " 997.6768162817729,\n",
       " 997.6735030139905,\n",
       " 997.6701864593493,\n",
       " 997.6668666146215,\n",
       " 997.6635434765764,\n",
       " 997.6602170419799,\n",
       " 997.6568873075951,\n",
       " 997.6535542701818,\n",
       " 997.6502179264967,\n",
       " 997.6468782732935,\n",
       " 997.6435353073227,\n",
       " 997.6401890253318,\n",
       " 997.6368394240648,\n",
       " 997.633486500263,\n",
       " 997.6301302506643,\n",
       " 997.6267706720035,\n",
       " 997.6234077610126,\n",
       " 997.6200415144199,\n",
       " 997.6166719289508,\n",
       " 997.6132990013278,\n",
       " 997.60992272827,\n",
       " 997.6065431064933,\n",
       " 997.6031601327105,\n",
       " 997.5997738036314,\n",
       " 997.5963841159622,\n",
       " 997.5929910664066,\n",
       " 997.5895946516646,\n",
       " 997.5861948684333,\n",
       " 997.5827917134063,\n",
       " 997.5793851832746,\n",
       " 997.5759752747254,\n",
       " 997.572561984443,\n",
       " 997.5691453091088,\n",
       " 997.5657252454004,\n",
       " 997.5623017899926,\n",
       " 997.5588749395571,\n",
       " 997.5554446907621,\n",
       " 997.5520110402728,\n",
       " 997.5485739847511,\n",
       " 997.5451335208558,\n",
       " 997.5416896452423,\n",
       " 997.538242354563,\n",
       " 997.534791645467,\n",
       " 997.5313375146002,\n",
       " 997.5278799586052,\n",
       " 997.5244189741215,\n",
       " 997.5209545577853,\n",
       " 997.5174867062296,\n",
       " 997.5140154160842,\n",
       " 997.5105406839756,\n",
       " 997.507062506527,\n",
       " 997.5035808803584,\n",
       " 997.5000958020868,\n",
       " 997.4966072683255,\n",
       " 997.4931152756851,\n",
       " 997.4896198207724,\n",
       " 997.4861209001914,\n",
       " 997.4826185105425,\n",
       " 997.479112648423,\n",
       " 997.4756033104269,\n",
       " 997.472090493145,\n",
       " 997.4685741931646,\n",
       " 997.46505440707,\n",
       " 997.4615311314423,\n",
       " 997.4580043628589,\n",
       " 997.4544740978943,\n",
       " 997.4509403331195,\n",
       " 997.4474030651024,\n",
       " 997.4438622904074,\n",
       " 997.4403180055957,\n",
       " 997.4367702072252,\n",
       " 997.4332188918505,\n",
       " 997.4296640560231,\n",
       " 997.4261056962906,\n",
       " 997.422543809198,\n",
       " 997.4189783912866,\n",
       " 997.4154094390944,\n",
       " 997.4118369491563,\n",
       " 997.4082609180035,\n",
       " 997.4046813421643,\n",
       " 997.4010982181633,\n",
       " 997.3975115425219,\n",
       " 997.3939213117583,\n",
       " 997.3903275223872,\n",
       " 997.3867301709201,\n",
       " 997.3831292538651,\n",
       " 997.3795247677269,\n",
       " 997.3759167090069,\n",
       " 997.372305074203,\n",
       " 997.3686898598102,\n",
       " 997.3650710623194,\n",
       " 997.361448678219,\n",
       " 997.3578227039932,\n",
       " 997.3541931361234,\n",
       " 997.3505599710875,\n",
       " 997.3469232053599,\n",
       " 997.3432828354117,\n",
       " 997.3396388577108,\n",
       " 997.3359912687214,\n",
       " 997.3323400649044,\n",
       " 997.3286852427176,\n",
       " 997.325026798615,\n",
       " 997.3213647290473,\n",
       " 997.3176990304621,\n",
       " 997.3140296993033,\n",
       " 997.3103567320114,\n",
       " 997.3066801250237,\n",
       " 997.302999874774,\n",
       " 997.2993159776925,\n",
       " 997.2956284302061,\n",
       " 997.2919372287384,\n",
       " 997.2882423697096,\n",
       " 997.2845438495361,\n",
       " 997.2808416646315,\n",
       " 997.2771358114053,\n",
       " 997.273426286264,\n",
       " 997.2697130856104,\n",
       " 997.2659962058442,\n",
       " 997.2622756433612,\n",
       " 997.2585513945543,\n",
       " 997.2548234558124,\n",
       " 997.2510918235212,\n",
       " 997.247356494063,\n",
       " 997.2436174638165,\n",
       " 997.2398747291571,\n",
       " 997.2361282864566,\n",
       " 997.2323781320835,\n",
       " 997.2286242624025,\n",
       " 997.2248666737751,\n",
       " 997.2211053625592,\n",
       " 997.2173403251094,\n",
       " 997.2135715577765,\n",
       " 997.2097990569081,\n",
       " 997.2060228188482,\n",
       " 997.2022428399372,\n",
       " 997.1984591165121,\n",
       " 997.1946716449065,\n",
       " 997.1908804214504,\n",
       " 997.1870854424702,\n",
       " 997.183286704289,\n",
       " 997.1794842032261,\n",
       " 997.1756779355976,\n",
       " 997.1718678977157,\n",
       " 997.1680540858896,\n",
       " 997.1642364964245,\n",
       " 997.1604151256222,\n",
       " 997.1565899697811,\n",
       " 997.1527610251959,\n",
       " 997.1489282881579,\n",
       " 997.1450917549547,\n",
       " 997.1412514218706,\n",
       " 997.1374072851861,\n",
       " 997.1335593411782,\n",
       " 997.1297075861204,\n",
       " 997.1258520162827,\n",
       " 997.1219926279314,\n",
       " 997.1181294173293,\n",
       " 997.1142623807357,\n",
       " 997.1103915144062,\n",
       " 997.1065168145929,\n",
       " 997.1026382775442,\n",
       " 997.0987558995052,\n",
       " 997.0948696767172,\n",
       " 997.0909796054178,\n",
       " 997.0870856818414,\n",
       " 997.0831879022184,\n",
       " 997.0792862627757,\n",
       " 997.0753807597367,\n",
       " 997.0714713893213,\n",
       " 997.0675581477457,\n",
       " 997.0636410312221,\n",
       " 997.0597200359598,\n",
       " 997.0557951581638,\n",
       " 997.0518663940361,\n",
       " 997.0479337397745,\n",
       " 997.0439971915736,\n",
       " 997.040056745624,\n",
       " 997.0361123981131,\n",
       " 997.0321641452244,\n",
       " 997.0282119831378,\n",
       " 997.0242559080294,\n",
       " 997.020295916072,\n",
       " 997.0163320034344,\n",
       " 997.0123641662819,\n",
       " 997.0083924007763,\n",
       " 997.0044167030754,\n",
       " 997.0004370693337,\n",
       " 996.9964534957016,\n",
       " 996.9924659783264,\n",
       " 996.9884745133513,\n",
       " 996.9844790969158,\n",
       " 996.980479725156,\n",
       " 996.976476394204,\n",
       " 996.9724691001886,\n",
       " 996.9684578392346,\n",
       " 996.9644426074632,\n",
       " 996.9604234009919,\n",
       " 996.9564002159345,\n",
       " 996.9523730484011,\n",
       " 996.9483418944981,\n",
       " 996.9443067503281,\n",
       " 996.9402676119903,\n",
       " 996.9362244755797,\n",
       " 996.932177337188,\n",
       " 996.9281261929029,\n",
       " 996.9240710388086,\n",
       " 996.9200118709854,\n",
       " 996.9159486855099,\n",
       " 996.9118814784549,\n",
       " 996.9078102458897,\n",
       " 996.9037349838796,\n",
       " 996.8996556884864,\n",
       " 996.8955723557679,\n",
       " 996.8914849817781,\n",
       " 996.8873935625676,\n",
       " 996.8832980941829,\n",
       " 996.879198572667,\n",
       " 996.8750949940588,\n",
       " 996.8709873543938,\n",
       " 996.8668756497036,\n",
       " 996.8627598760158,\n",
       " 996.8586400293547,\n",
       " 996.8545161057401,\n",
       " 996.8503881011887,\n",
       " 996.8462560117131,\n",
       " 996.842119833322,\n",
       " 996.8379795620207,\n",
       " 996.8338351938103,\n",
       " 996.8296867246881,\n",
       " 996.825534150648,\n",
       " 996.8213774676796,\n",
       " 996.817216671769,\n",
       " 996.8130517588984,\n",
       " 996.8088827250461,\n",
       " 996.8047095661867,\n",
       " 996.8005322782909,\n",
       " 996.7963508573256,\n",
       " 996.7921652992537,\n",
       " 996.7879756000345,\n",
       " 996.7837817556235,\n",
       " 996.779583761972,\n",
       " 996.7753816150279,\n",
       " 996.7711753107347,\n",
       " 996.7669648450326,\n",
       " 996.7627502138575,\n",
       " 996.7585314131419,\n",
       " 996.754308438814,\n",
       " 996.7500812867983,\n",
       " 996.7458499530154,\n",
       " 996.7416144333822,\n",
       " 996.7373747238115,\n",
       " 996.7331308202123,\n",
       " 996.7288827184896,\n",
       " 996.7246304145447,\n",
       " 996.7203739042748,\n",
       " 996.7161131835734,\n",
       " 996.71184824833,\n",
       " 996.7075790944303,\n",
       " 996.7033057177559,\n",
       " 996.6990281141847,\n",
       " 996.6947462795904,\n",
       " 996.690460209843,\n",
       " 996.6861699008085,\n",
       " 996.6818753483492,\n",
       " 996.6775765483231,\n",
       " 996.6732734965846,\n",
       " 996.6689661889837,\n",
       " 996.6646546213672,\n",
       " 996.6603387895772,\n",
       " 996.6560186894523,\n",
       " 996.651694316827,\n",
       " 996.647365667532,\n",
       " 996.6430327373937,\n",
       " 996.6386955222349,\n",
       " 996.6343540178743,\n",
       " 996.6300082201266,\n",
       " 996.6256581248025,\n",
       " 996.6213037277089,\n",
       " 996.6169450246484,\n",
       " 996.61258201142,\n",
       " 996.6082146838186,\n",
       " 996.6038430376348,\n",
       " 996.5994670686555,\n",
       " 996.5950867726636,\n",
       " 996.5907021454381,\n",
       " 996.5863131827537,\n",
       " 996.5819198803812,\n",
       " 996.5775222340875,\n",
       " 996.5731202396355,\n",
       " 996.5687138927839,\n",
       " 996.5643031892874,\n",
       " 996.5598881248969,\n",
       " 996.5554686953591,\n",
       " 996.5510448964167,\n",
       " 996.5466167238083,\n",
       " 996.5421841732685,\n",
       " 996.537747240528,\n",
       " 996.5333059213132,\n",
       " 996.5288602113466,\n",
       " 996.5244101063466,\n",
       " 996.5199556020277,\n",
       " 996.5154966941002,\n",
       " 996.5110333782702,\n",
       " 996.50656565024,\n",
       " 996.5020935057075,\n",
       " 996.497616940367,\n",
       " 996.4931359499084,\n",
       " 996.4886505300174,\n",
       " 996.4841606763758,\n",
       " 996.4796663846614,\n",
       " 996.4751676505477,\n",
       " 996.4706644697044,\n",
       " 996.4661568377967,\n",
       " 996.4616447504859,\n",
       " 996.4571282034292,\n",
       " 996.4526071922797,\n",
       " 996.4480817126864,\n",
       " 996.4435517602941,\n",
       " 996.4390173307435,\n",
       " 996.4344784196712,\n",
       " 996.4299350227097,\n",
       " 996.4253871354873,\n",
       " 996.4208347536281,\n",
       " 996.4162778727523,\n",
       " 996.4117164884757,\n",
       " 996.40715059641,\n",
       " 996.402580192163,\n",
       " 996.398005271338,\n",
       " 996.3934258295343,\n",
       " 996.388841862347,\n",
       " 996.3842533653672,\n",
       " 996.3796603341815,\n",
       " 996.3750627643726,\n",
       " 996.370460651519,\n",
       " 996.3658539911949,\n",
       " 996.3612427789702,\n",
       " 996.356627010411,\n",
       " 996.3520066810789,\n",
       " 996.3473817865315,\n",
       " 996.342752322322,\n",
       " 996.3381182839994,\n",
       " 996.3334796671087,\n",
       " 996.3288364671905,\n",
       " 996.3241886797813,\n",
       " 996.3195363004133,\n",
       " 996.3148793246146,\n",
       " 996.3102177479088,\n",
       " 996.3055515658157,\n",
       " 996.3008807738504,\n",
       " 996.2962053675241,\n",
       " 996.2915253423436,\n",
       " 996.2868406938114,\n",
       " 996.282151417426,\n",
       " 996.2774575086814,\n",
       " 996.2727589630676,\n",
       " 996.26805577607,\n",
       " 996.2633479431701,\n",
       " 996.2586354598448,\n",
       " 996.2539183215669,\n",
       " 996.2491965238048,\n",
       " 996.244470062023,\n",
       " 996.2397389316811,\n",
       " 996.235003128235,\n",
       " 996.230262647136,\n",
       " 996.2255174838311,\n",
       " 996.2207676337632,\n",
       " 996.2160130923708,\n",
       " 996.2112538550879,\n",
       " 996.2064899173445,\n",
       " 996.201721274566,\n",
       " 996.1969479221738,\n",
       " 996.1921698555847,\n",
       " 996.1873870702112,\n",
       " 996.1825995614618,\n",
       " 996.1778073247401,\n",
       " 996.173010355446,\n",
       " 996.1682086489745,\n",
       " 996.1634022007167,\n",
       " 996.1585910060592,\n",
       " 996.153775060384,\n",
       " 996.148954359069,\n",
       " 996.1441288974877,\n",
       " 996.1392986710093,\n",
       " 996.1344636749985,\n",
       " 996.1296239048157,\n",
       " 996.1247793558169,\n",
       " 996.1199300233538,\n",
       " 996.1150759027737,\n",
       " 996.1102169894194,\n",
       " 996.1053532786294,\n",
       " 996.1004847657377,\n",
       " 996.0956114460743,\n",
       " 996.0907333149642,\n",
       " 996.0858503677283,\n",
       " 996.0809625996832,\n",
       " 996.0760700061409,\n",
       " 996.071172582409,\n",
       " 996.0662703237908,\n",
       " 996.0613632255852,\n",
       " 996.0564512830864,\n",
       " 996.0515344915844,\n",
       " 996.0466128463648,\n",
       " 996.0416863427087,\n",
       " 996.0367549758926,\n",
       " 996.0318187411887,\n",
       " 996.0268776338647,\n",
       " 996.021931649184,\n",
       " 996.0169807824053,\n",
       " 996.012025028783,\n",
       " 996.0070643835669,\n",
       " 996.0020988420025,\n",
       " 995.9971283993308,\n",
       " 995.9921530507881,\n",
       " 995.9871727916066,\n",
       " 995.9821876170134,\n",
       " 995.9771975222319,\n",
       " 995.9722025024804,\n",
       " 995.9672025529729,\n",
       " 995.9621976689191,\n",
       " 995.9571878455238,\n",
       " 995.9521730779875,\n",
       " 995.9471533615061,\n",
       " 995.9421286912713,\n",
       " 995.9370990624698,\n",
       " 995.9320644702841,\n",
       " 995.9270249098921,\n",
       " 995.9219803764672,\n",
       " 995.9169308651781,\n",
       " 995.911876371189,\n",
       " 995.9068168896598,\n",
       " 995.9017524157456,\n",
       " 995.8966829445969,\n",
       " 995.8916084713599,\n",
       " 995.886528991176,\n",
       " 995.8814444991821,\n",
       " 995.8763549905107,\n",
       " 995.8712604602894,\n",
       " 995.8661609036415,\n",
       " 995.8610563156856,\n",
       " 995.8559466915358,\n",
       " 995.8508320263015,\n",
       " 995.8457123150877,\n",
       " 995.8405875529944,\n",
       " 995.8354577351174,\n",
       " 995.8303228565478,\n",
       " 995.8251829123719,\n",
       " 995.8200378976717,\n",
       " 995.8148878075242,\n",
       " 995.8097326370021,\n",
       " 995.8045723811733,\n",
       " 995.7994070351012,\n",
       " 995.7942365938445,\n",
       " 995.7890610524572,\n",
       " 995.7838804059888,\n",
       " 995.778694649484,\n",
       " 995.7735037779829,\n",
       " 995.7683077865211,\n",
       " 995.7631066701292,\n",
       " 995.7579004238336,\n",
       " 995.7526890426556,\n",
       " 995.747472521612,\n",
       " 995.742250855715,\n",
       " 995.7370240399721,\n",
       " 995.731792069386,\n",
       " 995.7265549389548,\n",
       " 995.7213126436719,\n",
       " 995.716065178526,\n",
       " 995.7108125385012,\n",
       " 995.7055547185766,\n",
       " 995.700291713727,\n",
       " 995.6950235189221,\n",
       " 995.6897501291272,\n",
       " 995.6844715393028,\n",
       " 995.6791877444044,\n",
       " 995.6738987393832,\n",
       " 995.6686045191854,\n",
       " 995.6633050787524,\n",
       " 995.6580004130212,\n",
       " 995.6526905169238,\n",
       " 995.6473753853875,\n",
       " 995.6420550133347,\n",
       " 995.6367293956833,\n",
       " 995.6313985273464,\n",
       " 995.6260624032321,\n",
       " 995.6207210182441,\n",
       " 995.615374367281,\n",
       " 995.6100224452367,\n",
       " 995.6046652470005,\n",
       " 995.5993027674567,\n",
       " 995.5939350014849,\n",
       " 995.5885619439598,\n",
       " ...]"
      ]
     },
     "execution_count": 164,
     "metadata": {},
     "output_type": "execute_result"
    }
   ],
   "source": [
    "S"
   ]
  },
  {
   "cell_type": "code",
   "execution_count": 97,
   "metadata": {},
   "outputs": [],
   "source": [
    "import matplotlib.pyplot as plt"
   ]
  },
  {
   "cell_type": "code",
   "execution_count": 165,
   "metadata": {},
   "outputs": [
    {
     "data": {
      "image/png": "[encoded data removed]",
      "text/plain": [
       "<Figure size 432x288 with 1 Axes>"
      ]
     },
     "metadata": {},
     "output_type": "display_data"
    }
   ],
   "source": [
    "fig = plt.figure(facecolor='w')\n",
    "ax = fig.add_subplot(111, facecolor='#dddddd', axisbelow=True)\n",
    "ax.plot(all_steps, np.array(S)/1000, 'b', alpha=0.5, lw=2, label='Susceptible')\n",
    "ax.plot(all_steps, np.array(I)/1000, 'r', alpha=0.5, lw=2, label='Infected')\n",
    "ax.plot(all_steps, np.array(R)/1000, 'g', alpha=0.5, lw=2, label='Recovered with immunity')\n",
    "ax.set_xlabel('Time /days')\n",
    "ax.set_ylabel('Number (1000s)')\n",
    "ax.set_ylim(0,1.2)\n",
    "ax.yaxis.set_tick_params(length=0)\n",
    "ax.xaxis.set_tick_params(length=0)\n",
    "ax.grid(b=True, which='major', c='w', lw=2, ls='-')\n",
    "legend = ax.legend()\n",
    "legend.get_frame().set_alpha(0.5)\n",
    "for spine in ('top', 'right', 'bottom', 'left'):\n",
    "    ax.spines[spine].set_visible(False)"
   ]
  },
  {
   "cell_type": "code",
   "execution_count": 5,
   "metadata": {},
   "outputs": [],
   "source": [
    "\n",
    "\n",
    "def S_o_change(beta_o, S_o_curr, I_curr_o, I_curr_m):\n",
    "    return -beta_o*S_o_curr * (I_curr_o + I_curr_m)\n",
    "\n",
    "def S_m_change(beta_m, S_m_curr, I_curr_o, I_curr_m):\n",
    "    return -beta_m*S_m_curr * (I_curr_o + I_curr_m)\n",
    "\n",
    "def R_o_change(k, R_o_curr):\n",
    "    return k * R_o_curr\n",
    "\n",
    "def R_m_change(k, R_m_curr):\n",
    "    return k * R_m_curr\n",
    "\n",
    "def I_o_change(beta_o, S_o_curr, I_curr_o, I_curr_m, k, R_o_curr):\n",
    "    return (beta_o*S_o_curr * (I_curr_o + I_curr_m)) - (k * R_o_curr)\n",
    "\n",
    "def I_m_change(beta_m, S_m_curr, I_curr_o, I_curr_m, k, R_m_curr):\n",
    "    return (beta_m*S_m_curr * (I_curr_o + I_curr_m)) - (k * R_m_curr)\n",
    "\n"
   ]
  },
  {
   "cell_type": "code",
   "execution_count": null,
   "metadata": {},
   "outputs": [],
   "source": [
    "def deriv(beta_o, beta_m, sus_o, sus_m, inf_o, inf_m, k, N):\n",
    "    # Ordinary folks first\n",
    "    ds_o = (-beta * sus_o * (inf_o + inf_m))/ N\n",
    "    di_o = ((beta * sus_o * (inf_o + inf_m))/N) - k*inf_o\n",
    "    dr_o = k*inf_o\n",
    "    \n",
    "    # Misinfo folks next\n",
    "    ds_m = (-beta * sus_m * (inf_o + inf_m))/ N\n",
    "    di_m = ((beta * sus_m * (inf_o + inf_m))/N) - k*inf_m\n",
    "    dr_m = k*inf_m\n",
    "    \n",
    "    return ds_o, di_o, dr_o, ds_m, di_m, dr_m"
   ]
  },
  {
   "cell_type": "code",
   "execution_count": null,
   "metadata": {},
   "outputs": [],
   "source": []
  },
  {
   "cell_type": "code",
   "execution_count": null,
   "metadata": {},
   "outputs": [],
   "source": []
  },
  {
   "cell_type": "code",
   "execution_count": null,
   "metadata": {},
   "outputs": [],
   "source": []
  },
  {
   "cell_type": "code",
   "execution_count": null,
   "metadata": {},
   "outputs": [],
   "source": []
  }
 ],
 "metadata": {
  "kernelspec": {
   "display_name": "Python 3",
   "language": "python",
   "name": "python3"
  },
  "language_info": {
   "codemirror_mode": {
    "name": "ipython",
    "version": 3
   },
   "file_extension": ".py",
   "mimetype": "text/x-python",
   "name": "python",
   "nbconvert_exporter": "python",
   "pygments_lexer": "ipython3",
   "version": "3.7.6"
  }
 },
 "nbformat": 4,
 "nbformat_minor": 2
}
