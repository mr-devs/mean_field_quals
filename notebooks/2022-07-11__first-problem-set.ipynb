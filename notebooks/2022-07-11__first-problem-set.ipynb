{
 "cells": [
  {
   "cell_type": "code",
   "execution_count": 2,
   "metadata": {},
   "outputs": [],
   "source": [
    "import pandas as pd\n",
    "import altair as alt\n",
    "import numpy as np\n",
    "import os\n",
    "import sys\n",
    "\n",
    "source_dir = '/Users/mdeverna/Documents/Projects/mean_field_quals/src'\n",
    "sys.path.insert(0, source_dir)\n",
    "\n",
    "\n",
    "from simulations import run_simulation, get_peak_day, deriv_simple"
   ]
  },
  {
   "cell_type": "code",
   "execution_count": null,
   "metadata": {},
   "outputs": [],
   "source": []
  },
  {
   "cell_type": "markdown",
   "metadata": {},
   "source": [
    "### Testing with raw population counts"
   ]
  },
  {
   "cell_type": "code",
   "execution_count": 3,
   "metadata": {},
   "outputs": [],
   "source": [
    "N = 1000\n",
    "num_days = 100\n",
    "step_size = 1  # step size\n",
    "all_steps = np.arange(0, num_days, step_size)\n",
    "\n",
    "### Set initial values ###\n",
    "S_o = np.zeros(len(all_steps))\n",
    "S_m = np.zeros(len(all_steps))\n",
    "I_o = np.zeros(len(all_steps))\n",
    "I_m = np.zeros(len(all_steps))\n",
    "R_o = np.zeros(len(all_steps))\n",
    "R_m = np.zeros(len(all_steps))\n",
    "\n",
    "# These values are taking from the example found here (https://en.wikipedia.org/wiki/Compartmental_models_in_epidemiology#The_SIR_model_2)\n",
    "# See the image on the side...\n",
    "B_o = .4\n",
    "beta_mult = 2 # This doesn't do anything because we assume ord_frac = 1\n",
    "B_m = B_o * beta_mult\n",
    "k = 0.04\n",
    "\n",
    "S_o[0] = 997 # The rest are in the ordinary group\n",
    "I_o[0] = 3   # Three people infected\n"
   ]
  },
  {
   "cell_type": "code",
   "execution_count": 4,
   "metadata": {},
   "outputs": [],
   "source": [
    "t = 0\n",
    "\n",
    "all_steps = np.arange(0, num_days, step_size)\n",
    "\n",
    "for t in range(0, len(all_steps) - 1):\n",
    "    \n",
    "    d_s_o, d_i_o, d_r_o, d_s_m, d_i_m, d_r_m = deriv_simple(\n",
    "        beta_o = B_o,\n",
    "        beta_m = B_m,\n",
    "        sus_o = S_o[t],\n",
    "        sus_m = S_m[t],\n",
    "        inf_o = I_o[t],\n",
    "        inf_m = I_m[t],\n",
    "        k = k,\n",
    "        counts=True,\n",
    "        N=N\n",
    "    )\n",
    "\n",
    "    # Set the next value as the current plus it's change\n",
    "    S_o[t + 1] = S_o[t] + d_s_o\n",
    "    S_m[t + 1] = S_m[t] + d_s_m\n",
    "    I_o[t + 1] = I_o[t] + d_i_o\n",
    "    I_m[t + 1] = I_m[t] + d_i_m\n",
    "    R_o[t + 1] = R_o[t] + d_r_o\n",
    "    R_m[t + 1] = R_m[t] + d_r_m"
   ]
  },
  {
   "cell_type": "code",
   "execution_count": null,
   "metadata": {},
   "outputs": [],
   "source": [
    "import matplotlib.pyplot as plt"
   ]
  },
  {
   "cell_type": "code",
   "execution_count": null,
   "metadata": {},
   "outputs": [],
   "source": [
    "I_o[-1] + S_o[-1] + R_o[-1]"
   ]
  },
  {
   "cell_type": "code",
   "execution_count": null,
   "metadata": {},
   "outputs": [],
   "source": [
    "plt.figure(figsize=(10,10))\n",
    "\n",
    "plt.plot(all_steps, I_o, label='infected')\n",
    "plt.plot(all_steps, S_o, label='susceptible')\n",
    "plt.plot(all_steps, R_o, label='recovered')\n",
    "\n",
    "plt.legend()"
   ]
  },
  {
   "cell_type": "code",
   "execution_count": null,
   "metadata": {},
   "outputs": [],
   "source": []
  },
  {
   "cell_type": "markdown",
   "metadata": {},
   "source": [
    "# Varying $\\beta$ with ordinary proportion $= x = 1$."
   ]
  },
  {
   "cell_type": "code",
   "execution_count": null,
   "metadata": {},
   "outputs": [],
   "source": [
    "beta_values = np.arange(.02, 1.02, .02)"
   ]
  },
  {
   "cell_type": "code",
   "execution_count": null,
   "metadata": {},
   "outputs": [],
   "source": [
    "beta_values"
   ]
  },
  {
   "cell_type": "code",
   "execution_count": null,
   "metadata": {
    "scrolled": true
   },
   "outputs": [],
   "source": [
    "# Fraction of ordinary people\n",
    "x = 1\n",
    "\n",
    "# All beta values\n",
    "beta_values = np.arange(.02, 1.02, .02)\n",
    "\n",
    "# Less beta values highlighted for one of the later plots\n",
    "less_betas = [0.2, 0.4, 0.6, 0.8, 1. ]\n",
    "\n",
    "totals = []      # Total infections\n",
    "r0s_ = []        # R0 valuyes\n",
    "peak_days = []   # Date of each peak\n",
    "\n",
    "# Will store the progression of infections over time, indexed by beta values\n",
    "infection_flows = dict()\n",
    "\n",
    "\n",
    "for beta in beta_values:\n",
    "    \n",
    "    # Run the simulation based on the input \n",
    "    S_o, S_m, I_o, I_m, R_o, R_m, r0s = run_simulation(\n",
    "        frac_ord=x,\n",
    "        prop_infec=.001,\n",
    "        num_days=100,\n",
    "        beta_ord=beta,\n",
    "        recovery_days=5,\n",
    "        beta_mult=2,     # Multiple the current beta value by this to get the misinfo group beta\n",
    "        w_homophily=False,\n",
    "        alpha=None\n",
    "    )\n",
    "    total_ord_inf = max(R_o)\n",
    "    \n",
    "    if np.round(beta,2) in less_betas:\n",
    "\n",
    "        infection_flows[np.round(beta,2)] = I_o\n",
    "    \n",
    "    r0s_.append( (r0s[0], beta) )\n",
    "    \n",
    "    totals.append((beta, total_ord_inf))"
   ]
  },
  {
   "cell_type": "code",
   "execution_count": null,
   "metadata": {},
   "outputs": [],
   "source": [
    "total_frame = pd.DataFrame(totals, columns = ['beta','total_infected'])"
   ]
  },
  {
   "cell_type": "code",
   "execution_count": null,
   "metadata": {
    "scrolled": true
   },
   "outputs": [],
   "source": [
    "total_frame"
   ]
  },
  {
   "cell_type": "code",
   "execution_count": null,
   "metadata": {},
   "outputs": [],
   "source": [
    "alt.Chart(total_frame).mark_point().encode(\n",
    "    x = 'beta:Q',\n",
    "    y = 'total_infected:Q'\n",
    ")"
   ]
  },
  {
   "cell_type": "code",
   "execution_count": null,
   "metadata": {},
   "outputs": [],
   "source": [
    "r0frames = pd.DataFrame(r0s_, columns=['r0', 'beta'])"
   ]
  },
  {
   "cell_type": "code",
   "execution_count": null,
   "metadata": {},
   "outputs": [],
   "source": [
    "r0frames"
   ]
  },
  {
   "cell_type": "code",
   "execution_count": null,
   "metadata": {},
   "outputs": [],
   "source": [
    "beta_val = np.round(r0frames[r0frames['r0'] > 1]['beta'].min(), 2)\n",
    "\n",
    "rule_text_df = pd.DataFrame({\n",
    "    'x' : [r0frames[r0frames['r0'] > 1]['beta'].min()],\n",
    "    'y1' : [0],\n",
    "    'y2' : [3],\n",
    "    'text' : [f\"R₀ > 1 (beta = {beta_val})\"]\n",
    "})\n",
    "\n",
    "r0fig1 = alt.Chart(r0frames).mark_point(color='black', size=30).encode(\n",
    "    x = alt.X(\n",
    "        'beta:Q',\n",
    "        axis = alt.Axis(\n",
    "            title = None,\n",
    "            labels = False,\n",
    "            labelExpr=\"(datum.value*100) % 10 ? null : datum.label\"\n",
    "        )\n",
    "    ),\n",
    "    y = alt.Y(\n",
    "        \"r0:Q\",\n",
    "        title = \"R₀\", axis=alt.Axis(orient='right')\n",
    "    )\n",
    ") + alt.Chart(rule_text_df).mark_rule(color = 'red').encode(\n",
    "    x = 'x:Q',\n",
    "    y = 'y1:Q',\n",
    "    y2 = 'y2:Q'\n",
    ") + alt.Chart(rule_text_df).mark_text(\n",
    "    dx=10,\n",
    "    dy=-10,\n",
    "    fontSize=13\n",
    ").encode(\n",
    "    x = 'x:Q',\n",
    "    y = 'y2:Q',\n",
    "    text = 'text'\n",
    ").properties(height=150, width=250)\n",
    "\n",
    "\n",
    "rule_text_df = pd.DataFrame({\n",
    "    'x' : [r0frames[r0frames['r0'] > 1]['beta'].min()],\n",
    "    'y1' : [0],\n",
    "    'y2' : [1],\n",
    "    'text' : [f\"R₀ > 1 (beta = {beta_val})\"]\n",
    "})\n",
    "\n",
    "tots_fig = alt.Chart(total_frame).mark_point(color='black', size=30).encode(\n",
    "    x = alt.X(\n",
    "        \"beta:Q\",\n",
    "        title = \"𝛽\",\n",
    "        axis = alt.Axis(\n",
    "            title=['beta','(no misinformed population)'],\n",
    "            labelExpr=\"(datum.value*100) % 10 ? null : datum.label\"\n",
    "        )\n",
    "    ),\n",
    "    y = alt.Y(\"total_infected:Q\", title=['proportion of','population infected'], axis=alt.Axis(orient='right'))\n",
    ") + alt.Chart(rule_text_df).mark_rule(color = 'red').encode(\n",
    "    x = 'x:Q',\n",
    "    y = 'y1:Q',\n",
    "    y2 = 'y2:Q'\n",
    ").properties(height=150, width=250)\n",
    "\n",
    "\n",
    "\n",
    "combined_fig = alt.vconcat(r0fig1, tots_fig, spacing=5)\n",
    "\n",
    "combined_fig\n",
    "\n",
    "# .configure_axis(\n",
    "#     titleFontSize=15,\n",
    "#     labelFontSize=14,\n",
    "#     labelAngle=0\n",
    "# ).configure_legend(\n",
    "#     titleFontSize=15,\n",
    "#     labelFontSize=14,\n",
    "# )"
   ]
  },
  {
   "cell_type": "code",
   "execution_count": null,
   "metadata": {},
   "outputs": [],
   "source": [
    "infection_flows.keys()"
   ]
  },
  {
   "cell_type": "code",
   "execution_count": null,
   "metadata": {},
   "outputs": [],
   "source": [
    "infections = pd.DataFrame(infection_flows).reset_index()\n",
    "infections = infections.rename(columns={'index':'day'})\n",
    "infections.day = infections.day +1\n",
    "infections.melt(id_vars='day')"
   ]
  },
  {
   "cell_type": "code",
   "execution_count": null,
   "metadata": {},
   "outputs": [],
   "source": [
    "info = []\n",
    "\n",
    "for beta, infects in infection_flows.items():\n",
    "    peak_x = get_peak_day(infects)\n",
    "    peak_y = max(infects)\n",
    "    text = f\"{np.round(peak_y,2)} (beta = {beta})\"\n",
    "    info.append( (peak_x, peak_y, text) )"
   ]
  },
  {
   "cell_type": "code",
   "execution_count": null,
   "metadata": {},
   "outputs": [],
   "source": [
    "text_dfs = pd.DataFrame(info, columns = ['peak_x', 'peak_y', 'text'])\n",
    "text_dfs"
   ]
  },
  {
   "cell_type": "code",
   "execution_count": null,
   "metadata": {},
   "outputs": [],
   "source": [
    "text_dfs = text_dfs[text_dfs['peak_x']>0]\n"
   ]
  },
  {
   "cell_type": "code",
   "execution_count": null,
   "metadata": {},
   "outputs": [],
   "source": [
    "lines = alt.Chart(infections.melt(id_vars='day')).mark_line(size=2, color = 'black').encode(\n",
    "    x = alt.X(\n",
    "        'day:Q',\n",
    "        title = [\"Time\", \"(days)\"]\n",
    "    ),\n",
    "    y = alt.Y(\n",
    "        'value:Q',\n",
    "        title = [\"proportion of population infected\", \"(no misinformed group)\"],\n",
    "        scale = alt.Scale(domain=(0,1))\n",
    "    ),\n",
    "    strokeDash = alt.StrokeDash(\n",
    "        'variable:N',\n",
    "        title = \"𝛽\",\n",
    "        legend=None\n",
    "    )\n",
    ").properties(height=320, width=500)\n",
    "\n",
    "texts = alt.Chart(text_dfs).mark_text(dy=-7,dx=0,fontSize=14,align='left').encode(\n",
    "    x = 'peak_x:Q',\n",
    "    y = 'peak_y:Q',\n",
    "    text = 'text'\n",
    ")\n",
    "\n",
    "lines = alt.layer(lines,texts)\n",
    "\n",
    "\n",
    "alt.hconcat(\n",
    "    lines,\n",
    "    combined_fig,\n",
    ").configure_axis(\n",
    "    titleFontSize=15,\n",
    "    labelFontSize=14,\n",
    "    labelAngle=0\n",
    ")\n",
    "# .configure_legend(\n",
    "#     titleFontSize=15,\n",
    "#     labelFontSize=14,\n",
    "#     orient='top',\n",
    "#     offset=0\n",
    "# )"
   ]
  },
  {
   "cell_type": "code",
   "execution_count": null,
   "metadata": {},
   "outputs": [],
   "source": []
  },
  {
   "cell_type": "code",
   "execution_count": null,
   "metadata": {},
   "outputs": [],
   "source": []
  },
  {
   "cell_type": "code",
   "execution_count": null,
   "metadata": {},
   "outputs": [],
   "source": []
  },
  {
   "cell_type": "markdown",
   "metadata": {},
   "source": [
    "# How infections change based on recovery rate"
   ]
  },
  {
   "cell_type": "code",
   "execution_count": null,
   "metadata": {},
   "outputs": [],
   "source": [
    "# Fraction of ordinary people\n",
    "x = 1\n",
    "\n",
    "# All beta values\n",
    "beta_values = np.arange(.1, 1.1, .1)\n",
    "\n",
    "totals = []      # Total infections\n",
    "r0s_ = []        # R0 valuyes\n",
    "peak_days = []   # Date of each peak\n",
    "\n",
    "# Will store the progression of infections over time, indexed by beta values\n",
    "infection_flows = dict()\n",
    "\n",
    "recovery_days = np.arange(1,21,1)\n",
    "\n",
    "# We fix beta at .3 based on the above\n",
    "beta= .3\n",
    "\n",
    "for rec_days in recovery_days:\n",
    "\n",
    "    # Run the simulation based on the input \n",
    "    S_o, S_m, I_o, I_m, R_o, R_m, r0s = run_simulation(\n",
    "        frac_ord=x,\n",
    "        prop_infec=.001,\n",
    "        num_days=100,\n",
    "        beta_ord=beta,\n",
    "        recovery_days=rec_days,\n",
    "        beta_mult=2,     # Multiple the current beta value by this to get the misinfo group beta\n",
    "        w_homophily=False,\n",
    "        alpha=None\n",
    "    )\n",
    "    total_ord_inf = max(R_o)\n",
    "\n",
    "    infection_flows[(rec_days)] = I_o\n",
    "\n",
    "    r0s_.append( (r0s[0], rec_days) )\n",
    "\n",
    "    totals.append((rec_days, total_ord_inf))"
   ]
  },
  {
   "cell_type": "code",
   "execution_count": null,
   "metadata": {},
   "outputs": [],
   "source": [
    "r0frames = pd.DataFrame(r0s_, columns=['r0', 'rec_days'])"
   ]
  },
  {
   "cell_type": "code",
   "execution_count": null,
   "metadata": {},
   "outputs": [],
   "source": [
    "infections = pd.DataFrame(infection_flows).reset_index()\n",
    "infections = infections.rename(columns={'index':'day'})\n",
    "infections.day = infections.day +1\n",
    "infections.melt(id_vars='day')"
   ]
  },
  {
   "cell_type": "code",
   "execution_count": null,
   "metadata": {},
   "outputs": [],
   "source": [
    "lines = alt.Chart(infections.melt(id_vars='day')).transform_filter(\n",
    "    \"datum.variable % 4 == 0\"\n",
    ").mark_line(size=2, color='black').encode(\n",
    "    x = alt.X(\n",
    "        'day:Q',\n",
    "        title = [\"time\", \"(days)\"]\n",
    "    ),\n",
    "    y = alt.Y(\n",
    "        'value:Q',\n",
    "        title = [\"proportion of population infected\", \"(no misinformed group)\"],\n",
    "#         scale = alt.Scale(domain=(0,1))\n",
    "    ),\n",
    "    strokeDash = alt.StrokeDash(\n",
    "        'variable:N',\n",
    "        title = \"days to recover\",\n",
    "#         legend=None\n",
    "    ) \n",
    "#     shape = alt.Shape(\n",
    "#         'variable:N'\n",
    "#     ),\n",
    "#     color = alt.Color(\n",
    "#         'variable:N',\n",
    "#         legend = alt.Legend(title='days to recover')\n",
    "#     )\n",
    ").properties(width=500, height=320)\n",
    "# .configure_axis(\n",
    "#     titleFontSize=15,\n",
    "#     labelFontSize=14,\n",
    "#     labelAngle=0\n",
    "# ).configure_legend(\n",
    "#     titleFontSize=15,\n",
    "#     labelFontSize=14,\n",
    "# )\n",
    "\n",
    "# texts = alt.Chart(text_dfs).mark_text(dy=-7,dx=10,fontSize=14).encode(\n",
    "#     x = 'peak_x:Q',\n",
    "#     y = 'peak_y:Q',\n",
    "#     text = 'text'\n",
    "# )\n",
    "\n",
    "# alt.layer(lines,texts).configure_axis(\n",
    "#     titleFontSize=15,\n",
    "#     labelFontSize=14,\n",
    "#     labelAngle=0\n",
    "# ).configure_legend(\n",
    "#     titleFontSize=15,\n",
    "#     labelFontSize=14,\n",
    "# )\n",
    "\n",
    "lines"
   ]
  },
  {
   "cell_type": "code",
   "execution_count": null,
   "metadata": {
    "scrolled": true
   },
   "outputs": [],
   "source": [
    "peak_days = []\n",
    "\n",
    "for recovery_period, infections in infection_flows.items():\n",
    "    \n",
    "    peak_days.append( (recovery_period, get_peak_day(infections)) )\n",
    "\n",
    "peaks_df = pd.DataFrame(peak_days, columns = ['recovery', 'peak_day'])\n",
    "peaks_df"
   ]
  },
  {
   "cell_type": "code",
   "execution_count": null,
   "metadata": {},
   "outputs": [],
   "source": [
    "min_rec = r0frames[r0frames['r0'] > 1]['rec_days'].min()\n",
    "\n",
    "rule_text_df = pd.DataFrame({\n",
    "    'x' : [r0frames[r0frames['r0'] > 1]['rec_days'].min()],\n",
    "    'y1' : [0],\n",
    "    'y2' : [3.5],\n",
    "    'text' : [f\"R₀ > 1 ({min_rec} days)\"]\n",
    "})\n",
    "\n",
    "rnaught_fig = alt.Chart(r0frames).mark_point(color='black').encode(\n",
    "    x = alt.X(\n",
    "        \"rec_days:Q\",\n",
    "        axis = alt.Axis(\n",
    "            title=None,\n",
    "            labels=False\n",
    "        )\n",
    "    ),\n",
    "    y = alt.Y(\"r0:Q\", title = \"R₀\", axis=alt.Axis(orient='right')),\n",
    ") + alt.Chart(rule_text_df).mark_text(\n",
    "    dx=0,\n",
    "    dy=-10,\n",
    "    fontSize=13\n",
    ").encode(\n",
    "    x = 'x:Q',\n",
    "    y = 'y2:Q',\n",
    "    text = 'text'\n",
    ") + alt.Chart(rule_text_df).mark_rule(color = 'red').encode(\n",
    "    x = 'x:Q',\n",
    "    y = 'y1:Q',\n",
    "    y2 = 'y2:Q'\n",
    ").properties(height=150, width=250)\n",
    "    \n",
    "\n",
    "\n",
    "rule_text_df = pd.DataFrame({\n",
    "    'x' : [r0frames[r0frames['r0'] > 1]['rec_days'].min()],\n",
    "    'y1' : [0],\n",
    "    'y2' : [90],\n",
    "    'text' : [f\"R0 > 1 ({min_rec} days)\"]\n",
    "})\n",
    "\n",
    "peaks_fig = alt.Chart(peaks_df).mark_point(color='black').encode(\n",
    "    x = alt.X(\"recovery:Q\", title =['days to recover']),\n",
    "    y = alt.Y(\"peak_day:Q\", title = \"peak infection day\", axis=alt.Axis(orient='right')),\n",
    ") + alt.Chart(rule_text_df).mark_rule(color = 'red').encode(\n",
    "    x = 'x:Q',\n",
    "    y = 'y1:Q',\n",
    "    y2 = 'y2:Q'\n",
    ").properties(height=150, width=250)\n",
    "\n",
    "\n",
    "\n",
    "alt.hconcat(\n",
    "    lines, \n",
    "    alt.vconcat(rnaught_fig,peaks_fig, spacing=5),\n",
    ").configure_axis(\n",
    "    titleFontSize=15,\n",
    "    labelFontSize=14,\n",
    "    labelAngle=0\n",
    ").configure_legend(\n",
    "    titleFontSize=15,\n",
    "    labelFontSize=14,\n",
    "    orient='top',\n",
    "    offset=0\n",
    ")"
   ]
  },
  {
   "cell_type": "markdown",
   "metadata": {},
   "source": [
    "### In the above, we fix beta at 0.3"
   ]
  },
  {
   "cell_type": "code",
   "execution_count": null,
   "metadata": {},
   "outputs": [],
   "source": [
    "r0frames"
   ]
  },
  {
   "cell_type": "markdown",
   "metadata": {},
   "source": [
    "### Varying $\\beta$ with half misinformed and half ordinary. Again, we fix beta at 0.3. This time we vary the multiplier effect"
   ]
  },
  {
   "cell_type": "code",
   "execution_count": null,
   "metadata": {},
   "outputs": [],
   "source": [
    "IO = .5\n",
    "IM = .5"
   ]
  },
  {
   "cell_type": "code",
   "execution_count": null,
   "metadata": {},
   "outputs": [],
   "source": [
    "alpha = .5"
   ]
  },
  {
   "cell_type": "code",
   "execution_count": null,
   "metadata": {},
   "outputs": [],
   "source": [
    "(IO * alpha) + (IM * (1- alpha))"
   ]
  },
  {
   "cell_type": "code",
   "execution_count": null,
   "metadata": {},
   "outputs": [],
   "source": [
    "IO_ = (IO * alpha) + (IM * (1- alpha))\n",
    "IM_ = (IO * alpha) + (IM * (1- alpha))\n",
    "\n",
    "IO_ + IM_"
   ]
  },
  {
   "cell_type": "code",
   "execution_count": null,
   "metadata": {},
   "outputs": [],
   "source": [
    "IO_ + IM_"
   ]
  },
  {
   "cell_type": "code",
   "execution_count": null,
   "metadata": {},
   "outputs": [],
   "source": [
    "# Fraction of ordinary people\n",
    "x = .5\n",
    "\n",
    "# All beta values\n",
    "beta_values = np.arange(.1, 1.1, .1)\n",
    "\n",
    "totals = []      # Total infections\n",
    "r0s_ = []        # R0 valuyes\n",
    "peak_days = []   # Date of each peak\n",
    "\n",
    "# Will store the progression of infections over time, indexed by beta values\n",
    "infection_flows_ord = dict()\n",
    "infection_flows_mis = dict()\n",
    "\n",
    "recovery_days = np.arange(1,21,1)\n",
    "\n",
    "# We fix beta at .3 and recovery at 7 days based on the above\n",
    "beta = .3\n",
    "rec_days = 7\n",
    "\n",
    "# multipliers = [1.2, 1.4, 1.6, 1.8, 2, 4, 6]\n",
    "multipliers = np.arange(1,4.2,.2)\n",
    "\n",
    "for multiplier in multipliers:\n",
    "\n",
    "    # Run the simulation based on the input \n",
    "    S_o, S_m, I_o, I_m, R_o, R_m, r0s = run_simulation(\n",
    "        frac_ord=x,\n",
    "        prop_infec=.001,\n",
    "        num_days=100,\n",
    "        beta_ord=beta,\n",
    "        recovery_days=rec_days,\n",
    "        beta_mult=multiplier,\n",
    "        w_homophily=False,\n",
    "        alpha=None\n",
    "    )\n",
    "    total_ord_inf = max(R_o)\n",
    "    total_mis_inf = max(R_m)\n",
    "\n",
    "    infection_flows_ord[np.round(multiplier,1)] = I_o\n",
    "    infection_flows_mis[np.round(multiplier,1)] = I_m\n",
    "    \n",
    "    # ord_r0, mis_r0, weighted_avg_r0\n",
    "    r0s_.append( (r0s[0], r0s[1], r0s[2], multiplier) )\n",
    "\n",
    "    totals.append((total_ord_inf, total_mis_inf, multiplier))"
   ]
  },
  {
   "cell_type": "code",
   "execution_count": null,
   "metadata": {},
   "outputs": [],
   "source": [
    "r0frames = pd.DataFrame(r0s_, columns = ['ordinary', 'misinfo', 'weighted_avg', 'multiplier'])\n",
    "\n",
    "r0frames"
   ]
  },
  {
   "cell_type": "code",
   "execution_count": null,
   "metadata": {},
   "outputs": [],
   "source": [
    "alt.Chart(r0frames.melt(id_vars='multiplier')).mark_point().encode(\n",
    "    x = alt.X('multiplier:Q'),\n",
    "    y = alt.Y('value:Q'),\n",
    "    color = alt.Color('variable:N')\n",
    ")"
   ]
  },
  {
   "cell_type": "code",
   "execution_count": null,
   "metadata": {},
   "outputs": [],
   "source": [
    "(1/.3) * .3"
   ]
  },
  {
   "cell_type": "code",
   "execution_count": null,
   "metadata": {},
   "outputs": [],
   "source": [
    "both_totals = pd.DataFrame(totals, columns = ['total_ord_inf', 'total_mis_inf', 'multiplier'])\n",
    "both_totals['diff'] = both_totals['total_mis_inf'] - both_totals['total_ord_inf']\n",
    "both_totals['total_inf'] = both_totals['total_ord_inf'] + both_totals['total_mis_inf'] \n",
    "\n",
    "both_totals"
   ]
  },
  {
   "cell_type": "code",
   "execution_count": null,
   "metadata": {},
   "outputs": [],
   "source": [
    "combined_infections = pd.DataFrame(infection_flows_ord) + pd.DataFrame(infection_flows_mis)\n",
    "combined_infections = combined_infections.reset_index()\n",
    "combined_infections = combined_infections.rename(columns={'index':'day'})\n",
    "combined_infections.day = combined_infections.day + 1\n",
    "combined_infections = combined_infections.melt(id_vars='day')\n",
    "combined_infections.rename(columns={\"variable\":\"multiplier\"},inplace=True)\n",
    "combined_infections"
   ]
  },
  {
   "cell_type": "code",
   "execution_count": null,
   "metadata": {},
   "outputs": [],
   "source": [
    "infections_ord = pd.DataFrame(infection_flows_ord).reset_index()\n",
    "infections_ord = infections_ord.rename(columns={'index':'day'})\n",
    "infections_ord.day = infections_ord.day + 1\n",
    "infections_ord = infections_ord.melt(id_vars='day')\n",
    "infections_ord"
   ]
  },
  {
   "cell_type": "code",
   "execution_count": null,
   "metadata": {},
   "outputs": [],
   "source": [
    "infections_mis = pd.DataFrame(infection_flows_mis).reset_index()\n",
    "infections_mis = infections_mis.rename(columns={'index':'day'})\n",
    "infections_mis.day = infections_mis.day + 1\n",
    "infections_mis = infections_mis.melt(id_vars='day')"
   ]
  },
  {
   "cell_type": "code",
   "execution_count": null,
   "metadata": {},
   "outputs": [],
   "source": [
    "infections_mis.rename(columns={\"variable\":\"multiplier\"},inplace=True)\n",
    "infections_ord.rename(columns={\"variable\":\"multiplier\"},inplace=True)\n",
    "\n",
    "infections_mis['group'] = 'misinformed'\n",
    "infections_ord['group'] = 'ordinary'"
   ]
  },
  {
   "cell_type": "code",
   "execution_count": null,
   "metadata": {},
   "outputs": [],
   "source": [
    "both_infections = pd.concat((infections_mis,infections_ord))"
   ]
  },
  {
   "cell_type": "code",
   "execution_count": null,
   "metadata": {},
   "outputs": [],
   "source": [
    "both_infections"
   ]
  },
  {
   "cell_type": "code",
   "execution_count": null,
   "metadata": {},
   "outputs": [],
   "source": [
    "alt.data_transformers.disable_max_rows()"
   ]
  },
  {
   "cell_type": "code",
   "execution_count": null,
   "metadata": {},
   "outputs": [],
   "source": [
    "combined_infections[combined_infections['multiplier'] == 2]['value'].max() \\\n",
    "/ combined_infections[combined_infections['multiplier'] == 1]['value'].max()"
   ]
  },
  {
   "cell_type": "code",
   "execution_count": null,
   "metadata": {},
   "outputs": [],
   "source": [
    "combined_infections['multiplier'].unique()"
   ]
  },
  {
   "cell_type": "code",
   "execution_count": null,
   "metadata": {},
   "outputs": [],
   "source": [
    "combined_infections"
   ]
  },
  {
   "cell_type": "code",
   "execution_count": null,
   "metadata": {},
   "outputs": [],
   "source": [
    "print(get_peak_day(infection_flows_ord[4]))\n",
    "print(get_peak_day(infection_flows_mis[4]))"
   ]
  },
  {
   "cell_type": "code",
   "execution_count": null,
   "metadata": {},
   "outputs": [],
   "source": [
    "no_diff_peak_day = get_peak_day(infection_flows_ord[1])\n",
    "max_diff_peak_day = get_peak_day(infection_flows_mis[4])\n",
    "no_diff_y = max(infection_flows_ord[1]) + max(infection_flows_mis[1] + .02)\n",
    "max_diff_y = max(infection_flows_ord[4]) + max(infection_flows_mis[4])\n",
    "\n",
    "comb_text_df = pd.DataFrame({\n",
    "    'x' : [no_diff_peak_day, max_diff_peak_day],\n",
    "    'y' : [no_diff_y, max_diff_y],\n",
    "    'text' : [\"no subpopulation difference\", \"large subpopulation difference\"]\n",
    "})"
   ]
  },
  {
   "cell_type": "code",
   "execution_count": null,
   "metadata": {},
   "outputs": [],
   "source": [
    "comb_text_df"
   ]
  },
  {
   "cell_type": "code",
   "execution_count": null,
   "metadata": {},
   "outputs": [],
   "source": [
    "comb_points = alt.Chart(combined_infections).mark_point(size=50).encode(\n",
    "    x = alt.X('day:Q', axis=alt.Axis(title = None, labels=False)),\n",
    "    y = alt.Y(\n",
    "        'value:Q',\n",
    "        title = 'ord. + misinfo.',\n",
    "        scale = alt.Scale(domain=(0,.5))\n",
    "    ),\n",
    "    color=alt.Color('multiplier:Q', scale=alt.Scale(scheme='greys'), title=['𝜆'])\n",
    ").properties(width=400, height=100)\n",
    "\n",
    "comb_text = alt.Chart(comb_text_df).mark_text(\n",
    "    align='left',\n",
    "    dy=-7,\n",
    "    fontSize=14\n",
    ").encode(\n",
    "    x = alt.X('x:Q'),\n",
    "    y = alt.Y('y:Q'),\n",
    "    text = alt.Text('text:N')\n",
    ")\n",
    "\n",
    "mis_fig = alt.Chart(infections_mis).mark_point().encode(\n",
    "    x = alt.X('day:Q', axis=alt.Axis(title = None, labels=False)),\n",
    "    y = alt.Y(\n",
    "        'value:Q',\n",
    "        title=['prop. infected', '', 'misinformed'],\n",
    "        scale = alt.Scale(domain=(0,.5))\n",
    "    ),\n",
    "    color=alt.Color('multiplier:Q', scale=alt.Scale(scheme='greys'), title=['𝜆'])\n",
    ").properties(width=400, height=100)\n",
    "\n",
    "ord_fig = alt.Chart(infections_ord).mark_point().encode(\n",
    "    x = alt.X('day:Q'),\n",
    "    y = alt.Y(\n",
    "        'value:Q',\n",
    "        title = 'ordinary',\n",
    "        scale = alt.Scale(domain=(0,.5))\n",
    "    ),\n",
    "    color=alt.Color('multiplier:Q', title=['𝜆'])\n",
    ").properties(width=400, height=100)\n",
    "\n",
    "overtime = alt.vconcat(\n",
    "    alt.layer(comb_points, comb_text),\n",
    "    mis_fig,\n",
    "    ord_fig,\n",
    "    spacing=5\n",
    ")"
   ]
  },
  {
   "cell_type": "code",
   "execution_count": null,
   "metadata": {},
   "outputs": [],
   "source": [
    "both_totals['total_extra'] = (both_totals['total_inf'] - both_totals['total_inf'].min()) #/ both_totals['total_inf'].min()"
   ]
  },
  {
   "cell_type": "code",
   "execution_count": null,
   "metadata": {},
   "outputs": [],
   "source": [
    "both_totals"
   ]
  },
  {
   "cell_type": "code",
   "execution_count": null,
   "metadata": {},
   "outputs": [],
   "source": [
    "\n",
    "total_diff_fig = alt.Chart(both_totals).mark_point(size=50, color='firebrick').encode(\n",
    "    x = alt.X(\n",
    "        'multiplier:Q',\n",
    "        axis = alt.Axis(title = None, labels=False),\n",
    "        scale = alt.Scale(domain=(.8,4.2), nice=False)\n",
    "    ),\n",
    "    y = alt.Y('total_extra:Q', axis = alt.Axis(title = ['prop. extra infections w.','two subpopulations'], orient='right'))\n",
    ").properties(width=200, height=155)\n",
    "\n",
    "\n",
    "\n",
    "differences = alt.Chart(both_totals).mark_square(size=50, color='firebrick').encode(\n",
    "    x = alt.X(\n",
    "        'multiplier:Q',\n",
    "        axis = alt.Axis(\n",
    "            title = '𝜆',\n",
    "            format = \".1f\"\n",
    "        ),\n",
    "        scale = alt.Scale(domain=(.8,4.2), nice=False)\n",
    "    ),\n",
    "    y = alt.Y(\n",
    "        \"diff:Q\",\n",
    "        axis = alt.Axis(\n",
    "            title = ['prop. misinformed','— prop. ordinary'],\n",
    "            orient='right'\n",
    "        )\n",
    "    )\n",
    ").properties(width=200, height=155)\n",
    "\n",
    "total_diffs = alt.vconcat(total_diff_fig, differences, spacing=3)"
   ]
  },
  {
   "cell_type": "code",
   "execution_count": null,
   "metadata": {
    "scrolled": true
   },
   "outputs": [],
   "source": [
    "alt.hconcat(overtime, total_diffs).resolve_scale(color='independent').configure_axis(\n",
    "    titleFontSize=15,\n",
    "    labelFontSize=14,\n",
    "    labelAngle = 0,\n",
    ").configure_legend(\n",
    "    titleFontSize=15,\n",
    "    labelFontSize=14,\n",
    "    orient='top',\n",
    "    offset=3\n",
    ")"
   ]
  },
  {
   "cell_type": "code",
   "execution_count": null,
   "metadata": {},
   "outputs": [],
   "source": [
    "infections_mis"
   ]
  },
  {
   "cell_type": "code",
   "execution_count": null,
   "metadata": {},
   "outputs": [],
   "source": [
    "totals"
   ]
  },
  {
   "cell_type": "code",
   "execution_count": null,
   "metadata": {},
   "outputs": [],
   "source": [
    "np.round(np.geomspace(1,6,10),2)"
   ]
  },
  {
   "cell_type": "code",
   "execution_count": null,
   "metadata": {},
   "outputs": [],
   "source": [
    ".3 * 4"
   ]
  },
  {
   "cell_type": "code",
   "execution_count": null,
   "metadata": {},
   "outputs": [],
   "source": []
  },
  {
   "cell_type": "code",
   "execution_count": null,
   "metadata": {},
   "outputs": [],
   "source": []
  },
  {
   "cell_type": "code",
   "execution_count": null,
   "metadata": {},
   "outputs": [],
   "source": []
  },
  {
   "cell_type": "code",
   "execution_count": null,
   "metadata": {},
   "outputs": [],
   "source": []
  },
  {
   "cell_type": "code",
   "execution_count": null,
   "metadata": {},
   "outputs": [],
   "source": []
  },
  {
   "cell_type": "code",
   "execution_count": null,
   "metadata": {},
   "outputs": [],
   "source": []
  },
  {
   "cell_type": "code",
   "execution_count": null,
   "metadata": {},
   "outputs": [],
   "source": []
  },
  {
   "cell_type": "code",
   "execution_count": null,
   "metadata": {},
   "outputs": [],
   "source": []
  },
  {
   "cell_type": "code",
   "execution_count": null,
   "metadata": {},
   "outputs": [],
   "source": []
  },
  {
   "cell_type": "code",
   "execution_count": null,
   "metadata": {},
   "outputs": [],
   "source": []
  }
 ],
 "metadata": {
  "kernelspec": {
   "display_name": "Python 3 (ipykernel)",
   "language": "python",
   "name": "python3"
  },
  "language_info": {
   "codemirror_mode": {
    "name": "ipython",
    "version": 3
   },
   "file_extension": ".py",
   "mimetype": "text/x-python",
   "name": "python",
   "nbconvert_exporter": "python",
   "pygments_lexer": "ipython3",
   "version": "3.9.12"
  }
 },
 "nbformat": 4,
 "nbformat_minor": 2
}
