{
 "cells": [
  {
   "cell_type": "code",
   "execution_count": 1,
   "metadata": {},
   "outputs": [],
   "source": [
    "import pandas as pd\n",
    "import altair as alt\n",
    "import matplotlib.pyplot as plt\n",
    "import numpy as np\n",
    "import os\n",
    "import sys\n",
    "\n",
    "source_dir = '/Users/mdeverna/Documents/Projects/mean_field_quals/src'\n",
    "sys.path.insert(0,source_dir)\n",
    "\n",
    "\n",
    "from simulations import run_simulation, get_peak_day, deriv_simple, deriv_with_homophily"
   ]
  },
  {
   "cell_type": "markdown",
   "metadata": {},
   "source": [
    "** May be outdated **\n",
    "\n",
    "```py\n",
    "def deriv_with_homophily(beta_o, beta_m, sus_o, sus_m, inf_o, inf_m, k, alpha, counts=False, N=None):\n",
    "    \"\"\"\n",
    "    Calculate the *change* in population for all six compartments in the scenario\n",
    "    where we consider two populations — ordinary and misinformed — (and thus six\n",
    "    compartments), but no homophily.\n",
    "\n",
    "    Parameters:\n",
    "    -----------\n",
    "    - beta_o (float) : proportion of population infected (ordinary)\n",
    "    - beta_m (float) : proportion of the population infected (misinformed)\n",
    "    - sus_o (float)  : proportion of the population susceptible (ordinary)\n",
    "    - sus_m (float)  : proportion of the population susceptible (misinformed)\n",
    "    - inf_o (float)  : proportion of the population infected (ordinary)\n",
    "    - inf_m (float)  : proportion of the population infected (misinformed)\n",
    "    - k (inf)        : the rate of recovery (i.e., 1 / num days to recover)\n",
    "    - alpha (float)  : level of homophily. Must fall in range: .5 <= alpha <= 1\n",
    "    - counts (bool)  : if True, run the simulation based on a number of people\n",
    "    - N (int)        : size of the population to run with `counts`\n",
    "\n",
    "    Returns\n",
    "    -----------\n",
    "    The *change* in the population for...\n",
    "    - ds_o : susceptible (ordinary)\n",
    "    - di_o : infected (ordinary)\n",
    "    - dr_o : recovered (ordinary)\n",
    "    - ds_m : susceptible (misinformed)\n",
    "    - di_m : infected (misinformed)\n",
    "    - dr_m : recovered (misinformed)\n",
    "    \"\"\"\n",
    "    if not (.5 <= alpha <= 1):\n",
    "        raise ValueError(\"`alpha` must fall in the range [.5,1]\")\n",
    "    \n",
    "    if not counts:\n",
    "        # Ordinary folks first\n",
    "        ds_o = -2*beta_o * sus_o * (inf_o*alpha + inf_m*(1-alpha))\n",
    "        di_o = 2*beta_o * sus_o * (inf_o*alpha + inf_m*(1-alpha)) - k * inf_o\n",
    "        dr_o = k * inf_o\n",
    "\n",
    "        # Misinfo folks next\n",
    "        ds_m = -2*beta_m * sus_m * (inf_o*alpha + inf_m*(1-alpha))\n",
    "        di_m = 2*beta_m * sus_m * (inf_o*alpha + inf_m*(1-alpha)) - k * inf_m\n",
    "        dr_m = k * inf_m\n",
    "\n",
    "    else:\n",
    "        if N is None:\n",
    "            raise ValueError(\"`N` must be set with `counts = True`\")\n",
    "\n",
    "        # Ordinary folks first\n",
    "        ds_o = -2*beta_o * sus_o * (inf_o*alpha + inf_m*(1-alpha)) / N\n",
    "        di_o = ((2*beta_o * sus_o * (inf_o*alpha + inf_m*(1-alpha))) / N) - k * inf_o\n",
    "        dr_o = k * inf_o\n",
    "\n",
    "        # Misinfo folks next\n",
    "        ds_m = (-2*beta_m * sus_m * (inf_o*alpha + inf_m*(1-alpha))) / N\n",
    "        di_m = ((2*beta_m * sus_m * (inf_o*alpha + inf_m*(1-alpha))) / N) - k * inf_m\n",
    "        dr_m = k * inf_m\n",
    "\n",
    "    return ds_o, di_o, dr_o, ds_m, di_m, dr_m\n",
    "```"
   ]
  },
  {
   "cell_type": "code",
   "execution_count": 2,
   "metadata": {},
   "outputs": [],
   "source": [
    "import matplotlib.pyplot as plt"
   ]
  },
  {
   "cell_type": "code",
   "execution_count": 3,
   "metadata": {},
   "outputs": [],
   "source": [
    "S_o, S_m, I_o, I_m, R_o, R_m, r0s = run_simulation(\n",
    "    frac_ord = .5,\n",
    "    prop_infec=.001,\n",
    "    num_days=100,\n",
    "    beta_ord=.3,\n",
    "    recovery_days=7,\n",
    "    beta_mult=2,\n",
    "    w_homophily=True,\n",
    "    alpha = .9,\n",
    "    mixed=False,\n",
    "    counts=False,\n",
    "    N=None,\n",
    ")"
   ]
  },
  {
   "cell_type": "code",
   "execution_count": null,
   "metadata": {},
   "outputs": [],
   "source": []
  },
  {
   "cell_type": "code",
   "execution_count": null,
   "metadata": {},
   "outputs": [],
   "source": []
  },
  {
   "cell_type": "code",
   "execution_count": 4,
   "metadata": {},
   "outputs": [
    {
     "name": "stdout",
     "output_type": "stream",
     "text": [
      "True\n",
      "False\n"
     ]
    }
   ],
   "source": [
    "# Fraction of ordinary people\n",
    "x = .5\n",
    "\n",
    "# All beta values\n",
    "beta = .3\n",
    "beta_mult = 3\n",
    "\n",
    "# Less beta values highlighted for one of the later plots\n",
    "alphas = [0.5, 0.6, 0.7, 0.8, 0.9, 1.]\n",
    "alphas = np.arange(.5,1.02,.02)\n",
    "\n",
    "totals = []      # Total infections\n",
    "r0s_ = []        # R0 valuyes\n",
    "peak_days = []   # Date of each peak\n",
    "\n",
    "# Will store the progression of infections over time, indexed by beta values\n",
    "infection_flows = dict()\n",
    "\n",
    "totals_dict = dict()\n",
    "\n",
    "\n",
    "for mix in [True, False]:\n",
    "    \n",
    "    totals = []      # Total infections\n",
    "    \n",
    "    for alpha in alphas:\n",
    "\n",
    "        # Run the simulation based on the input \n",
    "        S_o, S_m, I_o, I_m, R_o, R_m, r0s = run_simulation(\n",
    "            frac_ord=x,\n",
    "            prop_infec=.001,\n",
    "            num_days=100,\n",
    "            beta_ord=beta,\n",
    "            recovery_days=5,\n",
    "            beta_mult=beta_mult,     # Multiple the current beta value by this to get the misinfo group beta\n",
    "            w_homophily=True,\n",
    "            alpha=alpha,\n",
    "            mixed=mix,\n",
    "        )\n",
    "        total_ord_inf = max(R_o)\n",
    "        total_mis_inf = max(R_m)\n",
    "\n",
    "        infection_flows[alpha] = I_o\n",
    "\n",
    "        r0s_.append( (r0s[0], r0s[1], r0s[2], beta) )\n",
    "\n",
    "        totals.append((alpha, total_ord_inf, total_mis_inf, total_ord_inf + total_mis_inf))\n",
    "    \n",
    "    totals_df = pd.DataFrame(totals, columns = ['alpha', 'ord_inf', 'mis_inf', 'total'])\n",
    "    totals_df = totals_df.melt(id_vars='alpha')\n",
    "\n",
    "    var_map ={\n",
    "        'mis_inf':'misinformed',\n",
    "        'ord_inf':'ordinary',\n",
    "        'total' : 'all'\n",
    "    }\n",
    "\n",
    "    totals_df.variable = totals_df.variable.map(var_map)\n",
    "    \n",
    "    print(mix)\n",
    "    if mix:\n",
    "        name = \"mixed\"\n",
    "    else:\n",
    "        name = \"not mixed\"\n",
    "    \n",
    "    totals_dict[name] = totals_df"
   ]
  },
  {
   "cell_type": "code",
   "execution_count": 5,
   "metadata": {},
   "outputs": [
    {
     "data": {
      "text/plain": [
       "2"
      ]
     },
     "execution_count": 5,
     "metadata": {},
     "output_type": "execute_result"
    }
   ],
   "source": [
    "len(totals_dict.keys())"
   ]
  },
  {
   "cell_type": "code",
   "execution_count": 6,
   "metadata": {},
   "outputs": [
    {
     "data": {
      "text/html": [
       "<div>\n",
       "<style scoped>\n",
       "    .dataframe tbody tr th:only-of-type {\n",
       "        vertical-align: middle;\n",
       "    }\n",
       "\n",
       "    .dataframe tbody tr th {\n",
       "        vertical-align: top;\n",
       "    }\n",
       "\n",
       "    .dataframe thead th {\n",
       "        text-align: right;\n",
       "    }\n",
       "</style>\n",
       "<table border=\"1\" class=\"dataframe\">\n",
       "  <thead>\n",
       "    <tr style=\"text-align: right;\">\n",
       "      <th></th>\n",
       "      <th>alpha</th>\n",
       "      <th>variable</th>\n",
       "      <th>value</th>\n",
       "    </tr>\n",
       "  </thead>\n",
       "  <tbody>\n",
       "    <tr>\n",
       "      <th>24</th>\n",
       "      <td>0.98</td>\n",
       "      <td>ordinary</td>\n",
       "      <td>0.300652</td>\n",
       "    </tr>\n",
       "    <tr>\n",
       "      <th>50</th>\n",
       "      <td>0.98</td>\n",
       "      <td>misinformed</td>\n",
       "      <td>0.497307</td>\n",
       "    </tr>\n",
       "    <tr>\n",
       "      <th>76</th>\n",
       "      <td>0.98</td>\n",
       "      <td>all</td>\n",
       "      <td>0.797958</td>\n",
       "    </tr>\n",
       "  </tbody>\n",
       "</table>\n",
       "</div>"
      ],
      "text/plain": [
       "    alpha     variable     value\n",
       "24   0.98     ordinary  0.300652\n",
       "50   0.98  misinformed  0.497307\n",
       "76   0.98          all  0.797958"
      ]
     },
     "execution_count": 6,
     "metadata": {},
     "output_type": "execute_result"
    }
   ],
   "source": [
    "totals_dict['mixed'][np.round(totals_dict['mixed']['alpha'],2) == .98]"
   ]
  },
  {
   "cell_type": "code",
   "execution_count": 7,
   "metadata": {},
   "outputs": [
    {
     "data": {
      "text/html": [
       "<div>\n",
       "<style scoped>\n",
       "    .dataframe tbody tr th:only-of-type {\n",
       "        vertical-align: middle;\n",
       "    }\n",
       "\n",
       "    .dataframe tbody tr th {\n",
       "        vertical-align: top;\n",
       "    }\n",
       "\n",
       "    .dataframe thead th {\n",
       "        text-align: right;\n",
       "    }\n",
       "</style>\n",
       "<table border=\"1\" class=\"dataframe\">\n",
       "  <thead>\n",
       "    <tr style=\"text-align: right;\">\n",
       "      <th></th>\n",
       "      <th>alpha</th>\n",
       "      <th>variable</th>\n",
       "      <th>value</th>\n",
       "    </tr>\n",
       "  </thead>\n",
       "  <tbody>\n",
       "    <tr>\n",
       "      <th>24</th>\n",
       "      <td>0.98</td>\n",
       "      <td>ordinary</td>\n",
       "      <td>0.300652</td>\n",
       "    </tr>\n",
       "    <tr>\n",
       "      <th>50</th>\n",
       "      <td>0.98</td>\n",
       "      <td>misinformed</td>\n",
       "      <td>0.497307</td>\n",
       "    </tr>\n",
       "    <tr>\n",
       "      <th>76</th>\n",
       "      <td>0.98</td>\n",
       "      <td>all</td>\n",
       "      <td>0.797958</td>\n",
       "    </tr>\n",
       "  </tbody>\n",
       "</table>\n",
       "</div>"
      ],
      "text/plain": [
       "    alpha     variable     value\n",
       "24   0.98     ordinary  0.300652\n",
       "50   0.98  misinformed  0.497307\n",
       "76   0.98          all  0.797958"
      ]
     },
     "execution_count": 7,
     "metadata": {},
     "output_type": "execute_result"
    }
   ],
   "source": [
    "totals_dict['mixed'][np.round(totals_dict['mixed']['alpha'],2) == .98]"
   ]
  },
  {
   "cell_type": "code",
   "execution_count": 8,
   "metadata": {},
   "outputs": [
    {
     "data": {
      "text/html": [
       "<div>\n",
       "<style scoped>\n",
       "    .dataframe tbody tr th:only-of-type {\n",
       "        vertical-align: middle;\n",
       "    }\n",
       "\n",
       "    .dataframe tbody tr th {\n",
       "        vertical-align: top;\n",
       "    }\n",
       "\n",
       "    .dataframe thead th {\n",
       "        text-align: right;\n",
       "    }\n",
       "</style>\n",
       "<table border=\"1\" class=\"dataframe\">\n",
       "  <thead>\n",
       "    <tr style=\"text-align: right;\">\n",
       "      <th></th>\n",
       "      <th>alpha</th>\n",
       "      <th>variable</th>\n",
       "      <th>value</th>\n",
       "    </tr>\n",
       "  </thead>\n",
       "  <tbody>\n",
       "    <tr>\n",
       "      <th>24</th>\n",
       "      <td>0.98</td>\n",
       "      <td>ordinary</td>\n",
       "      <td>0.300087</td>\n",
       "    </tr>\n",
       "    <tr>\n",
       "      <th>50</th>\n",
       "      <td>0.98</td>\n",
       "      <td>misinformed</td>\n",
       "      <td>0.497309</td>\n",
       "    </tr>\n",
       "    <tr>\n",
       "      <th>76</th>\n",
       "      <td>0.98</td>\n",
       "      <td>all</td>\n",
       "      <td>0.797396</td>\n",
       "    </tr>\n",
       "  </tbody>\n",
       "</table>\n",
       "</div>"
      ],
      "text/plain": [
       "    alpha     variable     value\n",
       "24   0.98     ordinary  0.300087\n",
       "50   0.98  misinformed  0.497309\n",
       "76   0.98          all  0.797396"
      ]
     },
     "execution_count": 8,
     "metadata": {},
     "output_type": "execute_result"
    }
   ],
   "source": [
    "totals_dict['not mixed'][np.round(totals_dict['not mixed']['alpha'],2) == .98]"
   ]
  },
  {
   "cell_type": "code",
   "execution_count": 9,
   "metadata": {},
   "outputs": [
    {
     "data": {
      "text/html": [
       "<div>\n",
       "<style scoped>\n",
       "    .dataframe tbody tr th:only-of-type {\n",
       "        vertical-align: middle;\n",
       "    }\n",
       "\n",
       "    .dataframe tbody tr th {\n",
       "        vertical-align: top;\n",
       "    }\n",
       "\n",
       "    .dataframe thead th {\n",
       "        text-align: right;\n",
       "    }\n",
       "</style>\n",
       "<table border=\"1\" class=\"dataframe\">\n",
       "  <thead>\n",
       "    <tr style=\"text-align: right;\">\n",
       "      <th></th>\n",
       "      <th>alpha</th>\n",
       "      <th>variable</th>\n",
       "      <th>value</th>\n",
       "    </tr>\n",
       "  </thead>\n",
       "  <tbody>\n",
       "    <tr>\n",
       "      <th>24</th>\n",
       "      <td>0.98</td>\n",
       "      <td>ordinary</td>\n",
       "      <td>0.300087</td>\n",
       "    </tr>\n",
       "    <tr>\n",
       "      <th>50</th>\n",
       "      <td>0.98</td>\n",
       "      <td>misinformed</td>\n",
       "      <td>0.497309</td>\n",
       "    </tr>\n",
       "    <tr>\n",
       "      <th>76</th>\n",
       "      <td>0.98</td>\n",
       "      <td>all</td>\n",
       "      <td>0.797396</td>\n",
       "    </tr>\n",
       "  </tbody>\n",
       "</table>\n",
       "</div>"
      ],
      "text/plain": [
       "    alpha     variable     value\n",
       "24   0.98     ordinary  0.300087\n",
       "50   0.98  misinformed  0.497309\n",
       "76   0.98          all  0.797396"
      ]
     },
     "execution_count": 9,
     "metadata": {},
     "output_type": "execute_result"
    }
   ],
   "source": [
    "totals_dict['not mixed'][np.round(totals_dict['not mixed']['alpha'],2) == .98]"
   ]
  },
  {
   "cell_type": "code",
   "execution_count": 10,
   "metadata": {},
   "outputs": [],
   "source": [
    "mixed__ = totals_dict['mixed'].copy()\n",
    "not_mixed__ = totals_dict['not mixed'].copy()"
   ]
  },
  {
   "cell_type": "code",
   "execution_count": 11,
   "metadata": {},
   "outputs": [],
   "source": [
    "mixed__['type'] = 'mixed'\n",
    "not_mixed__['type'] = 'not mixed'"
   ]
  },
  {
   "cell_type": "code",
   "execution_count": 12,
   "metadata": {},
   "outputs": [],
   "source": [
    "both_settings = pd.concat([mixed__, not_mixed__])"
   ]
  },
  {
   "cell_type": "code",
   "execution_count": 13,
   "metadata": {},
   "outputs": [
    {
     "data": {
      "text/plain": [
       "array(['ordinary', 'misinformed', 'all'], dtype=object)"
      ]
     },
     "execution_count": 13,
     "metadata": {},
     "output_type": "execute_result"
    }
   ],
   "source": [
    "both_settings.variable.unique()"
   ]
  },
  {
   "cell_type": "code",
   "execution_count": 66,
   "metadata": {},
   "outputs": [
    {
     "data": {
      "text/html": [
       "\n",
       "<div id=\"altair-viz-dc254067daed41d5a8445c3373d4ad2c\"></div>\n",
       "<script type=\"text/javascript\">\n",
       "  var VEGA_DEBUG = (typeof VEGA_DEBUG == \"undefined\") ? {} : VEGA_DEBUG;\n",
       "  (function(spec, embedOpt){\n",
       "    let outputDiv = document.currentScript.previousElementSibling;\n",
       "    if (outputDiv.id !== \"altair-viz-dc254067daed41d5a8445c3373d4ad2c\") {\n",
       "      outputDiv = document.getElementById(\"altair-viz-dc254067daed41d5a8445c3373d4ad2c\");\n",
       "    }\n",
       "    const paths = {\n",
       "      \"vega\": \"https://cdn.jsdelivr.net/npm//vega@5?noext\",\n",
       "      \"vega-lib\": \"https://cdn.jsdelivr.net/npm//vega-lib?noext\",\n",
       "      \"vega-lite\": \"https://cdn.jsdelivr.net/npm//vega-lite@4.17.0?noext\",\n",
       "      \"vega-embed\": \"https://cdn.jsdelivr.net/npm//vega-embed@6?noext\",\n",
       "    };\n",
       "\n",
       "    function maybeLoadScript(lib, version) {\n",
       "      var key = `${lib.replace(\"-\", \"\")}_version`;\n",
       "      return (VEGA_DEBUG[key] == version) ?\n",
       "        Promise.resolve(paths[lib]) :\n",
       "        new Promise(function(resolve, reject) {\n",
       "          var s = document.createElement('script');\n",
       "          document.getElementsByTagName(\"head\")[0].appendChild(s);\n",
       "          s.async = true;\n",
       "          s.onload = () => {\n",
       "            VEGA_DEBUG[key] = version;\n",
       "            return resolve(paths[lib]);\n",
       "          };\n",
       "          s.onerror = () => reject(`Error loading script: ${paths[lib]}`);\n",
       "          s.src = paths[lib];\n",
       "        });\n",
       "    }\n",
       "\n",
       "    function showError(err) {\n",
       "      outputDiv.innerHTML = `<div class=\"error\" style=\"color:red;\">${err}</div>`;\n",
       "      throw err;\n",
       "    }\n",
       "\n",
       "    function displayChart(vegaEmbed) {\n",
       "      vegaEmbed(outputDiv, spec, embedOpt)\n",
       "        .catch(err => showError(`Javascript Error: ${err.message}<br>This usually means there's a typo in your chart specification. See the javascript console for the full traceback.`));\n",
       "    }\n",
       "\n",
       "    if(typeof define === \"function\" && define.amd) {\n",
       "      requirejs.config({paths});\n",
       "      require([\"vega-embed\"], displayChart, err => showError(`Error loading script: ${err.message}`));\n",
       "    } else {\n",
       "      maybeLoadScript(\"vega\", \"5\")\n",
       "        .then(() => maybeLoadScript(\"vega-lite\", \"4.17.0\"))\n",
       "        .then(() => maybeLoadScript(\"vega-embed\", \"6\"))\n",
       "        .catch(showError)\n",
       "        .then(() => displayChart(vegaEmbed));\n",
       "    }\n",
       "  })({\"config\": {\"view\": {\"continuousWidth\": 400, \"continuousHeight\": 300}, \"axis\": {\"labelAngle\": 0, \"labelFontSize\": 14, \"titleFontSize\": 15}, \"legend\": {\"labelFontSize\": 14, \"titleFontSize\": 15}}, \"data\": {\"name\": \"data-70dc511eca4b8f2b7ed9a49fae01e89e\"}, \"mark\": {\"type\": \"point\", \"color\": \"black\", \"opacity\": 0.5, \"size\": 100}, \"encoding\": {\"shape\": {\"field\": \"variable\", \"scale\": {\"domain\": [\"ordinary\", \"misinformed\", \"all\"], \"range\": [\"circle\", \"square\", \"triangle\"]}, \"title\": \"group\", \"type\": \"nominal\"}, \"x\": {\"axis\": {\"format\": \".1f\"}, \"field\": \"alpha\", \"scale\": {\"domain\": [0.48, 1.02]}, \"type\": \"quantitative\"}, \"y\": {\"field\": \"value\", \"scale\": {\"domain\": [0, 1]}, \"title\": \"proportion of pop. infected\", \"type\": \"quantitative\"}}, \"width\": 700, \"$schema\": \"https://vega.github.io/schema/vega-lite/v4.17.0.json\", \"datasets\": {\"data-70dc511eca4b8f2b7ed9a49fae01e89e\": [{\"alpha\": 0.5, \"variable\": \"ordinary\", \"value\": 0.3673103579194692, \"type\": \"mixed\"}, {\"alpha\": 0.52, \"variable\": \"ordinary\", \"value\": 0.36598312747601386, \"type\": \"mixed\"}, {\"alpha\": 0.54, \"variable\": \"ordinary\", \"value\": 0.36460250210736395, \"type\": \"mixed\"}, {\"alpha\": 0.56, \"variable\": \"ordinary\", \"value\": 0.36316456078759135, \"type\": \"mixed\"}, {\"alpha\": 0.5800000000000001, \"variable\": \"ordinary\", \"value\": 0.36166494614533135, \"type\": \"mixed\"}, {\"alpha\": 0.6000000000000001, \"variable\": \"ordinary\", \"value\": 0.36009880301738445, \"type\": \"mixed\"}, {\"alpha\": 0.6200000000000001, \"variable\": \"ordinary\", \"value\": 0.35846070672617436, \"type\": \"mixed\"}, {\"alpha\": 0.6400000000000001, \"variable\": \"ordinary\", \"value\": 0.35674457874719845, \"type\": \"mixed\"}, {\"alpha\": 0.6600000000000001, \"variable\": \"ordinary\", \"value\": 0.35494358662575765, \"type\": \"mixed\"}, {\"alpha\": 0.6800000000000002, \"variable\": \"ordinary\", \"value\": 0.35305002385631257, \"type\": \"mixed\"}, {\"alpha\": 0.7000000000000002, \"variable\": \"ordinary\", \"value\": 0.3510551638029671, \"type\": \"mixed\"}, {\"alpha\": 0.7200000000000002, \"variable\": \"ordinary\", \"value\": 0.34894907938497954, \"type\": \"mixed\"}, {\"alpha\": 0.7400000000000002, \"variable\": \"ordinary\", \"value\": 0.3467204168046947, \"type\": \"mixed\"}, {\"alpha\": 0.7600000000000002, \"variable\": \"ordinary\", \"value\": 0.3443561064280304, \"type\": \"mixed\"}, {\"alpha\": 0.7800000000000002, \"variable\": \"ordinary\", \"value\": 0.3418409859251612, \"type\": \"mixed\"}, {\"alpha\": 0.8000000000000003, \"variable\": \"ordinary\", \"value\": 0.33915729785977705, \"type\": \"mixed\"}, {\"alpha\": 0.8200000000000003, \"variable\": \"ordinary\", \"value\": 0.3362840019538306, \"type\": \"mixed\"}, {\"alpha\": 0.8400000000000003, \"variable\": \"ordinary\", \"value\": 0.3331958024764776, \"type\": \"mixed\"}, {\"alpha\": 0.8600000000000003, \"variable\": \"ordinary\", \"value\": 0.32986171329549285, \"type\": \"mixed\"}, {\"alpha\": 0.8800000000000003, \"variable\": \"ordinary\", \"value\": 0.326242814943388, \"type\": \"mixed\"}, {\"alpha\": 0.9000000000000004, \"variable\": \"ordinary\", \"value\": 0.32228844766600195, \"type\": \"mixed\"}, {\"alpha\": 0.9200000000000004, \"variable\": \"ordinary\", \"value\": 0.3179289123712908, \"type\": \"mixed\"}, {\"alpha\": 0.9400000000000004, \"variable\": \"ordinary\", \"value\": 0.3130586215459647, \"type\": \"mixed\"}, {\"alpha\": 0.9600000000000004, \"variable\": \"ordinary\", \"value\": 0.30748393380398537, \"type\": \"mixed\"}, {\"alpha\": 0.9800000000000004, \"variable\": \"ordinary\", \"value\": 0.3006515233502478, \"type\": \"mixed\"}, {\"alpha\": 1.0000000000000004, \"variable\": \"ordinary\", \"value\": 0.28367714927847054, \"type\": \"mixed\"}, {\"alpha\": 0.5, \"variable\": \"misinformed\", \"value\": 0.4926836199493708, \"type\": \"mixed\"}, {\"alpha\": 0.52, \"variable\": \"misinformed\", \"value\": 0.49285700610667904, \"type\": \"mixed\"}, {\"alpha\": 0.54, \"variable\": \"misinformed\", \"value\": 0.4930308360805625, \"type\": \"mixed\"}, {\"alpha\": 0.56, \"variable\": \"misinformed\", \"value\": 0.4932052143872807, \"type\": \"mixed\"}, {\"alpha\": 0.5800000000000001, \"variable\": \"misinformed\", \"value\": 0.49338026087980935, \"type\": \"mixed\"}, {\"alpha\": 0.6000000000000001, \"variable\": \"misinformed\", \"value\": 0.49355611175964853, \"type\": \"mixed\"}, {\"alpha\": 0.6200000000000001, \"variable\": \"misinformed\", \"value\": 0.493732920287115, \"type\": \"mixed\"}, {\"alpha\": 0.6400000000000001, \"variable\": \"misinformed\", \"value\": 0.4939108570620565, \"type\": \"mixed\"}, {\"alpha\": 0.6600000000000001, \"variable\": \"misinformed\", \"value\": 0.4940901097371073, \"type\": \"mixed\"}, {\"alpha\": 0.6800000000000002, \"variable\": \"misinformed\", \"value\": 0.4942708820239013, \"type\": \"mixed\"}, {\"alpha\": 0.7000000000000002, \"variable\": \"misinformed\", \"value\": 0.4944533918610969, \"type\": \"mixed\"}, {\"alpha\": 0.7200000000000002, \"variable\": \"misinformed\", \"value\": 0.49463786863298537, \"type\": \"mixed\"}, {\"alpha\": 0.7400000000000002, \"variable\": \"misinformed\", \"value\": 0.49482454935941894, \"type\": \"mixed\"}, {\"alpha\": 0.7600000000000002, \"variable\": \"misinformed\", \"value\": 0.4950136738217925, \"type\": \"mixed\"}, {\"alpha\": 0.7800000000000002, \"variable\": \"misinformed\", \"value\": 0.49520547864581577, \"type\": \"mixed\"}, {\"alpha\": 0.8000000000000003, \"variable\": \"misinformed\", \"value\": 0.49540019043078315, \"type\": \"mixed\"}, {\"alpha\": 0.8200000000000003, \"variable\": \"misinformed\", \"value\": 0.4955980181009477, \"type\": \"mixed\"}, {\"alpha\": 0.8400000000000003, \"variable\": \"misinformed\", \"value\": 0.495799144768023, \"type\": \"mixed\"}, {\"alpha\": 0.8600000000000003, \"variable\": \"misinformed\", \"value\": 0.49600371955945327, \"type\": \"mixed\"}, {\"alpha\": 0.8800000000000003, \"variable\": \"misinformed\", \"value\": 0.49621185014085606, \"type\": \"mixed\"}, {\"alpha\": 0.9000000000000004, \"variable\": \"misinformed\", \"value\": 0.4964235971778152, \"type\": \"mixed\"}, {\"alpha\": 0.9200000000000004, \"variable\": \"misinformed\", \"value\": 0.49663897310408955, \"type\": \"mixed\"}, {\"alpha\": 0.9400000000000004, \"variable\": \"misinformed\", \"value\": 0.4968579504324949, \"type\": \"mixed\"}, {\"alpha\": 0.9600000000000004, \"variable\": \"misinformed\", \"value\": 0.49708049413668565, \"type\": \"mixed\"}, {\"alpha\": 0.9800000000000004, \"variable\": \"misinformed\", \"value\": 0.4973066793492884, \"type\": \"mixed\"}, {\"alpha\": 1.0000000000000004, \"variable\": \"misinformed\", \"value\": 0.49753807710493675, \"type\": \"mixed\"}, {\"alpha\": 0.5, \"variable\": \"all\", \"value\": 0.85999397786884, \"type\": \"mixed\"}, {\"alpha\": 0.52, \"variable\": \"all\", \"value\": 0.858840133582693, \"type\": \"mixed\"}, {\"alpha\": 0.54, \"variable\": \"all\", \"value\": 0.8576333381879264, \"type\": \"mixed\"}, {\"alpha\": 0.56, \"variable\": \"all\", \"value\": 0.856369775174872, \"type\": \"mixed\"}, {\"alpha\": 0.5800000000000001, \"variable\": \"all\", \"value\": 0.8550452070251406, \"type\": \"mixed\"}, {\"alpha\": 0.6000000000000001, \"variable\": \"all\", \"value\": 0.8536549147770329, \"type\": \"mixed\"}, {\"alpha\": 0.6200000000000001, \"variable\": \"all\", \"value\": 0.8521936270132894, \"type\": \"mixed\"}, {\"alpha\": 0.6400000000000001, \"variable\": \"all\", \"value\": 0.850655435809255, \"type\": \"mixed\"}, {\"alpha\": 0.6600000000000001, \"variable\": \"all\", \"value\": 0.849033696362865, \"type\": \"mixed\"}, {\"alpha\": 0.6800000000000002, \"variable\": \"all\", \"value\": 0.8473209058802138, \"type\": \"mixed\"}, {\"alpha\": 0.7000000000000002, \"variable\": \"all\", \"value\": 0.845508555664064, \"type\": \"mixed\"}, {\"alpha\": 0.7200000000000002, \"variable\": \"all\", \"value\": 0.843586948017965, \"type\": \"mixed\"}, {\"alpha\": 0.7400000000000002, \"variable\": \"all\", \"value\": 0.8415449661641137, \"type\": \"mixed\"}, {\"alpha\": 0.7600000000000002, \"variable\": \"all\", \"value\": 0.8393697802498229, \"type\": \"mixed\"}, {\"alpha\": 0.7800000000000002, \"variable\": \"all\", \"value\": 0.837046464570977, \"type\": \"mixed\"}, {\"alpha\": 0.8000000000000003, \"variable\": \"all\", \"value\": 0.8345574882905602, \"type\": \"mixed\"}, {\"alpha\": 0.8200000000000003, \"variable\": \"all\", \"value\": 0.8318820200547783, \"type\": \"mixed\"}, {\"alpha\": 0.8400000000000003, \"variable\": \"all\", \"value\": 0.8289949472445006, \"type\": \"mixed\"}, {\"alpha\": 0.8600000000000003, \"variable\": \"all\", \"value\": 0.8258654328549462, \"type\": \"mixed\"}, {\"alpha\": 0.8800000000000003, \"variable\": \"all\", \"value\": 0.8224546650842441, \"type\": \"mixed\"}, {\"alpha\": 0.9000000000000004, \"variable\": \"all\", \"value\": 0.8187120448438172, \"type\": \"mixed\"}, {\"alpha\": 0.9200000000000004, \"variable\": \"all\", \"value\": 0.8145678854753804, \"type\": \"mixed\"}, {\"alpha\": 0.9400000000000004, \"variable\": \"all\", \"value\": 0.8099165719784596, \"type\": \"mixed\"}, {\"alpha\": 0.9600000000000004, \"variable\": \"all\", \"value\": 0.804564427940671, \"type\": \"mixed\"}, {\"alpha\": 0.9800000000000004, \"variable\": \"all\", \"value\": 0.7979582026995362, \"type\": \"mixed\"}, {\"alpha\": 1.0000000000000004, \"variable\": \"all\", \"value\": 0.7812152263834073, \"type\": \"mixed\"}]}}, {\"scale\": 2, \"mode\": \"vega-lite\"});\n",
       "</script>"
      ],
      "text/plain": [
       "alt.Chart(...)"
      ]
     },
     "metadata": {},
     "output_type": "display_data"
    }
   ],
   "source": [
    "shape_styles = {\n",
    "    'ordinary' : 'circle',\n",
    "    'misinformed' : 'square',\n",
    "    'all' : \"triangle\"\n",
    "}\n",
    "\n",
    "\n",
    "alt.Chart(\n",
    "#     both_settings[both_settings['type']=='not mixed'],\n",
    "    both_settings[both_settings['type']=='mixed'],\n",
    ").mark_point(size = 100, color='black', opacity=.5).encode(\n",
    "    x = alt.X(\n",
    "        'alpha:Q',\n",
    "        axis = alt.Axis(format=\".1f\"),\n",
    "        scale = alt.Scale(domain=(.48,1.02))\n",
    "    ),\n",
    "    y = alt.Y(\n",
    "        \"value\",\n",
    "        title=\"proportion of pop. infected\",\n",
    "        scale=alt.Scale(domain=(0,1))\n",
    "    ),\n",
    "#     color = alt.Color(\n",
    "#         \"type:N\",\n",
    "#         title='initial setting',\n",
    "#         scale = alt.Scale(\n",
    "#             domain = ['mixed', 'not mixed'],\n",
    "#             range = ['black', 'red']\n",
    "#         )\n",
    "#     ),\n",
    "    shape = alt.Shape(\n",
    "        \"variable:N\",\n",
    "        title=\"group\",\n",
    "        scale=alt.Scale(\n",
    "            domain=list(shape_styles.keys()),\n",
    "            range=list(shape_styles.values()),\n",
    "        )\n",
    "    )\n",
    ").properties(width=700).configure_axis(\n",
    "    titleFontSize=15,\n",
    "    labelFontSize=14,\n",
    "    labelAngle=0\n",
    ").configure_legend(\n",
    "    titleFontSize=15,\n",
    "    labelFontSize=14\n",
    ").display(\n",
    "    scale = 2\n",
    ")"
   ]
  },
  {
   "cell_type": "code",
   "execution_count": 68,
   "metadata": {},
   "outputs": [
    {
     "data": {
      "text/html": [
       "<div>\n",
       "<style scoped>\n",
       "    .dataframe tbody tr th:only-of-type {\n",
       "        vertical-align: middle;\n",
       "    }\n",
       "\n",
       "    .dataframe tbody tr th {\n",
       "        vertical-align: top;\n",
       "    }\n",
       "\n",
       "    .dataframe thead th {\n",
       "        text-align: right;\n",
       "    }\n",
       "</style>\n",
       "<table border=\"1\" class=\"dataframe\">\n",
       "  <thead>\n",
       "    <tr style=\"text-align: right;\">\n",
       "      <th></th>\n",
       "      <th>alpha</th>\n",
       "      <th>variable</th>\n",
       "      <th>value</th>\n",
       "    </tr>\n",
       "  </thead>\n",
       "  <tbody>\n",
       "    <tr>\n",
       "      <th>0</th>\n",
       "      <td>0.50</td>\n",
       "      <td>ordinary</td>\n",
       "      <td>0.367310</td>\n",
       "    </tr>\n",
       "    <tr>\n",
       "      <th>1</th>\n",
       "      <td>0.52</td>\n",
       "      <td>ordinary</td>\n",
       "      <td>0.365983</td>\n",
       "    </tr>\n",
       "    <tr>\n",
       "      <th>2</th>\n",
       "      <td>0.54</td>\n",
       "      <td>ordinary</td>\n",
       "      <td>0.364603</td>\n",
       "    </tr>\n",
       "    <tr>\n",
       "      <th>3</th>\n",
       "      <td>0.56</td>\n",
       "      <td>ordinary</td>\n",
       "      <td>0.363165</td>\n",
       "    </tr>\n",
       "    <tr>\n",
       "      <th>4</th>\n",
       "      <td>0.58</td>\n",
       "      <td>ordinary</td>\n",
       "      <td>0.361665</td>\n",
       "    </tr>\n",
       "    <tr>\n",
       "      <th>...</th>\n",
       "      <td>...</td>\n",
       "      <td>...</td>\n",
       "      <td>...</td>\n",
       "    </tr>\n",
       "    <tr>\n",
       "      <th>73</th>\n",
       "      <td>0.92</td>\n",
       "      <td>all</td>\n",
       "      <td>0.814568</td>\n",
       "    </tr>\n",
       "    <tr>\n",
       "      <th>74</th>\n",
       "      <td>0.94</td>\n",
       "      <td>all</td>\n",
       "      <td>0.809917</td>\n",
       "    </tr>\n",
       "    <tr>\n",
       "      <th>75</th>\n",
       "      <td>0.96</td>\n",
       "      <td>all</td>\n",
       "      <td>0.804564</td>\n",
       "    </tr>\n",
       "    <tr>\n",
       "      <th>76</th>\n",
       "      <td>0.98</td>\n",
       "      <td>all</td>\n",
       "      <td>0.797958</td>\n",
       "    </tr>\n",
       "    <tr>\n",
       "      <th>77</th>\n",
       "      <td>1.00</td>\n",
       "      <td>all</td>\n",
       "      <td>0.781215</td>\n",
       "    </tr>\n",
       "  </tbody>\n",
       "</table>\n",
       "<p>78 rows × 3 columns</p>\n",
       "</div>"
      ],
      "text/plain": [
       "    alpha  variable     value\n",
       "0    0.50  ordinary  0.367310\n",
       "1    0.52  ordinary  0.365983\n",
       "2    0.54  ordinary  0.364603\n",
       "3    0.56  ordinary  0.363165\n",
       "4    0.58  ordinary  0.361665\n",
       "..    ...       ...       ...\n",
       "73   0.92       all  0.814568\n",
       "74   0.94       all  0.809917\n",
       "75   0.96       all  0.804564\n",
       "76   0.98       all  0.797958\n",
       "77   1.00       all  0.781215\n",
       "\n",
       "[78 rows x 3 columns]"
      ]
     },
     "execution_count": 68,
     "metadata": {},
     "output_type": "execute_result"
    }
   ],
   "source": [
    "totals_dict['mixed']"
   ]
  },
  {
   "cell_type": "code",
   "execution_count": 15,
   "metadata": {},
   "outputs": [
    {
     "data": {
      "text/html": [
       "\n",
       "<div id=\"altair-viz-e2203059832a40f0a0cc4147360a6392\"></div>\n",
       "<script type=\"text/javascript\">\n",
       "  var VEGA_DEBUG = (typeof VEGA_DEBUG == \"undefined\") ? {} : VEGA_DEBUG;\n",
       "  (function(spec, embedOpt){\n",
       "    let outputDiv = document.currentScript.previousElementSibling;\n",
       "    if (outputDiv.id !== \"altair-viz-e2203059832a40f0a0cc4147360a6392\") {\n",
       "      outputDiv = document.getElementById(\"altair-viz-e2203059832a40f0a0cc4147360a6392\");\n",
       "    }\n",
       "    const paths = {\n",
       "      \"vega\": \"https://cdn.jsdelivr.net/npm//vega@5?noext\",\n",
       "      \"vega-lib\": \"https://cdn.jsdelivr.net/npm//vega-lib?noext\",\n",
       "      \"vega-lite\": \"https://cdn.jsdelivr.net/npm//vega-lite@4.17.0?noext\",\n",
       "      \"vega-embed\": \"https://cdn.jsdelivr.net/npm//vega-embed@6?noext\",\n",
       "    };\n",
       "\n",
       "    function maybeLoadScript(lib, version) {\n",
       "      var key = `${lib.replace(\"-\", \"\")}_version`;\n",
       "      return (VEGA_DEBUG[key] == version) ?\n",
       "        Promise.resolve(paths[lib]) :\n",
       "        new Promise(function(resolve, reject) {\n",
       "          var s = document.createElement('script');\n",
       "          document.getElementsByTagName(\"head\")[0].appendChild(s);\n",
       "          s.async = true;\n",
       "          s.onload = () => {\n",
       "            VEGA_DEBUG[key] = version;\n",
       "            return resolve(paths[lib]);\n",
       "          };\n",
       "          s.onerror = () => reject(`Error loading script: ${paths[lib]}`);\n",
       "          s.src = paths[lib];\n",
       "        });\n",
       "    }\n",
       "\n",
       "    function showError(err) {\n",
       "      outputDiv.innerHTML = `<div class=\"error\" style=\"color:red;\">${err}</div>`;\n",
       "      throw err;\n",
       "    }\n",
       "\n",
       "    function displayChart(vegaEmbed) {\n",
       "      vegaEmbed(outputDiv, spec, embedOpt)\n",
       "        .catch(err => showError(`Javascript Error: ${err.message}<br>This usually means there's a typo in your chart specification. See the javascript console for the full traceback.`));\n",
       "    }\n",
       "\n",
       "    if(typeof define === \"function\" && define.amd) {\n",
       "      requirejs.config({paths});\n",
       "      require([\"vega-embed\"], displayChart, err => showError(`Error loading script: ${err.message}`));\n",
       "    } else {\n",
       "      maybeLoadScript(\"vega\", \"5\")\n",
       "        .then(() => maybeLoadScript(\"vega-lite\", \"4.17.0\"))\n",
       "        .then(() => maybeLoadScript(\"vega-embed\", \"6\"))\n",
       "        .catch(showError)\n",
       "        .then(() => displayChart(vegaEmbed));\n",
       "    }\n",
       "  })({\"config\": {\"view\": {\"continuousWidth\": 400, \"continuousHeight\": 300}, \"axis\": {\"labelAngle\": 0, \"labelFontSize\": 14, \"titleFontSize\": 16}, \"legend\": {\"labelFontSize\": 14, \"titleFontSize\": 15}, \"title\": {\"fontSize\": 14, \"offset\": -5}}, \"hconcat\": [{\"data\": {\"name\": \"data-2c2aec229067f803aa017ae4e93ce4d0\"}, \"mark\": \"point\", \"encoding\": {\"color\": {\"field\": \"variable\", \"title\": \"group\", \"type\": \"nominal\"}, \"x\": {\"axis\": {\"format\": \".1f\"}, \"field\": \"alpha\", \"scale\": {\"domain\": [0.48, 1.02]}, \"type\": \"quantitative\"}, \"y\": {\"field\": \"value\", \"scale\": {\"domain\": [0, 1]}, \"title\": \"proportion of pop. infected\", \"type\": \"quantitative\"}}, \"title\": \"mixed\", \"width\": 300}, {\"data\": {\"name\": \"data-448e29f44092a56def3b2a304842a2fd\"}, \"mark\": \"point\", \"encoding\": {\"color\": {\"field\": \"variable\", \"title\": \"group\", \"type\": \"nominal\"}, \"x\": {\"axis\": {\"format\": \".1f\"}, \"field\": \"alpha\", \"scale\": {\"domain\": [0.48, 1.02]}, \"type\": \"quantitative\"}, \"y\": {\"axis\": {\"title\": null}, \"field\": \"value\", \"scale\": {\"domain\": [0, 1]}, \"type\": \"quantitative\"}}, \"title\": \"not mixed\", \"width\": 300}], \"$schema\": \"https://vega.github.io/schema/vega-lite/v4.17.0.json\", \"datasets\": {\"data-2c2aec229067f803aa017ae4e93ce4d0\": [{\"alpha\": 0.5, \"variable\": \"ordinary\", \"value\": 0.3673103579194692}, {\"alpha\": 0.52, \"variable\": \"ordinary\", \"value\": 0.36598312747601386}, {\"alpha\": 0.54, \"variable\": \"ordinary\", \"value\": 0.36460250210736395}, {\"alpha\": 0.56, \"variable\": \"ordinary\", \"value\": 0.36316456078759135}, {\"alpha\": 0.5800000000000001, \"variable\": \"ordinary\", \"value\": 0.36166494614533135}, {\"alpha\": 0.6000000000000001, \"variable\": \"ordinary\", \"value\": 0.36009880301738445}, {\"alpha\": 0.6200000000000001, \"variable\": \"ordinary\", \"value\": 0.35846070672617436}, {\"alpha\": 0.6400000000000001, \"variable\": \"ordinary\", \"value\": 0.35674457874719845}, {\"alpha\": 0.6600000000000001, \"variable\": \"ordinary\", \"value\": 0.35494358662575765}, {\"alpha\": 0.6800000000000002, \"variable\": \"ordinary\", \"value\": 0.35305002385631257}, {\"alpha\": 0.7000000000000002, \"variable\": \"ordinary\", \"value\": 0.3510551638029671}, {\"alpha\": 0.7200000000000002, \"variable\": \"ordinary\", \"value\": 0.34894907938497954}, {\"alpha\": 0.7400000000000002, \"variable\": \"ordinary\", \"value\": 0.3467204168046947}, {\"alpha\": 0.7600000000000002, \"variable\": \"ordinary\", \"value\": 0.3443561064280304}, {\"alpha\": 0.7800000000000002, \"variable\": \"ordinary\", \"value\": 0.3418409859251612}, {\"alpha\": 0.8000000000000003, \"variable\": \"ordinary\", \"value\": 0.33915729785977705}, {\"alpha\": 0.8200000000000003, \"variable\": \"ordinary\", \"value\": 0.3362840019538306}, {\"alpha\": 0.8400000000000003, \"variable\": \"ordinary\", \"value\": 0.3331958024764776}, {\"alpha\": 0.8600000000000003, \"variable\": \"ordinary\", \"value\": 0.32986171329549285}, {\"alpha\": 0.8800000000000003, \"variable\": \"ordinary\", \"value\": 0.326242814943388}, {\"alpha\": 0.9000000000000004, \"variable\": \"ordinary\", \"value\": 0.32228844766600195}, {\"alpha\": 0.9200000000000004, \"variable\": \"ordinary\", \"value\": 0.3179289123712908}, {\"alpha\": 0.9400000000000004, \"variable\": \"ordinary\", \"value\": 0.3130586215459647}, {\"alpha\": 0.9600000000000004, \"variable\": \"ordinary\", \"value\": 0.30748393380398537}, {\"alpha\": 0.9800000000000004, \"variable\": \"ordinary\", \"value\": 0.3006515233502478}, {\"alpha\": 1.0000000000000004, \"variable\": \"ordinary\", \"value\": 0.28367714927847054}, {\"alpha\": 0.5, \"variable\": \"misinformed\", \"value\": 0.4926836199493708}, {\"alpha\": 0.52, \"variable\": \"misinformed\", \"value\": 0.49285700610667904}, {\"alpha\": 0.54, \"variable\": \"misinformed\", \"value\": 0.4930308360805625}, {\"alpha\": 0.56, \"variable\": \"misinformed\", \"value\": 0.4932052143872807}, {\"alpha\": 0.5800000000000001, \"variable\": \"misinformed\", \"value\": 0.49338026087980935}, {\"alpha\": 0.6000000000000001, \"variable\": \"misinformed\", \"value\": 0.49355611175964853}, {\"alpha\": 0.6200000000000001, \"variable\": \"misinformed\", \"value\": 0.493732920287115}, {\"alpha\": 0.6400000000000001, \"variable\": \"misinformed\", \"value\": 0.4939108570620565}, {\"alpha\": 0.6600000000000001, \"variable\": \"misinformed\", \"value\": 0.4940901097371073}, {\"alpha\": 0.6800000000000002, \"variable\": \"misinformed\", \"value\": 0.4942708820239013}, {\"alpha\": 0.7000000000000002, \"variable\": \"misinformed\", \"value\": 0.4944533918610969}, {\"alpha\": 0.7200000000000002, \"variable\": \"misinformed\", \"value\": 0.49463786863298537}, {\"alpha\": 0.7400000000000002, \"variable\": \"misinformed\", \"value\": 0.49482454935941894}, {\"alpha\": 0.7600000000000002, \"variable\": \"misinformed\", \"value\": 0.4950136738217925}, {\"alpha\": 0.7800000000000002, \"variable\": \"misinformed\", \"value\": 0.49520547864581577}, {\"alpha\": 0.8000000000000003, \"variable\": \"misinformed\", \"value\": 0.49540019043078315}, {\"alpha\": 0.8200000000000003, \"variable\": \"misinformed\", \"value\": 0.4955980181009477}, {\"alpha\": 0.8400000000000003, \"variable\": \"misinformed\", \"value\": 0.495799144768023}, {\"alpha\": 0.8600000000000003, \"variable\": \"misinformed\", \"value\": 0.49600371955945327}, {\"alpha\": 0.8800000000000003, \"variable\": \"misinformed\", \"value\": 0.49621185014085606}, {\"alpha\": 0.9000000000000004, \"variable\": \"misinformed\", \"value\": 0.4964235971778152}, {\"alpha\": 0.9200000000000004, \"variable\": \"misinformed\", \"value\": 0.49663897310408955}, {\"alpha\": 0.9400000000000004, \"variable\": \"misinformed\", \"value\": 0.4968579504324949}, {\"alpha\": 0.9600000000000004, \"variable\": \"misinformed\", \"value\": 0.49708049413668565}, {\"alpha\": 0.9800000000000004, \"variable\": \"misinformed\", \"value\": 0.4973066793492884}, {\"alpha\": 1.0000000000000004, \"variable\": \"misinformed\", \"value\": 0.49753807710493675}, {\"alpha\": 0.5, \"variable\": \"all\", \"value\": 0.85999397786884}, {\"alpha\": 0.52, \"variable\": \"all\", \"value\": 0.858840133582693}, {\"alpha\": 0.54, \"variable\": \"all\", \"value\": 0.8576333381879264}, {\"alpha\": 0.56, \"variable\": \"all\", \"value\": 0.856369775174872}, {\"alpha\": 0.5800000000000001, \"variable\": \"all\", \"value\": 0.8550452070251406}, {\"alpha\": 0.6000000000000001, \"variable\": \"all\", \"value\": 0.8536549147770329}, {\"alpha\": 0.6200000000000001, \"variable\": \"all\", \"value\": 0.8521936270132894}, {\"alpha\": 0.6400000000000001, \"variable\": \"all\", \"value\": 0.850655435809255}, {\"alpha\": 0.6600000000000001, \"variable\": \"all\", \"value\": 0.849033696362865}, {\"alpha\": 0.6800000000000002, \"variable\": \"all\", \"value\": 0.8473209058802138}, {\"alpha\": 0.7000000000000002, \"variable\": \"all\", \"value\": 0.845508555664064}, {\"alpha\": 0.7200000000000002, \"variable\": \"all\", \"value\": 0.843586948017965}, {\"alpha\": 0.7400000000000002, \"variable\": \"all\", \"value\": 0.8415449661641137}, {\"alpha\": 0.7600000000000002, \"variable\": \"all\", \"value\": 0.8393697802498229}, {\"alpha\": 0.7800000000000002, \"variable\": \"all\", \"value\": 0.837046464570977}, {\"alpha\": 0.8000000000000003, \"variable\": \"all\", \"value\": 0.8345574882905602}, {\"alpha\": 0.8200000000000003, \"variable\": \"all\", \"value\": 0.8318820200547783}, {\"alpha\": 0.8400000000000003, \"variable\": \"all\", \"value\": 0.8289949472445006}, {\"alpha\": 0.8600000000000003, \"variable\": \"all\", \"value\": 0.8258654328549462}, {\"alpha\": 0.8800000000000003, \"variable\": \"all\", \"value\": 0.8224546650842441}, {\"alpha\": 0.9000000000000004, \"variable\": \"all\", \"value\": 0.8187120448438172}, {\"alpha\": 0.9200000000000004, \"variable\": \"all\", \"value\": 0.8145678854753804}, {\"alpha\": 0.9400000000000004, \"variable\": \"all\", \"value\": 0.8099165719784596}, {\"alpha\": 0.9600000000000004, \"variable\": \"all\", \"value\": 0.804564427940671}, {\"alpha\": 0.9800000000000004, \"variable\": \"all\", \"value\": 0.7979582026995362}, {\"alpha\": 1.0000000000000004, \"variable\": \"all\", \"value\": 0.7812152263834073}], \"data-448e29f44092a56def3b2a304842a2fd\": [{\"alpha\": 0.5, \"variable\": \"ordinary\", \"value\": 0.36713826498862173}, {\"alpha\": 0.52, \"variable\": \"ordinary\", \"value\": 0.36580779064415325}, {\"alpha\": 0.54, \"variable\": \"ordinary\", \"value\": 0.3644237939857281}, {\"alpha\": 0.56, \"variable\": \"ordinary\", \"value\": 0.36298234152607756}, {\"alpha\": 0.5800000000000001, \"variable\": \"ordinary\", \"value\": 0.3614790581445411}, {\"alpha\": 0.6000000000000001, \"variable\": \"ordinary\", \"value\": 0.3599090637311494}, {\"alpha\": 0.6200000000000001, \"variable\": \"ordinary\", \"value\": 0.3582668992634905}, {\"alpha\": 0.6400000000000001, \"variable\": \"ordinary\", \"value\": 0.35654644005234115}, {\"alpha\": 0.6600000000000001, \"variable\": \"ordinary\", \"value\": 0.3547407931093276}, {\"alpha\": 0.6800000000000002, \"variable\": \"ordinary\", \"value\": 0.35284217445216576}, {\"alpha\": 0.7000000000000002, \"variable\": \"ordinary\", \"value\": 0.3508417605135543}, {\"alpha\": 0.7200000000000002, \"variable\": \"ordinary\", \"value\": 0.34872950542380193}, {\"alpha\": 0.7400000000000002, \"variable\": \"ordinary\", \"value\": 0.34649391242312816}, {\"alpha\": 0.7600000000000002, \"variable\": \"ordinary\", \"value\": 0.3441217424041247}, {\"alpha\": 0.7800000000000002, \"variable\": \"ordinary\", \"value\": 0.34159763448326974}, {\"alpha\": 0.8000000000000003, \"variable\": \"ordinary\", \"value\": 0.3389036004828282}, {\"alpha\": 0.8200000000000003, \"variable\": \"ordinary\", \"value\": 0.33601833314980173}, {\"alpha\": 0.8400000000000003, \"variable\": \"ordinary\", \"value\": 0.3329162280337832}, {\"alpha\": 0.8600000000000003, \"variable\": \"ordinary\", \"value\": 0.3295659406297383}, {\"alpha\": 0.8800000000000003, \"variable\": \"ordinary\", \"value\": 0.3259281302883209}, {\"alpha\": 0.9000000000000004, \"variable\": \"ordinary\", \"value\": 0.32195162232942204}, {\"alpha\": 0.9200000000000004, \"variable\": \"ordinary\", \"value\": 0.31756599520140455}, {\"alpha\": 0.9400000000000004, \"variable\": \"ordinary\", \"value\": 0.31266413603659426}, {\"alpha\": 0.9600000000000004, \"variable\": \"ordinary\", \"value\": 0.3070457316479565}, {\"alpha\": 0.9800000000000004, \"variable\": \"ordinary\", \"value\": 0.30008718743580814}, {\"alpha\": 1.0000000000000004, \"variable\": \"ordinary\", \"value\": 0.0}, {\"alpha\": 0.5, \"variable\": \"misinformed\", \"value\": 0.49268242433291026}, {\"alpha\": 0.52, \"variable\": \"misinformed\", \"value\": 0.49285574065888116}, {\"alpha\": 0.54, \"variable\": \"misinformed\", \"value\": 0.49302947404613096}, {\"alpha\": 0.56, \"variable\": \"misinformed\", \"value\": 0.4932037266985825}, {\"alpha\": 0.5800000000000001, \"variable\": \"misinformed\", \"value\": 0.4933786167337568}, {\"alpha\": 0.6000000000000001, \"variable\": \"misinformed\", \"value\": 0.4935542795610841}, {\"alpha\": 0.6200000000000001, \"variable\": \"misinformed\", \"value\": 0.4937308690126776}, {\"alpha\": 0.6400000000000001, \"variable\": \"misinformed\", \"value\": 0.49390855807217665}, {\"alpha\": 0.6600000000000001, \"variable\": \"misinformed\", \"value\": 0.49408753902666486}, {\"alpha\": 0.6800000000000002, \"variable\": \"misinformed\", \"value\": 0.4942680228570644}, {\"alpha\": 0.7000000000000002, \"variable\": \"misinformed\", \"value\": 0.49445023768785096}, {\"alpha\": 0.7200000000000002, \"variable\": \"misinformed\", \"value\": 0.4946344261399205}, {\"alpha\": 0.7400000000000002, \"variable\": \"misinformed\", \"value\": 0.49482084147189737}, {\"alpha\": 0.7600000000000002, \"variable\": \"misinformed\", \"value\": 0.4950097424539938}, {\"alpha\": 0.7800000000000002, \"variable\": \"misinformed\", \"value\": 0.49520138699287075}, {\"alpha\": 0.8000000000000003, \"variable\": \"misinformed\", \"value\": 0.4953960246142685}, {\"alpha\": 0.8200000000000003, \"variable\": \"misinformed\", \"value\": 0.4955938880140659}, {\"alpha\": 0.8400000000000003, \"variable\": \"misinformed\", \"value\": 0.4957951840168328}, {\"alpha\": 0.8600000000000003, \"variable\": \"misinformed\", \"value\": 0.4960000844582204}, {\"alpha\": 0.8800000000000003, \"variable\": \"misinformed\", \"value\": 0.4962087177896999}, {\"alpha\": 0.9000000000000004, \"variable\": \"misinformed\", \"value\": 0.49642116272497}, {\"alpha\": 0.9200000000000004, \"variable\": \"misinformed\", \"value\": 0.49663744635749685}, {\"alpha\": 0.9400000000000004, \"variable\": \"misinformed\", \"value\": 0.49685755191638814}, {\"alpha\": 0.9600000000000004, \"variable\": \"misinformed\", \"value\": 0.49708144956730477}, {\"alpha\": 0.9800000000000004, \"variable\": \"misinformed\", \"value\": 0.4973091992877608}, {\"alpha\": 1.0000000000000004, \"variable\": \"misinformed\", \"value\": 0.49754264141166354}, {\"alpha\": 0.5, \"variable\": \"all\", \"value\": 0.859820689321532}, {\"alpha\": 0.52, \"variable\": \"all\", \"value\": 0.8586635313030344}, {\"alpha\": 0.54, \"variable\": \"all\", \"value\": 0.8574532680318591}, {\"alpha\": 0.56, \"variable\": \"all\", \"value\": 0.85618606822466}, {\"alpha\": 0.5800000000000001, \"variable\": \"all\", \"value\": 0.8548576748782979}, {\"alpha\": 0.6000000000000001, \"variable\": \"all\", \"value\": 0.8534633432922335}, {\"alpha\": 0.6200000000000001, \"variable\": \"all\", \"value\": 0.8519977682761681}, {\"alpha\": 0.6400000000000001, \"variable\": \"all\", \"value\": 0.8504549981245177}, {\"alpha\": 0.6600000000000001, \"variable\": \"all\", \"value\": 0.8488283321359924}, {\"alpha\": 0.6800000000000002, \"variable\": \"all\", \"value\": 0.8471101973092301}, {\"alpha\": 0.7000000000000002, \"variable\": \"all\", \"value\": 0.8452919982014053}, {\"alpha\": 0.7200000000000002, \"variable\": \"all\", \"value\": 0.8433639315637225}, {\"alpha\": 0.7400000000000002, \"variable\": \"all\", \"value\": 0.8413147538950255}, {\"alpha\": 0.7600000000000002, \"variable\": \"all\", \"value\": 0.8391314848581185}, {\"alpha\": 0.7800000000000002, \"variable\": \"all\", \"value\": 0.8367990214761405}, {\"alpha\": 0.8000000000000003, \"variable\": \"all\", \"value\": 0.8342996250970967}, {\"alpha\": 0.8200000000000003, \"variable\": \"all\", \"value\": 0.8316122211638677}, {\"alpha\": 0.8400000000000003, \"variable\": \"all\", \"value\": 0.828711412050616}, {\"alpha\": 0.8600000000000003, \"variable\": \"all\", \"value\": 0.8255660250879587}, {\"alpha\": 0.8800000000000003, \"variable\": \"all\", \"value\": 0.8221368480780208}, {\"alpha\": 0.9000000000000004, \"variable\": \"all\", \"value\": 0.818372785054392}, {\"alpha\": 0.9200000000000004, \"variable\": \"all\", \"value\": 0.8142034415589015}, {\"alpha\": 0.9400000000000004, \"variable\": \"all\", \"value\": 0.8095216879529824}, {\"alpha\": 0.9600000000000004, \"variable\": \"all\", \"value\": 0.8041271812152613}, {\"alpha\": 0.9800000000000004, \"variable\": \"all\", \"value\": 0.7973963867235689}, {\"alpha\": 1.0000000000000004, \"variable\": \"all\", \"value\": 0.49754264141166354}]}}, {\"mode\": \"vega-lite\"});\n",
       "</script>"
      ],
      "text/plain": [
       "alt.HConcatChart(...)"
      ]
     },
     "execution_count": 15,
     "metadata": {},
     "output_type": "execute_result"
    }
   ],
   "source": [
    "mixed = alt.Chart(\n",
    "    totals_dict['mixed'],\n",
    "    title = 'mixed'\n",
    ").mark_point().encode(\n",
    "    x = alt.X(\n",
    "        'alpha:Q',\n",
    "        axis = alt.Axis(format=\".1f\"),\n",
    "        scale = alt.Scale(domain=(.48,1.02))\n",
    "    ),\n",
    "    y = alt.Y(\n",
    "        \"value\",\n",
    "        title=\"proportion of pop. infected\",\n",
    "        scale=alt.Scale(domain=(0,1))\n",
    "    ),\n",
    "    color = alt.Color(\n",
    "        \"variable\",\n",
    "        title='group'\n",
    "    )\n",
    ").properties(width=300)\n",
    "\n",
    "not_mixed = alt.Chart(\n",
    "    totals_dict['not mixed'],\n",
    "    title = 'not mixed'\n",
    ").mark_point().encode(\n",
    "    x = alt.X(\n",
    "        'alpha:Q',\n",
    "        axis = alt.Axis(format=\".1f\"),\n",
    "        scale = alt.Scale(domain=(.48,1.02))\n",
    "    ),\n",
    "    y = alt.Y(\n",
    "        \"value\",\n",
    "        axis = alt.Axis(\n",
    "            title=None,\n",
    "#             labels=False\n",
    "        ),\n",
    "        scale=alt.Scale(domain=(0,1))\n",
    "    ),\n",
    "    color = alt.Color(\n",
    "        \"variable\",\n",
    "        title='group'\n",
    "    )\n",
    ").properties(width=300)\n",
    "\n",
    "alt.hconcat(mixed, not_mixed).configure_title(\n",
    "    fontSize=14,\n",
    "    offset=-5\n",
    ").configure_axis(\n",
    "    titleFontSize=16,\n",
    "    labelFontSize=14,\n",
    "    labelAngle=0\n",
    ").configure_legend(\n",
    "    titleFontSize=15,\n",
    "    labelFontSize=14\n",
    ")"
   ]
  },
  {
   "cell_type": "code",
   "execution_count": null,
   "metadata": {},
   "outputs": [],
   "source": []
  },
  {
   "cell_type": "markdown",
   "metadata": {},
   "source": [
    "### Infections over time"
   ]
  },
  {
   "cell_type": "code",
   "execution_count": 73,
   "metadata": {},
   "outputs": [],
   "source": [
    "# Fraction of ordinary people\n",
    "x = .5\n",
    "\n",
    "# All beta values\n",
    "beta = .3\n",
    "\n",
    "# Less beta values highlighted for one of the later plots\n",
    "alphas = [0.5, 0.6, 0.7, 0.8, 0.9, 1.0,]\n",
    "alphas = [0.5, 0.6, 0.7, 0.8, 0.9]\n",
    "\n",
    "\n",
    "\n",
    "totals = []      # Total infections\n",
    "r0s_ = []        # R0 valuyes\n",
    "peak_days = []   # Date of each peak\n",
    "\n",
    "# Will store the progression of infections over time, indexed by beta values\n",
    "infection_flows = dict()\n",
    "\n",
    "\n",
    "for alpha in alphas:\n",
    "\n",
    "    # Run the simulation based on the input \n",
    "    S_o, S_m, I_o, I_m, R_o, R_m, r0s = run_simulation(\n",
    "        frac_ord=x,\n",
    "        prop_infec=.001,\n",
    "        num_days=100,\n",
    "        beta_ord=beta,\n",
    "        recovery_days=5,\n",
    "        beta_mult=3,     # Multiple the current beta value by this to get the misinfo group beta\n",
    "        w_homophily=True,\n",
    "        alpha=alpha,\n",
    "        mixed=False,\n",
    "    )\n",
    "    total_ord_inf = max(R_o)\n",
    "    total_mis_inf = max(R_m)\n",
    "\n",
    "    infection_flows[alpha] = I_o\n",
    "\n",
    "    r0s_.append( (r0s[0], r0s[1], r0s[2], alpha) )\n",
    "\n",
    "    totals.append((alpha, total_ord_inf, total_mis_inf, total_ord_inf + total_mis_inf))\n"
   ]
  },
  {
   "cell_type": "code",
   "execution_count": 74,
   "metadata": {},
   "outputs": [
    {
     "data": {
      "text/html": [
       "<div>\n",
       "<style scoped>\n",
       "    .dataframe tbody tr th:only-of-type {\n",
       "        vertical-align: middle;\n",
       "    }\n",
       "\n",
       "    .dataframe tbody tr th {\n",
       "        vertical-align: top;\n",
       "    }\n",
       "\n",
       "    .dataframe thead th {\n",
       "        text-align: right;\n",
       "    }\n",
       "</style>\n",
       "<table border=\"1\" class=\"dataframe\">\n",
       "  <thead>\n",
       "    <tr style=\"text-align: right;\">\n",
       "      <th></th>\n",
       "      <th>day</th>\n",
       "      <th>variable</th>\n",
       "      <th>value</th>\n",
       "    </tr>\n",
       "  </thead>\n",
       "  <tbody>\n",
       "    <tr>\n",
       "      <th>0</th>\n",
       "      <td>0</td>\n",
       "      <td>0.5</td>\n",
       "      <td>0.000000</td>\n",
       "    </tr>\n",
       "    <tr>\n",
       "      <th>1</th>\n",
       "      <td>1</td>\n",
       "      <td>0.5</td>\n",
       "      <td>0.000150</td>\n",
       "    </tr>\n",
       "    <tr>\n",
       "      <th>2</th>\n",
       "      <td>2</td>\n",
       "      <td>0.5</td>\n",
       "      <td>0.000330</td>\n",
       "    </tr>\n",
       "    <tr>\n",
       "      <th>3</th>\n",
       "      <td>3</td>\n",
       "      <td>0.5</td>\n",
       "      <td>0.000557</td>\n",
       "    </tr>\n",
       "    <tr>\n",
       "      <th>4</th>\n",
       "      <td>4</td>\n",
       "      <td>0.5</td>\n",
       "      <td>0.000856</td>\n",
       "    </tr>\n",
       "    <tr>\n",
       "      <th>...</th>\n",
       "      <td>...</td>\n",
       "      <td>...</td>\n",
       "      <td>...</td>\n",
       "    </tr>\n",
       "    <tr>\n",
       "      <th>495</th>\n",
       "      <td>95</td>\n",
       "      <td>0.9</td>\n",
       "      <td>0.000070</td>\n",
       "    </tr>\n",
       "    <tr>\n",
       "      <th>496</th>\n",
       "      <td>96</td>\n",
       "      <td>0.9</td>\n",
       "      <td>0.000063</td>\n",
       "    </tr>\n",
       "    <tr>\n",
       "      <th>497</th>\n",
       "      <td>97</td>\n",
       "      <td>0.9</td>\n",
       "      <td>0.000056</td>\n",
       "    </tr>\n",
       "    <tr>\n",
       "      <th>498</th>\n",
       "      <td>98</td>\n",
       "      <td>0.9</td>\n",
       "      <td>0.000050</td>\n",
       "    </tr>\n",
       "    <tr>\n",
       "      <th>499</th>\n",
       "      <td>99</td>\n",
       "      <td>0.9</td>\n",
       "      <td>0.000045</td>\n",
       "    </tr>\n",
       "  </tbody>\n",
       "</table>\n",
       "<p>500 rows × 3 columns</p>\n",
       "</div>"
      ],
      "text/plain": [
       "     day variable     value\n",
       "0      0      0.5  0.000000\n",
       "1      1      0.5  0.000150\n",
       "2      2      0.5  0.000330\n",
       "3      3      0.5  0.000557\n",
       "4      4      0.5  0.000856\n",
       "..   ...      ...       ...\n",
       "495   95      0.9  0.000070\n",
       "496   96      0.9  0.000063\n",
       "497   97      0.9  0.000056\n",
       "498   98      0.9  0.000050\n",
       "499   99      0.9  0.000045\n",
       "\n",
       "[500 rows x 3 columns]"
      ]
     },
     "execution_count": 74,
     "metadata": {},
     "output_type": "execute_result"
    }
   ],
   "source": [
    "pd.DataFrame.from_dict(infection_flows).reset_index().rename(columns={'index':'day'}).melt(\"day\")"
   ]
  },
  {
   "cell_type": "code",
   "execution_count": 75,
   "metadata": {},
   "outputs": [
    {
     "data": {
      "text/html": [
       "<div>\n",
       "<style scoped>\n",
       "    .dataframe tbody tr th:only-of-type {\n",
       "        vertical-align: middle;\n",
       "    }\n",
       "\n",
       "    .dataframe tbody tr th {\n",
       "        vertical-align: top;\n",
       "    }\n",
       "\n",
       "    .dataframe thead th {\n",
       "        text-align: right;\n",
       "    }\n",
       "</style>\n",
       "<table border=\"1\" class=\"dataframe\">\n",
       "  <thead>\n",
       "    <tr style=\"text-align: right;\">\n",
       "      <th></th>\n",
       "      <th>day</th>\n",
       "      <th>variable</th>\n",
       "      <th>value</th>\n",
       "    </tr>\n",
       "  </thead>\n",
       "  <tbody>\n",
       "    <tr>\n",
       "      <th>0</th>\n",
       "      <td>1</td>\n",
       "      <td>0.5</td>\n",
       "      <td>0.000000</td>\n",
       "    </tr>\n",
       "    <tr>\n",
       "      <th>1</th>\n",
       "      <td>2</td>\n",
       "      <td>0.5</td>\n",
       "      <td>0.000150</td>\n",
       "    </tr>\n",
       "    <tr>\n",
       "      <th>2</th>\n",
       "      <td>3</td>\n",
       "      <td>0.5</td>\n",
       "      <td>0.000330</td>\n",
       "    </tr>\n",
       "    <tr>\n",
       "      <th>3</th>\n",
       "      <td>4</td>\n",
       "      <td>0.5</td>\n",
       "      <td>0.000557</td>\n",
       "    </tr>\n",
       "    <tr>\n",
       "      <th>4</th>\n",
       "      <td>5</td>\n",
       "      <td>0.5</td>\n",
       "      <td>0.000856</td>\n",
       "    </tr>\n",
       "    <tr>\n",
       "      <th>...</th>\n",
       "      <td>...</td>\n",
       "      <td>...</td>\n",
       "      <td>...</td>\n",
       "    </tr>\n",
       "    <tr>\n",
       "      <th>495</th>\n",
       "      <td>96</td>\n",
       "      <td>0.9</td>\n",
       "      <td>0.000070</td>\n",
       "    </tr>\n",
       "    <tr>\n",
       "      <th>496</th>\n",
       "      <td>97</td>\n",
       "      <td>0.9</td>\n",
       "      <td>0.000063</td>\n",
       "    </tr>\n",
       "    <tr>\n",
       "      <th>497</th>\n",
       "      <td>98</td>\n",
       "      <td>0.9</td>\n",
       "      <td>0.000056</td>\n",
       "    </tr>\n",
       "    <tr>\n",
       "      <th>498</th>\n",
       "      <td>99</td>\n",
       "      <td>0.9</td>\n",
       "      <td>0.000050</td>\n",
       "    </tr>\n",
       "    <tr>\n",
       "      <th>499</th>\n",
       "      <td>100</td>\n",
       "      <td>0.9</td>\n",
       "      <td>0.000045</td>\n",
       "    </tr>\n",
       "  </tbody>\n",
       "</table>\n",
       "<p>500 rows × 3 columns</p>\n",
       "</div>"
      ],
      "text/plain": [
       "     day variable     value\n",
       "0      1      0.5  0.000000\n",
       "1      2      0.5  0.000150\n",
       "2      3      0.5  0.000330\n",
       "3      4      0.5  0.000557\n",
       "4      5      0.5  0.000856\n",
       "..   ...      ...       ...\n",
       "495   96      0.9  0.000070\n",
       "496   97      0.9  0.000063\n",
       "497   98      0.9  0.000056\n",
       "498   99      0.9  0.000050\n",
       "499  100      0.9  0.000045\n",
       "\n",
       "[500 rows x 3 columns]"
      ]
     },
     "execution_count": 75,
     "metadata": {},
     "output_type": "execute_result"
    }
   ],
   "source": [
    "infections = pd.DataFrame(infection_flows).reset_index()\n",
    "infections = infections.rename(columns={'index':'day'})\n",
    "infections.day = infections.day +1\n",
    "infections = infections.melt(id_vars='day')\n",
    "\n",
    "infections"
   ]
  },
  {
   "cell_type": "code",
   "execution_count": 76,
   "metadata": {},
   "outputs": [
    {
     "data": {
      "text/html": [
       "\n",
       "<div id=\"altair-viz-7dcb3ece68164881942fdc01235a91d0\"></div>\n",
       "<script type=\"text/javascript\">\n",
       "  var VEGA_DEBUG = (typeof VEGA_DEBUG == \"undefined\") ? {} : VEGA_DEBUG;\n",
       "  (function(spec, embedOpt){\n",
       "    let outputDiv = document.currentScript.previousElementSibling;\n",
       "    if (outputDiv.id !== \"altair-viz-7dcb3ece68164881942fdc01235a91d0\") {\n",
       "      outputDiv = document.getElementById(\"altair-viz-7dcb3ece68164881942fdc01235a91d0\");\n",
       "    }\n",
       "    const paths = {\n",
       "      \"vega\": \"https://cdn.jsdelivr.net/npm//vega@5?noext\",\n",
       "      \"vega-lib\": \"https://cdn.jsdelivr.net/npm//vega-lib?noext\",\n",
       "      \"vega-lite\": \"https://cdn.jsdelivr.net/npm//vega-lite@4.17.0?noext\",\n",
       "      \"vega-embed\": \"https://cdn.jsdelivr.net/npm//vega-embed@6?noext\",\n",
       "    };\n",
       "\n",
       "    function maybeLoadScript(lib, version) {\n",
       "      var key = `${lib.replace(\"-\", \"\")}_version`;\n",
       "      return (VEGA_DEBUG[key] == version) ?\n",
       "        Promise.resolve(paths[lib]) :\n",
       "        new Promise(function(resolve, reject) {\n",
       "          var s = document.createElement('script');\n",
       "          document.getElementsByTagName(\"head\")[0].appendChild(s);\n",
       "          s.async = true;\n",
       "          s.onload = () => {\n",
       "            VEGA_DEBUG[key] = version;\n",
       "            return resolve(paths[lib]);\n",
       "          };\n",
       "          s.onerror = () => reject(`Error loading script: ${paths[lib]}`);\n",
       "          s.src = paths[lib];\n",
       "        });\n",
       "    }\n",
       "\n",
       "    function showError(err) {\n",
       "      outputDiv.innerHTML = `<div class=\"error\" style=\"color:red;\">${err}</div>`;\n",
       "      throw err;\n",
       "    }\n",
       "\n",
       "    function displayChart(vegaEmbed) {\n",
       "      vegaEmbed(outputDiv, spec, embedOpt)\n",
       "        .catch(err => showError(`Javascript Error: ${err.message}<br>This usually means there's a typo in your chart specification. See the javascript console for the full traceback.`));\n",
       "    }\n",
       "\n",
       "    if(typeof define === \"function\" && define.amd) {\n",
       "      requirejs.config({paths});\n",
       "      require([\"vega-embed\"], displayChart, err => showError(`Error loading script: ${err.message}`));\n",
       "    } else {\n",
       "      maybeLoadScript(\"vega\", \"5\")\n",
       "        .then(() => maybeLoadScript(\"vega-lite\", \"4.17.0\"))\n",
       "        .then(() => maybeLoadScript(\"vega-embed\", \"6\"))\n",
       "        .catch(showError)\n",
       "        .then(() => displayChart(vegaEmbed));\n",
       "    }\n",
       "  })({\"config\": {\"view\": {\"continuousWidth\": 400, \"continuousHeight\": 300}, \"axis\": {\"labelFontSize\": 14, \"titleFontSize\": 16}, \"legend\": {\"labelFontSize\": 13, \"titleFontSize\": 15}}, \"data\": {\"name\": \"data-c90109bd64936d5201875fd98c6f35be\"}, \"mark\": {\"type\": \"point\", \"size\": 50}, \"encoding\": {\"color\": {\"field\": \"variable\", \"title\": \"alpha\", \"type\": \"nominal\"}, \"shape\": {\"field\": \"variable\", \"type\": \"nominal\"}, \"x\": {\"field\": \"day\", \"type\": \"quantitative\"}, \"y\": {\"field\": \"value\", \"title\": \"proportion of pop. infected\", \"type\": \"quantitative\"}}, \"height\": 300, \"width\": 600, \"$schema\": \"https://vega.github.io/schema/vega-lite/v4.17.0.json\", \"datasets\": {\"data-c90109bd64936d5201875fd98c6f35be\": [{\"day\": 1, \"variable\": 0.5, \"value\": 0.0}, {\"day\": 2, \"variable\": 0.5, \"value\": 0.00015}, {\"day\": 3, \"variable\": 0.5, \"value\": 0.00032980204049999997}, {\"day\": 4, \"variable\": 0.5, \"value\": 0.0005571582608002904}, {\"day\": 5, \"variable\": 0.5, \"value\": 0.0008555492350549444}, {\"day\": 6, \"variable\": 0.5, \"value\": 0.001256551359063423}, {\"day\": 7, \"variable\": 0.5, \"value\": 0.0018029486104275561}, {\"day\": 8, \"variable\": 0.5, \"value\": 0.00255275414893138}, {\"day\": 9, \"variable\": 0.5, \"value\": 0.0035842466652307916}, {\"day\": 10, \"variable\": 0.5, \"value\": 0.0050019411828413725}, {\"day\": 11, \"variable\": 0.5, \"value\": 0.006942987814925001}, {\"day\": 12, \"variable\": 0.5, \"value\": 0.009582643328036145}, {\"day\": 13, \"variable\": 0.5, \"value\": 0.013135958119198782}, {\"day\": 14, \"variable\": 0.5, \"value\": 0.017850503446832262}, {\"day\": 15, \"variable\": 0.5, \"value\": 0.02398210267543837}, {\"day\": 16, \"variable\": 0.5, \"value\": 0.03174360944312587}, {\"day\": 17, \"variable\": 0.5, \"value\": 0.041219546461814235}, {\"day\": 18, \"variable\": 0.5, \"value\": 0.05225292570362441}, {\"day\": 19, \"variable\": 0.5, \"value\": 0.06433874361686472}, {\"day\": 20, \"variable\": 0.5, \"value\": 0.07659150345721472}, {\"day\": 21, \"variable\": 0.5, \"value\": 0.0878573888993146}, {\"day\": 22, \"variable\": 0.5, \"value\": 0.09697740618605871}, {\"day\": 23, \"variable\": 0.5, \"value\": 0.103097080466577}, {\"day\": 24, \"variable\": 0.5, \"value\": 0.10586388871033574}, {\"day\": 25, \"variable\": 0.5, \"value\": 0.10542775802658341}, {\"day\": 26, \"variable\": 0.5, \"value\": 0.1022907949005525}, {\"day\": 27, \"variable\": 0.5, \"value\": 0.09711512768006798}, {\"day\": 28, \"variable\": 0.5, \"value\": 0.09056967370738982}, {\"day\": 29, \"variable\": 0.5, \"value\": 0.08324082669969618}, {\"day\": 30, \"variable\": 0.5, \"value\": 0.07559677570373612}, {\"day\": 31, \"variable\": 0.5, \"value\": 0.0679853425397826}, {\"day\": 32, \"variable\": 0.5, \"value\": 0.06064837314790584}, {\"day\": 33, \"variable\": 0.5, \"value\": 0.053741871226646816}, {\"day\": 34, \"variable\": 0.5, \"value\": 0.047356122337886386}, {\"day\": 35, \"variable\": 0.5, \"value\": 0.04153327596407577}, {\"day\": 36, \"variable\": 0.5, \"value\": 0.03628162118785004}, {\"day\": 37, \"variable\": 0.5, \"value\": 0.031586646905024496}, {\"day\": 38, \"variable\": 0.5, \"value\": 0.027419324309594865}, {\"day\": 39, \"variable\": 0.5, \"value\": 0.023742138460205342}, {\"day\": 40, \"variable\": 0.5, \"value\": 0.020513367343300525}, {\"day\": 41, \"variable\": 0.5, \"value\": 0.017690033998893184}, {\"day\": 42, \"variable\": 0.5, \"value\": 0.015229875307563423}, {\"day\": 43, \"variable\": 0.5, \"value\": 0.013092595381959154}, {\"day\": 44, \"variable\": 0.5, \"value\": 0.011240607613157427}, {\"day\": 45, \"variable\": 0.5, \"value\": 0.009639418055966048}, {\"day\": 46, \"variable\": 0.5, \"value\": 0.00825776278790844}, {\"day\": 47, \"variable\": 0.5, \"value\": 0.0070675812897789585}, {\"day\": 48, \"variable\": 0.5, \"value\": 0.0060438848821741595}, {\"day\": 49, \"variable\": 0.5, \"value\": 0.0051645621367457754}, {\"day\": 50, \"variable\": 0.5, \"value\": 0.00441015057467492}, {\"day\": 51, \"variable\": 0.5, \"value\": 0.003763594761755393}, {\"day\": 52, \"variable\": 0.5, \"value\": 0.0032100042495186096}, {\"day\": 53, \"variable\": 0.5, \"value\": 0.0027364200374914408}, {\"day\": 54, \"variable\": 0.5, \"value\": 0.0023315948460085546}, {\"day\": 55, \"variable\": 0.5, \"value\": 0.0019857901196342937}, {\"day\": 56, \"variable\": 0.5, \"value\": 0.0016905910509992339}, {\"day\": 57, \"variable\": 0.5, \"value\": 0.001438739818499174}, {\"day\": 58, \"variable\": 0.5, \"value\": 0.00122398651760869}, {\"day\": 59, \"variable\": 0.5, \"value\": 0.0010409568235778478}, {\"day\": 60, \"variable\": 0.5, \"value\": 0.0008850351719764717}, {\"day\": 61, \"variable\": 0.5, \"value\": 0.0007522621240307855}, {\"day\": 62, \"variable\": 0.5, \"value\": 0.0006392445533961533}, {\"day\": 63, \"variable\": 0.5, \"value\": 0.0005430773193678199}, {\"day\": 64, \"variable\": 0.5, \"value\": 0.00046127515679077495}, {\"day\": 65, \"variable\": 0.5, \"value\": 0.00039171359976108804}, {\"day\": 66, \"variable\": 0.5, \"value\": 0.0003325778539629639}, {\"day\": 67, \"variable\": 0.5, \"value\": 0.0002823186338942894}, {\"day\": 68, \"variable\": 0.5, \"value\": 0.00023961408147298404}, {\"day\": 69, \"variable\": 0.5, \"value\": 0.00020333697850376882}, {\"day\": 70, \"variable\": 0.5, \"value\": 0.00017252655537000492}, {\"day\": 71, \"variable\": 0.5, \"value\": 0.0001463642811099246}, {\"day\": 72, \"variable\": 0.5, \"value\": 0.0001241530953451823}, {\"day\": 73, \"variable\": 0.5, \"value\": 0.00010529961035417}, {\"day\": 74, \"variable\": 0.5, \"value\": 8.929887218293503e-05}, {\"day\": 75, \"variable\": 0.5, \"value\": 7.572132348138391e-05}, {\"day\": 76, \"variable\": 0.5, \"value\": 6.42016582490571e-05}, {\"day\": 77, \"variable\": 0.5, \"value\": 5.442930042072464e-05}, {\"day\": 78, \"variable\": 0.5, \"value\": 4.614027477246523e-05}, {\"day\": 79, \"variable\": 0.5, \"value\": 3.911027052467868e-05}, {\"day\": 80, \"variable\": 0.5, \"value\": 3.314872577282578e-05}, {\"day\": 81, \"variable\": 0.5, \"value\": 2.809378496710868e-05}, {\"day\": 82, \"variable\": 0.5, \"value\": 2.3808002526701748e-05}, {\"day\": 83, \"variable\": 0.5, \"value\": 2.017468370957407e-05}, {\"day\": 84, \"variable\": 0.5, \"value\": 1.709476942220203e-05}, {\"day\": 85, \"variable\": 0.5, \"value\": 1.4484185062826023e-05}, {\"day\": 86, \"variable\": 0.5, \"value\": 1.2271585029564787e-05}, {\"day\": 87, \"variable\": 0.5, \"value\": 1.0396434439625098e-05}, {\"day\": 88, \"variable\": 0.5, \"value\": 8.807378116731053e-06}, {\"day\": 89, \"variable\": 0.5, \"value\": 7.460854202154195e-06}, {\"day\": 90, \"variable\": 0.5, \"value\": 6.319915997348992e-06}, {\"day\": 91, \"variable\": 0.5, \"value\": 5.3532309984837785e-06}, {\"day\": 92, \"variable\": 0.5, \"value\": 4.534230661215881e-06}, {\"day\": 93, \"variable\": 0.5, \"value\": 3.840388347117407e-06}, {\"day\": 94, \"variable\": 0.5, \"value\": 3.252606245638286e-06}, {\"day\": 95, \"variable\": 0.5, \"value\": 2.754694918884485e-06}, {\"day\": 96, \"variable\": 0.5, \"value\": 2.3329315510123276e-06}, {\"day\": 97, \"variable\": 0.5, \"value\": 1.9756850601220566e-06}, {\"day\": 98, \"variable\": 0.5, \"value\": 1.6730980001122544e-06}, {\"day\": 99, \"variable\": 0.5, \"value\": 1.416816687620827e-06}, {\"day\": 100, \"variable\": 0.5, \"value\": 1.1997622731707785e-06}, {\"day\": 1, \"variable\": 0.6, \"value\": 0.0}, {\"day\": 2, \"variable\": 0.6, \"value\": 0.00012}, {\"day\": 3, \"variable\": 0.6, \"value\": 0.000278226655104}, {\"day\": 4, \"variable\": 0.6, \"value\": 0.0004926980911514577}, {\"day\": 5, \"variable\": 0.6, \"value\": 0.0007888753007198174}, {\"day\": 6, \"variable\": 0.6, \"value\": 0.00120269662245744}, {\"day\": 7, \"variable\": 0.6, \"value\": 0.0017846979511226082}, {\"day\": 8, \"variable\": 0.6, \"value\": 0.002605457720263306}, {\"day\": 9, \"variable\": 0.6, \"value\": 0.0037624855765908214}, {\"day\": 10, \"variable\": 0.6, \"value\": 0.0053883069088471545}, {\"day\": 11, \"variable\": 0.6, \"value\": 0.0076586441474319235}, {\"day\": 12, \"variable\": 0.6, \"value\": 0.010797901680274821}, {\"day\": 13, \"variable\": 0.6, \"value\": 0.015076239971533671}, {\"day\": 14, \"variable\": 0.6, \"value\": 0.02078839806592641}, {\"day\": 15, \"variable\": 0.6, \"value\": 0.02820065490700915}, {\"day\": 16, \"variable\": 0.6, \"value\": 0.03745392644024884}, {\"day\": 17, \"variable\": 0.6, \"value\": 0.04842735089163519}, {\"day\": 18, \"variable\": 0.6, \"value\": 0.06060540396835658}, {\"day\": 19, \"variable\": 0.6, \"value\": 0.07303851912771553}, {\"day\": 20, \"variable\": 0.6, \"value\": 0.08448820637430393}, {\"day\": 21, \"variable\": 0.6, \"value\": 0.0937480322971927}, {\"day\": 22, \"variable\": 0.6, \"value\": 0.09998441582243947}, {\"day\": 23, \"variable\": 0.6, \"value\": 0.10290826436380854}, {\"day\": 24, \"variable\": 0.6, \"value\": 0.10272352607488125}, {\"day\": 25, \"variable\": 0.6, \"value\": 0.09994645803246044}, {\"day\": 26, \"variable\": 0.6, \"value\": 0.09521633554075803}, {\"day\": 27, \"variable\": 0.6, \"value\": 0.08916102072286801}, {\"day\": 28, \"variable\": 0.6, \"value\": 0.08232499272045872}, {\"day\": 29, \"variable\": 0.6, \"value\": 0.07514325315935358}, {\"day\": 30, \"variable\": 0.6, \"value\": 0.0679419930799082}, {\"day\": 31, \"variable\": 0.6, \"value\": 0.06095198393733711}, {\"day\": 32, \"variable\": 0.6, \"value\": 0.05432623574048661}, {\"day\": 33, \"variable\": 0.6, \"value\": 0.04815749896067006}, {\"day\": 34, \"variable\": 0.6, \"value\": 0.04249364541983899}, {\"day\": 35, \"variable\": 0.6, \"value\": 0.037350308619261356}, {\"day\": 36, \"variable\": 0.6, \"value\": 0.03272082898499175}, {\"day\": 37, \"variable\": 0.6, \"value\": 0.028583833296521786}, {\"day\": 38, \"variable\": 0.6, \"value\": 0.024908862448566656}, {\"day\": 39, \"variable\": 0.6, \"value\": 0.0216604512170716}, {\"day\": 40, \"variable\": 0.6, \"value\": 0.018801013575217254}, {\"day\": 41, \"variable\": 0.6, \"value\": 0.016292825687174103}, {\"day\": 42, \"variable\": 0.6, \"value\": 0.01409933934833946}, {\"day\": 43, \"variable\": 0.6, \"value\": 0.012186006788122736}, {\"day\": 44, \"variable\": 0.6, \"value\": 0.01052075488527177}, {\"day\": 45, \"variable\": 0.6, \"value\": 0.009074212599413106}, {\"day\": 46, \"variable\": 0.6, \"value\": 0.007819768686423877}, {\"day\": 47, \"variable\": 0.6, \"value\": 0.006733516237212742}, {\"day\": 48, \"variable\": 0.6, \"value\": 0.005794125018567322}, {\"day\": 49, \"variable\": 0.6, \"value\": 0.004982670922354262}, {\"day\": 50, \"variable\": 0.6, \"value\": 0.00428244315435583}, {\"day\": 51, \"variable\": 0.6, \"value\": 0.0036787434027777495}, {\"day\": 52, \"variable\": 0.6, \"value\": 0.003158686559354203}, {\"day\": 53, \"variable\": 0.6, \"value\": 0.002711009190570759}, {\"day\": 54, \"variable\": 0.6, \"value\": 0.0023258895422617947}, {\"day\": 55, \"variable\": 0.6, \"value\": 0.001994781157123691}, {\"day\": 56, \"variable\": 0.6, \"value\": 0.0017102610028203679}, {\"day\": 57, \"variable\": 0.6, \"value\": 0.0014658922070564467}, {\"day\": 58, \"variable\": 0.6, \"value\": 0.0012561009700044958}, {\"day\": 59, \"variable\": 0.6, \"value\": 0.0010760668957692779}, {\"day\": 60, \"variable\": 0.6, \"value\": 0.0009216257955913447}, {\"day\": 61, \"variable\": 0.6, \"value\": 0.0007891839239914153}, {\"day\": 62, \"variable\": 0.6, \"value\": 0.0006756425842160329}, {\"day\": 63, \"variable\": 0.6, \"value\": 0.0005783320588323773}, {\"day\": 64, \"variable\": 0.6, \"value\": 0.0004949538690880655}, {\"day\": 65, \"variable\": 0.6, \"value\": 0.0004235304312867115}, {\"day\": 66, \"variable\": 0.6, \"value\": 0.0003623612519211671}, {\"day\": 67, \"variable\": 0.6, \"value\": 0.00030998488012919405}, {\"day\": 68, \"variable\": 0.6, \"value\": 0.0002651459124720433}, {\"day\": 69, \"variable\": 0.6, \"value\": 0.00022676641866828308}, {\"day\": 70, \"variable\": 0.6, \"value\": 0.00019392122625672392}, {\"day\": 71, \"variable\": 0.6, \"value\": 0.00016581656638384952}, {\"day\": 72, \"variable\": 0.6, \"value\": 0.00014177164163997193}, {\"day\": 73, \"variable\": 0.6, \"value\": 0.00012120273004258562}, {\"day\": 74, \"variable\": 0.6, \"value\": 0.00010360948702881415}, {\"day\": 75, \"variable\": 0.6, \"value\": 8.856314994492284e-05}, {\"day\": 76, \"variable\": 0.6, \"value\": 7.569638735908907e-05}, {\"day\": 77, \"variable\": 0.6, \"value\": 6.469456896172677e-05}, {\"day\": 78, \"variable\": 0.6, \"value\": 5.528826125571544e-05}, {\"day\": 79, \"variable\": 0.6, \"value\": 4.7246780071853346e-05}, {\"day\": 80, \"variable\": 0.6, \"value\": 4.0372653551361696e-05}, {\"day\": 81, \"variable\": 0.6, \"value\": 3.449686897274252e-05}, {\"day\": 82, \"variable\": 0.6, \"value\": 2.947479399324376e-05}, {\"day\": 83, \"variable\": 0.6, \"value\": 2.5182677825618015e-05}, {\"day\": 84, \"variable\": 0.6, \"value\": 2.1514650850184536e-05}, {\"day\": 85, \"variable\": 0.6, \"value\": 1.8380152414092245e-05}, {\"day\": 86, \"variable\": 0.6, \"value\": 1.5701726311553992e-05}, {\"day\": 87, \"variable\": 0.6, \"value\": 1.3413131863671687e-05}, {\"day\": 88, \"variable\": 0.6, \"value\": 1.1457725794866132e-05}, {\"day\": 89, \"variable\": 0.6, \"value\": 9.78707638505808e-06}, {\"day\": 90, \"variable\": 0.6, \"value\": 8.3597767944549e-06}, {\"day\": 91, \"variable\": 0.6, \"value\": 7.14042912648719e-06}, {\"day\": 92, \"variable\": 0.6, \"value\": 6.098774814897693e-06}, {\"day\": 93, \"variable\": 0.6, \"value\": 5.208950381044939e-06}, {\"day\": 94, \"variable\": 0.6, \"value\": 4.448850583553238e-06}, {\"day\": 95, \"variable\": 0.6, \"value\": 3.799583540877656e-06}, {\"day\": 96, \"variable\": 0.6, \"value\": 3.245004605706683e-06}, {\"day\": 97, \"variable\": 0.6, \"value\": 2.771317658241284e-06}, {\"day\": 98, \"variable\": 0.6, \"value\": 2.3667341063893433e-06}, {\"day\": 99, \"variable\": 0.6, \"value\": 2.0211812720666556e-06}, {\"day\": 100, \"variable\": 0.6, \"value\": 1.7260530362774704e-06}, {\"day\": 1, \"variable\": 0.7, \"value\": 0.0}, {\"day\": 2, \"variable\": 0.7, \"value\": 9e-05}, {\"day\": 3, \"variable\": 0.7, \"value\": 0.00021946005241200002}, {\"day\": 4, \"variable\": 0.7, \"value\": 0.0004073393546555802}, {\"day\": 5, \"variable\": 0.7, \"value\": 0.0006814740072178559}, {\"day\": 6, \"variable\": 0.7, \"value\": 0.0010825573837918735}, {\"day\": 7, \"variable\": 0.7, \"value\": 0.0016696934909259755}, {\"day\": 8, \"variable\": 0.7, \"value\": 0.0025278919277533316}, {\"day\": 9, \"variable\": 0.7, \"value\": 0.0037776347771411433}, {\"day\": 10, \"variable\": 0.7, \"value\": 0.005585898744376134}, {\"day\": 11, \"variable\": 0.7, \"value\": 0.008176247323036335}, {\"day\": 12, \"variable\": 0.7, \"value\": 0.011832096624592923}, {\"day\": 13, \"variable\": 0.7, \"value\": 0.016881520531027552}, {\"day\": 14, \"variable\": 0.7, \"value\": 0.023645351429760552}, {\"day\": 15, \"variable\": 0.7, \"value\": 0.03232947798476029}, {\"day\": 16, \"variable\": 0.7, \"value\": 0.04286202276420764}, {\"day\": 17, \"variable\": 0.7, \"value\": 0.05473089198102704}, {\"day\": 18, \"variable\": 0.7, \"value\": 0.06694482782142083}, {\"day\": 19, \"variable\": 0.7, \"value\": 0.078229843777255}, {\"day\": 20, \"variable\": 0.7, \"value\": 0.087410038577354}, {\"day\": 21, \"variable\": 0.7, \"value\": 0.09374271687124808}, {\"day\": 22, \"variable\": 0.7, \"value\": 0.09702033766691294}, {\"day\": 23, \"variable\": 0.7, \"value\": 0.09746164636626418}, {\"day\": 24, \"variable\": 0.7, \"value\": 0.09552879467675185}, {\"day\": 25, \"variable\": 0.7, \"value\": 0.091770623638478}, {\"day\": 26, \"variable\": 0.7, \"value\": 0.0867220389725567}, {\"day\": 27, \"variable\": 0.7, \"value\": 0.08085207860303394}, {\"day\": 28, \"variable\": 0.7, \"value\": 0.07454446157839517}, {\"day\": 29, \"variable\": 0.7, \"value\": 0.06809680793440813}, {\"day\": 30, \"variable\": 0.7, \"value\": 0.061729190005996935}, {\"day\": 31, \"variable\": 0.7, \"value\": 0.055596372291738555}, {\"day\": 32, \"variable\": 0.7, \"value\": 0.049800610028424085}, {\"day\": 33, \"variable\": 0.7, \"value\": 0.044403438927041745}, {\"day\": 34, \"variable\": 0.7, \"value\": 0.03943580249957955}, {\"day\": 35, \"variable\": 0.7, \"value\": 0.034906366665570863}, {\"day\": 36, \"variable\": 0.7, \"value\": 0.030808126427869436}, {\"day\": 37, \"variable\": 0.7, \"value\": 0.027123520792675784}, {\"day\": 38, \"variable\": 0.7, \"value\": 0.02382830427259098}, {\"day\": 39, \"variable\": 0.7, \"value\": 0.020894414778724717}, {\"day\": 40, \"variable\": 0.7, \"value\": 0.018292050711815586}, {\"day\": 41, \"variable\": 0.7, \"value\": 0.015991136899105893}, {\"day\": 42, \"variable\": 0.7, \"value\": 0.013962326089591696}, {\"day\": 43, \"variable\": 0.7, \"value\": 0.012177653011001387}, {\"day\": 44, \"variable\": 0.7, \"value\": 0.010610932615238433}, {\"day\": 45, \"variable\": 0.7, \"value\": 0.009237973209396903}, {\"day\": 46, \"variable\": 0.7, \"value\": 0.008036658323165378}, {\"day\": 47, \"variable\": 0.7, \"value\": 0.006986937846205039}, {\"day\": 48, \"variable\": 0.7, \"value\": 0.0060707585888829406}, {\"day\": 49, \"variable\": 0.7, \"value\": 0.005271956422025751}, {\"day\": 50, \"variable\": 0.7, \"value\": 0.004576126050923837}, {\"day\": 51, \"variable\": 0.7, \"value\": 0.003970479868266385}, {\"day\": 52, \"variable\": 0.7, \"value\": 0.003443703877200587}, {\"day\": 53, \"variable\": 0.7, \"value\": 0.0029858161125856167}, {\"day\": 54, \"variable\": 0.7, \"value\": 0.002588031105088308}, {\"day\": 55, \"variable\": 0.7, \"value\": 0.002242632564464806}, {\"day\": 56, \"variable\": 0.7, \"value\": 0.001942855477754261}, {\"day\": 57, \"variable\": 0.7, \"value\": 0.0016827781272257159}, {\"day\": 58, \"variable\": 0.7, \"value\": 0.0014572240569604824}, {\"day\": 59, \"variable\": 0.7, \"value\": 0.0012616736991182826}, {\"day\": 60, \"variable\": 0.7, \"value\": 0.0010921851683335536}, {\"day\": 61, \"variable\": 0.7, \"value\": 0.0009453236131049599}, {\"day\": 62, \"variable\": 0.7, \"value\": 0.0008180984524198436}, {\"day\": 63, \"variable\": 0.7, \"value\": 0.0007079078063411699}, {\"day\": 64, \"variable\": 0.7, \"value\": 0.0006124894377168775}, {\"day\": 65, \"variable\": 0.7, \"value\": 0.0005298775489278252}, {\"day\": 66, \"variable\": 0.7, \"value\": 0.0004583648157031006}, {\"day\": 67, \"variable\": 0.7, \"value\": 0.00039646908451566887}, {\"day\": 68, \"variable\": 0.7, \"value\": 0.00034290420741599193}, {\"day\": 69, \"variable\": 0.7, \"value\": 0.0002965545359436715}, {\"day\": 70, \"variable\": 0.7, \"value\": 0.00025645264235320974}, {\"day\": 71, \"variable\": 0.7, \"value\": 0.00022175988075653848}, {\"day\": 72, \"variable\": 0.7, \"value\": 0.00019174944229731868}, {\"day\": 73, \"variable\": 0.7, \"value\": 0.00016579159680285655}, {\"day\": 74, \"variable\": 0.7, \"value\": 0.00014334084838928856}, {\"day\": 75, \"variable\": 0.7, \"value\": 0.0001239247642467756}, {\"day\": 76, \"variable\": 0.7, \"value\": 0.00010713426441974356}, {\"day\": 77, \"variable\": 0.7, \"value\": 9.261518599734645e-05}, {\"day\": 78, \"variable\": 0.7, \"value\": 8.00609579496077e-05}, {\"day\": 79, \"variable\": 0.7, \"value\": 6.920624310941258e-05}, {\"day\": 80, \"variable\": 0.7, \"value\": 5.982142173772643e-05}, {\"day\": 81, \"variable\": 0.7, \"value\": 5.170780694263616e-05}, {\"day\": 82, \"variable\": 0.7, \"value\": 4.4693496165719676e-05}, {\"day\": 83, \"variable\": 0.7, \"value\": 3.8629775202371396e-05}, {\"day\": 84, \"variable\": 0.7, \"value\": 3.3388001971676064e-05}, {\"day\": 85, \"variable\": 0.7, \"value\": 2.8856906666223283e-05}, {\"day\": 86, \"variable\": 0.7, \"value\": 2.4940253147258386e-05}, {\"day\": 87, \"variable\": 0.7, \"value\": 2.1554813644979104e-05}, {\"day\": 88, \"variable\": 0.7, \"value\": 1.862861510244931e-05}, {\"day\": 89, \"variable\": 0.7, \"value\": 1.609942097593105e-05}, {\"day\": 90, \"variable\": 0.7, \"value\": 1.3913417073492749e-05}, {\"day\": 91, \"variable\": 0.7, \"value\": 1.202407416530717e-05}, {\"day\": 92, \"variable\": 0.7, \"value\": 1.0391163710658974e-05}, {\"day\": 93, \"variable\": 0.7, \"value\": 8.979906186692557e-06}, {\"day\": 94, \"variable\": 0.7, \"value\": 7.760234232464254e-06}, {\"day\": 95, \"variable\": 0.7, \"value\": 6.706155191698103e-06}, {\"day\": 96, \"variable\": 0.7, \"value\": 5.795199695040993e-06}, {\"day\": 97, \"variable\": 0.7, \"value\": 5.007944708061046e-06}, {\"day\": 98, \"variable\": 0.7, \"value\": 4.32760102012698e-06}, {\"day\": 99, \"variable\": 0.7, \"value\": 3.7396564925530982e-06}, {\"day\": 100, \"variable\": 0.7, \"value\": 3.231567548956024e-06}, {\"day\": 1, \"variable\": 0.8, \"value\": 0.0}, {\"day\": 2, \"variable\": 0.8, \"value\": 5.999999999999998e-05}, {\"day\": 3, \"variable\": 0.8, \"value\": 0.00015350093836799997}, {\"day\": 4, \"variable\": 0.8, \"value\": 0.0002984957647823312}, {\"day\": 5, \"variable\": 0.8, \"value\": 0.0005224741687632868}, {\"day\": 6, \"variable\": 0.8, \"value\": 0.0008672223053923687}, {\"day\": 7, \"variable\": 0.8, \"value\": 0.001395760003672252}, {\"day\": 8, \"variable\": 0.8, \"value\": 0.0022019735161737464}, {\"day\": 9, \"variable\": 0.8, \"value\": 0.003423075131144377}, {\"day\": 10, \"variable\": 0.8, \"value\": 0.005253596622506083}, {\"day\": 11, \"variable\": 0.8, \"value\": 0.007956143563598521}, {\"day\": 12, \"variable\": 0.8, \"value\": 0.01185730967169203}, {\"day\": 13, \"variable\": 0.8, \"value\": 0.017307230539290886}, {\"day\": 14, \"variable\": 0.8, \"value\": 0.024575364969088458}, {\"day\": 15, \"variable\": 0.8, \"value\": 0.033674651789331586}, {\"day\": 16, \"variable\": 0.8, \"value\": 0.04417770019439716}, {\"day\": 17, \"variable\": 0.8, \"value\": 0.05518165159899757}, {\"day\": 18, \"variable\": 0.8, \"value\": 0.06554450692716246}, {\"day\": 19, \"variable\": 0.8, \"value\": 0.0742737804256113}, {\"day\": 20, \"variable\": 0.8, \"value\": 0.08078298956261323}, {\"day\": 21, \"variable\": 0.8, \"value\": 0.08490253534255468}, {\"day\": 22, \"variable\": 0.8, \"value\": 0.0867566168451798}, {\"day\": 23, \"variable\": 0.8, \"value\": 0.0866314908651236}, {\"day\": 24, \"variable\": 0.8, \"value\": 0.08488067566350185}, {\"day\": 25, \"variable\": 0.8, \"value\": 0.08186651435248012}, {\"day\": 26, \"variable\": 0.8, \"value\": 0.07792723568273216}, {\"day\": 27, \"variable\": 0.8, \"value\": 0.07336033657102538}, {\"day\": 28, \"variable\": 0.8, \"value\": 0.06841613589618664}, {\"day\": 29, \"variable\": 0.8, \"value\": 0.06329751265083974}, {\"day\": 30, \"variable\": 0.8, \"value\": 0.058163209688156456}, {\"day\": 31, \"variable\": 0.8, \"value\": 0.05313296983284263}, {\"day\": 32, \"variable\": 0.8, \"value\": 0.048293374052889415}, {\"day\": 33, \"variable\": 0.8, \"value\": 0.04370367414164386}, {\"day\": 34, \"variable\": 0.8, \"value\": 0.039401208534100354}, {\"day\": 35, \"variable\": 0.8, \"value\": 0.03540619241822242}, {\"day\": 36, \"variable\": 0.8, \"value\": 0.031725806205605715}, {\"day\": 37, \"variable\": 0.8, \"value\": 0.02835758867537778}, {\"day\": 38, \"variable\": 0.8, \"value\": 0.025292187780949042}, {\"day\": 39, \"variable\": 0.8, \"value\": 0.022515544841802907}, {\"day\": 40, \"variable\": 0.8, \"value\": 0.020010595249717142}, {\"day\": 41, \"variable\": 0.8, \"value\": 0.017758567025093135}, {\"day\": 42, \"variable\": 0.8, \"value\": 0.015739951738433674}, {\"day\": 43, \"variable\": 0.8, \"value\": 0.013935213186784489}, {\"day\": 44, \"variable\": 0.8, \"value\": 0.012325289472960941}, {\"day\": 45, \"variable\": 0.8, \"value\": 0.010891934755728054}, {\"day\": 46, \"variable\": 0.8, \"value\": 0.009617938433724233}, {\"day\": 47, \"variable\": 0.8, \"value\": 0.00848725211130628}, {\"day\": 48, \"variable\": 0.8, \"value\": 0.007485048409474197}, {\"day\": 49, \"variable\": 0.8, \"value\": 0.00659773046888837}, {\"day\": 50, \"variable\": 0.8, \"value\": 0.005812906734492851}, {\"day\": 51, \"variable\": 0.8, \"value\": 0.005119342183483105}, {\"day\": 52, \"variable\": 0.8, \"value\": 0.004506894430693848}, {\"day\": 53, \"variable\": 0.8, \"value\": 0.0039664409973686225}, {\"day\": 54, \"variable\": 0.8, \"value\": 0.003489802353750531}, {\"day\": 55, \"variable\": 0.8, \"value\": 0.0030696640510964783}, {\"day\": 56, \"variable\": 0.8, \"value\": 0.0026995002673846098}, {\"day\": 57, \"variable\": 0.8, \"value\": 0.002373500339454668}, {\"day\": 58, \"variable\": 0.8, \"value\": 0.002086499290727032}, {\"day\": 59, \"variable\": 0.8, \"value\": 0.0018339129462200282}, {\"day\": 60, \"variable\": 0.8, \"value\": 0.0016116779219992603}, {\"day\": 61, \"variable\": 0.8, \"value\": 0.0014161965580645614}, {\"day\": 62, \"variable\": 0.8, \"value\": 0.0012442867112714316}, {\"day\": 63, \"variable\": 0.8, \"value\": 0.001093136221998062}, {\"day\": 64, \"variable\": 0.8, \"value\": 0.0009602618023341802}, {\"day\": 65, \"variable\": 0.8, \"value\": 0.0008434720548840763}, {\"day\": 66, \"variable\": 0.8, \"value\": 0.0007408343124051033}, {\"day\": 67, \"variable\": 0.8, \"value\": 0.000650644983777743}, {\"day\": 68, \"variable\": 0.8, \"value\": 0.0005714030969369826}, {\"day\": 69, \"variable\": 0.8, \"value\": 0.0005017867411698864}, {\"day\": 70, \"variable\": 0.8, \"value\": 0.00044063212720864655}, {\"day\": 71, \"variable\": 0.8, \"value\": 0.00038691500206307095}, {\"day\": 72, \"variable\": 0.8, \"value\": 0.00033973417526586477}, {\"day\": 73, \"variable\": 0.8, \"value\": 0.00029829693323953516}, {\"day\": 74, \"variable\": 0.8, \"value\": 0.0002619061382032918}, {\"day\": 75, \"variable\": 0.8, \"value\": 0.00022994882699698226}, {\"day\": 76, \"variable\": 0.8, \"value\": 0.00020188614313549792}, {\"day\": 77, \"variable\": 0.8, \"value\": 0.0001772444521625031}, {\"day\": 78, \"variable\": 0.8, \"value\": 0.00015560750586961984}, {\"day\": 79, \"variable\": 0.8, \"value\": 0.00013660953516718004}, {\"day\": 80, \"variable\": 0.8, \"value\": 0.0001199291643564417}, {\"day\": 81, \"variable\": 0.8, \"value\": 0.00010528405130890026}, {\"day\": 82, \"variable\": 0.8, \"value\": 9.242616867137813e-05}, {\"day\": 83, \"variable\": 0.8, \"value\": 8.113765076136871e-05}, {\"day\": 84, \"variable\": 0.8, \"value\": 7.122713937592659e-05}, {\"day\": 85, \"variable\": 0.8, \"value\": 6.252656939068841e-05}, {\"day\": 86, \"variable\": 0.8, \"value\": 5.488834185345283e-05}, {\"day\": 87, \"variable\": 0.8, \"value\": 4.818283835612121e-05}, {\"day\": 88, \"variable\": 0.8, \"value\": 4.229623587249711e-05}, {\"day\": 89, \"variable\": 0.8, \"value\": 3.7128586045435393e-05}, {\"day\": 90, \"variable\": 0.8, \"value\": 3.2592127157972556e-05}, {\"day\": 91, \"variable\": 0.8, \"value\": 2.8609800787014265e-05}, {\"day\": 92, \"variable\": 0.8, \"value\": 2.511394846745706e-05}, {\"day\": 93, \"variable\": 0.8, \"value\": 2.2045166636926236e-05}, {\"day\": 94, \"variable\": 0.8, \"value\": 1.9351300729633248e-05}, {\"day\": 95, \"variable\": 0.8, \"value\": 1.6986561580876456e-05}, {\"day\": 96, \"variable\": 0.8, \"value\": 1.491074932610986e-05}, {\"day\": 97, \"variable\": 0.8, \"value\": 1.3088571761297163e-05}, {\"day\": 98, \"variable\": 0.8, \"value\": 1.148904570211836e-05}, {\"day\": 99, \"variable\": 0.8, \"value\": 1.0084971263136221e-05}, {\"day\": 100, \"variable\": 0.8, \"value\": 8.852470196155793e-06}, {\"day\": 1, \"variable\": 0.9, \"value\": 0.0}, {\"day\": 2, \"variable\": 0.9, \"value\": 2.999999999999999e-05}, {\"day\": 3, \"variable\": 0.9, \"value\": 8.034801891599999e-05}, {\"day\": 4, \"variable\": 0.9, \"value\": 0.00016357933332127557}, {\"day\": 5, \"variable\": 0.9, \"value\": 0.0002997665711769259}, {\"day\": 6, \"variable\": 0.9, \"value\": 0.0005208637967723507}, {\"day\": 7, \"variable\": 0.9, \"value\": 0.0008772635265809262}, {\"day\": 8, \"variable\": 0.9, \"value\": 0.00144723465608431}, {\"day\": 9, \"variable\": 0.9, \"value\": 0.002349348729790084}, {\"day\": 10, \"variable\": 0.9, \"value\": 0.0037559532430505834}, {\"day\": 11, \"variable\": 0.9, \"value\": 0.005900565058489063}, {\"day\": 12, \"variable\": 0.9, \"value\": 0.009062282000037489}, {\"day\": 13, \"variable\": 0.9, \"value\": 0.013499693380781708}, {\"day\": 14, \"variable\": 0.9, \"value\": 0.01931571438550799}, {\"day\": 15, \"variable\": 0.9, \"value\": 0.02630004242949402}, {\"day\": 16, \"variable\": 0.9, \"value\": 0.033897173014809774}, {\"day\": 17, \"variable\": 0.9, \"value\": 0.04140608562708471}, {\"day\": 18, \"variable\": 0.9, \"value\": 0.0482558040860874}, {\"day\": 19, \"variable\": 0.9, \"value\": 0.05411722583344363}, {\"day\": 20, \"variable\": 0.9, \"value\": 0.058855440479344184}, {\"day\": 21, \"variable\": 0.9, \"value\": 0.0624504163493916}, {\"day\": 22, \"variable\": 0.9, \"value\": 0.06494362187690908}, {\"day\": 23, \"variable\": 0.9, \"value\": 0.06640985502661938}, {\"day\": 24, \"variable\": 0.9, \"value\": 0.0669429631453353}, {\"day\": 25, \"variable\": 0.9, \"value\": 0.0666478846065752}, {\"day\": 26, \"variable\": 0.9, \"value\": 0.06563532747528884}, {\"day\": 27, \"variable\": 0.9, \"value\": 0.06401756944664619}, {\"day\": 28, \"variable\": 0.9, \"value\": 0.061904884167971755}, {\"day\": 29, \"variable\": 0.9, \"value\": 0.05940251911636052}, {\"day\": 30, \"variable\": 0.9, \"value\": 0.056608278978192955}, {\"day\": 31, \"variable\": 0.9, \"value\": 0.05361076709390437}, {\"day\": 32, \"variable\": 0.9, \"value\": 0.05048828927426531}, {\"day\": 33, \"variable\": 0.9, \"value\": 0.04730837087514831}, {\"day\": 34, \"variable\": 0.9, \"value\": 0.044127797848223016}, {\"day\": 35, \"variable\": 0.9, \"value\": 0.0409930708564825}, {\"day\": 36, \"variable\": 0.9, \"value\": 0.037941156899221715}, {\"day\": 37, \"variable\": 0.9, \"value\": 0.035000430789695315}, {\"day\": 38, \"variable\": 0.9, \"value\": 0.03219171430502314}, {\"day\": 39, \"variable\": 0.9, \"value\": 0.029529339611661532}, {\"day\": 40, \"variable\": 0.9, \"value\": 0.02702218254347511}, {\"day\": 41, \"variable\": 0.9, \"value\": 0.024674628519673333}, {\"day\": 42, \"variable\": 0.9, \"value\": 0.022487448342979523}, {\"day\": 43, \"variable\": 0.9, \"value\": 0.020458572510835972}, {\"day\": 44, \"variable\": 0.9, \"value\": 0.01858376113788237}, {\"day\": 45, \"variable\": 0.9, \"value\": 0.016857172496443536}, {\"day\": 46, \"variable\": 0.9, \"value\": 0.015271836998072044}, {\"day\": 47, \"variable\": 0.9, \"value\": 0.013820045632995739}, {\"day\": 48, \"variable\": 0.9, \"value\": 0.012493662880318869}, {\"day\": 49, \"variable\": 0.9, \"value\": 0.011284374257355352}, {\"day\": 50, \"variable\": 0.9, \"value\": 0.01018387827646596}, {\"day\": 51, \"variable\": 0.9, \"value\": 0.009184031839489841}, {\"day\": 52, \"variable\": 0.9, \"value\": 0.008276957182280989}, {\"day\": 53, \"variable\": 0.9, \"value\": 0.007455117496506764}, {\"day\": 54, \"variable\": 0.9, \"value\": 0.006711367377282266}, {\"day\": 55, \"variable\": 0.9, \"value\": 0.006038983320174737}, {\"day\": 56, \"variable\": 0.9, \"value\": 0.00543167864624663}, {\"day\": 57, \"variable\": 0.9, \"value\": 0.004883606481643503}, {\"day\": 58, \"variable\": 0.9, \"value\": 0.004389353761820818}, {\"day\": 59, \"variable\": 0.9, \"value\": 0.003943928666831903}, {\"day\": 60, \"variable\": 0.9, \"value\": 0.003542743416564831}, {\"day\": 61, \"variable\": 0.9, \"value\": 0.0031815939549440274}, {\"day\": 62, \"variable\": 0.9, \"value\": 0.0028566377207183153}, {\"day\": 63, \"variable\": 0.9, \"value\": 0.002564370430396333}, {\"day\": 64, \"variable\": 0.9, \"value\": 0.002301602577516592}, {\"day\": 65, \"variable\": 0.9, \"value\": 0.0020654361738570394}, {\"day\": 66, \"variable\": 0.9, \"value\": 0.0018532421153673179}, {\"day\": 67, \"variable\": 0.9, \"value\": 0.0016626384424046237}, {\"day\": 68, \"variable\": 0.9, \"value\": 0.00149146967498732}, {\"day\": 69, \"variable\": 0.9, \"value\": 0.0013377873347590553}, {\"day\": 70, \"variable\": 0.9, \"value\": 0.001199831712403321}, {\"day\": 71, \"variable\": 0.9, \"value\": 0.0010760148992156287}, {\"day\": 72, \"variable\": 0.9, \"value\": 0.0009649050718231685}, {\"day\": 73, \"variable\": 0.9, \"value\": 0.0008652119975001608}, {\"day\": 74, \"variable\": 0.9, \"value\": 0.0007757737124145247}, {\"day\": 75, \"variable\": 0.9, \"value\": 0.0006955443150406506}, {\"day\": 76, \"variable\": 0.9, \"value\": 0.0006235828107406864}, {\"day\": 77, \"variable\": 0.9, \"value\": 0.000559042940235685}, {\"day\": 78, \"variable\": 0.9, \"value\": 0.0005011639236268538}, {\"day\": 79, \"variable\": 0.9, \"value\": 0.0004492620522062795}, {\"day\": 80, \"variable\": 0.9, \"value\": 0.00040272306205934325}, {\"day\": 81, \"variable\": 0.9, \"value\": 0.0003609952260506553}, {\"day\": 82, \"variable\": 0.9, \"value\": 0.0003235831039249237}, {\"day\": 83, \"variable\": 0.9, \"value\": 0.00029004189373106577}, {\"day\": 84, \"variable\": 0.9, \"value\": 0.0002599723314305702}, {\"day\": 85, \"variable\": 0.9, \"value\": 0.00023301608925862616}, {\"day\": 86, \"variable\": 0.9, \"value\": 0.0002088516270798536}, {\"day\": 87, \"variable\": 0.9, \"value\": 0.00018719045455561827}, {\"day\": 88, \"variable\": 0.9, \"value\": 0.00016777376537245427}, {\"day\": 89, \"variable\": 0.9, \"value\": 0.00015036940804164257}, {\"day\": 90, \"variable\": 0.9, \"value\": 0.00013476916085065395}, {\"day\": 91, \"variable\": 0.9, \"value\": 0.0001207862814188182}, {\"day\": 92, \"variable\": 0.9, \"value\": 0.00010825330397960875}, {\"day\": 93, \"variable\": 0.9, \"value\": 9.70200599824797e-05}, {\"day\": 94, \"variable\": 0.9, \"value\": 8.695189988382722e-05}, {\"day\": 95, \"variable\": 0.9, \"value\": 7.792809608729107e-05}, {\"day\": 96, \"variable\": 0.9, \"value\": 6.98404089077418e-05}, {\"day\": 97, \"variable\": 0.9, \"value\": 6.259179918131501e-05}, {\"day\": 98, \"variable\": 0.9, \"value\": 5.609527273662742e-05}, {\"day\": 99, \"variable\": 0.9, \"value\": 5.027284339081921e-05}, {\"day\": 100, \"variable\": 0.9, \"value\": 4.50546024491611e-05}]}}, {\"mode\": \"vega-lite\"});\n",
       "</script>"
      ],
      "text/plain": [
       "alt.Chart(...)"
      ]
     },
     "execution_count": 76,
     "metadata": {},
     "output_type": "execute_result"
    }
   ],
   "source": [
    "alt.Chart(infections).mark_point(size=50).encode(\n",
    "    x = alt.X(\n",
    "        \"day:Q\",\n",
    "    ),\n",
    "    y = alt.Y(\n",
    "        \"value:Q\",\n",
    "        title = \"proportion of pop. infected\",\n",
    "#         scale = alt.Scale(domain=(0,.15))\n",
    "    ),\n",
    "    color = alt.Color(\"variable:N\", title='alpha'),\n",
    "    shape = alt.Shape(\"variable:N\")\n",
    ").properties(\n",
    "    width=600,\n",
    "    height=300\n",
    ").configure_axis(\n",
    "    titleFontSize=16,\n",
    "    labelFontSize=14\n",
    ").configure_legend(\n",
    "    titleFontSize=15,\n",
    "    labelFontSize=13\n",
    ")"
   ]
  },
  {
   "cell_type": "code",
   "execution_count": null,
   "metadata": {},
   "outputs": [],
   "source": []
  },
  {
   "cell_type": "code",
   "execution_count": 77,
   "metadata": {},
   "outputs": [
    {
     "data": {
      "text/plain": [
       "23"
      ]
     },
     "execution_count": 77,
     "metadata": {},
     "output_type": "execute_result"
    }
   ],
   "source": [
    "get_peak_day(infection_flows[.5])"
   ]
  },
  {
   "cell_type": "code",
   "execution_count": 78,
   "metadata": {},
   "outputs": [
    {
     "data": {
      "text/plain": [
       "22"
      ]
     },
     "execution_count": 78,
     "metadata": {},
     "output_type": "execute_result"
    }
   ],
   "source": [
    "get_peak_day(infection_flows[.6])"
   ]
  },
  {
   "cell_type": "code",
   "execution_count": 79,
   "metadata": {},
   "outputs": [
    {
     "data": {
      "text/plain": [
       "22"
      ]
     },
     "execution_count": 79,
     "metadata": {},
     "output_type": "execute_result"
    }
   ],
   "source": [
    "get_peak_day(infection_flows[.7])"
   ]
  },
  {
   "cell_type": "code",
   "execution_count": 80,
   "metadata": {},
   "outputs": [
    {
     "data": {
      "text/plain": [
       "21"
      ]
     },
     "execution_count": 80,
     "metadata": {},
     "output_type": "execute_result"
    }
   ],
   "source": [
    "get_peak_day(infection_flows[.8])"
   ]
  },
  {
   "cell_type": "code",
   "execution_count": 81,
   "metadata": {},
   "outputs": [
    {
     "data": {
      "text/plain": [
       "23"
      ]
     },
     "execution_count": 81,
     "metadata": {},
     "output_type": "execute_result"
    }
   ],
   "source": [
    "get_peak_day(infection_flows[.9])"
   ]
  },
  {
   "cell_type": "code",
   "execution_count": 60,
   "metadata": {},
   "outputs": [
    {
     "data": {
      "text/plain": [
       "0"
      ]
     },
     "execution_count": 60,
     "metadata": {},
     "output_type": "execute_result"
    }
   ],
   "source": [
    "get_peak_day(infection_flows[1])"
   ]
  },
  {
   "cell_type": "code",
   "execution_count": 61,
   "metadata": {},
   "outputs": [
    {
     "data": {
      "text/plain": [
       "array([0., 0., 0., 0., 0., 0., 0., 0., 0., 0., 0., 0., 0., 0., 0., 0., 0.,\n",
       "       0., 0., 0., 0., 0., 0., 0., 0., 0., 0., 0., 0., 0., 0., 0., 0., 0.,\n",
       "       0., 0., 0., 0., 0., 0., 0., 0., 0., 0., 0., 0., 0., 0., 0., 0., 0.,\n",
       "       0., 0., 0., 0., 0., 0., 0., 0., 0., 0., 0., 0., 0., 0., 0., 0., 0.,\n",
       "       0., 0., 0., 0., 0., 0., 0., 0., 0., 0., 0., 0., 0., 0., 0., 0., 0.,\n",
       "       0., 0., 0., 0., 0., 0., 0., 0., 0., 0., 0., 0., 0., 0., 0.])"
      ]
     },
     "execution_count": 61,
     "metadata": {},
     "output_type": "execute_result"
    }
   ],
   "source": [
    "infection_flows[1]"
   ]
  },
  {
   "cell_type": "code",
   "execution_count": null,
   "metadata": {},
   "outputs": [],
   "source": []
  }
 ],
 "metadata": {
  "kernelspec": {
   "display_name": "Python 3 (ipykernel)",
   "language": "python",
   "name": "python3"
  },
  "language_info": {
   "codemirror_mode": {
    "name": "ipython",
    "version": 3
   },
   "file_extension": ".py",
   "mimetype": "text/x-python",
   "name": "python",
   "nbconvert_exporter": "python",
   "pygments_lexer": "ipython3",
   "version": "3.9.12"
  }
 },
 "nbformat": 4,
 "nbformat_minor": 2
}
