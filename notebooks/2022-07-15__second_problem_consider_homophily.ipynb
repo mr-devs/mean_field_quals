{
 "cells": [
  {
   "cell_type": "code",
   "execution_count": 1,
   "metadata": {},
   "outputs": [],
   "source": [
    "import pandas as pd\n",
    "import altair as alt\n",
    "import numpy as np\n",
    "import os\n",
    "import sys\n",
    "\n",
    "source_dir = '/Users/matthewdeverna/Documents/Projects/mean_field_quals/src'\n",
    "sys.path.append(source_dir)\n",
    "\n",
    "\n",
    "from simulations import run_simulation, get_peak_day, deriv_simple, deriv_with_homophily"
   ]
  },
  {
   "cell_type": "code",
   "execution_count": 51,
   "metadata": {},
   "outputs": [],
   "source": [
    "def deriv_with_homophily(beta_o, beta_m, sus_o, sus_m, inf_o, inf_m, k, alpha, counts=False, N=None):\n",
    "    \"\"\"\n",
    "    Calculate the *change* in population for all six compartments in the scenario\n",
    "    where we consider two populations — ordinary and misinformed — (and thus six\n",
    "    compartments), but no homophily.\n",
    "\n",
    "    Parameters:\n",
    "    -----------\n",
    "    - beta_o (float) : proportion of population infected (ordinary)\n",
    "    - beta_m (float) : proportion of the population infected (misinformed)\n",
    "    - sus_o (float)  : proportion of the population susceptible (ordinary)\n",
    "    - sus_m (float)  : proportion of the population susceptible (misinformed)\n",
    "    - inf_o (float)  : proportion of the population infected (ordinary)\n",
    "    - inf_m (float)  : proportion of the population infected (misinformed)\n",
    "    - k (inf)        : the rate of recovery (i.e., 1 / num days to recover)\n",
    "    - alpha (float)  : level of homophily. Must fall in range: .5 <= alpha <= 1\n",
    "    - counts (bool)  : if True, run the simulation based on a number of people\n",
    "    - N (int)        : size of the population to run with `counts`\n",
    "\n",
    "    Returns\n",
    "    -----------\n",
    "    The *change* in the population for...\n",
    "    - ds_o : susceptible (ordinary)\n",
    "    - di_o : infected (ordinary)\n",
    "    - dr_o : recovered (ordinary)\n",
    "    - ds_m : susceptible (misinformed)\n",
    "    - di_m : infected (misinformed)\n",
    "    - dr_m : recovered (misinformed)\n",
    "    \"\"\"\n",
    "    if not (.5 <= alpha <= 1):\n",
    "        raise ValueError(\"`alpha` must fall in the range [.5,1]\")\n",
    "    \n",
    "    if not counts:\n",
    "        # Ordinary folks first\n",
    "        ds_o = -2*beta_o * sus_o * (inf_o*alpha + inf_m*(1-alpha))\n",
    "        di_o = 2*beta_o * sus_o * (inf_o*alpha + inf_m*(1-alpha)) - k * inf_o\n",
    "        dr_o = k * inf_o\n",
    "\n",
    "        # Misinfo folks next\n",
    "        ds_m = -2*beta_m * sus_m * (inf_o*alpha + inf_m*(1-alpha))\n",
    "        di_m = 2*beta_m * sus_m * (inf_o*alpha + inf_m*(1-alpha)) - k * inf_m\n",
    "        dr_m = k * inf_m\n",
    "\n",
    "    else:\n",
    "        if N is None:\n",
    "            raise ValueError(\"`N` must be set with `counts = True`\")\n",
    "\n",
    "        # Ordinary folks first\n",
    "        ds_o = -2*beta_o * sus_o * (inf_o*alpha + inf_m*(1-alpha)) / N\n",
    "        di_o = ((2*beta_o * sus_o * (inf_o*alpha + inf_m*(1-alpha))) / N) - k * inf_o\n",
    "        dr_o = k * inf_o\n",
    "\n",
    "        # Misinfo folks next\n",
    "        ds_m = (-2*beta_m * sus_m * (inf_o*alpha + inf_m*(1-alpha))) / N\n",
    "        di_m = ((2*beta_m * sus_m * (inf_o*alpha + inf_m*(1-alpha))) / N) - k * inf_m\n",
    "        dr_m = k * inf_m\n",
    "\n",
    "    return ds_o, di_o, dr_o, ds_m, di_m, dr_m"
   ]
  },
  {
   "cell_type": "code",
   "execution_count": 52,
   "metadata": {},
   "outputs": [
    {
     "data": {
      "text/plain": [
       "0.5"
      ]
     },
     "execution_count": 52,
     "metadata": {},
     "output_type": "execute_result"
    }
   ],
   "source": [
    "x"
   ]
  },
  {
   "cell_type": "code",
   "execution_count": 2,
   "metadata": {},
   "outputs": [],
   "source": [
    "# ---- from function input ----\n",
    "\n",
    "frac_ord = .5\n",
    "prop_infec = .001\n",
    "num_days= 100\n",
    "beta_ord = .3\n",
    "recovery_days=7\n",
    "beta_mult = 2\n",
    "\n",
    "# ---- from function input ----\n",
    "\n",
    "\n",
    "\n",
    "eps = prop_infec\n",
    "x = frac_ord\n",
    "\n",
    "step_size = 1  # step size\n",
    "all_steps = np.arange(0, num_days, step_size)\n",
    "\n",
    "### Set initial values ###\n",
    "S_o = np.zeros(len(all_steps))\n",
    "S_m = np.zeros(len(all_steps))\n",
    "I_o = np.zeros(len(all_steps))\n",
    "I_m = np.zeros(len(all_steps))\n",
    "R_o = np.zeros(len(all_steps))\n",
    "R_m = np.zeros(len(all_steps))\n",
    "\n",
    "# These have unique values for the first time step\n",
    "\n",
    "if x == 1:\n",
    "    S_o[0] = x - eps\n",
    "    I_o[0] = eps\n",
    "else:\n",
    "    S_o[0] = x\n",
    "    S_m[0] = 1 - x - eps\n",
    "    I_m[0] = eps\n",
    "\n",
    "# Set recovery rate\n",
    "k = 1 / recovery_days\n",
    "\n",
    "# Setting beta values\n",
    "B_o = beta_ord\n",
    "B_m = B_o * beta_mult\n",
    "B_m = 1 if B_m >= 1 else B_m\n",
    "\n",
    "# Get r0 values\n",
    "ord_r0 = B_o / k\n",
    "mis_r0 = B_m / k\n",
    "weighted_avg_r0 = np.average([ord_r0, mis_r0], weights=[x, 1 - x])\n",
    "\n",
    "r0s = (ord_r0, mis_r0, weighted_avg_r0)\n",
    "\n",
    "for t in range(0, len(all_steps) - 1):\n",
    "\n",
    "    # Calculate the change of each value\n",
    "    d_s_o, d_i_o, d_r_o, d_s_m, d_i_m, d_r_m = deriv_with_homophily(\n",
    "        beta_o=B_o,\n",
    "        beta_m=B_m,\n",
    "        sus_o=S_o[t],\n",
    "        sus_m=S_m[t],\n",
    "        inf_o=I_o[t],\n",
    "        inf_m=I_m[t],\n",
    "        k=k,\n",
    "        alpha=.75\n",
    "    )\n",
    "\n",
    "    # Ensure that the total change is zero because individuals should\n",
    "    # simply be shifting between compartments\n",
    "    total_change = d_s_o + d_s_m + d_i_o + d_i_m + d_r_o + d_r_m\n",
    "    assert np.allclose(total_change, 0), f\"{total_change}\"\n",
    "\n",
    "    # Set the next value as the current plus it's change\n",
    "    S_o[t + 1] = S_o[t] + d_s_o\n",
    "    S_m[t + 1] = S_m[t] + d_s_m\n",
    "    I_o[t + 1] = I_o[t] + d_i_o\n",
    "    I_m[t + 1] = I_m[t] + d_i_m\n",
    "    R_o[t + 1] = R_o[t] + d_r_o\n",
    "    R_m[t + 1] = R_m[t] + d_r_m\n",
    "\n",
    "# S_o, S_m, I_o, I_m, R_o, R_m, r0s"
   ]
  },
  {
   "cell_type": "code",
   "execution_count": 27,
   "metadata": {},
   "outputs": [
    {
     "name": "stdout",
     "output_type": "stream",
     "text": [
      "0.5\n",
      "0.499\n",
      "0.001\n"
     ]
    }
   ],
   "source": [
    "print(S_o[0])\n",
    "print(S_m[0])\n",
    "print(I_m[0])"
   ]
  },
  {
   "cell_type": "code",
   "execution_count": 31,
   "metadata": {},
   "outputs": [
    {
     "data": {
      "text/plain": [
       "0.0"
      ]
     },
     "execution_count": 31,
     "metadata": {},
     "output_type": "execute_result"
    }
   ],
   "source": [
    "I_o[0]"
   ]
  },
  {
   "cell_type": "code",
   "execution_count": null,
   "metadata": {},
   "outputs": [],
   "source": [
    "((-2*beta_o * sus_o * (inf_o*alpha + inf_m*(1-alpha))) / N) - k * inf_o"
   ]
  },
  {
   "cell_type": "code",
   "execution_count": 34,
   "metadata": {},
   "outputs": [
    {
     "data": {
      "text/plain": [
       "-0.3"
      ]
     },
     "execution_count": 34,
     "metadata": {},
     "output_type": "execute_result"
    }
   ],
   "source": [
    "-2*B_o * S_o[t]"
   ]
  },
  {
   "cell_type": "code",
   "execution_count": 38,
   "metadata": {},
   "outputs": [
    {
     "data": {
      "text/plain": [
       "0.0"
      ]
     },
     "execution_count": 38,
     "metadata": {},
     "output_type": "execute_result"
    }
   ],
   "source": [
    "alpha = .75\n",
    "I_o[t] * alpha"
   ]
  },
  {
   "cell_type": "code",
   "execution_count": null,
   "metadata": {},
   "outputs": [],
   "source": [
    "ds_o, di_o, dr_o, ds_m, di_m, dr_m"
   ]
  },
  {
   "cell_type": "code",
   "execution_count": 31,
   "metadata": {},
   "outputs": [
    {
     "data": {
      "text/plain": [
       "(-0.0, 0.0, 0.0, -0.0, -0.00014285714285714284, 0.00014285714285714284)"
      ]
     },
     "execution_count": 31,
     "metadata": {},
     "output_type": "execute_result"
    }
   ],
   "source": [
    "t = 0\n",
    "\n",
    "deriv_with_homophily(\n",
    "        beta_o=B_o,\n",
    "        beta_m=B_m,\n",
    "        sus_o=S_o[t],\n",
    "        sus_m=S_m[t],\n",
    "        inf_o=I_o[t],\n",
    "        inf_m=I_m[t],\n",
    "        k=k,\n",
    "        alpha=1\n",
    "    )"
   ]
  },
  {
   "cell_type": "code",
   "execution_count": 4,
   "metadata": {},
   "outputs": [],
   "source": [
    "import matplotlib.pyplot as plt"
   ]
  },
  {
   "cell_type": "code",
   "execution_count": 14,
   "metadata": {},
   "outputs": [],
   "source": [
    "S_o, S_m, I_o, I_m, R_o, R_m, r0s = run_simulation(\n",
    "    frac_ord = .5,\n",
    "    prop_infec=.001,\n",
    "    num_days=100,\n",
    "    beta_ord=.3,\n",
    "    recovery_days=7,\n",
    "    beta_mult=2,\n",
    "    w_homophily=True,\n",
    "    alpha = .9,\n",
    "    counts=False,\n",
    "    N=None,\n",
    ")"
   ]
  },
  {
   "cell_type": "code",
   "execution_count": null,
   "metadata": {},
   "outputs": [],
   "source": []
  },
  {
   "cell_type": "code",
   "execution_count": null,
   "metadata": {},
   "outputs": [],
   "source": []
  },
  {
   "cell_type": "code",
   "execution_count": 22,
   "metadata": {},
   "outputs": [],
   "source": [
    "# Fraction of ordinary people\n",
    "x = .5\n",
    "\n",
    "# All beta values\n",
    "beta = .3\n",
    "\n",
    "# Less beta values highlighted for one of the later plots\n",
    "alphas = [0.5, 0.6, 0.7, 0.8, 0.9, 1.]\n",
    "\n",
    "totals = []      # Total infections\n",
    "r0s_ = []        # R0 valuyes\n",
    "peak_days = []   # Date of each peak\n",
    "\n",
    "# Will store the progression of infections over time, indexed by beta values\n",
    "infection_flows = dict()\n",
    "\n",
    "\n",
    "for alpha in alphas:\n",
    "    \n",
    "    # Run the simulation based on the input \n",
    "    S_o, S_m, I_o, I_m, R_o, R_m, r0s = run_simulation(\n",
    "        frac_ord=x,\n",
    "        prop_infec=.001,\n",
    "        num_days=100,\n",
    "        beta_ord=beta,\n",
    "        recovery_days=5,\n",
    "        beta_mult=2,     # Multiple the current beta value by this to get the misinfo group beta\n",
    "        w_homophily=True,\n",
    "        alpha=alpha\n",
    "    )\n",
    "    total_ord_inf = max(R_o)\n",
    "    total_mis_inf = max(R_m)\n",
    "    \n",
    "    infection_flows[alpha] = I_o\n",
    "    \n",
    "    r0s_.append( (r0s[0], r0s[1], r0s[2], beta) )\n",
    "    \n",
    "    totals.append((alpha, total_ord_inf, total_mis_inf, total_ord_inf + total_mis_inf))"
   ]
  },
  {
   "cell_type": "code",
   "execution_count": 24,
   "metadata": {},
   "outputs": [],
   "source": [
    "totals_df = pd.DataFrame(totals, columns = ['alpha', 'ord_inf', 'mis_inf', 'total'])"
   ]
  },
  {
   "cell_type": "code",
   "execution_count": 25,
   "metadata": {},
   "outputs": [
    {
     "data": {
      "text/html": [
       "<div>\n",
       "<style scoped>\n",
       "    .dataframe tbody tr th:only-of-type {\n",
       "        vertical-align: middle;\n",
       "    }\n",
       "\n",
       "    .dataframe tbody tr th {\n",
       "        vertical-align: top;\n",
       "    }\n",
       "\n",
       "    .dataframe thead th {\n",
       "        text-align: right;\n",
       "    }\n",
       "</style>\n",
       "<table border=\"1\" class=\"dataframe\">\n",
       "  <thead>\n",
       "    <tr style=\"text-align: right;\">\n",
       "      <th></th>\n",
       "      <th>alpha</th>\n",
       "      <th>variable</th>\n",
       "      <th>value</th>\n",
       "    </tr>\n",
       "  </thead>\n",
       "  <tbody>\n",
       "    <tr>\n",
       "      <th>0</th>\n",
       "      <td>0.5</td>\n",
       "      <td>ord_inf</td>\n",
       "      <td>0.356824</td>\n",
       "    </tr>\n",
       "    <tr>\n",
       "      <th>1</th>\n",
       "      <td>0.6</td>\n",
       "      <td>ord_inf</td>\n",
       "      <td>0.348444</td>\n",
       "    </tr>\n",
       "    <tr>\n",
       "      <th>2</th>\n",
       "      <td>0.7</td>\n",
       "      <td>ord_inf</td>\n",
       "      <td>0.338486</td>\n",
       "    </tr>\n",
       "    <tr>\n",
       "      <th>3</th>\n",
       "      <td>0.8</td>\n",
       "      <td>ord_inf</td>\n",
       "      <td>0.325723</td>\n",
       "    </tr>\n",
       "    <tr>\n",
       "      <th>4</th>\n",
       "      <td>0.9</td>\n",
       "      <td>ord_inf</td>\n",
       "      <td>0.303217</td>\n",
       "    </tr>\n",
       "    <tr>\n",
       "      <th>5</th>\n",
       "      <td>1.0</td>\n",
       "      <td>ord_inf</td>\n",
       "      <td>0.000000</td>\n",
       "    </tr>\n",
       "    <tr>\n",
       "      <th>6</th>\n",
       "      <td>0.5</td>\n",
       "      <td>mis_inf</td>\n",
       "      <td>0.461104</td>\n",
       "    </tr>\n",
       "    <tr>\n",
       "      <th>7</th>\n",
       "      <td>0.6</td>\n",
       "      <td>mis_inf</td>\n",
       "      <td>0.456011</td>\n",
       "    </tr>\n",
       "    <tr>\n",
       "      <th>8</th>\n",
       "      <td>0.7</td>\n",
       "      <td>mis_inf</td>\n",
       "      <td>0.449611</td>\n",
       "    </tr>\n",
       "    <tr>\n",
       "      <th>9</th>\n",
       "      <td>0.8</td>\n",
       "      <td>mis_inf</td>\n",
       "      <td>0.440866</td>\n",
       "    </tr>\n",
       "    <tr>\n",
       "      <th>10</th>\n",
       "      <td>0.9</td>\n",
       "      <td>mis_inf</td>\n",
       "      <td>0.423963</td>\n",
       "    </tr>\n",
       "    <tr>\n",
       "      <th>11</th>\n",
       "      <td>1.0</td>\n",
       "      <td>mis_inf</td>\n",
       "      <td>0.001000</td>\n",
       "    </tr>\n",
       "    <tr>\n",
       "      <th>12</th>\n",
       "      <td>0.5</td>\n",
       "      <td>total</td>\n",
       "      <td>0.817928</td>\n",
       "    </tr>\n",
       "    <tr>\n",
       "      <th>13</th>\n",
       "      <td>0.6</td>\n",
       "      <td>total</td>\n",
       "      <td>0.804455</td>\n",
       "    </tr>\n",
       "    <tr>\n",
       "      <th>14</th>\n",
       "      <td>0.7</td>\n",
       "      <td>total</td>\n",
       "      <td>0.788097</td>\n",
       "    </tr>\n",
       "    <tr>\n",
       "      <th>15</th>\n",
       "      <td>0.8</td>\n",
       "      <td>total</td>\n",
       "      <td>0.766589</td>\n",
       "    </tr>\n",
       "    <tr>\n",
       "      <th>16</th>\n",
       "      <td>0.9</td>\n",
       "      <td>total</td>\n",
       "      <td>0.727179</td>\n",
       "    </tr>\n",
       "    <tr>\n",
       "      <th>17</th>\n",
       "      <td>1.0</td>\n",
       "      <td>total</td>\n",
       "      <td>0.001000</td>\n",
       "    </tr>\n",
       "  </tbody>\n",
       "</table>\n",
       "</div>"
      ],
      "text/plain": [
       "    alpha variable     value\n",
       "0     0.5  ord_inf  0.356824\n",
       "1     0.6  ord_inf  0.348444\n",
       "2     0.7  ord_inf  0.338486\n",
       "3     0.8  ord_inf  0.325723\n",
       "4     0.9  ord_inf  0.303217\n",
       "5     1.0  ord_inf  0.000000\n",
       "6     0.5  mis_inf  0.461104\n",
       "7     0.6  mis_inf  0.456011\n",
       "8     0.7  mis_inf  0.449611\n",
       "9     0.8  mis_inf  0.440866\n",
       "10    0.9  mis_inf  0.423963\n",
       "11    1.0  mis_inf  0.001000\n",
       "12    0.5    total  0.817928\n",
       "13    0.6    total  0.804455\n",
       "14    0.7    total  0.788097\n",
       "15    0.8    total  0.766589\n",
       "16    0.9    total  0.727179\n",
       "17    1.0    total  0.001000"
      ]
     },
     "execution_count": 25,
     "metadata": {},
     "output_type": "execute_result"
    }
   ],
   "source": [
    "totals_df.melt(id_vars='alpha')"
   ]
  },
  {
   "cell_type": "code",
   "execution_count": 29,
   "metadata": {},
   "outputs": [
    {
     "data": {
      "text/html": [
       "\n",
       "<div id=\"altair-viz-39bf80b1d019438386155637338fe108\"></div>\n",
       "<script type=\"text/javascript\">\n",
       "  (function(spec, embedOpt){\n",
       "    let outputDiv = document.currentScript.previousElementSibling;\n",
       "    if (outputDiv.id !== \"altair-viz-39bf80b1d019438386155637338fe108\") {\n",
       "      outputDiv = document.getElementById(\"altair-viz-39bf80b1d019438386155637338fe108\");\n",
       "    }\n",
       "    const paths = {\n",
       "      \"vega\": \"https://cdn.jsdelivr.net/npm//vega@5?noext\",\n",
       "      \"vega-lib\": \"https://cdn.jsdelivr.net/npm//vega-lib?noext\",\n",
       "      \"vega-lite\": \"https://cdn.jsdelivr.net/npm//vega-lite@4.8.1?noext\",\n",
       "      \"vega-embed\": \"https://cdn.jsdelivr.net/npm//vega-embed@6?noext\",\n",
       "    };\n",
       "\n",
       "    function loadScript(lib) {\n",
       "      return new Promise(function(resolve, reject) {\n",
       "        var s = document.createElement('script');\n",
       "        s.src = paths[lib];\n",
       "        s.async = true;\n",
       "        s.onload = () => resolve(paths[lib]);\n",
       "        s.onerror = () => reject(`Error loading script: ${paths[lib]}`);\n",
       "        document.getElementsByTagName(\"head\")[0].appendChild(s);\n",
       "      });\n",
       "    }\n",
       "\n",
       "    function showError(err) {\n",
       "      outputDiv.innerHTML = `<div class=\"error\" style=\"color:red;\">${err}</div>`;\n",
       "      throw err;\n",
       "    }\n",
       "\n",
       "    function displayChart(vegaEmbed) {\n",
       "      vegaEmbed(outputDiv, spec, embedOpt)\n",
       "        .catch(err => showError(`Javascript Error: ${err.message}<br>This usually means there's a typo in your chart specification. See the javascript console for the full traceback.`));\n",
       "    }\n",
       "\n",
       "    if(typeof define === \"function\" && define.amd) {\n",
       "      requirejs.config({paths});\n",
       "      require([\"vega-embed\"], displayChart, err => showError(`Error loading script: ${err.message}`));\n",
       "    } else if (typeof vegaEmbed === \"function\") {\n",
       "      displayChart(vegaEmbed);\n",
       "    } else {\n",
       "      loadScript(\"vega\")\n",
       "        .then(() => loadScript(\"vega-lite\"))\n",
       "        .then(() => loadScript(\"vega-embed\"))\n",
       "        .catch(showError)\n",
       "        .then(() => displayChart(vegaEmbed));\n",
       "    }\n",
       "  })({\"config\": {\"view\": {\"continuousWidth\": 400, \"continuousHeight\": 300}}, \"data\": {\"name\": \"data-13eea9081703221cc6afb2840819c0d7\"}, \"mark\": \"point\", \"encoding\": {\"color\": {\"type\": \"nominal\", \"field\": \"variable\"}, \"x\": {\"type\": \"ordinal\", \"field\": \"alpha\"}, \"y\": {\"type\": \"quantitative\", \"field\": \"value\"}}, \"$schema\": \"https://vega.github.io/schema/vega-lite/v4.8.1.json\", \"datasets\": {\"data-13eea9081703221cc6afb2840819c0d7\": [{\"alpha\": 0.5, \"variable\": \"ord_inf\", \"value\": 0.3568237022259784}, {\"alpha\": 0.6, \"variable\": \"ord_inf\", \"value\": 0.3484439579390794}, {\"alpha\": 0.7, \"variable\": \"ord_inf\", \"value\": 0.33848595399682596}, {\"alpha\": 0.8, \"variable\": \"ord_inf\", \"value\": 0.3257234552380697}, {\"alpha\": 0.9, \"variable\": \"ord_inf\", \"value\": 0.3032166550855711}, {\"alpha\": 1.0, \"variable\": \"ord_inf\", \"value\": 0.0}, {\"alpha\": 0.5, \"variable\": \"mis_inf\", \"value\": 0.4611038028526409}, {\"alpha\": 0.6, \"variable\": \"mis_inf\", \"value\": 0.4560114261603913}, {\"alpha\": 0.7, \"variable\": \"mis_inf\", \"value\": 0.4496106759720753}, {\"alpha\": 0.8, \"variable\": \"mis_inf\", \"value\": 0.44086563697023295}, {\"alpha\": 0.9, \"variable\": \"mis_inf\", \"value\": 0.423962650123306}, {\"alpha\": 1.0, \"variable\": \"mis_inf\", \"value\": 0.00099999999974537}, {\"alpha\": 0.5, \"variable\": \"total\", \"value\": 0.8179275050786193}, {\"alpha\": 0.6, \"variable\": \"total\", \"value\": 0.8044553840994707}, {\"alpha\": 0.7, \"variable\": \"total\", \"value\": 0.7880966299689013}, {\"alpha\": 0.8, \"variable\": \"total\", \"value\": 0.7665890922083027}, {\"alpha\": 0.9, \"variable\": \"total\", \"value\": 0.7271793052088771}, {\"alpha\": 1.0, \"variable\": \"total\", \"value\": 0.00099999999974537}]}}, {\"mode\": \"vega-lite\"});\n",
       "</script>"
      ],
      "text/plain": [
       "alt.Chart(...)"
      ]
     },
     "execution_count": 29,
     "metadata": {},
     "output_type": "execute_result"
    }
   ],
   "source": [
    "alt.Chart(totals_df.melt(id_vars='alpha')).mark_point().encode(\n",
    "    x = alt.X('alpha:O'),\n",
    "    y = alt.Y(\"value\"),\n",
    "    color = alt.Color(\"variable\")\n",
    ")"
   ]
  },
  {
   "cell_type": "code",
   "execution_count": 30,
   "metadata": {},
   "outputs": [
    {
     "data": {
      "text/html": [
       "<div>\n",
       "<style scoped>\n",
       "    .dataframe tbody tr th:only-of-type {\n",
       "        vertical-align: middle;\n",
       "    }\n",
       "\n",
       "    .dataframe tbody tr th {\n",
       "        vertical-align: top;\n",
       "    }\n",
       "\n",
       "    .dataframe thead th {\n",
       "        text-align: right;\n",
       "    }\n",
       "</style>\n",
       "<table border=\"1\" class=\"dataframe\">\n",
       "  <thead>\n",
       "    <tr style=\"text-align: right;\">\n",
       "      <th></th>\n",
       "      <th>alpha</th>\n",
       "      <th>ord_inf</th>\n",
       "      <th>mis_inf</th>\n",
       "      <th>total</th>\n",
       "    </tr>\n",
       "  </thead>\n",
       "  <tbody>\n",
       "    <tr>\n",
       "      <th>0</th>\n",
       "      <td>0.5</td>\n",
       "      <td>0.356824</td>\n",
       "      <td>0.461104</td>\n",
       "      <td>0.817928</td>\n",
       "    </tr>\n",
       "    <tr>\n",
       "      <th>1</th>\n",
       "      <td>0.6</td>\n",
       "      <td>0.348444</td>\n",
       "      <td>0.456011</td>\n",
       "      <td>0.804455</td>\n",
       "    </tr>\n",
       "    <tr>\n",
       "      <th>2</th>\n",
       "      <td>0.7</td>\n",
       "      <td>0.338486</td>\n",
       "      <td>0.449611</td>\n",
       "      <td>0.788097</td>\n",
       "    </tr>\n",
       "    <tr>\n",
       "      <th>3</th>\n",
       "      <td>0.8</td>\n",
       "      <td>0.325723</td>\n",
       "      <td>0.440866</td>\n",
       "      <td>0.766589</td>\n",
       "    </tr>\n",
       "    <tr>\n",
       "      <th>4</th>\n",
       "      <td>0.9</td>\n",
       "      <td>0.303217</td>\n",
       "      <td>0.423963</td>\n",
       "      <td>0.727179</td>\n",
       "    </tr>\n",
       "    <tr>\n",
       "      <th>5</th>\n",
       "      <td>1.0</td>\n",
       "      <td>0.000000</td>\n",
       "      <td>0.001000</td>\n",
       "      <td>0.001000</td>\n",
       "    </tr>\n",
       "  </tbody>\n",
       "</table>\n",
       "</div>"
      ],
      "text/plain": [
       "   alpha   ord_inf   mis_inf     total\n",
       "0    0.5  0.356824  0.461104  0.817928\n",
       "1    0.6  0.348444  0.456011  0.804455\n",
       "2    0.7  0.338486  0.449611  0.788097\n",
       "3    0.8  0.325723  0.440866  0.766589\n",
       "4    0.9  0.303217  0.423963  0.727179\n",
       "5    1.0  0.000000  0.001000  0.001000"
      ]
     },
     "execution_count": 30,
     "metadata": {},
     "output_type": "execute_result"
    }
   ],
   "source": [
    "totals_df"
   ]
  },
  {
   "cell_type": "code",
   "execution_count": 9,
   "metadata": {},
   "outputs": [
    {
     "data": {
      "text/plain": [
       "(0.001,)"
      ]
     },
     "execution_count": 9,
     "metadata": {},
     "output_type": "execute_result"
    }
   ],
   "source": [
    "eps"
   ]
  },
  {
   "cell_type": "code",
   "execution_count": null,
   "metadata": {},
   "outputs": [],
   "source": []
  }
 ],
 "metadata": {
  "kernelspec": {
   "display_name": "Python 3",
   "language": "python",
   "name": "python3"
  },
  "language_info": {
   "codemirror_mode": {
    "name": "ipython",
    "version": 3
   },
   "file_extension": ".py",
   "mimetype": "text/x-python",
   "name": "python",
   "nbconvert_exporter": "python",
   "pygments_lexer": "ipython3",
   "version": "3.7.6"
  }
 },
 "nbformat": 4,
 "nbformat_minor": 2
}
