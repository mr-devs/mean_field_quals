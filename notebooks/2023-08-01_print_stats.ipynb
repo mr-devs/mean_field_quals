{
 "cells": [
  {
   "cell_type": "code",
   "execution_count": 1,
   "id": "3aa74aaa",
   "metadata": {},
   "outputs": [],
   "source": [
    "import sys\n",
    "import os\n",
    "\n",
    "import pandas as pd\n",
    "import numpy as np\n",
    "\n",
    "# Load simulation source code\n",
    "source_dir = \"../src\"\n",
    "sys.path.insert(0, source_dir)\n",
    "from simulations import get_peak_day"
   ]
  },
  {
   "cell_type": "markdown",
   "id": "e86233fb",
   "metadata": {},
   "source": [
    "### Varying Lambda"
   ]
  },
  {
   "cell_type": "code",
   "execution_count": 2,
   "id": "32cf16e4",
   "metadata": {},
   "outputs": [],
   "source": [
    "OUT_DIR = \"../figures\"\n",
    "CURR_DIR = \"notebooks\"\n",
    "RESULTS_DIR = \"../sim_results/effects_of_lambda\"\n",
    "# Ensure we are in the data_analysis directory for paths to work\n",
    "if os.path.basename(os.getcwd()) != CURR_DIR:\n",
    "    raise Exception(f\"Must run this script from the `{CURR_DIR}` directory!\")\n",
    "\n",
    "### Load simulation results ###\n",
    "totals_df = pd.read_csv(os.path.join(RESULTS_DIR, \"total_infected.csv\"))\n",
    "by_day_df = pd.read_csv(os.path.join(RESULTS_DIR, \"daily_infected.csv\"))"
   ]
  },
  {
   "cell_type": "code",
   "execution_count": 3,
   "id": "58d72474",
   "metadata": {},
   "outputs": [
    {
     "name": "stdout",
     "output_type": "stream",
     "text": [
      "Total extra infections incurred by misinformed group:  12.8%\n"
     ]
    }
   ],
   "source": [
    "print(f\"Total extra infections incurred by misinformed group: {totals_df['diff'].max() : .1%}\")"
   ]
  },
  {
   "cell_type": "code",
   "execution_count": 4,
   "id": "3c078567",
   "metadata": {},
   "outputs": [
    {
     "name": "stdout",
     "output_type": "stream",
     "text": [
      "Total extra infections incurred by misinformed group:  29.7%\n"
     ]
    }
   ],
   "source": [
    "print(f\"Total extra infections incurred by network (lambda 1 vs lambda 4): {totals_df['total_extra'].max() : .1%}\")"
   ]
  },
  {
   "cell_type": "code",
   "execution_count": 5,
   "id": "bb3ccc8d",
   "metadata": {},
   "outputs": [
    {
     "name": "stdout",
     "output_type": "stream",
     "text": [
      "Peak day for misinformed group: 20\n",
      "Peak day for ordinary group: 23\n"
     ]
    }
   ],
   "source": [
    "for group in ['misinformed', 'ordinary']:\n",
    "    temp_slice = by_day_df[(by_day_df['lambda'] == 4) & (by_day_df['group'] == group)]\n",
    "    peak_day = get_peak_day(temp_slice['value'])\n",
    "    print(f\"Peak day for {group} group: {peak_day}\")"
   ]
  },
  {
   "cell_type": "code",
   "execution_count": 6,
   "id": "ff847d02",
   "metadata": {},
   "outputs": [
    {
     "data": {
      "text/html": [
       "<div>\n",
       "<style scoped>\n",
       "    .dataframe tbody tr th:only-of-type {\n",
       "        vertical-align: middle;\n",
       "    }\n",
       "\n",
       "    .dataframe tbody tr th {\n",
       "        vertical-align: top;\n",
       "    }\n",
       "\n",
       "    .dataframe thead th {\n",
       "        text-align: right;\n",
       "    }\n",
       "</style>\n",
       "<table border=\"1\" class=\"dataframe\">\n",
       "  <thead>\n",
       "    <tr style=\"text-align: right;\">\n",
       "      <th></th>\n",
       "      <th>day</th>\n",
       "      <th>lambda</th>\n",
       "      <th>value</th>\n",
       "      <th>group</th>\n",
       "    </tr>\n",
       "  </thead>\n",
       "  <tbody>\n",
       "    <tr>\n",
       "      <th>0</th>\n",
       "      <td>1</td>\n",
       "      <td>1.0</td>\n",
       "      <td>1.000000e-03</td>\n",
       "      <td>combined</td>\n",
       "    </tr>\n",
       "    <tr>\n",
       "      <th>1</th>\n",
       "      <td>2</td>\n",
       "      <td>1.0</td>\n",
       "      <td>1.099700e-03</td>\n",
       "      <td>combined</td>\n",
       "    </tr>\n",
       "    <tr>\n",
       "      <th>2</th>\n",
       "      <td>3</td>\n",
       "      <td>1.0</td>\n",
       "      <td>1.209241e-03</td>\n",
       "      <td>combined</td>\n",
       "    </tr>\n",
       "    <tr>\n",
       "      <th>3</th>\n",
       "      <td>4</td>\n",
       "      <td>1.0</td>\n",
       "      <td>1.329574e-03</td>\n",
       "      <td>combined</td>\n",
       "    </tr>\n",
       "    <tr>\n",
       "      <th>4</th>\n",
       "      <td>5</td>\n",
       "      <td>1.0</td>\n",
       "      <td>1.461737e-03</td>\n",
       "      <td>combined</td>\n",
       "    </tr>\n",
       "    <tr>\n",
       "      <th>...</th>\n",
       "      <td>...</td>\n",
       "      <td>...</td>\n",
       "      <td>...</td>\n",
       "      <td>...</td>\n",
       "    </tr>\n",
       "    <tr>\n",
       "      <th>1595</th>\n",
       "      <td>96</td>\n",
       "      <td>4.0</td>\n",
       "      <td>1.592363e-06</td>\n",
       "      <td>combined</td>\n",
       "    </tr>\n",
       "    <tr>\n",
       "      <th>1596</th>\n",
       "      <td>97</td>\n",
       "      <td>4.0</td>\n",
       "      <td>1.343271e-06</td>\n",
       "      <td>combined</td>\n",
       "    </tr>\n",
       "    <tr>\n",
       "      <th>1597</th>\n",
       "      <td>98</td>\n",
       "      <td>4.0</td>\n",
       "      <td>1.133144e-06</td>\n",
       "      <td>combined</td>\n",
       "    </tr>\n",
       "    <tr>\n",
       "      <th>1598</th>\n",
       "      <td>99</td>\n",
       "      <td>4.0</td>\n",
       "      <td>9.558867e-07</td>\n",
       "      <td>combined</td>\n",
       "    </tr>\n",
       "    <tr>\n",
       "      <th>1599</th>\n",
       "      <td>100</td>\n",
       "      <td>4.0</td>\n",
       "      <td>8.063579e-07</td>\n",
       "      <td>combined</td>\n",
       "    </tr>\n",
       "  </tbody>\n",
       "</table>\n",
       "<p>1600 rows × 4 columns</p>\n",
       "</div>"
      ],
      "text/plain": [
       "      day  lambda         value     group\n",
       "0       1     1.0  1.000000e-03  combined\n",
       "1       2     1.0  1.099700e-03  combined\n",
       "2       3     1.0  1.209241e-03  combined\n",
       "3       4     1.0  1.329574e-03  combined\n",
       "4       5     1.0  1.461737e-03  combined\n",
       "...   ...     ...           ...       ...\n",
       "1595   96     4.0  1.592363e-06  combined\n",
       "1596   97     4.0  1.343271e-06  combined\n",
       "1597   98     4.0  1.133144e-06  combined\n",
       "1598   99     4.0  9.558867e-07  combined\n",
       "1599  100     4.0  8.063579e-07  combined\n",
       "\n",
       "[1600 rows x 4 columns]"
      ]
     },
     "execution_count": 6,
     "metadata": {},
     "output_type": "execute_result"
    }
   ],
   "source": [
    "combined_by_day = by_day_df[by_day_df['group'] == \"combined\"].reset_index(drop = True)\n",
    "\n",
    "lambda4 = combined_by_day[combined_by_day['lambda'] == 4]\n",
    "lambda1 = combined_by_day[combined_by_day['lambda'] == 1]\n",
    "\n",
    "lambda4_peak_day = get_peak_day(lambda4['value'])\n",
    "lambda1_peak_day = get_peak_day(lambda1['value'])\n",
    "\n",
    "print(f\"Network peak, lambda = 4: {lambda4_peak_day} days\")\n",
    "print(f\"Network peak, lambda = 1: {lambda1_peak_day} days\")\n",
    "print(f\"Network peak, difference: {lambda1_peak_day - lambda4_peak_day} days\")"
   ]
  },
  {
   "cell_type": "code",
   "execution_count": null,
   "id": "14bd7616",
   "metadata": {},
   "outputs": [],
   "source": []
  },
  {
   "cell_type": "code",
   "execution_count": null,
   "id": "b4d9f3d1",
   "metadata": {},
   "outputs": [],
   "source": []
  }
 ],
 "metadata": {
  "kernelspec": {
   "display_name": "Python 3 (ipykernel)",
   "language": "python",
   "name": "python3"
  },
  "language_info": {
   "codemirror_mode": {
    "name": "ipython",
    "version": 3
   },
   "file_extension": ".py",
   "mimetype": "text/x-python",
   "name": "python",
   "nbconvert_exporter": "python",
   "pygments_lexer": "ipython3",
   "version": "3.9.12"
  }
 },
 "nbformat": 4,
 "nbformat_minor": 5
}
