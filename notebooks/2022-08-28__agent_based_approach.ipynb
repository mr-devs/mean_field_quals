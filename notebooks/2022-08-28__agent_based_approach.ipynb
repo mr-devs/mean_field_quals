{
 "cells": [
  {
   "cell_type": "code",
   "execution_count": 224,
   "metadata": {},
   "outputs": [],
   "source": [
    "import random\n",
    "import igraph as ig\n",
    "import numpy as np\n",
    "from collections import Counter"
   ]
  },
  {
   "cell_type": "code",
   "execution_count": 106,
   "metadata": {},
   "outputs": [],
   "source": [
    "G = ig.Graph.Barabasi(n=1_000, m=3)"
   ]
  },
  {
   "cell_type": "code",
   "execution_count": 107,
   "metadata": {},
   "outputs": [],
   "source": [
    "G.vs.set_attribute_values(\"group\",\"oridinary\")"
   ]
  },
  {
   "cell_type": "code",
   "execution_count": 71,
   "metadata": {},
   "outputs": [],
   "source": [
    "for node in G.vs:\n",
    "    break"
   ]
  },
  {
   "cell_type": "code",
   "execution_count": 72,
   "metadata": {},
   "outputs": [
    {
     "data": {
      "text/plain": [
       "{'group': 'oridinary'}"
      ]
     },
     "execution_count": 72,
     "metadata": {},
     "output_type": "execute_result"
    }
   ],
   "source": [
    "node.attributes()"
   ]
  },
  {
   "cell_type": "code",
   "execution_count": 108,
   "metadata": {},
   "outputs": [],
   "source": [
    "all_nodes = list(G.vs)"
   ]
  },
  {
   "cell_type": "code",
   "execution_count": 109,
   "metadata": {},
   "outputs": [],
   "source": [
    "misinformed_nodes = np.random.choice(all_nodes, size = 500)"
   ]
  },
  {
   "cell_type": "code",
   "execution_count": 78,
   "metadata": {},
   "outputs": [],
   "source": [
    "for node in misinformed_nodes:\n",
    "    node['group'] = 'misinformed'"
   ]
  },
  {
   "cell_type": "code",
   "execution_count": 253,
   "metadata": {},
   "outputs": [],
   "source": [
    "class MisinfoABM():\n",
    "    \"\"\"\n",
    "    Class to implement ABM that considers a 'misinformed'\n",
    "    subpopulation alongside an 'ordinary' subpopulation.\n",
    "    Also, considers the role of homophily.\n",
    "    \"\"\"\n",
    "    def __init__(self, n=1_000, m=3, prop_mis=.5, homophily=.5, prop_infect=.01):\n",
    "        self._n = n\n",
    "        self._m = m\n",
    "        self._prop_mis = prop_mis\n",
    "        self._homophily = homophily\n",
    "        self._prop_infect = prop_infect\n",
    "        self._counts = dict()\n",
    "    \n",
    "    def generate_barabasi(self):\n",
    "        \"\"\"\n",
    "        Generate Barabasi-Albert network with self._n nodes, \n",
    "        self._m edges.\n",
    "        \"\"\"\n",
    "        self.net = ig.Graph.Barabasi(n=self._n, m=self._m)\n",
    "    \n",
    "    def create_subpopulations(self):\n",
    "        \"\"\"\n",
    "        Create the 'ordinary' and 'misinformed' subpopulations with\n",
    "        the proportion of nodes for each being (1 - self._prop_mis)\n",
    "        and self.prop_mis, respectively.\n",
    "        \"\"\"\n",
    "        # Give all nodes a 'group' attribute and set them all to ordinary\n",
    "        self.net.vs.set_attribute_values(\"group\", \"ordinary\")\n",
    "        \n",
    "        # Randomly select the nodes to set as misinformed\n",
    "        all_nodes = list(self.net.vs)\n",
    "        num_misinformed_nodes = int(self._n * self._prop_mis)\n",
    "        misinformed_nodes = np.random.choice(all_nodes, size = num_misinformed_nodes)\n",
    "        for node in misinformed_nodes:\n",
    "            node['group'] = 'misinformed'\n",
    "\n",
    "    def initialize_compartments(self):\n",
    "        \"\"\"\n",
    "        Set all nodes compartments as 'susceptible' and then\n",
    "        infect self._infect_prop proportion of the nodes.\n",
    "        \"\"\"\n",
    "        self.net.vs.set_attribute_values(\"compartment\", \"S\")\n",
    "        \n",
    "        # Randomly select nodes to infect\n",
    "        all_nodes = list(self.net.vs)\n",
    "        num_nodes_to_infect = int(self._n * self._prop_infect)\n",
    "        infected_nodes = np.random.choice(all_nodes, size = num_nodes_to_infect)\n",
    "        for node in infected_nodes:\n",
    "            node['compartment'] = 'I'\n",
    "    \n",
    "    def count_compartments(self):\n",
    "        \"\"\"\n",
    "        Count the number of nodes in each compartment.\n",
    "        \"\"\"\n",
    "        compartment_counter = Counter()\n",
    "        for node in self.net.vs:\n",
    "            compartment_counter[node['compartment']] += 1\n",
    "\n",
    "        compartment_counter['S'] += 0\n",
    "        compartment_counter['I'] += 0\n",
    "        compartment_counter['R'] += 0\n",
    "        \n",
    "        state_num = len(self._counts)\n",
    "        self._counts[state_num] = compartment_counter\n",
    "        \n",
    "    def spreading(self, mis_beta=0.16, ord_beta=0.08):\n",
    "        recovery_days = 7\n",
    "        gamma = 1/recovery_days\n",
    "        \n",
    "        all_nodes = list(self.net.vs)\n",
    "        random.shuffle(all_nodes)\n",
    "\n",
    "        for node in all_nodes:\n",
    "\n",
    "            if node['compartment'] == \"I\":\n",
    "\n",
    "                for neighb in node.neighbors():\n",
    "\n",
    "                    if node['group'] == 'misinformed':\n",
    "                        if random.random() <= mis_beta:\n",
    "                            neighb['compartment'] = 'I'\n",
    "\n",
    "                    elif node['group'] == 'ordinary':\n",
    "                        if random.random() <= ord_beta:\n",
    "                            neighb['compartment'] = 'I'\n",
    "            \n",
    "            elif node['compartment'] == \"\":\n",
    "                if random.random() <= gamma:\n",
    "                    neighb['compartment'] = 'I'\n",
    "            \n",
    "        self.count_compartments()"
   ]
  },
  {
   "cell_type": "code",
   "execution_count": 254,
   "metadata": {},
   "outputs": [],
   "source": [
    "ABM = MisinfoABM()"
   ]
  },
  {
   "cell_type": "code",
   "execution_count": 255,
   "metadata": {},
   "outputs": [],
   "source": [
    "ABM.generate_barabasi()"
   ]
  },
  {
   "cell_type": "code",
   "execution_count": 256,
   "metadata": {},
   "outputs": [],
   "source": [
    "ABM.create_subpopulations()"
   ]
  },
  {
   "cell_type": "code",
   "execution_count": 257,
   "metadata": {},
   "outputs": [],
   "source": [
    "ABM.initialize_compartments()"
   ]
  },
  {
   "cell_type": "code",
   "execution_count": 258,
   "metadata": {},
   "outputs": [],
   "source": [
    "ABM.count_compartments()"
   ]
  },
  {
   "cell_type": "code",
   "execution_count": 259,
   "metadata": {},
   "outputs": [
    {
     "data": {
      "text/plain": [
       "{0: Counter({'S': 990, 'I': 10, 'R': 0})}"
      ]
     },
     "execution_count": 259,
     "metadata": {},
     "output_type": "execute_result"
    }
   ],
   "source": [
    "ABM._counts"
   ]
  },
  {
   "cell_type": "code",
   "execution_count": 260,
   "metadata": {},
   "outputs": [],
   "source": [
    "ABM.spreading()"
   ]
  },
  {
   "cell_type": "code",
   "execution_count": 261,
   "metadata": {},
   "outputs": [
    {
     "data": {
      "text/plain": [
       "{0: Counter({'S': 990, 'I': 10, 'R': 0}),\n",
       " 1: Counter({'S': 984, 'I': 16, 'R': 0})}"
      ]
     },
     "execution_count": 261,
     "metadata": {},
     "output_type": "execute_result"
    }
   ],
   "source": [
    "ABM._counts"
   ]
  },
  {
   "cell_type": "code",
   "execution_count": 232,
   "metadata": {},
   "outputs": [],
   "source": [
    "count = 0\n",
    "\n",
    "for node in ABM.net.vs:\n",
    "    if node['compartment'] == 'I':\n",
    "        count += 1"
   ]
  },
  {
   "cell_type": "code",
   "execution_count": 233,
   "metadata": {},
   "outputs": [
    {
     "data": {
      "text/plain": [
       "10"
      ]
     },
     "execution_count": 233,
     "metadata": {},
     "output_type": "execute_result"
    }
   ],
   "source": [
    "count"
   ]
  },
  {
   "cell_type": "code",
   "execution_count": 185,
   "metadata": {},
   "outputs": [
    {
     "data": {
      "text/plain": [
       "0.2632494023655947"
      ]
     },
     "execution_count": 185,
     "metadata": {},
     "output_type": "execute_result"
    }
   ],
   "source": [
    "random.random()"
   ]
  },
  {
   "cell_type": "code",
   "execution_count": null,
   "metadata": {},
   "outputs": [],
   "source": [
    "    "
   ]
  },
  {
   "cell_type": "code",
   "execution_count": 211,
   "metadata": {},
   "outputs": [],
   "source": [
    "recovery_days = 7\n",
    "gamma = 1/recovery_days\n",
    "\n",
    "mis_beta = 0.16\n",
    "ord_beta = 0.08"
   ]
  },
  {
   "cell_type": "code",
   "execution_count": 212,
   "metadata": {},
   "outputs": [
    {
     "data": {
      "text/plain": [
       "0.14285714285714285"
      ]
     },
     "execution_count": 212,
     "metadata": {},
     "output_type": "execute_result"
    }
   ],
   "source": [
    "gamma"
   ]
  },
  {
   "cell_type": "code",
   "execution_count": 214,
   "metadata": {},
   "outputs": [
    {
     "data": {
      "text/plain": [
       "0.56"
      ]
     },
     "execution_count": 214,
     "metadata": {},
     "output_type": "execute_result"
    }
   ],
   "source": [
    "ord_beta/gamma"
   ]
  },
  {
   "cell_type": "code",
   "execution_count": 222,
   "metadata": {},
   "outputs": [],
   "source": [
    "\n",
    "\n",
    "compartment_counter = Counter()\n",
    "\n",
    "for node in ABM.net.vs:\n",
    "    \n",
    "    compartment_counter[node['compartment']] += 1\n",
    "\n",
    "compartment_counter['S'] += 0\n",
    "compartment_counter['I'] += 0\n",
    "compartment_counter['R'] += 0 "
   ]
  },
  {
   "cell_type": "code",
   "execution_count": 223,
   "metadata": {},
   "outputs": [
    {
     "data": {
      "text/plain": [
       "Counter({'S': 990, 'I': 10, 'R': 0})"
      ]
     },
     "execution_count": 223,
     "metadata": {},
     "output_type": "execute_result"
    }
   ],
   "source": [
    "compartment_counter"
   ]
  },
  {
   "cell_type": "code",
   "execution_count": 204,
   "metadata": {
    "scrolled": true
   },
   "outputs": [
    {
     "name": "stdout",
     "output_type": "stream",
     "text": [
      "13\n",
      "265\n",
      "608\n",
      "759\n",
      "807\n",
      "182\n",
      "236\n"
     ]
    }
   ],
   "source": [
    "recovery_days = 7\n",
    "gamma = 1/recovery_days\n",
    "\n",
    "mis_beta = 0.16\n",
    "ord_beta = 0.08\n",
    "\n",
    "\n",
    "for node in ABM.net.vs:\n",
    "    \n",
    "    if node['compartment'] == \"I\":\n",
    "        \n",
    "        for neighb in node.neighbors():\n",
    "            \n",
    "            if node['group'] == 'misinformed':\n",
    "                if random.random() <= mis_beta:\n",
    "                    neighb['compartment'] = 'I'\n",
    "\n",
    "            elif node['group'] == 'ordinary':\n",
    "                if random.random() <= ord_beta:\n",
    "                    neighb['compartment'] = 'I'"
   ]
  },
  {
   "cell_type": "code",
   "execution_count": 198,
   "metadata": {},
   "outputs": [
    {
     "data": {
      "text/plain": [
       "igraph.Vertex(<igraph.Graph object at 0x7fd8d21e5550>, 377, {'group': 'ordinary', 'compartment': 'I'})"
      ]
     },
     "execution_count": 198,
     "metadata": {},
     "output_type": "execute_result"
    }
   ],
   "source": [
    "ABM.net.vs[377]"
   ]
  },
  {
   "cell_type": "code",
   "execution_count": 174,
   "metadata": {},
   "outputs": [],
   "source": [
    "if node['group'] == 'ordinary':\n",
    "    print(\"not\")"
   ]
  },
  {
   "cell_type": "code",
   "execution_count": 175,
   "metadata": {},
   "outputs": [
    {
     "data": {
      "text/plain": [
       "'oridinary'"
      ]
     },
     "execution_count": 175,
     "metadata": {},
     "output_type": "execute_result"
    }
   ],
   "source": [
    "node['group'] == ''"
   ]
  },
  {
   "cell_type": "code",
   "execution_count": 173,
   "metadata": {},
   "outputs": [
    {
     "data": {
      "text/plain": [
       "igraph.Vertex(<igraph.Graph object at 0x7fd8d21e5850>, 999, {'group': 'oridinary', 'compartment': 'S'})"
      ]
     },
     "execution_count": 173,
     "metadata": {},
     "output_type": "execute_result"
    }
   ],
   "source": [
    "node"
   ]
  },
  {
   "cell_type": "code",
   "execution_count": 166,
   "metadata": {},
   "outputs": [
    {
     "data": {
      "text/plain": [
       "1000"
      ]
     },
     "execution_count": 166,
     "metadata": {},
     "output_type": "execute_result"
    }
   ],
   "source": [
    "len(list(ABM.net.vs))"
   ]
  },
  {
   "cell_type": "code",
   "execution_count": 156,
   "metadata": {},
   "outputs": [
    {
     "data": {
      "text/plain": [
       "1000"
      ]
     },
     "execution_count": 156,
     "metadata": {},
     "output_type": "execute_result"
    }
   ],
   "source": [
    "len(list(ABM.net.vs))"
   ]
  },
  {
   "cell_type": "code",
   "execution_count": 152,
   "metadata": {},
   "outputs": [
    {
     "data": {
      "text/plain": [
       "igraph.Vertex(<igraph.Graph object at 0x7fd8d21e5750>, 0, {'group': 'oridinary', 'compartment': 'S'})"
      ]
     },
     "execution_count": 152,
     "metadata": {},
     "output_type": "execute_result"
    }
   ],
   "source": [
    "ABM.net.vs[0]"
   ]
  },
  {
   "cell_type": "code",
   "execution_count": 134,
   "metadata": {},
   "outputs": [
    {
     "data": {
      "text/plain": [
       "1000.0"
      ]
     },
     "execution_count": 134,
     "metadata": {},
     "output_type": "execute_result"
    }
   ],
   "source": [
    "100000 * .01"
   ]
  },
  {
   "cell_type": "code",
   "execution_count": 131,
   "metadata": {},
   "outputs": [],
   "source": [
    "ABM.net.vs.set_attribute_values(\"compartment\", \"S\")"
   ]
  },
  {
   "cell_type": "code",
   "execution_count": 132,
   "metadata": {},
   "outputs": [
    {
     "data": {
      "text/plain": [
       "igraph.Vertex(<igraph.Graph object at 0x7fd8d21e5450>, 0, {'group': 'misinformed', 'compart': 'S'})"
      ]
     },
     "execution_count": 132,
     "metadata": {},
     "output_type": "execute_result"
    }
   ],
   "source": [
    "ABM.net.vs[0]"
   ]
  },
  {
   "cell_type": "code",
   "execution_count": null,
   "metadata": {},
   "outputs": [],
   "source": [
    "{\"\"}"
   ]
  }
 ],
 "metadata": {
  "kernelspec": {
   "display_name": "Python 3 (ipykernel)",
   "language": "python",
   "name": "python3"
  },
  "language_info": {
   "codemirror_mode": {
    "name": "ipython",
    "version": 3
   },
   "file_extension": ".py",
   "mimetype": "text/x-python",
   "name": "python",
   "nbconvert_exporter": "python",
   "pygments_lexer": "ipython3",
   "version": "3.9.12"
  }
 },
 "nbformat": 4,
 "nbformat_minor": 2
}
