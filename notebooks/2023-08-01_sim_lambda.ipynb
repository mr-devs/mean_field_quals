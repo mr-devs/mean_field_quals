{
 "cells": [
  {
   "cell_type": "code",
   "execution_count": 1,
   "id": "04f77006",
   "metadata": {},
   "outputs": [],
   "source": [
    "import os\n",
    "import sys\n",
    "import numpy as np\n",
    "import pandas as pd\n",
    "\n",
    "# Load simulation source code\n",
    "source_dir = \"../src\"\n",
    "sys.path.insert(0, source_dir)\n",
    "from simulations import run_simulation\n"
   ]
  },
  {
   "cell_type": "code",
   "execution_count": 2,
   "id": "163f8dac",
   "metadata": {},
   "outputs": [
    {
     "name": "stdout",
     "output_type": "stream",
     "text": [
      "[1.  1.2 1.4 1.6 1.8 2.  2.2 2.4 2.6 2.8 3.  3.2 3.4 3.6 3.8 4. ]\n"
     ]
    }
   ],
   "source": [
    "### SET SIMULATION PARAMETERS ###\n",
    "num_days = 100\n",
    "x = 0.5  # Initial proportion of ordinary people\n",
    "prop_infected = 0.001  # Initial proportion of infected\n",
    "lambdas = np.arange(1, 4.2, 0.2)  # beta_misinformed = lambda * beta_ord\n",
    "\n",
    "# Fixed based on results from previous analyses\n",
    "beta = 0.3\n",
    "rec_days = 4\n",
    "\n",
    "# Result storage\n",
    "totals = []  # Total infections\n",
    "\n",
    "# Will store the progression of infections over time, indexed by lambda\n",
    "infection_flows_ord = dict()\n",
    "infection_flows_mis = dict()\n",
    "\n",
    "print(lambdas)"
   ]
  },
  {
   "cell_type": "code",
   "execution_count": 3,
   "id": "795d5002",
   "metadata": {},
   "outputs": [
    {
     "data": {
      "text/plain": [
       "array([1. , 1.2, 1.4, 1.6, 1.8, 2. , 2.2, 2.4, 2.6, 2.8, 3. , 3.2, 3.4,\n",
       "       3.6, 3.8, 4. ])"
      ]
     },
     "execution_count": 3,
     "metadata": {},
     "output_type": "execute_result"
    }
   ],
   "source": [
    "lambdas"
   ]
  },
  {
   "cell_type": "code",
   "execution_count": 4,
   "id": "5a46c735",
   "metadata": {},
   "outputs": [],
   "source": [
    "for lambduh in lambdas:\n",
    "    # Run the simulation based on the input\n",
    "    S_o, S_m, I_o, I_m, R_o, R_m, r0s = run_simulation(\n",
    "        frac_ord=x,\n",
    "        prop_infec=prop_infected,\n",
    "        num_days=num_days,\n",
    "        beta_ord=beta,\n",
    "        recovery_days=rec_days,\n",
    "        beta_mult=lambduh,\n",
    "        w_homophily=False,\n",
    "        alpha=None,\n",
    "        mixed=False,\n",
    "    )\n",
    "\n",
    "    # Daily incidence\n",
    "    infection_flows_ord[np.round(lambduh, 1)] = I_o\n",
    "    infection_flows_mis[np.round(lambduh, 1)] = I_m\n",
    "\n",
    "    # Total infected\n",
    "    total_ord_inf = max(R_o)\n",
    "    total_mis_inf = max(R_m)\n",
    "    totals.append(\n",
    "        {\n",
    "            \"total_ord_inf\": total_ord_inf,\n",
    "            \"total_mis_inf\": total_mis_inf,\n",
    "            \"lambda\": lambduh,\n",
    "            \"diff\": total_mis_inf - total_ord_inf,\n",
    "            \"total_inf\": total_ord_inf + total_mis_inf,\n",
    "        }\n",
    "    )"
   ]
  },
  {
   "cell_type": "code",
   "execution_count": 5,
   "id": "39978ca7",
   "metadata": {},
   "outputs": [
    {
     "data": {
      "text/plain": [
       "dict_keys([1.0, 1.2, 1.4, 1.6, 1.8, 2.0, 2.2, 2.4, 2.6, 2.8, 3.0, 3.2, 3.4, 3.6, 3.8, 4.0])"
      ]
     },
     "execution_count": 5,
     "metadata": {},
     "output_type": "execute_result"
    }
   ],
   "source": [
    "infection_flows_ord.keys()"
   ]
  },
  {
   "cell_type": "code",
   "execution_count": 6,
   "id": "b0a08973",
   "metadata": {},
   "outputs": [
    {
     "data": {
      "text/plain": [
       "0.07831395841330127"
      ]
     },
     "execution_count": 6,
     "metadata": {},
     "output_type": "execute_result"
    }
   ],
   "source": [
    "infection_flows_ord[4].max()"
   ]
  },
  {
   "cell_type": "code",
   "execution_count": 7,
   "id": "ddc1c436",
   "metadata": {},
   "outputs": [
    {
     "data": {
      "text/plain": [
       "array([0.   , 0.   , 0.   , 0.001, 0.001, 0.001, 0.002, 0.002, 0.003,\n",
       "       0.005, 0.006, 0.009, 0.012, 0.016, 0.022, 0.028, 0.036, 0.045,\n",
       "       0.054, 0.063, 0.071, 0.076, 0.078, 0.078, 0.075, 0.071, 0.065,\n",
       "       0.059, 0.053, 0.046, 0.04 , 0.035, 0.03 , 0.026, 0.022, 0.019,\n",
       "       0.016, 0.013, 0.011, 0.009, 0.008, 0.006, 0.005, 0.004, 0.004,\n",
       "       0.003, 0.003, 0.002, 0.002, 0.001, 0.001, 0.001, 0.001, 0.001,\n",
       "       0.001, 0.   , 0.   , 0.   , 0.   , 0.   , 0.   , 0.   , 0.   ,\n",
       "       0.   , 0.   , 0.   , 0.   , 0.   , 0.   , 0.   , 0.   , 0.   ,\n",
       "       0.   , 0.   , 0.   , 0.   , 0.   , 0.   , 0.   , 0.   , 0.   ,\n",
       "       0.   , 0.   , 0.   , 0.   , 0.   , 0.   , 0.   , 0.   , 0.   ,\n",
       "       0.   , 0.   , 0.   , 0.   , 0.   , 0.   , 0.   , 0.   , 0.   ,\n",
       "       0.   ])"
      ]
     },
     "execution_count": 7,
     "metadata": {},
     "output_type": "execute_result"
    }
   ],
   "source": [
    "np.round(infection_flows_ord[4],3)"
   ]
  },
  {
   "cell_type": "code",
   "execution_count": 8,
   "id": "4565310f",
   "metadata": {},
   "outputs": [],
   "source": [
    "import matplotlib.pyplot as plt"
   ]
  },
  {
   "cell_type": "code",
   "execution_count": 10,
   "id": "0bbb5651",
   "metadata": {},
   "outputs": [
    {
     "data": {
      "text/plain": [
       "<matplotlib.legend.Legend at 0x1379ce550>"
      ]
     },
     "execution_count": 10,
     "metadata": {},
     "output_type": "execute_result"
    },
    {
     "data": {
      "image/png": "[encoded data removed]",
      "text/plain": [
       "<Figure size 640x480 with 1 Axes>"
      ]
     },
     "metadata": {},
     "output_type": "display_data"
    }
   ],
   "source": [
    "\n",
    "for key in range(1,5):\n",
    "    plt.plot(range(len(infection_flows_ord[key])), infection_flows_ord[key], label = key)\n",
    "    \n",
    "plt.legend()"
   ]
  },
  {
   "cell_type": "code",
   "execution_count": 11,
   "id": "79adc912",
   "metadata": {},
   "outputs": [
    {
     "data": {
      "text/plain": [
       "<matplotlib.legend.Legend at 0x137fdf8e0>"
      ]
     },
     "execution_count": 11,
     "metadata": {},
     "output_type": "execute_result"
    },
    {
     "data": {
      "image/png": "[encoded data removed]",
      "text/plain": [
       "<Figure size 640x480 with 1 Axes>"
      ]
     },
     "metadata": {},
     "output_type": "display_data"
    }
   ],
   "source": [
    "\n",
    "for key in range(1,5):\n",
    "    plt.plot(range(len(infection_flows_mis[key])), infection_flows_mis[key], label = key)\n",
    "    \n",
    "plt.legend()"
   ]
  },
  {
   "cell_type": "code",
   "execution_count": 34,
   "id": "357a49a6",
   "metadata": {},
   "outputs": [],
   "source": [
    "### Total proportion of the network that gets infected ###\n",
    "totals_df = pd.DataFrame.from_records(totals)\n",
    "totals_df[\"total_extra\"] = totals_df[\"total_inf\"] - totals_df[\"total_inf\"].min()"
   ]
  },
  {
   "cell_type": "code",
   "execution_count": 35,
   "id": "8e52fbfd",
   "metadata": {},
   "outputs": [
    {
     "data": {
      "text/html": [
       "<div>\n",
       "<style scoped>\n",
       "    .dataframe tbody tr th:only-of-type {\n",
       "        vertical-align: middle;\n",
       "    }\n",
       "\n",
       "    .dataframe tbody tr th {\n",
       "        vertical-align: top;\n",
       "    }\n",
       "\n",
       "    .dataframe thead th {\n",
       "        text-align: right;\n",
       "    }\n",
       "</style>\n",
       "<table border=\"1\" class=\"dataframe\">\n",
       "  <thead>\n",
       "    <tr style=\"text-align: right;\">\n",
       "      <th></th>\n",
       "      <th>total_ord_inf</th>\n",
       "      <th>total_mis_inf</th>\n",
       "      <th>lambda</th>\n",
       "      <th>diff</th>\n",
       "      <th>total_inf</th>\n",
       "      <th>total_extra</th>\n",
       "    </tr>\n",
       "  </thead>\n",
       "  <tbody>\n",
       "    <tr>\n",
       "      <th>0</th>\n",
       "      <td>0.106748</td>\n",
       "      <td>0.107535</td>\n",
       "      <td>1.0</td>\n",
       "      <td>0.000787</td>\n",
       "      <td>0.214283</td>\n",
       "      <td>0.000000</td>\n",
       "    </tr>\n",
       "    <tr>\n",
       "      <th>1</th>\n",
       "      <td>0.191183</td>\n",
       "      <td>0.220227</td>\n",
       "      <td>1.2</td>\n",
       "      <td>0.029044</td>\n",
       "      <td>0.411410</td>\n",
       "      <td>0.197127</td>\n",
       "    </tr>\n",
       "    <tr>\n",
       "      <th>2</th>\n",
       "      <td>0.235351</td>\n",
       "      <td>0.295625</td>\n",
       "      <td>1.4</td>\n",
       "      <td>0.060273</td>\n",
       "      <td>0.530976</td>\n",
       "      <td>0.316692</td>\n",
       "    </tr>\n",
       "    <tr>\n",
       "      <th>3</th>\n",
       "      <td>0.258969</td>\n",
       "      <td>0.345562</td>\n",
       "      <td>1.6</td>\n",
       "      <td>0.086593</td>\n",
       "      <td>0.604531</td>\n",
       "      <td>0.390248</td>\n",
       "    </tr>\n",
       "    <tr>\n",
       "      <th>4</th>\n",
       "      <td>0.274053</td>\n",
       "      <td>0.381878</td>\n",
       "      <td>1.8</td>\n",
       "      <td>0.107825</td>\n",
       "      <td>0.655931</td>\n",
       "      <td>0.441647</td>\n",
       "    </tr>\n",
       "    <tr>\n",
       "      <th>5</th>\n",
       "      <td>0.284592</td>\n",
       "      <td>0.409213</td>\n",
       "      <td>2.0</td>\n",
       "      <td>0.124621</td>\n",
       "      <td>0.693805</td>\n",
       "      <td>0.479522</td>\n",
       "    </tr>\n",
       "    <tr>\n",
       "      <th>6</th>\n",
       "      <td>0.292271</td>\n",
       "      <td>0.430038</td>\n",
       "      <td>2.2</td>\n",
       "      <td>0.137767</td>\n",
       "      <td>0.722309</td>\n",
       "      <td>0.508025</td>\n",
       "    </tr>\n",
       "    <tr>\n",
       "      <th>7</th>\n",
       "      <td>0.298005</td>\n",
       "      <td>0.446004</td>\n",
       "      <td>2.4</td>\n",
       "      <td>0.147998</td>\n",
       "      <td>0.744009</td>\n",
       "      <td>0.529726</td>\n",
       "    </tr>\n",
       "    <tr>\n",
       "      <th>8</th>\n",
       "      <td>0.302364</td>\n",
       "      <td>0.458300</td>\n",
       "      <td>2.6</td>\n",
       "      <td>0.155936</td>\n",
       "      <td>0.760664</td>\n",
       "      <td>0.546381</td>\n",
       "    </tr>\n",
       "    <tr>\n",
       "      <th>9</th>\n",
       "      <td>0.305722</td>\n",
       "      <td>0.467804</td>\n",
       "      <td>2.8</td>\n",
       "      <td>0.162082</td>\n",
       "      <td>0.773526</td>\n",
       "      <td>0.559242</td>\n",
       "    </tr>\n",
       "    <tr>\n",
       "      <th>10</th>\n",
       "      <td>0.308337</td>\n",
       "      <td>0.475168</td>\n",
       "      <td>3.0</td>\n",
       "      <td>0.166831</td>\n",
       "      <td>0.783505</td>\n",
       "      <td>0.569222</td>\n",
       "    </tr>\n",
       "    <tr>\n",
       "      <th>11</th>\n",
       "      <td>0.310394</td>\n",
       "      <td>0.480883</td>\n",
       "      <td>3.2</td>\n",
       "      <td>0.170489</td>\n",
       "      <td>0.791277</td>\n",
       "      <td>0.576994</td>\n",
       "    </tr>\n",
       "    <tr>\n",
       "      <th>12</th>\n",
       "      <td>0.311522</td>\n",
       "      <td>0.483965</td>\n",
       "      <td>3.4</td>\n",
       "      <td>0.172443</td>\n",
       "      <td>0.795487</td>\n",
       "      <td>0.581203</td>\n",
       "    </tr>\n",
       "    <tr>\n",
       "      <th>13</th>\n",
       "      <td>0.311522</td>\n",
       "      <td>0.483965</td>\n",
       "      <td>3.6</td>\n",
       "      <td>0.172443</td>\n",
       "      <td>0.795487</td>\n",
       "      <td>0.581203</td>\n",
       "    </tr>\n",
       "    <tr>\n",
       "      <th>14</th>\n",
       "      <td>0.311522</td>\n",
       "      <td>0.483965</td>\n",
       "      <td>3.8</td>\n",
       "      <td>0.172443</td>\n",
       "      <td>0.795487</td>\n",
       "      <td>0.581203</td>\n",
       "    </tr>\n",
       "    <tr>\n",
       "      <th>15</th>\n",
       "      <td>0.311522</td>\n",
       "      <td>0.483965</td>\n",
       "      <td>4.0</td>\n",
       "      <td>0.172443</td>\n",
       "      <td>0.795487</td>\n",
       "      <td>0.581203</td>\n",
       "    </tr>\n",
       "  </tbody>\n",
       "</table>\n",
       "</div>"
      ],
      "text/plain": [
       "    total_ord_inf  total_mis_inf  lambda      diff  total_inf  total_extra\n",
       "0        0.106748       0.107535     1.0  0.000787   0.214283     0.000000\n",
       "1        0.191183       0.220227     1.2  0.029044   0.411410     0.197127\n",
       "2        0.235351       0.295625     1.4  0.060273   0.530976     0.316692\n",
       "3        0.258969       0.345562     1.6  0.086593   0.604531     0.390248\n",
       "4        0.274053       0.381878     1.8  0.107825   0.655931     0.441647\n",
       "5        0.284592       0.409213     2.0  0.124621   0.693805     0.479522\n",
       "6        0.292271       0.430038     2.2  0.137767   0.722309     0.508025\n",
       "7        0.298005       0.446004     2.4  0.147998   0.744009     0.529726\n",
       "8        0.302364       0.458300     2.6  0.155936   0.760664     0.546381\n",
       "9        0.305722       0.467804     2.8  0.162082   0.773526     0.559242\n",
       "10       0.308337       0.475168     3.0  0.166831   0.783505     0.569222\n",
       "11       0.310394       0.480883     3.2  0.170489   0.791277     0.576994\n",
       "12       0.311522       0.483965     3.4  0.172443   0.795487     0.581203\n",
       "13       0.311522       0.483965     3.6  0.172443   0.795487     0.581203\n",
       "14       0.311522       0.483965     3.8  0.172443   0.795487     0.581203\n",
       "15       0.311522       0.483965     4.0  0.172443   0.795487     0.581203"
      ]
     },
     "execution_count": 35,
     "metadata": {},
     "output_type": "execute_result"
    }
   ],
   "source": [
    "totals_df"
   ]
  },
  {
   "cell_type": "code",
   "execution_count": 14,
   "id": "15310f03",
   "metadata": {},
   "outputs": [],
   "source": [
    "### Daily proportion of the network that gets infected ###\n",
    "# ----- Combined subpopulations -----\n",
    "combined_infections = pd.DataFrame(infection_flows_ord) + pd.DataFrame(\n",
    "    infection_flows_mis\n",
    ")\n",
    "combined_infections = combined_infections.reset_index()\n",
    "combined_infections = combined_infections.rename(columns={\"index\": \"day\"})\n",
    "combined_infections.day = combined_infections.day + 1  # Days start on 1\n",
    "combined_infections = combined_infections.melt(id_vars=\"day\")\n",
    "combined_infections.rename(columns={\"variable\": \"lambda\"}, inplace=True)\n",
    "combined_infections[\"group\"] = \"combined\"\n",
    "\n",
    "# ----- Ordinary subpopulation -----\n",
    "infections_ord = pd.DataFrame(infection_flows_ord).reset_index()\n",
    "infections_ord = infections_ord.rename(columns={\"index\": \"day\"})\n",
    "infections_ord.day = infections_ord.day + 1\n",
    "infections_ord = infections_ord.melt(id_vars=\"day\")\n",
    "infections_ord.rename(columns={\"variable\": \"lambda\"}, inplace=True)\n",
    "infections_ord[\"group\"] = \"ordinary\"\n",
    "\n",
    "# ----- Misinformed subpopulation -----\n",
    "infections_mis = pd.DataFrame(infection_flows_mis).reset_index()\n",
    "infections_mis = infections_mis.rename(columns={\"index\": \"day\"})\n",
    "infections_mis.day = infections_mis.day + 1\n",
    "infections_mis = infections_mis.melt(id_vars=\"day\")\n",
    "infections_mis.rename(columns={\"variable\": \"lambda\"}, inplace=True)\n",
    "infections_mis[\"group\"] = \"misinformed\""
   ]
  },
  {
   "cell_type": "code",
   "execution_count": 20,
   "id": "caa55bdc",
   "metadata": {},
   "outputs": [
    {
     "data": {
      "text/html": [
       "<div>\n",
       "<style scoped>\n",
       "    .dataframe tbody tr th:only-of-type {\n",
       "        vertical-align: middle;\n",
       "    }\n",
       "\n",
       "    .dataframe tbody tr th {\n",
       "        vertical-align: top;\n",
       "    }\n",
       "\n",
       "    .dataframe thead th {\n",
       "        text-align: right;\n",
       "    }\n",
       "</style>\n",
       "<table border=\"1\" class=\"dataframe\">\n",
       "  <thead>\n",
       "    <tr style=\"text-align: right;\">\n",
       "      <th></th>\n",
       "      <th>day</th>\n",
       "      <th>lambda</th>\n",
       "      <th>value</th>\n",
       "      <th>group</th>\n",
       "    </tr>\n",
       "  </thead>\n",
       "  <tbody>\n",
       "    <tr>\n",
       "      <th>0</th>\n",
       "      <td>1</td>\n",
       "      <td>1.0</td>\n",
       "      <td>1.000000e-03</td>\n",
       "      <td>misinformed</td>\n",
       "    </tr>\n",
       "    <tr>\n",
       "      <th>1</th>\n",
       "      <td>2</td>\n",
       "      <td>1.0</td>\n",
       "      <td>9.497000e-04</td>\n",
       "      <td>misinformed</td>\n",
       "    </tr>\n",
       "    <tr>\n",
       "      <th>2</th>\n",
       "      <td>3</td>\n",
       "      <td>1.0</td>\n",
       "      <td>9.243357e-04</td>\n",
       "      <td>misinformed</td>\n",
       "    </tr>\n",
       "    <tr>\n",
       "      <th>3</th>\n",
       "      <td>4</td>\n",
       "      <td>1.0</td>\n",
       "      <td>9.203780e-04</td>\n",
       "      <td>misinformed</td>\n",
       "    </tr>\n",
       "    <tr>\n",
       "      <th>4</th>\n",
       "      <td>5</td>\n",
       "      <td>1.0</td>\n",
       "      <td>9.351421e-04</td>\n",
       "      <td>misinformed</td>\n",
       "    </tr>\n",
       "    <tr>\n",
       "      <th>...</th>\n",
       "      <td>...</td>\n",
       "      <td>...</td>\n",
       "      <td>...</td>\n",
       "      <td>...</td>\n",
       "    </tr>\n",
       "    <tr>\n",
       "      <th>1595</th>\n",
       "      <td>96</td>\n",
       "      <td>4.0</td>\n",
       "      <td>1.643710e-07</td>\n",
       "      <td>misinformed</td>\n",
       "    </tr>\n",
       "    <tr>\n",
       "      <th>1596</th>\n",
       "      <td>97</td>\n",
       "      <td>4.0</td>\n",
       "      <td>1.380071e-07</td>\n",
       "      <td>misinformed</td>\n",
       "    </tr>\n",
       "    <tr>\n",
       "      <th>1597</th>\n",
       "      <td>98</td>\n",
       "      <td>4.0</td>\n",
       "      <td>1.158976e-07</td>\n",
       "      <td>misinformed</td>\n",
       "    </tr>\n",
       "    <tr>\n",
       "      <th>1598</th>\n",
       "      <td>99</td>\n",
       "      <td>4.0</td>\n",
       "      <td>9.735083e-08</td>\n",
       "      <td>misinformed</td>\n",
       "    </tr>\n",
       "    <tr>\n",
       "      <th>1599</th>\n",
       "      <td>100</td>\n",
       "      <td>4.0</td>\n",
       "      <td>8.178875e-08</td>\n",
       "      <td>misinformed</td>\n",
       "    </tr>\n",
       "  </tbody>\n",
       "</table>\n",
       "<p>1600 rows × 4 columns</p>\n",
       "</div>"
      ],
      "text/plain": [
       "      day lambda         value        group\n",
       "0       1    1.0  1.000000e-03  misinformed\n",
       "1       2    1.0  9.497000e-04  misinformed\n",
       "2       3    1.0  9.243357e-04  misinformed\n",
       "3       4    1.0  9.203780e-04  misinformed\n",
       "4       5    1.0  9.351421e-04  misinformed\n",
       "...   ...    ...           ...          ...\n",
       "1595   96    4.0  1.643710e-07  misinformed\n",
       "1596   97    4.0  1.380071e-07  misinformed\n",
       "1597   98    4.0  1.158976e-07  misinformed\n",
       "1598   99    4.0  9.735083e-08  misinformed\n",
       "1599  100    4.0  8.178875e-08  misinformed\n",
       "\n",
       "[1600 rows x 4 columns]"
      ]
     },
     "execution_count": 20,
     "metadata": {},
     "output_type": "execute_result"
    }
   ],
   "source": [
    "infections_mis"
   ]
  },
  {
   "cell_type": "code",
   "execution_count": 21,
   "id": "10b2779b",
   "metadata": {
    "scrolled": true
   },
   "outputs": [
    {
     "data": {
      "text/plain": [
       "0.032708282134048666"
      ]
     },
     "execution_count": 21,
     "metadata": {},
     "output_type": "execute_result"
    }
   ],
   "source": [
    "infections_mis[infections_mis['lambda'] == 1].value.max()"
   ]
  },
  {
   "cell_type": "code",
   "execution_count": 22,
   "id": "19fbc562",
   "metadata": {},
   "outputs": [
    {
     "data": {
      "text/plain": [
       "0.032708282134048666"
      ]
     },
     "execution_count": 22,
     "metadata": {},
     "output_type": "execute_result"
    }
   ],
   "source": [
    "infection_flows_mis[1].max()"
   ]
  },
  {
   "cell_type": "code",
   "execution_count": 23,
   "id": "a3c11a00",
   "metadata": {},
   "outputs": [],
   "source": [
    "# Combine them into one dataframe\n",
    "by_day_results = pd.concat((infections_mis, infections_ord, combined_infections))"
   ]
  },
  {
   "cell_type": "code",
   "execution_count": 26,
   "id": "d6fe0f99",
   "metadata": {},
   "outputs": [
    {
     "data": {
      "text/plain": [
       "array(['misinformed', 'ordinary', 'combined'], dtype=object)"
      ]
     },
     "execution_count": 26,
     "metadata": {},
     "output_type": "execute_result"
    }
   ],
   "source": [
    "by_day_results.group.unique()"
   ]
  },
  {
   "cell_type": "code",
   "execution_count": 27,
   "id": "8163c5bb",
   "metadata": {},
   "outputs": [
    {
     "data": {
      "text/html": [
       "<div>\n",
       "<style scoped>\n",
       "    .dataframe tbody tr th:only-of-type {\n",
       "        vertical-align: middle;\n",
       "    }\n",
       "\n",
       "    .dataframe tbody tr th {\n",
       "        vertical-align: top;\n",
       "    }\n",
       "\n",
       "    .dataframe thead th {\n",
       "        text-align: right;\n",
       "    }\n",
       "</style>\n",
       "<table border=\"1\" class=\"dataframe\">\n",
       "  <thead>\n",
       "    <tr style=\"text-align: right;\">\n",
       "      <th></th>\n",
       "      <th>total_ord_inf</th>\n",
       "      <th>total_mis_inf</th>\n",
       "      <th>lambda</th>\n",
       "      <th>diff</th>\n",
       "      <th>total_inf</th>\n",
       "      <th>total_extra</th>\n",
       "    </tr>\n",
       "  </thead>\n",
       "  <tbody>\n",
       "    <tr>\n",
       "      <th>0</th>\n",
       "      <td>0.283461</td>\n",
       "      <td>0.283894</td>\n",
       "      <td>1.0</td>\n",
       "      <td>0.000433</td>\n",
       "      <td>0.567354</td>\n",
       "      <td>0.000000</td>\n",
       "    </tr>\n",
       "    <tr>\n",
       "      <th>1</th>\n",
       "      <td>0.316970</td>\n",
       "      <td>0.350941</td>\n",
       "      <td>1.2</td>\n",
       "      <td>0.033971</td>\n",
       "      <td>0.667911</td>\n",
       "      <td>0.100557</td>\n",
       "    </tr>\n",
       "    <tr>\n",
       "      <th>2</th>\n",
       "      <td>0.334341</td>\n",
       "      <td>0.394537</td>\n",
       "      <td>1.4</td>\n",
       "      <td>0.060197</td>\n",
       "      <td>0.728878</td>\n",
       "      <td>0.161524</td>\n",
       "    </tr>\n",
       "    <tr>\n",
       "      <th>3</th>\n",
       "      <td>0.344936</td>\n",
       "      <td>0.424638</td>\n",
       "      <td>1.6</td>\n",
       "      <td>0.079702</td>\n",
       "      <td>0.769573</td>\n",
       "      <td>0.202219</td>\n",
       "    </tr>\n",
       "    <tr>\n",
       "      <th>4</th>\n",
       "      <td>0.351958</td>\n",
       "      <td>0.445911</td>\n",
       "      <td>1.8</td>\n",
       "      <td>0.093953</td>\n",
       "      <td>0.797869</td>\n",
       "      <td>0.230514</td>\n",
       "    </tr>\n",
       "    <tr>\n",
       "      <th>5</th>\n",
       "      <td>0.356824</td>\n",
       "      <td>0.461104</td>\n",
       "      <td>2.0</td>\n",
       "      <td>0.104280</td>\n",
       "      <td>0.817928</td>\n",
       "      <td>0.250573</td>\n",
       "    </tr>\n",
       "    <tr>\n",
       "      <th>6</th>\n",
       "      <td>0.360292</td>\n",
       "      <td>0.472021</td>\n",
       "      <td>2.2</td>\n",
       "      <td>0.111729</td>\n",
       "      <td>0.832313</td>\n",
       "      <td>0.264958</td>\n",
       "    </tr>\n",
       "    <tr>\n",
       "      <th>7</th>\n",
       "      <td>0.362815</td>\n",
       "      <td>0.479896</td>\n",
       "      <td>2.4</td>\n",
       "      <td>0.117081</td>\n",
       "      <td>0.842710</td>\n",
       "      <td>0.275356</td>\n",
       "    </tr>\n",
       "    <tr>\n",
       "      <th>8</th>\n",
       "      <td>0.364680</td>\n",
       "      <td>0.485589</td>\n",
       "      <td>2.6</td>\n",
       "      <td>0.120909</td>\n",
       "      <td>0.850268</td>\n",
       "      <td>0.282914</td>\n",
       "    </tr>\n",
       "    <tr>\n",
       "      <th>9</th>\n",
       "      <td>0.366077</td>\n",
       "      <td>0.489707</td>\n",
       "      <td>2.8</td>\n",
       "      <td>0.123629</td>\n",
       "      <td>0.855784</td>\n",
       "      <td>0.288430</td>\n",
       "    </tr>\n",
       "    <tr>\n",
       "      <th>10</th>\n",
       "      <td>0.367138</td>\n",
       "      <td>0.492682</td>\n",
       "      <td>3.0</td>\n",
       "      <td>0.125544</td>\n",
       "      <td>0.859821</td>\n",
       "      <td>0.292466</td>\n",
       "    </tr>\n",
       "    <tr>\n",
       "      <th>11</th>\n",
       "      <td>0.367953</td>\n",
       "      <td>0.494828</td>\n",
       "      <td>3.2</td>\n",
       "      <td>0.126875</td>\n",
       "      <td>0.862781</td>\n",
       "      <td>0.295427</td>\n",
       "    </tr>\n",
       "    <tr>\n",
       "      <th>12</th>\n",
       "      <td>0.368392</td>\n",
       "      <td>0.495911</td>\n",
       "      <td>3.4</td>\n",
       "      <td>0.127519</td>\n",
       "      <td>0.864304</td>\n",
       "      <td>0.296949</td>\n",
       "    </tr>\n",
       "    <tr>\n",
       "      <th>13</th>\n",
       "      <td>0.368392</td>\n",
       "      <td>0.495911</td>\n",
       "      <td>3.6</td>\n",
       "      <td>0.127519</td>\n",
       "      <td>0.864304</td>\n",
       "      <td>0.296949</td>\n",
       "    </tr>\n",
       "    <tr>\n",
       "      <th>14</th>\n",
       "      <td>0.368392</td>\n",
       "      <td>0.495911</td>\n",
       "      <td>3.8</td>\n",
       "      <td>0.127519</td>\n",
       "      <td>0.864304</td>\n",
       "      <td>0.296949</td>\n",
       "    </tr>\n",
       "    <tr>\n",
       "      <th>15</th>\n",
       "      <td>0.368392</td>\n",
       "      <td>0.495911</td>\n",
       "      <td>4.0</td>\n",
       "      <td>0.127519</td>\n",
       "      <td>0.864304</td>\n",
       "      <td>0.296949</td>\n",
       "    </tr>\n",
       "  </tbody>\n",
       "</table>\n",
       "</div>"
      ],
      "text/plain": [
       "    total_ord_inf  total_mis_inf  lambda      diff  total_inf  total_extra\n",
       "0        0.283461       0.283894     1.0  0.000433   0.567354     0.000000\n",
       "1        0.316970       0.350941     1.2  0.033971   0.667911     0.100557\n",
       "2        0.334341       0.394537     1.4  0.060197   0.728878     0.161524\n",
       "3        0.344936       0.424638     1.6  0.079702   0.769573     0.202219\n",
       "4        0.351958       0.445911     1.8  0.093953   0.797869     0.230514\n",
       "5        0.356824       0.461104     2.0  0.104280   0.817928     0.250573\n",
       "6        0.360292       0.472021     2.2  0.111729   0.832313     0.264958\n",
       "7        0.362815       0.479896     2.4  0.117081   0.842710     0.275356\n",
       "8        0.364680       0.485589     2.6  0.120909   0.850268     0.282914\n",
       "9        0.366077       0.489707     2.8  0.123629   0.855784     0.288430\n",
       "10       0.367138       0.492682     3.0  0.125544   0.859821     0.292466\n",
       "11       0.367953       0.494828     3.2  0.126875   0.862781     0.295427\n",
       "12       0.368392       0.495911     3.4  0.127519   0.864304     0.296949\n",
       "13       0.368392       0.495911     3.6  0.127519   0.864304     0.296949\n",
       "14       0.368392       0.495911     3.8  0.127519   0.864304     0.296949\n",
       "15       0.368392       0.495911     4.0  0.127519   0.864304     0.296949"
      ]
     },
     "execution_count": 27,
     "metadata": {},
     "output_type": "execute_result"
    }
   ],
   "source": [
    "totals_df"
   ]
  },
  {
   "cell_type": "code",
   "execution_count": null,
   "id": "857b2e2d",
   "metadata": {},
   "outputs": [],
   "source": []
  }
 ],
 "metadata": {
  "kernelspec": {
   "display_name": "Python 3 (ipykernel)",
   "language": "python",
   "name": "python3"
  },
  "language_info": {
   "codemirror_mode": {
    "name": "ipython",
    "version": 3
   },
   "file_extension": ".py",
   "mimetype": "text/x-python",
   "name": "python",
   "nbconvert_exporter": "python",
   "pygments_lexer": "ipython3",
   "version": "3.9.12"
  }
 },
 "nbformat": 4,
 "nbformat_minor": 5
}
